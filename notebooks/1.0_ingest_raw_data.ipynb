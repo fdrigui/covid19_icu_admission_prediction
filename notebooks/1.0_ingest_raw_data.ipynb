{
 "cells": [
  {
   "cell_type": "markdown",
   "id": "f0b94dbb-8069-42cc-ae84-b0ce88a80561",
   "metadata": {
    "tags": []
   },
   "source": [
    "# Ingest raw data\n",
    "\n",
    "The raw data is not being downloaded automatically from kaggle website.<br>\n",
    "That decision was taken in order to avoid breaks in the scripts, notebooks or ML project if the raw data was updated and also avoid changing on the final scoring of the prediction model.\n",
    "The file was directly downloaded at 16th September of 2021.<br>\n",
    "An automatic data ingestion might be required for a real life ML pipeline, but that is not the case for this project."
   ]
  },
  {
   "cell_type": "markdown",
   "id": "2421af11-ed3e-4b23-b22c-fe91ddb7a820",
   "metadata": {},
   "source": [
    "## Import needed libraries"
   ]
  },
  {
   "cell_type": "code",
   "execution_count": 1,
   "id": "4716670b-77c4-4cb7-b8c5-35c163c9c395",
   "metadata": {},
   "outputs": [],
   "source": [
    "import pandas as pd #Data Analysis and manipulation tool"
   ]
  },
  {
   "cell_type": "markdown",
   "id": "40e4723c-6762-405b-9f45-949834853dac",
   "metadata": {},
   "source": [
    "## Read raw data "
   ]
  },
  {
   "cell_type": "code",
   "execution_count": 3,
   "id": "c6bb9b5c-4387-4b02-9ae2-d65629a2b5c3",
   "metadata": {},
   "outputs": [
    {
     "data": {
      "text/html": [
       "<div>\n",
       "<style scoped>\n",
       "    .dataframe tbody tr th:only-of-type {\n",
       "        vertical-align: middle;\n",
       "    }\n",
       "\n",
       "    .dataframe tbody tr th {\n",
       "        vertical-align: top;\n",
       "    }\n",
       "\n",
       "    .dataframe thead th {\n",
       "        text-align: right;\n",
       "    }\n",
       "</style>\n",
       "<table border=\"1\" class=\"dataframe\">\n",
       "  <thead>\n",
       "    <tr style=\"text-align: right;\">\n",
       "      <th></th>\n",
       "      <th>PATIENT_VISIT_IDENTIFIER</th>\n",
       "      <th>AGE_ABOVE65</th>\n",
       "      <th>AGE_PERCENTIL</th>\n",
       "      <th>GENDER</th>\n",
       "      <th>DISEASE GROUPING 1</th>\n",
       "      <th>DISEASE GROUPING 2</th>\n",
       "      <th>DISEASE GROUPING 3</th>\n",
       "      <th>DISEASE GROUPING 4</th>\n",
       "      <th>DISEASE GROUPING 5</th>\n",
       "      <th>DISEASE GROUPING 6</th>\n",
       "      <th>...</th>\n",
       "      <th>TEMPERATURE_DIFF</th>\n",
       "      <th>OXYGEN_SATURATION_DIFF</th>\n",
       "      <th>BLOODPRESSURE_DIASTOLIC_DIFF_REL</th>\n",
       "      <th>BLOODPRESSURE_SISTOLIC_DIFF_REL</th>\n",
       "      <th>HEART_RATE_DIFF_REL</th>\n",
       "      <th>RESPIRATORY_RATE_DIFF_REL</th>\n",
       "      <th>TEMPERATURE_DIFF_REL</th>\n",
       "      <th>OXYGEN_SATURATION_DIFF_REL</th>\n",
       "      <th>WINDOW</th>\n",
       "      <th>ICU</th>\n",
       "    </tr>\n",
       "  </thead>\n",
       "  <tbody>\n",
       "    <tr>\n",
       "      <th>0</th>\n",
       "      <td>0</td>\n",
       "      <td>1</td>\n",
       "      <td>60th</td>\n",
       "      <td>0</td>\n",
       "      <td>0.0</td>\n",
       "      <td>0.0</td>\n",
       "      <td>0.0</td>\n",
       "      <td>0.0</td>\n",
       "      <td>1.0</td>\n",
       "      <td>1.0</td>\n",
       "      <td>...</td>\n",
       "      <td>-1.000000</td>\n",
       "      <td>-1.000000</td>\n",
       "      <td>-1.000000</td>\n",
       "      <td>-1.000000</td>\n",
       "      <td>-1.000000</td>\n",
       "      <td>-1.000000</td>\n",
       "      <td>-1.000000</td>\n",
       "      <td>-1.000000</td>\n",
       "      <td>0-2</td>\n",
       "      <td>0</td>\n",
       "    </tr>\n",
       "    <tr>\n",
       "      <th>1</th>\n",
       "      <td>0</td>\n",
       "      <td>1</td>\n",
       "      <td>60th</td>\n",
       "      <td>0</td>\n",
       "      <td>0.0</td>\n",
       "      <td>0.0</td>\n",
       "      <td>0.0</td>\n",
       "      <td>0.0</td>\n",
       "      <td>1.0</td>\n",
       "      <td>1.0</td>\n",
       "      <td>...</td>\n",
       "      <td>-1.000000</td>\n",
       "      <td>-1.000000</td>\n",
       "      <td>-1.000000</td>\n",
       "      <td>-1.000000</td>\n",
       "      <td>-1.000000</td>\n",
       "      <td>-1.000000</td>\n",
       "      <td>-1.000000</td>\n",
       "      <td>-1.000000</td>\n",
       "      <td>2-4</td>\n",
       "      <td>0</td>\n",
       "    </tr>\n",
       "    <tr>\n",
       "      <th>2</th>\n",
       "      <td>0</td>\n",
       "      <td>1</td>\n",
       "      <td>60th</td>\n",
       "      <td>0</td>\n",
       "      <td>0.0</td>\n",
       "      <td>0.0</td>\n",
       "      <td>0.0</td>\n",
       "      <td>0.0</td>\n",
       "      <td>1.0</td>\n",
       "      <td>1.0</td>\n",
       "      <td>...</td>\n",
       "      <td>NaN</td>\n",
       "      <td>NaN</td>\n",
       "      <td>NaN</td>\n",
       "      <td>NaN</td>\n",
       "      <td>NaN</td>\n",
       "      <td>NaN</td>\n",
       "      <td>NaN</td>\n",
       "      <td>NaN</td>\n",
       "      <td>4-6</td>\n",
       "      <td>0</td>\n",
       "    </tr>\n",
       "    <tr>\n",
       "      <th>3</th>\n",
       "      <td>0</td>\n",
       "      <td>1</td>\n",
       "      <td>60th</td>\n",
       "      <td>0</td>\n",
       "      <td>0.0</td>\n",
       "      <td>0.0</td>\n",
       "      <td>0.0</td>\n",
       "      <td>0.0</td>\n",
       "      <td>1.0</td>\n",
       "      <td>1.0</td>\n",
       "      <td>...</td>\n",
       "      <td>-1.000000</td>\n",
       "      <td>-1.000000</td>\n",
       "      <td>NaN</td>\n",
       "      <td>NaN</td>\n",
       "      <td>NaN</td>\n",
       "      <td>NaN</td>\n",
       "      <td>-1.000000</td>\n",
       "      <td>-1.000000</td>\n",
       "      <td>6-12</td>\n",
       "      <td>0</td>\n",
       "    </tr>\n",
       "    <tr>\n",
       "      <th>4</th>\n",
       "      <td>0</td>\n",
       "      <td>1</td>\n",
       "      <td>60th</td>\n",
       "      <td>0</td>\n",
       "      <td>0.0</td>\n",
       "      <td>0.0</td>\n",
       "      <td>0.0</td>\n",
       "      <td>0.0</td>\n",
       "      <td>1.0</td>\n",
       "      <td>1.0</td>\n",
       "      <td>...</td>\n",
       "      <td>-0.238095</td>\n",
       "      <td>-0.818182</td>\n",
       "      <td>-0.389967</td>\n",
       "      <td>0.407558</td>\n",
       "      <td>-0.230462</td>\n",
       "      <td>0.096774</td>\n",
       "      <td>-0.242282</td>\n",
       "      <td>-0.814433</td>\n",
       "      <td>ABOVE_12</td>\n",
       "      <td>1</td>\n",
       "    </tr>\n",
       "  </tbody>\n",
       "</table>\n",
       "<p>5 rows × 231 columns</p>\n",
       "</div>"
      ],
      "text/plain": [
       "   PATIENT_VISIT_IDENTIFIER  AGE_ABOVE65 AGE_PERCENTIL  GENDER  \\\n",
       "0                         0            1          60th       0   \n",
       "1                         0            1          60th       0   \n",
       "2                         0            1          60th       0   \n",
       "3                         0            1          60th       0   \n",
       "4                         0            1          60th       0   \n",
       "\n",
       "   DISEASE GROUPING 1  DISEASE GROUPING 2  DISEASE GROUPING 3  \\\n",
       "0                 0.0                 0.0                 0.0   \n",
       "1                 0.0                 0.0                 0.0   \n",
       "2                 0.0                 0.0                 0.0   \n",
       "3                 0.0                 0.0                 0.0   \n",
       "4                 0.0                 0.0                 0.0   \n",
       "\n",
       "   DISEASE GROUPING 4  DISEASE GROUPING 5  DISEASE GROUPING 6  ...  \\\n",
       "0                 0.0                 1.0                 1.0  ...   \n",
       "1                 0.0                 1.0                 1.0  ...   \n",
       "2                 0.0                 1.0                 1.0  ...   \n",
       "3                 0.0                 1.0                 1.0  ...   \n",
       "4                 0.0                 1.0                 1.0  ...   \n",
       "\n",
       "   TEMPERATURE_DIFF  OXYGEN_SATURATION_DIFF  BLOODPRESSURE_DIASTOLIC_DIFF_REL  \\\n",
       "0         -1.000000               -1.000000                         -1.000000   \n",
       "1         -1.000000               -1.000000                         -1.000000   \n",
       "2               NaN                     NaN                               NaN   \n",
       "3         -1.000000               -1.000000                               NaN   \n",
       "4         -0.238095               -0.818182                         -0.389967   \n",
       "\n",
       "   BLOODPRESSURE_SISTOLIC_DIFF_REL  HEART_RATE_DIFF_REL  \\\n",
       "0                        -1.000000            -1.000000   \n",
       "1                        -1.000000            -1.000000   \n",
       "2                              NaN                  NaN   \n",
       "3                              NaN                  NaN   \n",
       "4                         0.407558            -0.230462   \n",
       "\n",
       "   RESPIRATORY_RATE_DIFF_REL  TEMPERATURE_DIFF_REL  \\\n",
       "0                  -1.000000             -1.000000   \n",
       "1                  -1.000000             -1.000000   \n",
       "2                        NaN                   NaN   \n",
       "3                        NaN             -1.000000   \n",
       "4                   0.096774             -0.242282   \n",
       "\n",
       "   OXYGEN_SATURATION_DIFF_REL    WINDOW  ICU  \n",
       "0                   -1.000000       0-2    0  \n",
       "1                   -1.000000       2-4    0  \n",
       "2                         NaN       4-6    0  \n",
       "3                   -1.000000      6-12    0  \n",
       "4                   -0.814433  ABOVE_12    1  \n",
       "\n",
       "[5 rows x 231 columns]"
      ]
     },
     "execution_count": 3,
     "metadata": {},
     "output_type": "execute_result"
    }
   ],
   "source": [
    "# Read raw file from the web\n",
    "df = pd.read_excel('../data/raw/Kaggle_Sirio_Libanes_ICU_Prediction.xlsx' )\n",
    "df.head()"
   ]
  },
  {
   "cell_type": "markdown",
   "id": "929a36d7-3299-46ee-b262-c87d13fe7d42",
   "metadata": {},
   "source": [
    "## A Brief view of the Raw DataFrame\n",
    "The Raw DataFrame has:\n",
    "* 231 Columns\n",
    "* 1925 Lines\n",
    "* Has NaN values\n",
    "* 225 Columns are type: Float64\n",
    "* 4 Columns are type: Int64\n",
    "* 2 Colimns are type: Object\n"
   ]
  },
  {
   "cell_type": "code",
   "execution_count": 4,
   "id": "6a661826-78f9-4d37-9253-42fb74ede1d3",
   "metadata": {},
   "outputs": [
    {
     "data": {
      "text/plain": [
       "(1925, 231)"
      ]
     },
     "execution_count": 4,
     "metadata": {},
     "output_type": "execute_result"
    }
   ],
   "source": [
    "df.shape"
   ]
  },
  {
   "cell_type": "code",
   "execution_count": 5,
   "id": "e390e570-22fb-4016-82c8-ec46cc1e36cc",
   "metadata": {},
   "outputs": [
    {
     "name": "stdout",
     "output_type": "stream",
     "text": [
      "<class 'pandas.core.frame.DataFrame'>\n",
      "RangeIndex: 1925 entries, 0 to 1924\n",
      "Columns: 231 entries, PATIENT_VISIT_IDENTIFIER to ICU\n",
      "dtypes: float64(225), int64(4), object(2)\n",
      "memory usage: 3.4+ MB\n"
     ]
    }
   ],
   "source": [
    "df.info()"
   ]
  },
  {
   "cell_type": "code",
   "execution_count": 6,
   "id": "27ec28ae-73d8-4b6e-9c5b-871a4f21f1c2",
   "metadata": {},
   "outputs": [
    {
     "data": {
      "text/plain": [
       "PATIENT_VISIT_IDENTIFIER        0\n",
       "AGE_ABOVE65                     0\n",
       "AGE_PERCENTIL                   0\n",
       "GENDER                          0\n",
       "DISEASE GROUPING 1              5\n",
       "                             ... \n",
       "RESPIRATORY_RATE_DIFF_REL     748\n",
       "TEMPERATURE_DIFF_REL          694\n",
       "OXYGEN_SATURATION_DIFF_REL    686\n",
       "WINDOW                          0\n",
       "ICU                             0\n",
       "Length: 231, dtype: int64"
      ]
     },
     "execution_count": 6,
     "metadata": {},
     "output_type": "execute_result"
    }
   ],
   "source": [
    "df.isna().sum()"
   ]
  },
  {
   "cell_type": "code",
   "execution_count": null,
   "id": "428edbd4-0e99-40d7-ba31-e93f296e6d34",
   "metadata": {},
   "outputs": [],
   "source": []
  }
 ],
 "metadata": {
  "kernelspec": {
   "display_name": "Python 3 (ipykernel)",
   "language": "python",
   "name": "python3"
  },
  "language_info": {
   "codemirror_mode": {
    "name": "ipython",
    "version": 3
   },
   "file_extension": ".py",
   "mimetype": "text/x-python",
   "name": "python",
   "nbconvert_exporter": "python",
   "pygments_lexer": "ipython3",
   "version": "3.9.7"
  }
 },
 "nbformat": 4,
 "nbformat_minor": 5
}
