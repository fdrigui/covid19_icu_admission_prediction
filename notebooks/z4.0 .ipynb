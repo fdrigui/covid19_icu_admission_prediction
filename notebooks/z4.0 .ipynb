{
 "cells": [
  {
   "cell_type": "code",
   "execution_count": 94,
   "id": "a60b0399-911e-4d3d-acae-d5d17bde6bb6",
   "metadata": {},
   "outputs": [],
   "source": [
    "import pandas as pd\n",
    "import numpy as np\n",
    "from scipy import stats\n",
    "\n",
    "from sklearn.model_selection import train_test_split\n",
    "from sklearn.model_selection import cross_validate\n",
    "from sklearn.model_selection import StratifiedKFold\n",
    "from sklearn.model_selection import RepeatedStratifiedKFold\n",
    "from sklearn.model_selection import LeaveOneOut\n",
    "\n",
    "from sklearn.dummy import DummyClassifier\n",
    "from sklearn.metrics import accuracy_score\n",
    "\n",
    "from sklearn.linear_model import LogisticRegression\n",
    "from sklearn.tree import DecisionTreeClassifier\n",
    "from sklearn.ensemble import RandomForestClassifier\n",
    "\n",
    "\n",
    "from sklearn.metrics import plot_confusion_matrix\n",
    "from sklearn.metrics import classification_report\n",
    "from sklearn.metrics import roc_auc_score\n",
    "\n",
    "#from sklearn.testing import all_estimators\n",
    "from lazypredict.Supervised import LazyClassifier\n",
    "\n",
    "from matplotlib import pyplot as plt"
   ]
  },
  {
   "cell_type": "code",
   "execution_count": 95,
   "id": "0d2af044-513b-4c0a-9595-fc966e6453de",
   "metadata": {},
   "outputs": [],
   "source": [
    "def roda_modelo(model, df:pd.DataFrame):\n",
    "    y = df[\"ICU\"]\n",
    "    X = df.drop([\"ICU\", 'PATIENT_VISIT_IDENTIFIER'], axis=1)\n",
    "    \n",
    "    X_train, X_test, y_train, y_test = train_test_split(X, y, stratify=y, shuffle=True, test_size=0.20)\n",
    "    \n",
    "    model.fit(X_train, y_train)\n",
    "    pred = model.predict(X_test)\n",
    "    prob_pred = model.predict_proba(X_test)\n",
    "    \n",
    "    auc = roc_auc_score(y_test, prob_pred[:,1])\n",
    "    \n",
    "    print(f'AUC: {auc}')\n",
    "    print('\\nClassification Report')\n",
    "    print(classification_report(y_test, pred))\n",
    "    \n",
    "def roda_n_modelos(model, df:pd.DataFrame, n:int):\n",
    "    y = df[\"ICU\"]\n",
    "    X = df.drop([\"ICU\", 'PATIENT_VISIT_IDENTIFIER'], axis=1)\n",
    "    \n",
    "    auc_list = []\n",
    "    for _ in range(n):\n",
    "        X_train, X_test, y_train, y_test = train_test_split(X, y, stratify=y, shuffle=True, test_size=0.15)\n",
    "    \n",
    "        model.fit(X_train, y_train)\n",
    "        prob_pred = model.predict_proba(X_test)\n",
    "    \n",
    "        auc = roc_auc_score(y_test, prob_pred[:,1])\n",
    "        auc_list.append(auc)\n",
    "    \n",
    "    auc_mean = np.mean(auc_list)\n",
    "    auc_std = np.std(auc_list)\n",
    "    print(f'AUC Mean: {auc_mean.round(2)}\\nAUC Std: {auc_std.round(3)}\\nAUC CI: {(auc_mean - (2*auc_std)).round(2)} - {(auc_mean + (2*auc_std)).round(2)}')\n",
    "    \n",
    "    return auc_list\n",
    "\n",
    "\n",
    "def roda_n_modelo_cv(model, df:pd.DataFrame, n_splits:int, n_repeats:int):\n",
    "    \n",
    "    np.random.seed(1991237)\n",
    "    \n",
    "    df = df.sample(frac=1).reset_index(drop=True)\n",
    "    y = df[\"ICU\"]\n",
    "    X = df.drop([\"ICU\", 'PATIENT_VISIT_IDENTIFIER'], axis=1)\n",
    "    \n",
    "    cv = RepeatedStratifiedKFold(n_splits = n_splits, n_repeats = n_repeats)\n",
    "    result = cross_validate(log_clf, X, y, cv=cv, scoring='roc_auc')\n",
    "    \n",
    "    auc_mean = np.mean(result['test_score'])\n",
    "    auc_std = np.std(result['test_score'])\n",
    "    print(f'AUC Mean: {auc_mean.round(2)}\\nAUC Std: {auc_std.round(3)}\\nAUC CI: {(auc_mean - (2*auc_std)).round(2)} - {(auc_mean + (2*auc_std)).round(2)}')\n",
    "    \n",
    "    return result['test_score']\n",
    "\n",
    "    "
   ]
  },
  {
   "cell_type": "code",
   "execution_count": 96,
   "id": "bed21828-2fa7-490d-bdf7-b4635e37b868",
   "metadata": {},
   "outputs": [],
   "source": [
    "rand = 98123"
   ]
  },
  {
   "cell_type": "code",
   "execution_count": 97,
   "id": "f35ea5c6-c7dc-40f6-ab5b-e6c4e61e1cdc",
   "metadata": {},
   "outputs": [
    {
     "data": {
      "text/html": [
       "<div>\n",
       "<style scoped>\n",
       "    .dataframe tbody tr th:only-of-type {\n",
       "        vertical-align: middle;\n",
       "    }\n",
       "\n",
       "    .dataframe tbody tr th {\n",
       "        vertical-align: top;\n",
       "    }\n",
       "\n",
       "    .dataframe thead th {\n",
       "        text-align: right;\n",
       "    }\n",
       "</style>\n",
       "<table border=\"1\" class=\"dataframe\">\n",
       "  <thead>\n",
       "    <tr style=\"text-align: right;\">\n",
       "      <th></th>\n",
       "      <th>PATIENT_VISIT_IDENTIFIER</th>\n",
       "      <th>AGE_ABOVE65</th>\n",
       "      <th>AGE_PERCENTIL</th>\n",
       "      <th>GENDER</th>\n",
       "      <th>DISEASE GROUPING 1</th>\n",
       "      <th>DISEASE GROUPING 2</th>\n",
       "      <th>DISEASE GROUPING 3</th>\n",
       "      <th>DISEASE GROUPING 4</th>\n",
       "      <th>DISEASE GROUPING 5</th>\n",
       "      <th>DISEASE GROUPING 6</th>\n",
       "      <th>HTN</th>\n",
       "      <th>IMMUNOCOMPROMISED</th>\n",
       "      <th>OTHER</th>\n",
       "      <th>ALBUMIN_MEDIAN</th>\n",
       "      <th>BE_ARTERIAL_MEDIAN</th>\n",
       "      <th>BE_VENOUS_MEDIAN</th>\n",
       "      <th>BIC_ARTERIAL_MEDIAN</th>\n",
       "      <th>BIC_VENOUS_MEDIAN</th>\n",
       "      <th>BILLIRUBIN_MEDIAN</th>\n",
       "      <th>BLAST_MEDIAN</th>\n",
       "      <th>CALCIUM_MEDIAN</th>\n",
       "      <th>CREATININ_MEDIAN</th>\n",
       "      <th>FFA_MEDIAN</th>\n",
       "      <th>GGT_MEDIAN</th>\n",
       "      <th>GLUCOSE_MEDIAN</th>\n",
       "      <th>HEMATOCRITE_MEDIAN</th>\n",
       "      <th>INR_MEDIAN</th>\n",
       "      <th>LACTATE_MEDIAN</th>\n",
       "      <th>LEUKOCYTES_MEDIAN</th>\n",
       "      <th>LINFOCITOS_MEDIAN</th>\n",
       "      <th>P02_ARTERIAL_MEDIAN</th>\n",
       "      <th>P02_VENOUS_MEDIAN</th>\n",
       "      <th>PC02_ARTERIAL_MEDIAN</th>\n",
       "      <th>PC02_VENOUS_MEDIAN</th>\n",
       "      <th>PCR_MEDIAN</th>\n",
       "      <th>PH_ARTERIAL_MEDIAN</th>\n",
       "      <th>PH_VENOUS_MEDIAN</th>\n",
       "      <th>PLATELETS_MEDIAN</th>\n",
       "      <th>POTASSIUM_MEDIAN</th>\n",
       "      <th>SAT02_ARTERIAL_MEDIAN</th>\n",
       "      <th>SAT02_VENOUS_MEDIAN</th>\n",
       "      <th>SODIUM_MEDIAN</th>\n",
       "      <th>TGO_MEDIAN</th>\n",
       "      <th>TGP_MEDIAN</th>\n",
       "      <th>TTPA_MEDIAN</th>\n",
       "      <th>UREA_MEDIAN</th>\n",
       "      <th>DIMER_MEDIAN</th>\n",
       "      <th>BLOODPRESSURE_DIASTOLIC_MEAN</th>\n",
       "      <th>BLOODPRESSURE_SISTOLIC_MEAN</th>\n",
       "      <th>HEART_RATE_MEAN</th>\n",
       "      <th>RESPIRATORY_RATE_MEAN</th>\n",
       "      <th>TEMPERATURE_MEAN</th>\n",
       "      <th>OXYGEN_SATURATION_MEAN</th>\n",
       "      <th>BLOODPRESSURE_DIASTOLIC_DIFF</th>\n",
       "      <th>BLOODPRESSURE_SISTOLIC_DIFF</th>\n",
       "      <th>HEART_RATE_DIFF</th>\n",
       "      <th>RESPIRATORY_RATE_DIFF</th>\n",
       "      <th>TEMPERATURE_DIFF</th>\n",
       "      <th>OXYGEN_SATURATION_DIFF</th>\n",
       "      <th>OXYGEN_SATURATION_DIFF_REL</th>\n",
       "      <th>ICU</th>\n",
       "    </tr>\n",
       "  </thead>\n",
       "  <tbody>\n",
       "    <tr>\n",
       "      <th>0</th>\n",
       "      <td>0</td>\n",
       "      <td>1</td>\n",
       "      <td>0.11</td>\n",
       "      <td>0</td>\n",
       "      <td>0.00</td>\n",
       "      <td>0.00</td>\n",
       "      <td>0.00</td>\n",
       "      <td>0.00</td>\n",
       "      <td>1.00</td>\n",
       "      <td>1.00</td>\n",
       "      <td>0.00</td>\n",
       "      <td>0.00</td>\n",
       "      <td>1.00</td>\n",
       "      <td>0.61</td>\n",
       "      <td>-1.00</td>\n",
       "      <td>-1.00</td>\n",
       "      <td>-0.32</td>\n",
       "      <td>-0.32</td>\n",
       "      <td>-0.94</td>\n",
       "      <td>-1.00</td>\n",
       "      <td>0.18</td>\n",
       "      <td>-0.87</td>\n",
       "      <td>-0.74</td>\n",
       "      <td>-0.95</td>\n",
       "      <td>-0.89</td>\n",
       "      <td>0.09</td>\n",
       "      <td>-0.93</td>\n",
       "      <td>1.00</td>\n",
       "      <td>-0.84</td>\n",
       "      <td>-0.91</td>\n",
       "      <td>-0.17</td>\n",
       "      <td>-0.70</td>\n",
       "      <td>-0.78</td>\n",
       "      <td>-0.75</td>\n",
       "      <td>-0.88</td>\n",
       "      <td>0.23</td>\n",
       "      <td>0.36</td>\n",
       "      <td>-0.54</td>\n",
       "      <td>-0.52</td>\n",
       "      <td>0.94</td>\n",
       "      <td>0.35</td>\n",
       "      <td>-0.03</td>\n",
       "      <td>-1.00</td>\n",
       "      <td>-0.99</td>\n",
       "      <td>-0.83</td>\n",
       "      <td>-0.84</td>\n",
       "      <td>-0.99</td>\n",
       "      <td>0.09</td>\n",
       "      <td>-0.23</td>\n",
       "      <td>-0.28</td>\n",
       "      <td>-0.59</td>\n",
       "      <td>-0.29</td>\n",
       "      <td>0.74</td>\n",
       "      <td>-1.00</td>\n",
       "      <td>-1.00</td>\n",
       "      <td>-1.00</td>\n",
       "      <td>-1.00</td>\n",
       "      <td>-1.00</td>\n",
       "      <td>-1.00</td>\n",
       "      <td>-1.00</td>\n",
       "      <td>1</td>\n",
       "    </tr>\n",
       "    <tr>\n",
       "      <th>1</th>\n",
       "      <td>2</td>\n",
       "      <td>0</td>\n",
       "      <td>-1.00</td>\n",
       "      <td>0</td>\n",
       "      <td>0.00</td>\n",
       "      <td>0.00</td>\n",
       "      <td>0.00</td>\n",
       "      <td>0.00</td>\n",
       "      <td>0.00</td>\n",
       "      <td>0.00</td>\n",
       "      <td>0.00</td>\n",
       "      <td>0.00</td>\n",
       "      <td>1.00</td>\n",
       "      <td>0.61</td>\n",
       "      <td>-1.00</td>\n",
       "      <td>-1.00</td>\n",
       "      <td>-0.32</td>\n",
       "      <td>-0.32</td>\n",
       "      <td>-0.94</td>\n",
       "      <td>-1.00</td>\n",
       "      <td>0.36</td>\n",
       "      <td>-0.91</td>\n",
       "      <td>-0.74</td>\n",
       "      <td>-0.96</td>\n",
       "      <td>-0.78</td>\n",
       "      <td>0.14</td>\n",
       "      <td>-0.96</td>\n",
       "      <td>1.00</td>\n",
       "      <td>-0.38</td>\n",
       "      <td>-0.91</td>\n",
       "      <td>-0.17</td>\n",
       "      <td>-0.70</td>\n",
       "      <td>-0.78</td>\n",
       "      <td>-0.75</td>\n",
       "      <td>-0.94</td>\n",
       "      <td>0.23</td>\n",
       "      <td>0.36</td>\n",
       "      <td>-0.40</td>\n",
       "      <td>-0.70</td>\n",
       "      <td>0.94</td>\n",
       "      <td>0.35</td>\n",
       "      <td>0.09</td>\n",
       "      <td>-1.00</td>\n",
       "      <td>-0.99</td>\n",
       "      <td>-0.85</td>\n",
       "      <td>-0.84</td>\n",
       "      <td>-0.98</td>\n",
       "      <td>-0.49</td>\n",
       "      <td>-0.69</td>\n",
       "      <td>-0.05</td>\n",
       "      <td>-0.65</td>\n",
       "      <td>0.36</td>\n",
       "      <td>0.94</td>\n",
       "      <td>-0.55</td>\n",
       "      <td>-0.53</td>\n",
       "      <td>-0.60</td>\n",
       "      <td>-0.76</td>\n",
       "      <td>-1.00</td>\n",
       "      <td>-0.96</td>\n",
       "      <td>-0.96</td>\n",
       "      <td>1</td>\n",
       "    </tr>\n",
       "    <tr>\n",
       "      <th>2</th>\n",
       "      <td>3</td>\n",
       "      <td>0</td>\n",
       "      <td>-0.33</td>\n",
       "      <td>1</td>\n",
       "      <td>0.00</td>\n",
       "      <td>0.00</td>\n",
       "      <td>0.00</td>\n",
       "      <td>0.00</td>\n",
       "      <td>0.00</td>\n",
       "      <td>0.00</td>\n",
       "      <td>0.00</td>\n",
       "      <td>1.00</td>\n",
       "      <td>1.00</td>\n",
       "      <td>-0.26</td>\n",
       "      <td>-1.00</td>\n",
       "      <td>-1.00</td>\n",
       "      <td>-0.32</td>\n",
       "      <td>-0.32</td>\n",
       "      <td>-0.97</td>\n",
       "      <td>-1.00</td>\n",
       "      <td>0.33</td>\n",
       "      <td>-0.97</td>\n",
       "      <td>-0.19</td>\n",
       "      <td>-0.32</td>\n",
       "      <td>-0.89</td>\n",
       "      <td>-0.20</td>\n",
       "      <td>-0.96</td>\n",
       "      <td>-0.83</td>\n",
       "      <td>-0.73</td>\n",
       "      <td>-0.84</td>\n",
       "      <td>-0.17</td>\n",
       "      <td>-0.63</td>\n",
       "      <td>-0.78</td>\n",
       "      <td>-0.78</td>\n",
       "      <td>-0.50</td>\n",
       "      <td>0.23</td>\n",
       "      <td>0.36</td>\n",
       "      <td>-0.56</td>\n",
       "      <td>-0.78</td>\n",
       "      <td>0.94</td>\n",
       "      <td>0.58</td>\n",
       "      <td>0.20</td>\n",
       "      <td>-0.99</td>\n",
       "      <td>-0.96</td>\n",
       "      <td>-0.85</td>\n",
       "      <td>-0.94</td>\n",
       "      <td>-0.98</td>\n",
       "      <td>0.01</td>\n",
       "      <td>-0.37</td>\n",
       "      <td>-0.53</td>\n",
       "      <td>-0.46</td>\n",
       "      <td>-0.29</td>\n",
       "      <td>0.68</td>\n",
       "      <td>-1.00</td>\n",
       "      <td>-1.00</td>\n",
       "      <td>-1.00</td>\n",
       "      <td>-1.00</td>\n",
       "      <td>-1.00</td>\n",
       "      <td>-1.00</td>\n",
       "      <td>-1.00</td>\n",
       "      <td>0</td>\n",
       "    </tr>\n",
       "    <tr>\n",
       "      <th>3</th>\n",
       "      <td>4</td>\n",
       "      <td>0</td>\n",
       "      <td>-1.00</td>\n",
       "      <td>0</td>\n",
       "      <td>0.00</td>\n",
       "      <td>0.00</td>\n",
       "      <td>0.00</td>\n",
       "      <td>0.00</td>\n",
       "      <td>0.00</td>\n",
       "      <td>0.00</td>\n",
       "      <td>0.00</td>\n",
       "      <td>0.00</td>\n",
       "      <td>1.00</td>\n",
       "      <td>0.61</td>\n",
       "      <td>-1.00</td>\n",
       "      <td>-1.00</td>\n",
       "      <td>-0.32</td>\n",
       "      <td>-0.32</td>\n",
       "      <td>-0.94</td>\n",
       "      <td>-1.00</td>\n",
       "      <td>0.36</td>\n",
       "      <td>-0.91</td>\n",
       "      <td>-0.83</td>\n",
       "      <td>-0.94</td>\n",
       "      <td>-0.85</td>\n",
       "      <td>0.36</td>\n",
       "      <td>-0.96</td>\n",
       "      <td>1.00</td>\n",
       "      <td>-0.70</td>\n",
       "      <td>-0.64</td>\n",
       "      <td>-0.17</td>\n",
       "      <td>-0.70</td>\n",
       "      <td>-0.78</td>\n",
       "      <td>-0.75</td>\n",
       "      <td>-0.99</td>\n",
       "      <td>0.23</td>\n",
       "      <td>0.36</td>\n",
       "      <td>-0.46</td>\n",
       "      <td>-0.59</td>\n",
       "      <td>0.94</td>\n",
       "      <td>0.35</td>\n",
       "      <td>0.14</td>\n",
       "      <td>-1.00</td>\n",
       "      <td>-0.99</td>\n",
       "      <td>-0.85</td>\n",
       "      <td>-0.90</td>\n",
       "      <td>-1.00</td>\n",
       "      <td>0.33</td>\n",
       "      <td>-0.15</td>\n",
       "      <td>0.16</td>\n",
       "      <td>-0.59</td>\n",
       "      <td>0.29</td>\n",
       "      <td>0.87</td>\n",
       "      <td>-1.00</td>\n",
       "      <td>-0.88</td>\n",
       "      <td>-0.92</td>\n",
       "      <td>-0.88</td>\n",
       "      <td>-0.95</td>\n",
       "      <td>-0.98</td>\n",
       "      <td>-0.98</td>\n",
       "      <td>0</td>\n",
       "    </tr>\n",
       "    <tr>\n",
       "      <th>4</th>\n",
       "      <td>5</td>\n",
       "      <td>0</td>\n",
       "      <td>-1.00</td>\n",
       "      <td>0</td>\n",
       "      <td>0.00</td>\n",
       "      <td>0.00</td>\n",
       "      <td>0.00</td>\n",
       "      <td>0.00</td>\n",
       "      <td>0.00</td>\n",
       "      <td>0.00</td>\n",
       "      <td>0.00</td>\n",
       "      <td>0.00</td>\n",
       "      <td>1.00</td>\n",
       "      <td>0.61</td>\n",
       "      <td>-1.00</td>\n",
       "      <td>-1.00</td>\n",
       "      <td>-0.32</td>\n",
       "      <td>-0.32</td>\n",
       "      <td>-0.94</td>\n",
       "      <td>-1.00</td>\n",
       "      <td>0.36</td>\n",
       "      <td>-0.89</td>\n",
       "      <td>-0.74</td>\n",
       "      <td>-0.96</td>\n",
       "      <td>-0.89</td>\n",
       "      <td>0.29</td>\n",
       "      <td>-0.96</td>\n",
       "      <td>1.00</td>\n",
       "      <td>-0.71</td>\n",
       "      <td>-0.34</td>\n",
       "      <td>-0.17</td>\n",
       "      <td>-0.70</td>\n",
       "      <td>-0.78</td>\n",
       "      <td>-0.75</td>\n",
       "      <td>-1.00</td>\n",
       "      <td>0.23</td>\n",
       "      <td>0.36</td>\n",
       "      <td>-0.29</td>\n",
       "      <td>-0.67</td>\n",
       "      <td>0.94</td>\n",
       "      <td>0.35</td>\n",
       "      <td>0.09</td>\n",
       "      <td>-1.00</td>\n",
       "      <td>-0.99</td>\n",
       "      <td>-0.85</td>\n",
       "      <td>-0.88</td>\n",
       "      <td>-1.00</td>\n",
       "      <td>-0.04</td>\n",
       "      <td>-0.54</td>\n",
       "      <td>-0.54</td>\n",
       "      <td>-0.53</td>\n",
       "      <td>-0.20</td>\n",
       "      <td>0.82</td>\n",
       "      <td>-0.83</td>\n",
       "      <td>-0.75</td>\n",
       "      <td>-0.98</td>\n",
       "      <td>-1.00</td>\n",
       "      <td>-0.98</td>\n",
       "      <td>-0.98</td>\n",
       "      <td>-0.98</td>\n",
       "      <td>0</td>\n",
       "    </tr>\n",
       "  </tbody>\n",
       "</table>\n",
       "</div>"
      ],
      "text/plain": [
       "   PATIENT_VISIT_IDENTIFIER  AGE_ABOVE65  AGE_PERCENTIL  GENDER  \\\n",
       "0                         0            1           0.11       0   \n",
       "1                         2            0          -1.00       0   \n",
       "2                         3            0          -0.33       1   \n",
       "3                         4            0          -1.00       0   \n",
       "4                         5            0          -1.00       0   \n",
       "\n",
       "   DISEASE GROUPING 1  DISEASE GROUPING 2  DISEASE GROUPING 3  \\\n",
       "0                0.00                0.00                0.00   \n",
       "1                0.00                0.00                0.00   \n",
       "2                0.00                0.00                0.00   \n",
       "3                0.00                0.00                0.00   \n",
       "4                0.00                0.00                0.00   \n",
       "\n",
       "   DISEASE GROUPING 4  DISEASE GROUPING 5  DISEASE GROUPING 6  HTN  \\\n",
       "0                0.00                1.00                1.00 0.00   \n",
       "1                0.00                0.00                0.00 0.00   \n",
       "2                0.00                0.00                0.00 0.00   \n",
       "3                0.00                0.00                0.00 0.00   \n",
       "4                0.00                0.00                0.00 0.00   \n",
       "\n",
       "   IMMUNOCOMPROMISED  OTHER  ALBUMIN_MEDIAN  BE_ARTERIAL_MEDIAN  \\\n",
       "0               0.00   1.00            0.61               -1.00   \n",
       "1               0.00   1.00            0.61               -1.00   \n",
       "2               1.00   1.00           -0.26               -1.00   \n",
       "3               0.00   1.00            0.61               -1.00   \n",
       "4               0.00   1.00            0.61               -1.00   \n",
       "\n",
       "   BE_VENOUS_MEDIAN  BIC_ARTERIAL_MEDIAN  BIC_VENOUS_MEDIAN  \\\n",
       "0             -1.00                -0.32              -0.32   \n",
       "1             -1.00                -0.32              -0.32   \n",
       "2             -1.00                -0.32              -0.32   \n",
       "3             -1.00                -0.32              -0.32   \n",
       "4             -1.00                -0.32              -0.32   \n",
       "\n",
       "   BILLIRUBIN_MEDIAN  BLAST_MEDIAN  CALCIUM_MEDIAN  CREATININ_MEDIAN  \\\n",
       "0              -0.94         -1.00            0.18             -0.87   \n",
       "1              -0.94         -1.00            0.36             -0.91   \n",
       "2              -0.97         -1.00            0.33             -0.97   \n",
       "3              -0.94         -1.00            0.36             -0.91   \n",
       "4              -0.94         -1.00            0.36             -0.89   \n",
       "\n",
       "   FFA_MEDIAN  GGT_MEDIAN  GLUCOSE_MEDIAN  HEMATOCRITE_MEDIAN  INR_MEDIAN  \\\n",
       "0       -0.74       -0.95           -0.89                0.09       -0.93   \n",
       "1       -0.74       -0.96           -0.78                0.14       -0.96   \n",
       "2       -0.19       -0.32           -0.89               -0.20       -0.96   \n",
       "3       -0.83       -0.94           -0.85                0.36       -0.96   \n",
       "4       -0.74       -0.96           -0.89                0.29       -0.96   \n",
       "\n",
       "   LACTATE_MEDIAN  LEUKOCYTES_MEDIAN  LINFOCITOS_MEDIAN  P02_ARTERIAL_MEDIAN  \\\n",
       "0            1.00              -0.84              -0.91                -0.17   \n",
       "1            1.00              -0.38              -0.91                -0.17   \n",
       "2           -0.83              -0.73              -0.84                -0.17   \n",
       "3            1.00              -0.70              -0.64                -0.17   \n",
       "4            1.00              -0.71              -0.34                -0.17   \n",
       "\n",
       "   P02_VENOUS_MEDIAN  PC02_ARTERIAL_MEDIAN  PC02_VENOUS_MEDIAN  PCR_MEDIAN  \\\n",
       "0              -0.70                 -0.78               -0.75       -0.88   \n",
       "1              -0.70                 -0.78               -0.75       -0.94   \n",
       "2              -0.63                 -0.78               -0.78       -0.50   \n",
       "3              -0.70                 -0.78               -0.75       -0.99   \n",
       "4              -0.70                 -0.78               -0.75       -1.00   \n",
       "\n",
       "   PH_ARTERIAL_MEDIAN  PH_VENOUS_MEDIAN  PLATELETS_MEDIAN  POTASSIUM_MEDIAN  \\\n",
       "0                0.23              0.36             -0.54             -0.52   \n",
       "1                0.23              0.36             -0.40             -0.70   \n",
       "2                0.23              0.36             -0.56             -0.78   \n",
       "3                0.23              0.36             -0.46             -0.59   \n",
       "4                0.23              0.36             -0.29             -0.67   \n",
       "\n",
       "   SAT02_ARTERIAL_MEDIAN  SAT02_VENOUS_MEDIAN  SODIUM_MEDIAN  TGO_MEDIAN  \\\n",
       "0                   0.94                 0.35          -0.03       -1.00   \n",
       "1                   0.94                 0.35           0.09       -1.00   \n",
       "2                   0.94                 0.58           0.20       -0.99   \n",
       "3                   0.94                 0.35           0.14       -1.00   \n",
       "4                   0.94                 0.35           0.09       -1.00   \n",
       "\n",
       "   TGP_MEDIAN  TTPA_MEDIAN  UREA_MEDIAN  DIMER_MEDIAN  \\\n",
       "0       -0.99        -0.83        -0.84         -0.99   \n",
       "1       -0.99        -0.85        -0.84         -0.98   \n",
       "2       -0.96        -0.85        -0.94         -0.98   \n",
       "3       -0.99        -0.85        -0.90         -1.00   \n",
       "4       -0.99        -0.85        -0.88         -1.00   \n",
       "\n",
       "   BLOODPRESSURE_DIASTOLIC_MEAN  BLOODPRESSURE_SISTOLIC_MEAN  HEART_RATE_MEAN  \\\n",
       "0                          0.09                        -0.23            -0.28   \n",
       "1                         -0.49                        -0.69            -0.05   \n",
       "2                          0.01                        -0.37            -0.53   \n",
       "3                          0.33                        -0.15             0.16   \n",
       "4                         -0.04                        -0.54            -0.54   \n",
       "\n",
       "   RESPIRATORY_RATE_MEAN  TEMPERATURE_MEAN  OXYGEN_SATURATION_MEAN  \\\n",
       "0                  -0.59             -0.29                    0.74   \n",
       "1                  -0.65              0.36                    0.94   \n",
       "2                  -0.46             -0.29                    0.68   \n",
       "3                  -0.59              0.29                    0.87   \n",
       "4                  -0.53             -0.20                    0.82   \n",
       "\n",
       "   BLOODPRESSURE_DIASTOLIC_DIFF  BLOODPRESSURE_SISTOLIC_DIFF  HEART_RATE_DIFF  \\\n",
       "0                         -1.00                        -1.00            -1.00   \n",
       "1                         -0.55                        -0.53            -0.60   \n",
       "2                         -1.00                        -1.00            -1.00   \n",
       "3                         -1.00                        -0.88            -0.92   \n",
       "4                         -0.83                        -0.75            -0.98   \n",
       "\n",
       "   RESPIRATORY_RATE_DIFF  TEMPERATURE_DIFF  OXYGEN_SATURATION_DIFF  \\\n",
       "0                  -1.00             -1.00                   -1.00   \n",
       "1                  -0.76             -1.00                   -0.96   \n",
       "2                  -1.00             -1.00                   -1.00   \n",
       "3                  -0.88             -0.95                   -0.98   \n",
       "4                  -1.00             -0.98                   -0.98   \n",
       "\n",
       "   OXYGEN_SATURATION_DIFF_REL  ICU  \n",
       "0                       -1.00    1  \n",
       "1                       -0.96    1  \n",
       "2                       -1.00    0  \n",
       "3                       -0.98    0  \n",
       "4                       -0.98    0  "
      ]
     },
     "execution_count": 97,
     "metadata": {},
     "output_type": "execute_result"
    }
   ],
   "source": [
    "df = pd.read_csv('../data/processed/processed_data.csv', index_col=0)\n",
    "pd.set_option('max_columns', df.shape[1]) #Adjust the plotting visualizationto make all columns visible in a plot\n",
    "df.head()"
   ]
  },
  {
   "cell_type": "code",
   "execution_count": 98,
   "id": "4b686c16-3540-4eac-882b-ad5beeeeda6e",
   "metadata": {},
   "outputs": [],
   "source": [
    "y = df[\"ICU\"]\n",
    "X = df.drop([\"ICU\", 'PATIENT_VISIT_IDENTIFIER'], axis=1)"
   ]
  },
  {
   "cell_type": "code",
   "execution_count": 99,
   "id": "450320f0-06df-4b79-9a60-fe9dfbbac90c",
   "metadata": {},
   "outputs": [
    {
     "data": {
      "text/plain": [
       "array([dtype('int64'), dtype('float64')], dtype=object)"
      ]
     },
     "execution_count": 99,
     "metadata": {},
     "output_type": "execute_result"
    }
   ],
   "source": [
    "X.dtypes.unique()"
   ]
  },
  {
   "cell_type": "code",
   "execution_count": 100,
   "id": "c5c7c897-2f17-4780-b454-ec8d27651567",
   "metadata": {},
   "outputs": [],
   "source": [
    "np.random.seed(rand)\n",
    "#X_train, X_test, y_train, y_test = train_test_split(X, y, stratify=y, shuffle=True, test_size=0.15)\n",
    "X_train, X_test, y_train, y_test = train_test_split(X, y, stratify=y, shuffle=True, test_size=0.25)"
   ]
  },
  {
   "cell_type": "code",
   "execution_count": 101,
   "id": "290080cd-aec0-4e65-a99a-2ff0f95185b2",
   "metadata": {},
   "outputs": [
    {
     "name": "stdout",
     "output_type": "stream",
     "text": [
      "263 263\n",
      "88 88\n"
     ]
    }
   ],
   "source": [
    "print(len(X_train), len(y_train))\n",
    "print(len(X_test), len(y_test))"
   ]
  },
  {
   "cell_type": "markdown",
   "id": "f8b32228-c3c0-46ce-a502-e286cc98c3ab",
   "metadata": {},
   "source": [
    "## Dummy Classifier"
   ]
  },
  {
   "cell_type": "code",
   "execution_count": 102,
   "id": "e6b59921-f3f2-48de-a81b-618e6b9b351b",
   "metadata": {},
   "outputs": [
    {
     "data": {
      "text/plain": [
       "53.40909090909091"
      ]
     },
     "execution_count": 102,
     "metadata": {},
     "output_type": "execute_result"
    }
   ],
   "source": [
    "dummy_model = DummyClassifier(strategy=\"prior\")\n",
    "dummy_model = dummy_model.fit(X_train, y_train)\n",
    "sum(dummy_model.predict(X_test) == y_test) / len(y_test) * 100"
   ]
  },
  {
   "cell_type": "code",
   "execution_count": 103,
   "id": "f2b4133a-c91a-467f-a9eb-5ed0122f9498",
   "metadata": {},
   "outputs": [
    {
     "name": "stdout",
     "output_type": "stream",
     "text": [
      "Dummy Score: 53.410000000000004%\n"
     ]
    }
   ],
   "source": [
    "dummy_score = accuracy_score(y_test, dummy_model.predict(X_test))\n",
    "print(f'Dummy Score: {dummy_score.round(4)*100}%')"
   ]
  },
  {
   "cell_type": "code",
   "execution_count": 104,
   "id": "e044ae1e-d697-44dc-b910-1d7f72c8f895",
   "metadata": {},
   "outputs": [
    {
     "data": {
      "text/plain": [
       "<sklearn.metrics._plot.confusion_matrix.ConfusionMatrixDisplay at 0x20422e114c0>"
      ]
     },
     "execution_count": 104,
     "metadata": {},
     "output_type": "execute_result"
    },
    {
     "data": {
      "image/png": "[encoded data removed]",
      "text/plain": [
       "<Figure size 432x288 with 2 Axes>"
      ]
     },
     "metadata": {
      "needs_background": "light"
     },
     "output_type": "display_data"
    }
   ],
   "source": [
    "plot_confusion_matrix(dummy_model, X_test, y_test)"
   ]
  },
  {
   "cell_type": "markdown",
   "id": "d19f7fc5-6c2e-49e8-970b-82c4f6c462e8",
   "metadata": {},
   "source": [
    "## Logistic Regression"
   ]
  },
  {
   "cell_type": "code",
   "execution_count": 105,
   "id": "3d670885-fd69-4482-bb93-116832b9f7b5",
   "metadata": {},
   "outputs": [],
   "source": [
    "log_clf = LogisticRegression(random_state=rand).fit(X_train, y_train)"
   ]
  },
  {
   "cell_type": "code",
   "execution_count": 106,
   "id": "1034fded-0458-44dc-ae70-6cf1c311f12a",
   "metadata": {},
   "outputs": [
    {
     "name": "stdout",
     "output_type": "stream",
     "text": [
      "Dummy Score: 71.59%\n"
     ]
    }
   ],
   "source": [
    "log_clf_score = accuracy_score(y_test, log_clf.predict(X_test))\n",
    "print(f'Dummy Score: {log_clf_score.round(4)*100}%')"
   ]
  },
  {
   "cell_type": "code",
   "execution_count": 107,
   "id": "f42be883-a35e-4513-94be-7ac8c443e9dc",
   "metadata": {},
   "outputs": [
    {
     "data": {
      "text/plain": [
       "<sklearn.metrics._plot.confusion_matrix.ConfusionMatrixDisplay at 0x20422e8e670>"
      ]
     },
     "execution_count": 107,
     "metadata": {},
     "output_type": "execute_result"
    },
    {
     "data": {
      "image/png": "[encoded data removed]",
      "text/plain": [
       "<Figure size 432x288 with 2 Axes>"
      ]
     },
     "metadata": {
      "needs_background": "light"
     },
     "output_type": "display_data"
    }
   ],
   "source": [
    "plot_confusion_matrix(log_clf, X_test, y_test)"
   ]
  },
  {
   "cell_type": "code",
   "execution_count": 108,
   "id": "feb28051-50ad-43c0-bb60-bc08cca8e0f4",
   "metadata": {},
   "outputs": [
    {
     "name": "stdout",
     "output_type": "stream",
     "text": [
      "              precision    recall  f1-score   support\n",
      "\n",
      "           0       0.74      0.72      0.73        47\n",
      "           1       0.69      0.71      0.70        41\n",
      "\n",
      "    accuracy                           0.72        88\n",
      "   macro avg       0.71      0.72      0.71        88\n",
      "weighted avg       0.72      0.72      0.72        88\n",
      "\n"
     ]
    }
   ],
   "source": [
    "print(classification_report(y_test, log_clf.predict(X_test)))"
   ]
  },
  {
   "cell_type": "code",
   "execution_count": 109,
   "id": "6f3b87b8-eade-488a-9940-88e8af2211d3",
   "metadata": {},
   "outputs": [
    {
     "data": {
      "text/plain": [
       "0.777893098079917"
      ]
     },
     "execution_count": 109,
     "metadata": {},
     "output_type": "execute_result"
    }
   ],
   "source": [
    "log_clf_prob = log_clf.predict_proba(X_test)#duas colunas. [0] Prob do resultado ser zero; [1] prob do resultado ser 1\n",
    "\n",
    "roc_auc_score(y_test, log_clf_prob[:,1])"
   ]
  },
  {
   "cell_type": "code",
   "execution_count": 110,
   "id": "5221c706-91ca-4588-909b-f693258478c6",
   "metadata": {},
   "outputs": [
    {
     "name": "stdout",
     "output_type": "stream",
     "text": [
      "AUC: 0.766347687400319\n",
      "\n",
      "Classification Report\n",
      "              precision    recall  f1-score   support\n",
      "\n",
      "           0       0.76      0.82      0.78        38\n",
      "           1       0.77      0.70      0.73        33\n",
      "\n",
      "    accuracy                           0.76        71\n",
      "   macro avg       0.76      0.76      0.76        71\n",
      "weighted avg       0.76      0.76      0.76        71\n",
      "\n"
     ]
    }
   ],
   "source": [
    "roda_modelo(log_clf, df)"
   ]
  },
  {
   "cell_type": "code",
   "execution_count": 111,
   "id": "46fd40fd-fea1-4ede-8d8a-c3e5953571d2",
   "metadata": {},
   "outputs": [
    {
     "name": "stdout",
     "output_type": "stream",
     "text": [
      "AUC Mean: 0.78\n",
      "AUC Std: 0.065\n",
      "AUC CI: 0.65 - 0.91\n"
     ]
    }
   ],
   "source": [
    "z = roda_n_modelos(log_clf, df,100)"
   ]
  },
  {
   "cell_type": "code",
   "execution_count": 112,
   "id": "c17d99d1-63a6-450d-91ea-dd405c568280",
   "metadata": {},
   "outputs": [
    {
     "data": {
      "text/plain": [
       "(array([ 2.,  9.,  7., 11., 14., 14., 19., 14.,  9.,  1.]),\n",
       " array([0.62068966, 0.65028736, 0.67988506, 0.70948276, 0.73908046,\n",
       "        0.76867816, 0.79827586, 0.82787356, 0.85747126, 0.88706897,\n",
       "        0.91666667]),\n",
       " <BarContainer object of 10 artists>)"
      ]
     },
     "execution_count": 112,
     "metadata": {},
     "output_type": "execute_result"
    },
    {
     "data": {
      "image/png": "[encoded data removed]",
      "text/plain": [
       "<Figure size 432x288 with 1 Axes>"
      ]
     },
     "metadata": {
      "needs_background": "light"
     },
     "output_type": "display_data"
    }
   ],
   "source": [
    "plt.hist(z)"
   ]
  },
  {
   "cell_type": "code",
   "execution_count": 113,
   "id": "96857617-9202-477d-9d4a-bf599c9deb71",
   "metadata": {},
   "outputs": [
    {
     "data": {
      "text/plain": [
       "(4.20848809706434, 0.12193781850929157)"
      ]
     },
     "execution_count": 113,
     "metadata": {},
     "output_type": "execute_result"
    }
   ],
   "source": [
    "k2, p = stats.normaltest(z)\n",
    "k2, p"
   ]
  },
  {
   "cell_type": "code",
   "execution_count": 114,
   "id": "5434a2ba-fe28-496b-8b27-aa0101da7925",
   "metadata": {},
   "outputs": [
    {
     "data": {
      "text/plain": [
       "23.4"
      ]
     },
     "execution_count": 114,
     "metadata": {},
     "output_type": "execute_result"
    }
   ],
   "source": [
    "y.size/15"
   ]
  },
  {
   "cell_type": "code",
   "execution_count": 115,
   "id": "bc130918-1a58-4701-a537-71085d5a2850",
   "metadata": {},
   "outputs": [
    {
     "data": {
      "text/plain": [
       "{'fit_time': array([0.0362525 , 0.0315547 , 0.02500582, 0.03586006, 0.03216338,\n",
       "        0.02194023, 0.03561115, 0.02980185, 0.02437305, 0.02693081]),\n",
       " 'score_time': array([0.00398088, 0.00442004, 0.00295353, 0.00299096, 0.00199366,\n",
       "        0.00504851, 0.00237131, 0.00303841, 0.00199723, 0.00203538]),\n",
       " 'test_score': array([0.77777778, 0.77142857, 0.77142857, 0.71428571, 0.77142857,\n",
       "        0.74285714, 0.74285714, 0.6       , 0.6       , 0.68571429])}"
      ]
     },
     "execution_count": 115,
     "metadata": {},
     "output_type": "execute_result"
    }
   ],
   "source": [
    "cv = StratifiedKFold(10, shuffle=True)\n",
    "cross_validate(log_clf, X, y, cv=cv)"
   ]
  },
  {
   "cell_type": "code",
   "execution_count": 116,
   "id": "7149db77-9af3-4c55-8b9a-c977177d5263",
   "metadata": {},
   "outputs": [
    {
     "data": {
      "text/plain": [
       "{'fit_time': array([0.04727292, 0.02354765, 0.02779818, 0.03204489, 0.03021646,\n",
       "        0.03303981, 0.02525187, 0.02945805, 0.02244973, 0.02872491,\n",
       "        0.0279727 , 0.0290153 , 0.02414393, 0.03393054, 0.02005029,\n",
       "        0.02594924, 0.02891684, 0.02708125, 0.03188992, 0.02794242,\n",
       "        0.0234797 , 0.01879048, 0.01689076, 0.02198482, 0.02804375,\n",
       "        0.02974057, 0.02742076, 0.02494812, 0.03305793, 0.02397776,\n",
       "        0.02582455, 0.01917124, 0.02772617, 0.02294564, 0.02533722,\n",
       "        0.02993679, 0.0244596 , 0.01833391, 0.02355719, 0.02419734,\n",
       "        0.03598714, 0.02692771, 0.02646112, 0.01747346, 0.02592564,\n",
       "        0.02596593, 0.03515172, 0.02301979, 0.0249331 , 0.02595305,\n",
       "        0.01796436, 0.02562237, 0.02217603, 0.02902222, 0.02694559,\n",
       "        0.02198029, 0.01998711, 0.01689672, 0.02717853, 0.02507377,\n",
       "        0.02241206, 0.02396965, 0.03143692, 0.04428029, 0.02760363,\n",
       "        0.02896285, 0.02896976, 0.03450179, 0.03439283, 0.03299308,\n",
       "        0.030303  , 0.0322876 , 0.02393866, 0.02221251, 0.02570367,\n",
       "        0.02902508, 0.02178407, 0.02992082, 0.02732277, 0.03177929,\n",
       "        0.03193569, 0.02636266, 0.02780509, 0.0266118 , 0.02704239,\n",
       "        0.02660084, 0.02943659, 0.02659559, 0.02383876, 0.02590418,\n",
       "        0.0251019 , 0.02605438, 0.02296042, 0.02001452, 0.02245307,\n",
       "        0.02553368, 0.02746224, 0.02534509, 0.02401161, 0.02404332]),\n",
       " 'score_time': array([0.00299621, 0.00199437, 0.00199485, 0.00199437, 0.00297213,\n",
       "        0.00199509, 0.00299001, 0.00228763, 0.00250411, 0.00196934,\n",
       "        0.00299191, 0.00300908, 0.00251365, 0.00498652, 0.00199437,\n",
       "        0.00301099, 0.00301552, 0.00197339, 0.00199389, 0.00199509,\n",
       "        0.0020206 , 0.00299168, 0.00294423, 0.00299215, 0.00201535,\n",
       "        0.00199556, 0.00244451, 0.00199413, 0.00203896, 0.00198984,\n",
       "        0.00243163, 0.00300646, 0.00299215, 0.00199533, 0.00246406,\n",
       "        0.00299144, 0.00265932, 0.00299358, 0.0020225 , 0.00313425,\n",
       "        0.00299191, 0.00199485, 0.00199437, 0.00201988, 0.00155187,\n",
       "        0.00303006, 0.00206542, 0.00193119, 0.00199461, 0.00239301,\n",
       "        0.00235128, 0.00201249, 0.00190926, 0.00199485, 0.00299215,\n",
       "        0.00199509, 0.00400162, 0.00199485, 0.00199413, 0.00297427,\n",
       "        0.00328469, 0.00099826, 0.00227284, 0.00331354, 0.00313663,\n",
       "        0.00352073, 0.00498748, 0.00299263, 0.0019443 , 0.00299215,\n",
       "        0.00199628, 0.00601435, 0.00499058, 0.00202155, 0.00199533,\n",
       "        0.0029943 , 0.00217223, 0.00199485, 0.00212336, 0.00199485,\n",
       "        0.00206375, 0.00311565, 0.002069  , 0.00297475, 0.00292015,\n",
       "        0.00254297, 0.00134706, 0.00197816, 0.00282359, 0.00244331,\n",
       "        0.00394201, 0.00197744, 0.00275993, 0.0049901 , 0.00247931,\n",
       "        0.00299168, 0.00251889, 0.00298977, 0.00393581, 0.00491691]),\n",
       " 'test_score': array([0.77777778, 0.54285714, 0.71428571, 0.82857143, 0.77142857,\n",
       "        0.71428571, 0.71428571, 0.77142857, 0.62857143, 0.8       ,\n",
       "        0.69444444, 0.57142857, 0.74285714, 0.8       , 0.71428571,\n",
       "        0.77142857, 0.68571429, 0.82857143, 0.57142857, 0.71428571,\n",
       "        0.69444444, 0.62857143, 0.82857143, 0.71428571, 0.68571429,\n",
       "        0.68571429, 0.62857143, 0.8       , 0.74285714, 0.74285714,\n",
       "        0.80555556, 0.77142857, 0.57142857, 0.77142857, 0.62857143,\n",
       "        0.68571429, 0.65714286, 0.65714286, 0.8       , 0.82857143,\n",
       "        0.72222222, 0.82857143, 0.68571429, 0.62857143, 0.62857143,\n",
       "        0.71428571, 0.77142857, 0.8       , 0.77142857, 0.65714286,\n",
       "        0.61111111, 0.82857143, 0.71428571, 0.6       , 0.71428571,\n",
       "        0.82857143, 0.85714286, 0.71428571, 0.65714286, 0.71428571,\n",
       "        0.5       , 0.77142857, 0.62857143, 0.71428571, 0.82857143,\n",
       "        0.71428571, 0.8       , 0.77142857, 0.68571429, 0.77142857,\n",
       "        0.83333333, 0.65714286, 0.71428571, 0.71428571, 0.8       ,\n",
       "        0.68571429, 0.68571429, 0.77142857, 0.68571429, 0.68571429,\n",
       "        0.69444444, 0.71428571, 0.74285714, 0.68571429, 0.77142857,\n",
       "        0.71428571, 0.71428571, 0.74285714, 0.8       , 0.62857143,\n",
       "        0.75      , 0.68571429, 0.85714286, 0.71428571, 0.62857143,\n",
       "        0.6       , 0.77142857, 0.71428571, 0.68571429, 0.65714286])}"
      ]
     },
     "execution_count": 116,
     "metadata": {},
     "output_type": "execute_result"
    }
   ],
   "source": [
    "cv = RepeatedStratifiedKFold(n_splits = 10, n_repeats = 10)\n",
    "cross_validate(log_clf, X, y, cv=cv)"
   ]
  },
  {
   "cell_type": "code",
   "execution_count": 120,
   "id": "3a9c3b45-6916-43c1-b55b-05c892e9ffbd",
   "metadata": {},
   "outputs": [
    {
     "data": {
      "text/plain": [
       "{'fit_time': array([0.03554249, 0.03502083, 0.02898002, 0.02194929, 0.03653097,\n",
       "        0.02588987, 0.02946162, 0.02475119, 0.02394366, 0.02782011,\n",
       "        0.02094579, 0.0277226 , 0.02770042, 0.02858615, 0.02336645,\n",
       "        0.03093863, 0.02898741, 0.02297664, 0.02539301, 0.02024817,\n",
       "        0.03003335, 0.0240016 , 0.03537107, 0.02368212, 0.03504348,\n",
       "        0.02194214, 0.0239625 , 0.02198315, 0.02351141, 0.02421474,\n",
       "        0.02854252, 0.03455043, 0.03591323, 0.0316298 , 0.03346992,\n",
       "        0.03774619, 0.03296399, 0.03296685, 0.03255844, 0.03252888,\n",
       "        0.03389215, 0.03741837, 0.03040814, 0.03093886, 0.03425765,\n",
       "        0.02893853, 0.02924037, 0.03063679, 0.0234127 , 0.02655602,\n",
       "        0.03835011, 0.03130841, 0.03174901, 0.03072095, 0.03214741,\n",
       "        0.0255785 , 0.02842999, 0.0328331 , 0.02842689, 0.02379084,\n",
       "        0.02384377, 0.02504635, 0.0284245 , 0.03369236, 0.02753496,\n",
       "        0.02827358, 0.02780724, 0.02999187, 0.03351665, 0.02501369,\n",
       "        0.02922773, 0.02216935, 0.0346849 , 0.02321172, 0.02211213,\n",
       "        0.02695823, 0.02908993, 0.02249575, 0.0225091 , 0.02901721,\n",
       "        0.02618074, 0.02295876, 0.02792525, 0.02775359, 0.02831388,\n",
       "        0.02710605, 0.02468896, 0.02395773, 0.02390409, 0.03038049,\n",
       "        0.02697039, 0.02303004, 0.02653098, 0.03083611, 0.0286088 ,\n",
       "        0.02092957, 0.02649069, 0.02496719, 0.02101707, 0.02754021,\n",
       "        0.02332854, 0.02185631, 0.02484703, 0.02496672, 0.02380133,\n",
       "        0.0278573 , 0.02202678, 0.02294064, 0.02508211, 0.02327633,\n",
       "        0.01998138, 0.01980805, 0.02596164, 0.02489853, 0.02296901,\n",
       "        0.02479124, 0.02448249, 0.0269444 , 0.02497554, 0.02395248,\n",
       "        0.02886128, 0.02956533, 0.01894808, 0.02299428, 0.02010202,\n",
       "        0.02309227, 0.02598619, 0.02231264, 0.02702785, 0.02515721,\n",
       "        0.02045918, 0.0229907 , 0.02387762, 0.02125287, 0.02096415,\n",
       "        0.02390361, 0.01998496, 0.02394724, 0.02393436, 0.0309639 ,\n",
       "        0.02258515, 0.02098775, 0.02004433, 0.02744126, 0.02679062,\n",
       "        0.02948141, 0.02788782, 0.02556372, 0.0252564 , 0.02569222,\n",
       "        0.0230124 , 0.02586722, 0.0249877 , 0.02994776, 0.02886534,\n",
       "        0.0289762 , 0.02697039, 0.02523875, 0.02870512, 0.02488923,\n",
       "        0.031914  , 0.03248405, 0.02843928, 0.02422452, 0.02444816,\n",
       "        0.02710128, 0.02650213, 0.02514935, 0.02733803, 0.0235219 ,\n",
       "        0.02988291, 0.03563929, 0.03011203, 0.02831697, 0.02295899,\n",
       "        0.02755904, 0.02298045, 0.02302313, 0.02708936, 0.02602172,\n",
       "        0.02402186, 0.02888536, 0.03402162, 0.02780652, 0.02196503,\n",
       "        0.02846456, 0.02778983, 0.02396774, 0.02321339, 0.02748251,\n",
       "        0.02500391, 0.02329373, 0.02501583, 0.02458882, 0.01994848,\n",
       "        0.02732444, 0.07913375, 0.04432917, 0.06253695, 0.04008031,\n",
       "        0.03947306, 0.03995705, 0.0379169 , 0.03425908, 0.03080225,\n",
       "        0.03845668, 0.03315711, 0.02992439, 0.0337708 , 0.03797269,\n",
       "        0.02815437, 0.03283381, 0.02401471, 0.02802992, 0.03716469,\n",
       "        0.02797556, 0.03184271, 0.03458929, 0.03002477, 0.0323081 ,\n",
       "        0.02566957, 0.02301097, 0.02617455, 0.05047083, 0.04860425,\n",
       "        0.02704048, 0.02868605, 0.05029392, 0.03548479, 0.02896595,\n",
       "        0.0252192 , 0.03166723, 0.02958417, 0.02768588, 0.02700305,\n",
       "        0.02396965, 0.03877568, 0.03054094, 0.02694964, 0.02610993,\n",
       "        0.02850962, 0.02736425, 0.02716303, 0.0289228 , 0.02824759,\n",
       "        0.02376485, 0.02650356, 0.03193998, 0.03081679, 0.04123521,\n",
       "        0.02549195, 0.02695322, 0.02592993, 0.03093791, 0.02395272,\n",
       "        0.02728844, 0.01949382, 0.02252722, 0.02907634, 0.02368712,\n",
       "        0.01784801, 0.01856732, 0.02149129, 0.02292705, 0.02315116,\n",
       "        0.02036595, 0.02198219, 0.02486706, 0.02487946, 0.02600265,\n",
       "        0.02892542, 0.02493358, 0.02351427, 0.02225494, 0.02594614,\n",
       "        0.02593184, 0.02407098, 0.02805352, 0.02746344, 0.0219419 ,\n",
       "        0.02511382, 0.03102946, 0.02375436, 0.04718471, 0.05135202,\n",
       "        0.02488184, 0.02786708, 0.02996492, 0.02498078, 0.02675414,\n",
       "        0.02692819, 0.02821255, 0.03092432, 0.02250457, 0.02502012,\n",
       "        0.02689338, 0.0267632 , 0.02661657, 0.02118874, 0.03195357,\n",
       "        0.03586388, 0.04916978, 0.02289796, 0.03006411, 0.02295208,\n",
       "        0.02729964, 0.02499318, 0.02611423, 0.03096199, 0.02603459,\n",
       "        0.03195572, 0.02967191, 0.02515912, 0.02493548, 0.02395749,\n",
       "        0.02609086, 0.02504945, 0.02443099, 0.02907825, 0.03104758,\n",
       "        0.04569745, 0.03480768, 0.02610731, 0.02628469, 0.02905583,\n",
       "        0.03091717, 0.02994943, 0.02207756, 0.02342033, 0.02699208,\n",
       "        0.02706456, 0.03148198, 0.02794719, 0.02995062, 0.02094865,\n",
       "        0.02792788, 0.02898169, 0.02993774, 0.0260036 , 0.03180361,\n",
       "        0.02797604, 0.0298748 , 0.02410293, 0.01997066, 0.02500916,\n",
       "        0.05168247, 0.02644968, 0.02839875, 0.03089213, 0.03702021,\n",
       "        0.04017997]),\n",
       " 'score_time': array([0.00604963, 0.00299239, 0.00199318, 0.00222898, 0.00300789,\n",
       "        0.004987  , 0.00199485, 0.00398946, 0.00196648, 0.00284052,\n",
       "        0.00335813, 0.00261879, 0.00223899, 0.00250697, 0.00280619,\n",
       "        0.00299215, 0.00295115, 0.00301433, 0.00199461, 0.00299215,\n",
       "        0.00198936, 0.00289822, 0.0039463 , 0.00299215, 0.00299168,\n",
       "        0.00302291, 0.00299215, 0.00250793, 0.0040288 , 0.00281954,\n",
       "        0.00199461, 0.0046463 , 0.00398684, 0.00291491, 0.00395465,\n",
       "        0.0029757 , 0.00396442, 0.00299215, 0.00299215, 0.00299168,\n",
       "        0.00299025, 0.00253034, 0.00397062, 0.00299215, 0.00407767,\n",
       "        0.00402665, 0.00297999, 0.00226688, 0.00397062, 0.00398993,\n",
       "        0.00404382, 0.00339627, 0.00299287, 0.00199389, 0.00299215,\n",
       "        0.00299478, 0.00442839, 0.00199461, 0.00300956, 0.00302196,\n",
       "        0.00296783, 0.00200939, 0.00199461, 0.00201607, 0.0038681 ,\n",
       "        0.00299096, 0.00299168, 0.00354719, 0.00281167, 0.0032351 ,\n",
       "        0.00299287, 0.00303197, 0.00299072, 0.00285077, 0.00296235,\n",
       "        0.00299096, 0.00199413, 0.00299144, 0.0039978 , 0.00395727,\n",
       "        0.00289869, 0.00201607, 0.00201797, 0.00299549, 0.00296307,\n",
       "        0.00201869, 0.0029974 , 0.00301409, 0.00299382, 0.00302386,\n",
       "        0.00399017, 0.00192642, 0.00199676, 0.00202012, 0.00289702,\n",
       "        0.00299191, 0.00299239, 0.00299239, 0.00199461, 0.00299406,\n",
       "        0.00201464, 0.00199485, 0.00199509, 0.0023663 , 0.00264835,\n",
       "        0.0019958 , 0.00204921, 0.00199485, 0.00199509, 0.00299191,\n",
       "        0.00201917, 0.00299335, 0.00204635, 0.00299263, 0.00299096,\n",
       "        0.00328088, 0.00199509, 0.00301313, 0.00299191, 0.00398946,\n",
       "        0.0028944 , 0.00251794, 0.00199413, 0.00199509, 0.00201154,\n",
       "        0.00299239, 0.00498629, 0.00199389, 0.00216341, 0.00268698,\n",
       "        0.00282788, 0.00399184, 0.00251198, 0.00299239, 0.00299191,\n",
       "        0.00299239, 0.00388384, 0.00201631, 0.00299215, 0.00199437,\n",
       "        0.0017488 , 0.00197291, 0.00197935, 0.00199461, 0.00299215,\n",
       "        0.00199485, 0.00199437, 0.00453162, 0.00308752, 0.00206256,\n",
       "        0.00293636, 0.00210238, 0.00330925, 0.00197053, 0.00299191,\n",
       "        0.00299239, 0.00398898, 0.00299525, 0.00299311, 0.00299239,\n",
       "        0.00301266, 0.00199437, 0.00299311, 0.00298333, 0.00199676,\n",
       "        0.00201869, 0.0030148 , 0.00199461, 0.00274372, 0.00311875,\n",
       "        0.00314808, 0.00297856, 0.0029912 , 0.00299573, 0.00276327,\n",
       "        0.00398827, 0.00299191, 0.00398064, 0.00398827, 0.0039866 ,\n",
       "        0.00292945, 0.0029912 , 0.0020237 , 0.00199699, 0.00397563,\n",
       "        0.00351381, 0.00272918, 0.00449324, 0.00299072, 0.00199604,\n",
       "        0.00304174, 0.00200629, 0.0025084 , 0.00247312, 0.00317073,\n",
       "        0.00398898, 0.00972581, 0.00357437, 0.00380659, 0.0030148 ,\n",
       "        0.00554872, 0.00298572, 0.00492215, 0.00405741, 0.0039897 ,\n",
       "        0.00199485, 0.00350165, 0.00299072, 0.00299549, 0.00384307,\n",
       "        0.00298071, 0.00299263, 0.00296164, 0.0028882 , 0.00299191,\n",
       "        0.00199318, 0.00303221, 0.00299215, 0.00296688, 0.00199461,\n",
       "        0.00369358, 0.0029676 , 0.00199461, 0.00495672, 0.00282073,\n",
       "        0.00299001, 0.0025208 , 0.00549626, 0.0039897 , 0.00398922,\n",
       "        0.00380898, 0.0030179 , 0.00299144, 0.00299072, 0.00299311,\n",
       "        0.00199509, 0.00291371, 0.00299168, 0.00299263, 0.00399232,\n",
       "        0.00298905, 0.00299144, 0.00281072, 0.00199366, 0.00252724,\n",
       "        0.0030148 , 0.003968  , 0.00299048, 0.00312519, 0.00199437,\n",
       "        0.00356936, 0.00302672, 0.00101256, 0.00299168, 0.00199413,\n",
       "        0.00211596, 0.00400829, 0.00131011, 0.00301433, 0.00299597,\n",
       "        0.00199866, 0.00248194, 0.00199461, 0.00204492, 0.00299239,\n",
       "        0.00263405, 0.0029912 , 0.00293899, 0.00185847, 0.00194025,\n",
       "        0.00201392, 0.00299358, 0.00299072, 0.00298047, 0.00174308,\n",
       "        0.00311613, 0.00199366, 0.00298524, 0.00432277, 0.00299191,\n",
       "        0.00291276, 0.00298572, 0.00199461, 0.00597692, 0.00299287,\n",
       "        0.0019896 , 0.00199366, 0.00199533, 0.00251222, 0.00397158,\n",
       "        0.00299191, 0.00199437, 0.00335622, 0.00199389, 0.00287151,\n",
       "        0.0039866 , 0.00299215, 0.0029912 , 0.00201344, 0.00199389,\n",
       "        0.00300527, 0.00297213, 0.00299215, 0.00296807, 0.00299215,\n",
       "        0.0019958 , 0.00299525, 0.00250888, 0.00199485, 0.00215745,\n",
       "        0.00339389, 0.00199509, 0.00199461, 0.00301933, 0.00299215,\n",
       "        0.00502014, 0.00363111, 0.00199461, 0.00320077, 0.00398922,\n",
       "        0.00599074, 0.00306153, 0.00170779, 0.00301123, 0.00198102,\n",
       "        0.00199437, 0.00199461, 0.00384831, 0.00196862, 0.00199723,\n",
       "        0.00297976, 0.00199485, 0.00268936, 0.00198483, 0.00398684,\n",
       "        0.00498772, 0.0033555 , 0.00199366, 0.00299215, 0.00245523,\n",
       "        0.00299478, 0.00299335, 0.00274205, 0.00247216, 0.0029614 ,\n",
       "        0.00299406, 0.0029707 , 0.00297451, 0.00398922, 0.00399041,\n",
       "        0.00289893]),\n",
       " 'test_score': array([0., 0., 0., 1., 1., 1., 1., 0., 1., 0., 1., 1., 1., 1., 1., 1., 0.,\n",
       "        0., 1., 0., 0., 1., 1., 0., 1., 1., 1., 0., 1., 1., 1., 1., 1., 1.,\n",
       "        1., 0., 1., 0., 1., 1., 1., 1., 1., 1., 0., 1., 1., 0., 0., 1., 0.,\n",
       "        0., 1., 1., 1., 1., 1., 1., 1., 0., 1., 1., 1., 1., 1., 1., 0., 1.,\n",
       "        0., 1., 0., 0., 1., 0., 1., 0., 0., 0., 1., 0., 0., 1., 1., 1., 1.,\n",
       "        0., 1., 1., 1., 1., 1., 0., 0., 1., 0., 1., 1., 1., 1., 0., 1., 1.,\n",
       "        1., 1., 1., 0., 1., 1., 1., 1., 1., 1., 0., 0., 1., 1., 1., 1., 1.,\n",
       "        0., 1., 1., 1., 1., 1., 1., 0., 0., 1., 0., 1., 1., 1., 1., 1., 0.,\n",
       "        1., 1., 0., 1., 1., 1., 1., 1., 0., 1., 1., 1., 0., 1., 1., 0., 1.,\n",
       "        1., 1., 0., 1., 1., 1., 0., 1., 1., 1., 1., 0., 1., 1., 1., 0., 1.,\n",
       "        1., 1., 0., 1., 1., 0., 1., 1., 1., 1., 1., 1., 1., 1., 0., 1., 1.,\n",
       "        0., 1., 1., 0., 1., 0., 0., 1., 0., 1., 1., 1., 1., 1., 1., 1., 1.,\n",
       "        0., 1., 1., 0., 0., 1., 0., 0., 1., 1., 0., 1., 1., 1., 0., 0., 1.,\n",
       "        1., 1., 0., 1., 1., 1., 0., 1., 1., 1., 1., 0., 1., 0., 1., 0., 0.,\n",
       "        1., 1., 1., 1., 0., 0., 1., 1., 1., 1., 1., 1., 1., 1., 0., 1., 1.,\n",
       "        1., 1., 1., 1., 1., 1., 1., 0., 1., 1., 0., 1., 1., 1., 1., 0., 1.,\n",
       "        1., 1., 1., 0., 1., 1., 1., 0., 0., 0., 0., 0., 1., 0., 1., 1., 1.,\n",
       "        0., 1., 1., 1., 1., 1., 1., 1., 1., 0., 1., 1., 0., 0., 0., 1., 1.,\n",
       "        1., 0., 1., 1., 1., 1., 1., 1., 0., 1., 1., 1., 0., 1., 1., 1., 0.,\n",
       "        0., 1., 1., 1., 1., 1., 0., 0., 1., 1., 1., 1., 0., 1., 1., 1., 1.,\n",
       "        1., 1., 1., 1., 1., 1., 0., 0., 1., 1., 0.])}"
      ]
     },
     "execution_count": 120,
     "metadata": {},
     "output_type": "execute_result"
    }
   ],
   "source": [
    "cv = LeaveOneOut()\n",
    "cross_validate(log_clf, X, y, cv=cv)"
   ]
  },
  {
   "cell_type": "code",
   "execution_count": 123,
   "id": "5933bf27-5bcb-4b9a-b836-2276f337e469",
   "metadata": {},
   "outputs": [
    {
     "data": {
      "text/plain": [
       "0.7122507122507122"
      ]
     },
     "execution_count": 123,
     "metadata": {},
     "output_type": "execute_result"
    }
   ],
   "source": [
    "np.mean([0., 0., 0., 1., 1., 1., 1., 0., 1., 0., 1., 1., 1., 1., 1., 1., 0.,\n",
    "        0., 1., 0., 0., 1., 1., 0., 1., 1., 1., 0., 1., 1., 1., 1., 1., 1.,\n",
    "        1., 0., 1., 0., 1., 1., 1., 1., 1., 1., 0., 1., 1., 0., 0., 1., 0.,\n",
    "        0., 1., 1., 1., 1., 1., 1., 1., 0., 1., 1., 1., 1., 1., 1., 0., 1.,\n",
    "        0., 1., 0., 0., 1., 0., 1., 0., 0., 0., 1., 0., 0., 1., 1., 1., 1.,\n",
    "        0., 1., 1., 1., 1., 1., 0., 0., 1., 0., 1., 1., 1., 1., 0., 1., 1.,\n",
    "        1., 1., 1., 0., 1., 1., 1., 1., 1., 1., 0., 0., 1., 1., 1., 1., 1.,\n",
    "        0., 1., 1., 1., 1., 1., 1., 0., 0., 1., 0., 1., 1., 1., 1., 1., 0.,\n",
    "        1., 1., 0., 1., 1., 1., 1., 1., 0., 1., 1., 1., 0., 1., 1., 0., 1.,\n",
    "        1., 1., 0., 1., 1., 1., 0., 1., 1., 1., 1., 0., 1., 1., 1., 0., 1.,\n",
    "        1., 1., 0., 1., 1., 0., 1., 1., 1., 1., 1., 1., 1., 1., 0., 1., 1.,\n",
    "        0., 1., 1., 0., 1., 0., 0., 1., 0., 1., 1., 1., 1., 1., 1., 1., 1.,\n",
    "        0., 1., 1., 0., 0., 1., 0., 0., 1., 1., 0., 1., 1., 1., 0., 0., 1.,\n",
    "        1., 1., 0., 1., 1., 1., 0., 1., 1., 1., 1., 0., 1., 0., 1., 0., 0.,\n",
    "        1., 1., 1., 1., 0., 0., 1., 1., 1., 1., 1., 1., 1., 1., 0., 1., 1.,\n",
    "        1., 1., 1., 1., 1., 1., 1., 0., 1., 1., 0., 1., 1., 1., 1., 0., 1.,\n",
    "        1., 1., 1., 0., 1., 1., 1., 0., 0., 0., 0., 0., 1., 0., 1., 1., 1.,\n",
    "        0., 1., 1., 1., 1., 1., 1., 1., 1., 0., 1., 1., 0., 0., 0., 1., 1.,\n",
    "        1., 0., 1., 1., 1., 1., 1., 1., 0., 1., 1., 1., 0., 1., 1., 1., 0.,\n",
    "        0., 1., 1., 1., 1., 1., 0., 0., 1., 1., 1., 1., 0., 1., 1., 1., 1.,\n",
    "        1., 1., 1., 1., 1., 1., 0., 0., 1., 1., 0.])"
   ]
  },
  {
   "cell_type": "code",
   "execution_count": 119,
   "id": "30dfebd7-ea81-435b-9d09-ca9281a02f17",
   "metadata": {},
   "outputs": [
    {
     "data": {
      "text/plain": [
       "AGE_PERCENTIL                  0.67\n",
       "BLOODPRESSURE_DIASTOLIC_MEAN   0.42\n",
       "PCR_MEDIAN                     0.26\n",
       "LACTATE_MEDIAN                 0.26\n",
       "GENDER                         0.21\n",
       "RESPIRATORY_RATE_MEAN          0.21\n",
       "HTN                            0.21\n",
       "DISEASE GROUPING 1             0.20\n",
       "BLOODPRESSURE_SISTOLIC_MEAN    0.20\n",
       "DIMER_MEDIAN                   0.18\n",
       "SODIUM_MEDIAN                  0.15\n",
       "DISEASE GROUPING 3             0.15\n",
       "DISEASE GROUPING 5             0.13\n",
       "SAT02_VENOUS_MEDIAN            0.13\n",
       "DISEASE GROUPING 4             0.10\n",
       "POTASSIUM_MEDIAN               0.09\n",
       "LINFOCITOS_MEDIAN              0.09\n",
       "DISEASE GROUPING 2             0.08\n",
       "CREATININ_MEDIAN               0.08\n",
       "GLUCOSE_MEDIAN                 0.08\n",
       "BLAST_MEDIAN                   0.07\n",
       "SAT02_ARTERIAL_MEDIAN          0.07\n",
       "OXYGEN_SATURATION_MEAN         0.06\n",
       "CALCIUM_MEDIAN                 0.06\n",
       "OTHER                          0.06\n",
       "AGE_ABOVE65                    0.05\n",
       "BIC_VENOUS_MEDIAN              0.05\n",
       "BLOODPRESSURE_SISTOLIC_DIFF    0.05\n",
       "DISEASE GROUPING 6             0.05\n",
       "BE_VENOUS_MEDIAN               0.05\n",
       "HEMATOCRITE_MEDIAN             0.05\n",
       "ALBUMIN_MEDIAN                 0.04\n",
       "RESPIRATORY_RATE_DIFF          0.04\n",
       "PLATELETS_MEDIAN               0.04\n",
       "PH_VENOUS_MEDIAN               0.04\n",
       "HEART_RATE_MEAN                0.04\n",
       "INR_MEDIAN                     0.03\n",
       "TEMPERATURE_MEAN               0.03\n",
       "LEUKOCYTES_MEDIAN              0.03\n",
       "PC02_VENOUS_MEDIAN             0.03\n",
       "BLOODPRESSURE_DIASTOLIC_DIFF   0.02\n",
       "GGT_MEDIAN                     0.02\n",
       "UREA_MEDIAN                    0.02\n",
       "IMMUNOCOMPROMISED              0.02\n",
       "TEMPERATURE_DIFF               0.02\n",
       "FFA_MEDIAN                     0.02\n",
       "TTPA_MEDIAN                    0.01\n",
       "HEART_RATE_DIFF                0.01\n",
       "P02_VENOUS_MEDIAN              0.01\n",
       "PH_ARTERIAL_MEDIAN             0.01\n",
       "BIC_ARTERIAL_MEDIAN            0.01\n",
       "P02_ARTERIAL_MEDIAN            0.00\n",
       "OXYGEN_SATURATION_DIFF         0.00\n",
       "OXYGEN_SATURATION_DIFF_REL     0.00\n",
       "BILLIRUBIN_MEDIAN              0.00\n",
       "TGO_MEDIAN                     0.00\n",
       "PC02_ARTERIAL_MEDIAN           0.00\n",
       "TGP_MEDIAN                     0.00\n",
       "BE_ARTERIAL_MEDIAN             0.00\n",
       "dtype: float64"
      ]
     },
     "execution_count": 119,
     "metadata": {},
     "output_type": "execute_result"
    }
   ],
   "source": [
    "# One of the simplest options to get a feeling for the \"influence\" of a given parameter in a linear classification model (logistic being one of those), is to consider the magnitude of its coefficient times the standard deviation of the corresponding parameter in the data.\n",
    "(log_clf.coef_[0] * np.std(X_test)).abs().sort_values(ascending=False)"
   ]
  },
  {
   "cell_type": "markdown",
   "id": "0796eb16-149b-439c-8f16-d7d12941efe2",
   "metadata": {},
   "source": [
    "## Random Forest Classifier"
   ]
  },
  {
   "cell_type": "code",
   "execution_count": 57,
   "id": "84cd4bc8-2cdf-48b4-ad7a-4dc7afe43b23",
   "metadata": {},
   "outputs": [
    {
     "data": {
      "text/plain": [
       "RandomForestClassifier(n_estimators=10, random_state=98123)"
      ]
     },
     "execution_count": 57,
     "metadata": {},
     "output_type": "execute_result"
    }
   ],
   "source": [
    "rf_clf = RandomForestClassifier(random_state=rand, n_estimators=10)\n",
    "rf_clf.fit(X_train, y_train)"
   ]
  },
  {
   "cell_type": "code",
   "execution_count": 58,
   "id": "15a31007-e642-4324-990b-d2252f74abb8",
   "metadata": {},
   "outputs": [
    {
     "name": "stdout",
     "output_type": "stream",
     "text": [
      "Dummy Score: 72.73%\n"
     ]
    }
   ],
   "source": [
    "rf_clf_score = accuracy_score(y_test, rf_clf.predict(X_test))\n",
    "print(f'Dummy Score: {(rf_clf_score*100).round(2)}%')"
   ]
  },
  {
   "cell_type": "code",
   "execution_count": 59,
   "id": "0d36baf0-cbbb-4a67-a000-8ae965f529fb",
   "metadata": {},
   "outputs": [
    {
     "data": {
      "text/plain": [
       "<sklearn.metrics._plot.confusion_matrix.ConfusionMatrixDisplay at 0x20421979b20>"
      ]
     },
     "execution_count": 59,
     "metadata": {},
     "output_type": "execute_result"
    },
    {
     "data": {
      "image/png": "[encoded data removed]",
      "text/plain": [
       "<Figure size 432x288 with 2 Axes>"
      ]
     },
     "metadata": {
      "needs_background": "light"
     },
     "output_type": "display_data"
    }
   ],
   "source": [
    "plot_confusion_matrix(rf_clf, X_test, y_test)"
   ]
  },
  {
   "cell_type": "code",
   "execution_count": 60,
   "id": "00046783-9b00-4179-adfc-cabd4454ed9d",
   "metadata": {},
   "outputs": [
    {
     "name": "stdout",
     "output_type": "stream",
     "text": [
      "              precision    recall  f1-score   support\n",
      "\n",
      "           0       0.74      0.74      0.74        47\n",
      "           1       0.71      0.71      0.71        41\n",
      "\n",
      "    accuracy                           0.73        88\n",
      "   macro avg       0.73      0.73      0.73        88\n",
      "weighted avg       0.73      0.73      0.73        88\n",
      "\n"
     ]
    }
   ],
   "source": [
    "print(classification_report(y_test, rf_clf.predict(X_test)))"
   ]
  },
  {
   "cell_type": "code",
   "execution_count": 61,
   "id": "bfbf9c24-063c-4eb9-89f0-0fb9fc439aeb",
   "metadata": {},
   "outputs": [
    {
     "data": {
      "text/plain": [
       "0.7519460300985988"
      ]
     },
     "execution_count": 61,
     "metadata": {},
     "output_type": "execute_result"
    }
   ],
   "source": [
    "rf_clf_prob = rf_clf.predict_proba(X_test)#duas colunas. [0] Prob do resultado ser zero; [1] prob do resultado ser 1\n",
    "\n",
    "roc_auc_score(y_test, rf_clf_prob[:,1])"
   ]
  },
  {
   "cell_type": "code",
   "execution_count": 92,
   "id": "77dee049-8b21-4d44-b6c4-579281531eae",
   "metadata": {},
   "outputs": [
    {
     "name": "stdout",
     "output_type": "stream",
     "text": [
      "AUC Mean: 0.78\n",
      "AUC Std: 0.11\n",
      "AUC CI: 0.56 - 1.0\n"
     ]
    }
   ],
   "source": [
    "z = roda_n_modelo_cv(rf_clf, df=df, n_splits=20, n_repeats=30)"
   ]
  },
  {
   "cell_type": "code",
   "execution_count": 93,
   "id": "f3f813c9-88f4-46ea-a855-4f872df7a3bd",
   "metadata": {},
   "outputs": [
    {
     "data": {
      "text/plain": [
       "(array([  7.,  15.,  17.,  39.,  77., 100., 137., 105.,  69.,  34.]),\n",
       " array([0.425 , 0.4825, 0.54  , 0.5975, 0.655 , 0.7125, 0.77  , 0.8275,\n",
       "        0.885 , 0.9425, 1.    ]),\n",
       " <BarContainer object of 10 artists>)"
      ]
     },
     "execution_count": 93,
     "metadata": {},
     "output_type": "execute_result"
    },
    {
     "data": {
      "image/png": "[encoded data removed]",
      "text/plain": [
       "<Figure size 432x288 with 1 Axes>"
      ]
     },
     "metadata": {
      "needs_background": "light"
     },
     "output_type": "display_data"
    }
   ],
   "source": [
    "plt.hist(z)"
   ]
  },
  {
   "cell_type": "markdown",
   "id": "e2162617-35ce-4e08-98ce-796b0b065040",
   "metadata": {},
   "source": [
    "## LazyPredict"
   ]
  },
  {
   "cell_type": "code",
   "execution_count": null,
   "id": "09692923-d6d6-4528-a8fd-3ddb604b05cc",
   "metadata": {},
   "outputs": [],
   "source": [
    "clf = LazyClassifier(verbose=0, ignore_warnings=True, custom_metric = None)"
   ]
  },
  {
   "cell_type": "code",
   "execution_count": null,
   "id": "6479482a-e7ec-4d2c-98ca-434c410f4328",
   "metadata": {},
   "outputs": [],
   "source": [
    "models, predictions = clf.fit(X_train, X_test, y_train, y_test)"
   ]
  },
  {
   "cell_type": "code",
   "execution_count": null,
   "id": "3a226875-e44d-4312-86a8-972447763be9",
   "metadata": {},
   "outputs": [],
   "source": [
    "print(models)"
   ]
  },
  {
   "cell_type": "code",
   "execution_count": null,
   "id": "ebe921ab-0800-4b92-8866-e150f30d6461",
   "metadata": {},
   "outputs": [],
   "source": []
  }
 ],
 "metadata": {
  "kernelspec": {
   "display_name": "Python 3 (ipykernel)",
   "language": "python",
   "name": "python3"
  },
  "language_info": {
   "codemirror_mode": {
    "name": "ipython",
    "version": 3
   },
   "file_extension": ".py",
   "mimetype": "text/x-python",
   "name": "python",
   "nbconvert_exporter": "python",
   "pygments_lexer": "ipython3",
   "version": "3.9.7"
  }
 },
 "nbformat": 4,
 "nbformat_minor": 5
}
