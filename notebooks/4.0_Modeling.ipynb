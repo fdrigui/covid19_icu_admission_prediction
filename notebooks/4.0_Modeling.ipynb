{
 "cells": [
  {
   "cell_type": "markdown",
   "id": "31f95419-a833-476f-9be6-2e7714ec0132",
   "metadata": {},
   "source": [
    "# Modeling\n",
    "Esse Notebook visa apresentar a etapa de definição do modelo de machine learning usado para fazer a predição da ```ICU```.<br>\n",
    "Após a etapa de *Feature Engineering* os dados estão prontos para serem usados de maneira a auxiliar a classificação.<br>\n",
    "\n",
    "<a name=\"sumario\"></a>\n",
    "# Sumário\n",
    "<!--ts-->\n",
    "   * [Importe das Bibliotecas](#import)\n",
    "   * [Leitura dos dados](#leitura)\n",
    "   * [Escalar o AGE_PERCENTIL](#age)\n",
    "   * [Features com alta correlação](#corr)\n",
    "<!--te-->"
   ]
  },
  {
   "cell_type": "markdown",
   "id": "7706a188-881d-4704-bb25-f43dbc48efd0",
   "metadata": {},
   "source": [
    "<a name=\"import\"></a>\n",
    "# Importe das Bibliotecas"
   ]
  },
  {
   "cell_type": "markdown",
   "id": "2bdc900a-f6a0-4c52-8453-0cdf96946286",
   "metadata": {},
   "source": [
    "## Bibliotecas Externas"
   ]
  },
  {
   "cell_type": "code",
   "execution_count": 27,
   "id": "e06fcffc-4c47-483e-9f8e-227ca8adb3cb",
   "metadata": {},
   "outputs": [],
   "source": [
    "import pandas as pd\n",
    "import numpy as np\n",
    "from sklearn.model_selection import train_test_split\n",
    "from sklearn.ensemble import RandomForestClassifier\n",
    "from sklearn.model_selection import LeaveOneOut\n",
    "from sklearn.model_selection import cross_validate\n",
    "from sklearn.dummy import DummyClassifier\n",
    "from sklearn.model_selection import RepeatedStratifiedKFold"
   ]
  },
  {
   "cell_type": "markdown",
   "id": "bc746c47-5df5-46be-9c18-92c5b23041da",
   "metadata": {},
   "source": [
    "## Bibliotecas Internas"
   ]
  },
  {
   "cell_type": "code",
   "execution_count": 2,
   "id": "d41ca5b5-845c-4d46-aecf-13b56f6a219f",
   "metadata": {},
   "outputs": [],
   "source": [
    "import sys\n",
    "sys.path.insert(1, \"../src/\")\n",
    "from supervised import LazyClassifier\n",
    "from modeling import run_model_cv"
   ]
  },
  {
   "cell_type": "markdown",
   "id": "b258d3e7-6bc6-4d1d-ab72-9148611aed03",
   "metadata": {},
   "source": [
    "-----------------\n",
    "Retornar ao [Sumário](#sumario)"
   ]
  },
  {
   "cell_type": "markdown",
   "id": "bb8c4a28-b613-423b-a01e-5dee0aea51a1",
   "metadata": {},
   "source": [
    "<a name=\"leitura\"></a>\n",
    "# Leitura dos dados\n",
    "Faz a leitura dos dados que serão usados para a modelagem.<br>\n",
    "**```df : pd.DataFrame```** é o DataFrame contendo os dados que já passaram pela etapa de *feature engineering*."
   ]
  },
  {
   "cell_type": "code",
   "execution_count": 3,
   "id": "98094eb8-fa55-46a2-8134-352aa1188481",
   "metadata": {},
   "outputs": [
    {
     "data": {
      "text/html": [
       "<div>\n",
       "<style scoped>\n",
       "    .dataframe tbody tr th:only-of-type {\n",
       "        vertical-align: middle;\n",
       "    }\n",
       "\n",
       "    .dataframe tbody tr th {\n",
       "        vertical-align: top;\n",
       "    }\n",
       "\n",
       "    .dataframe thead th {\n",
       "        text-align: right;\n",
       "    }\n",
       "</style>\n",
       "<table border=\"1\" class=\"dataframe\">\n",
       "  <thead>\n",
       "    <tr style=\"text-align: right;\">\n",
       "      <th></th>\n",
       "      <th>AGE_ABOVE65</th>\n",
       "      <th>AGE_SCALED</th>\n",
       "      <th>DISEASE GROUPING 1</th>\n",
       "      <th>DISEASE GROUPING 3</th>\n",
       "      <th>DISEASE GROUPING 5</th>\n",
       "      <th>HTN</th>\n",
       "      <th>IMMUNOCOMPROMISED</th>\n",
       "      <th>ALBUMIN</th>\n",
       "      <th>BE_VENOUS</th>\n",
       "      <th>FFA</th>\n",
       "      <th>GGT</th>\n",
       "      <th>GLUCOSE</th>\n",
       "      <th>HEMOGLOBIN</th>\n",
       "      <th>LACTATE</th>\n",
       "      <th>LINFOCITOS</th>\n",
       "      <th>NEUTROPHILES</th>\n",
       "      <th>P02_VENOUS</th>\n",
       "      <th>PCR</th>\n",
       "      <th>SAT02_VENOUS</th>\n",
       "      <th>SODIUM</th>\n",
       "      <th>DIMER</th>\n",
       "      <th>BLOODPRESSURE_DIASTOLIC_MEAN</th>\n",
       "      <th>RESPIRATORY_RATE_MEAN</th>\n",
       "      <th>TEMPERATURE_MEAN</th>\n",
       "      <th>BLOODPRESSURE_SISTOLIC_MEDIAN</th>\n",
       "      <th>OXYGEN_SATURATION_MEDIAN</th>\n",
       "      <th>HEART_RATE_MIN</th>\n",
       "      <th>RESPIRATORY_RATE_MIN</th>\n",
       "      <th>BLOODPRESSURE_DIASTOLIC_MAX</th>\n",
       "      <th>BLOODPRESSURE_MAX_MEDIAN_RESIDUAL</th>\n",
       "      <th>HEART_RATE_MAX</th>\n",
       "      <th>OXYGEN_SATURATION_MAX</th>\n",
       "      <th>BLOODPRESSURE_SISTOLIC_DIFF</th>\n",
       "      <th>ICU</th>\n",
       "    </tr>\n",
       "    <tr>\n",
       "      <th>PATIENT_VISIT_IDENTIFIER</th>\n",
       "      <th></th>\n",
       "      <th></th>\n",
       "      <th></th>\n",
       "      <th></th>\n",
       "      <th></th>\n",
       "      <th></th>\n",
       "      <th></th>\n",
       "      <th></th>\n",
       "      <th></th>\n",
       "      <th></th>\n",
       "      <th></th>\n",
       "      <th></th>\n",
       "      <th></th>\n",
       "      <th></th>\n",
       "      <th></th>\n",
       "      <th></th>\n",
       "      <th></th>\n",
       "      <th></th>\n",
       "      <th></th>\n",
       "      <th></th>\n",
       "      <th></th>\n",
       "      <th></th>\n",
       "      <th></th>\n",
       "      <th></th>\n",
       "      <th></th>\n",
       "      <th></th>\n",
       "      <th></th>\n",
       "      <th></th>\n",
       "      <th></th>\n",
       "      <th></th>\n",
       "      <th></th>\n",
       "      <th></th>\n",
       "      <th></th>\n",
       "      <th></th>\n",
       "    </tr>\n",
       "  </thead>\n",
       "  <tbody>\n",
       "    <tr>\n",
       "      <th>0</th>\n",
       "      <td>0</td>\n",
       "      <td>0.11</td>\n",
       "      <td>0.00</td>\n",
       "      <td>0.00</td>\n",
       "      <td>0.00</td>\n",
       "      <td>1.00</td>\n",
       "      <td>0.00</td>\n",
       "      <td>0.61</td>\n",
       "      <td>-1.00</td>\n",
       "      <td>-0.74</td>\n",
       "      <td>-0.96</td>\n",
       "      <td>-0.85</td>\n",
       "      <td>-0.02</td>\n",
       "      <td>1.00</td>\n",
       "      <td>-0.66</td>\n",
       "      <td>-0.79</td>\n",
       "      <td>-0.70</td>\n",
       "      <td>-1.00</td>\n",
       "      <td>0.35</td>\n",
       "      <td>-0.14</td>\n",
       "      <td>-0.97</td>\n",
       "      <td>0.19</td>\n",
       "      <td>-0.39</td>\n",
       "      <td>-0.29</td>\n",
       "      <td>-0.28</td>\n",
       "      <td>0.84</td>\n",
       "      <td>-0.44</td>\n",
       "      <td>-0.29</td>\n",
       "      <td>-0.18</td>\n",
       "      <td>-0.02</td>\n",
       "      <td>-0.67</td>\n",
       "      <td>0.84</td>\n",
       "      <td>-1.00</td>\n",
       "      <td>0</td>\n",
       "    </tr>\n",
       "    <tr>\n",
       "      <th>1</th>\n",
       "      <td>0</td>\n",
       "      <td>0.00</td>\n",
       "      <td>0.00</td>\n",
       "      <td>0.00</td>\n",
       "      <td>0.00</td>\n",
       "      <td>0.00</td>\n",
       "      <td>0.00</td>\n",
       "      <td>0.61</td>\n",
       "      <td>-1.00</td>\n",
       "      <td>-0.74</td>\n",
       "      <td>-0.99</td>\n",
       "      <td>-0.89</td>\n",
       "      <td>-0.17</td>\n",
       "      <td>1.00</td>\n",
       "      <td>-0.58</td>\n",
       "      <td>-0.89</td>\n",
       "      <td>-0.70</td>\n",
       "      <td>-0.95</td>\n",
       "      <td>0.35</td>\n",
       "      <td>-0.03</td>\n",
       "      <td>-0.98</td>\n",
       "      <td>0.19</td>\n",
       "      <td>-0.46</td>\n",
       "      <td>-0.11</td>\n",
       "      <td>-0.52</td>\n",
       "      <td>1.00</td>\n",
       "      <td>-0.32</td>\n",
       "      <td>-0.36</td>\n",
       "      <td>-0.18</td>\n",
       "      <td>-0.02</td>\n",
       "      <td>-0.57</td>\n",
       "      <td>1.00</td>\n",
       "      <td>-1.00</td>\n",
       "      <td>0</td>\n",
       "    </tr>\n",
       "    <tr>\n",
       "      <th>2</th>\n",
       "      <td>0</td>\n",
       "      <td>0.22</td>\n",
       "      <td>0.00</td>\n",
       "      <td>0.00</td>\n",
       "      <td>0.00</td>\n",
       "      <td>0.00</td>\n",
       "      <td>0.00</td>\n",
       "      <td>0.61</td>\n",
       "      <td>-0.86</td>\n",
       "      <td>-0.74</td>\n",
       "      <td>-0.96</td>\n",
       "      <td>-0.21</td>\n",
       "      <td>0.07</td>\n",
       "      <td>1.00</td>\n",
       "      <td>-0.82</td>\n",
       "      <td>-0.95</td>\n",
       "      <td>-0.66</td>\n",
       "      <td>-0.96</td>\n",
       "      <td>0.48</td>\n",
       "      <td>0.07</td>\n",
       "      <td>-0.98</td>\n",
       "      <td>0.09</td>\n",
       "      <td>-0.53</td>\n",
       "      <td>0.40</td>\n",
       "      <td>-0.38</td>\n",
       "      <td>0.68</td>\n",
       "      <td>-0.32</td>\n",
       "      <td>-0.43</td>\n",
       "      <td>-0.25</td>\n",
       "      <td>-0.02</td>\n",
       "      <td>-0.57</td>\n",
       "      <td>0.68</td>\n",
       "      <td>-1.00</td>\n",
       "      <td>0</td>\n",
       "    </tr>\n",
       "    <tr>\n",
       "      <th>3</th>\n",
       "      <td>0</td>\n",
       "      <td>0.00</td>\n",
       "      <td>0.00</td>\n",
       "      <td>0.00</td>\n",
       "      <td>0.00</td>\n",
       "      <td>0.00</td>\n",
       "      <td>0.00</td>\n",
       "      <td>0.61</td>\n",
       "      <td>-1.00</td>\n",
       "      <td>-0.74</td>\n",
       "      <td>-0.96</td>\n",
       "      <td>-0.89</td>\n",
       "      <td>-0.27</td>\n",
       "      <td>1.00</td>\n",
       "      <td>-0.48</td>\n",
       "      <td>-0.92</td>\n",
       "      <td>-0.70</td>\n",
       "      <td>-0.98</td>\n",
       "      <td>0.35</td>\n",
       "      <td>0.07</td>\n",
       "      <td>-0.99</td>\n",
       "      <td>-0.16</td>\n",
       "      <td>-0.53</td>\n",
       "      <td>-0.14</td>\n",
       "      <td>-0.69</td>\n",
       "      <td>0.95</td>\n",
       "      <td>-0.25</td>\n",
       "      <td>-0.43</td>\n",
       "      <td>-0.42</td>\n",
       "      <td>-0.02</td>\n",
       "      <td>-0.51</td>\n",
       "      <td>0.95</td>\n",
       "      <td>-1.00</td>\n",
       "      <td>0</td>\n",
       "    </tr>\n",
       "    <tr>\n",
       "      <th>4</th>\n",
       "      <td>1</td>\n",
       "      <td>0.78</td>\n",
       "      <td>0.00</td>\n",
       "      <td>0.00</td>\n",
       "      <td>1.00</td>\n",
       "      <td>0.00</td>\n",
       "      <td>1.00</td>\n",
       "      <td>0.00</td>\n",
       "      <td>-0.88</td>\n",
       "      <td>-0.68</td>\n",
       "      <td>-0.75</td>\n",
       "      <td>-0.81</td>\n",
       "      <td>-0.48</td>\n",
       "      <td>-0.79</td>\n",
       "      <td>-0.80</td>\n",
       "      <td>-0.89</td>\n",
       "      <td>-0.92</td>\n",
       "      <td>-0.44</td>\n",
       "      <td>-0.70</td>\n",
       "      <td>0.07</td>\n",
       "      <td>-0.98</td>\n",
       "      <td>0.90</td>\n",
       "      <td>-0.17</td>\n",
       "      <td>0.14</td>\n",
       "      <td>-0.34</td>\n",
       "      <td>0.79</td>\n",
       "      <td>-0.04</td>\n",
       "      <td>-0.43</td>\n",
       "      <td>0.32</td>\n",
       "      <td>-0.02</td>\n",
       "      <td>-0.33</td>\n",
       "      <td>0.79</td>\n",
       "      <td>-1.00</td>\n",
       "      <td>1</td>\n",
       "    </tr>\n",
       "  </tbody>\n",
       "</table>\n",
       "</div>"
      ],
      "text/plain": [
       "                          AGE_ABOVE65  AGE_SCALED  DISEASE GROUPING 1  \\\n",
       "PATIENT_VISIT_IDENTIFIER                                                \n",
       "0                                   0        0.11                0.00   \n",
       "1                                   0        0.00                0.00   \n",
       "2                                   0        0.22                0.00   \n",
       "3                                   0        0.00                0.00   \n",
       "4                                   1        0.78                0.00   \n",
       "\n",
       "                          DISEASE GROUPING 3  DISEASE GROUPING 5  HTN  \\\n",
       "PATIENT_VISIT_IDENTIFIER                                                \n",
       "0                                       0.00                0.00 1.00   \n",
       "1                                       0.00                0.00 0.00   \n",
       "2                                       0.00                0.00 0.00   \n",
       "3                                       0.00                0.00 0.00   \n",
       "4                                       0.00                1.00 0.00   \n",
       "\n",
       "                          IMMUNOCOMPROMISED  ALBUMIN  BE_VENOUS   FFA   GGT  \\\n",
       "PATIENT_VISIT_IDENTIFIER                                                      \n",
       "0                                      0.00     0.61      -1.00 -0.74 -0.96   \n",
       "1                                      0.00     0.61      -1.00 -0.74 -0.99   \n",
       "2                                      0.00     0.61      -0.86 -0.74 -0.96   \n",
       "3                                      0.00     0.61      -1.00 -0.74 -0.96   \n",
       "4                                      1.00     0.00      -0.88 -0.68 -0.75   \n",
       "\n",
       "                          GLUCOSE  HEMOGLOBIN  LACTATE  LINFOCITOS  \\\n",
       "PATIENT_VISIT_IDENTIFIER                                             \n",
       "0                           -0.85       -0.02     1.00       -0.66   \n",
       "1                           -0.89       -0.17     1.00       -0.58   \n",
       "2                           -0.21        0.07     1.00       -0.82   \n",
       "3                           -0.89       -0.27     1.00       -0.48   \n",
       "4                           -0.81       -0.48    -0.79       -0.80   \n",
       "\n",
       "                          NEUTROPHILES  P02_VENOUS   PCR  SAT02_VENOUS  \\\n",
       "PATIENT_VISIT_IDENTIFIER                                                 \n",
       "0                                -0.79       -0.70 -1.00          0.35   \n",
       "1                                -0.89       -0.70 -0.95          0.35   \n",
       "2                                -0.95       -0.66 -0.96          0.48   \n",
       "3                                -0.92       -0.70 -0.98          0.35   \n",
       "4                                -0.89       -0.92 -0.44         -0.70   \n",
       "\n",
       "                          SODIUM  DIMER  BLOODPRESSURE_DIASTOLIC_MEAN  \\\n",
       "PATIENT_VISIT_IDENTIFIER                                                \n",
       "0                          -0.14  -0.97                          0.19   \n",
       "1                          -0.03  -0.98                          0.19   \n",
       "2                           0.07  -0.98                          0.09   \n",
       "3                           0.07  -0.99                         -0.16   \n",
       "4                           0.07  -0.98                          0.90   \n",
       "\n",
       "                          RESPIRATORY_RATE_MEAN  TEMPERATURE_MEAN  \\\n",
       "PATIENT_VISIT_IDENTIFIER                                            \n",
       "0                                         -0.39             -0.29   \n",
       "1                                         -0.46             -0.11   \n",
       "2                                         -0.53              0.40   \n",
       "3                                         -0.53             -0.14   \n",
       "4                                         -0.17              0.14   \n",
       "\n",
       "                          BLOODPRESSURE_SISTOLIC_MEDIAN  \\\n",
       "PATIENT_VISIT_IDENTIFIER                                  \n",
       "0                                                 -0.28   \n",
       "1                                                 -0.52   \n",
       "2                                                 -0.38   \n",
       "3                                                 -0.69   \n",
       "4                                                 -0.34   \n",
       "\n",
       "                          OXYGEN_SATURATION_MEDIAN  HEART_RATE_MIN  \\\n",
       "PATIENT_VISIT_IDENTIFIER                                             \n",
       "0                                             0.84           -0.44   \n",
       "1                                             1.00           -0.32   \n",
       "2                                             0.68           -0.32   \n",
       "3                                             0.95           -0.25   \n",
       "4                                             0.79           -0.04   \n",
       "\n",
       "                          RESPIRATORY_RATE_MIN  BLOODPRESSURE_DIASTOLIC_MAX  \\\n",
       "PATIENT_VISIT_IDENTIFIER                                                      \n",
       "0                                        -0.29                        -0.18   \n",
       "1                                        -0.36                        -0.18   \n",
       "2                                        -0.43                        -0.25   \n",
       "3                                        -0.43                        -0.42   \n",
       "4                                        -0.43                         0.32   \n",
       "\n",
       "                          BLOODPRESSURE_MAX_MEDIAN_RESIDUAL  HEART_RATE_MAX  \\\n",
       "PATIENT_VISIT_IDENTIFIER                                                      \n",
       "0                                                     -0.02           -0.67   \n",
       "1                                                     -0.02           -0.57   \n",
       "2                                                     -0.02           -0.57   \n",
       "3                                                     -0.02           -0.51   \n",
       "4                                                     -0.02           -0.33   \n",
       "\n",
       "                          OXYGEN_SATURATION_MAX  BLOODPRESSURE_SISTOLIC_DIFF  \\\n",
       "PATIENT_VISIT_IDENTIFIER                                                       \n",
       "0                                          0.84                        -1.00   \n",
       "1                                          1.00                        -1.00   \n",
       "2                                          0.68                        -1.00   \n",
       "3                                          0.95                        -1.00   \n",
       "4                                          0.79                        -1.00   \n",
       "\n",
       "                          ICU  \n",
       "PATIENT_VISIT_IDENTIFIER       \n",
       "0                           0  \n",
       "1                           0  \n",
       "2                           0  \n",
       "3                           0  \n",
       "4                           1  "
      ]
     },
     "execution_count": 3,
     "metadata": {},
     "output_type": "execute_result"
    }
   ],
   "source": [
    "# Leitura do raw data desse  projeto no Github\n",
    "df = pd.read_csv('../data/processed/df_featured.csv', index_col='Unnamed: 0')\n",
    "df.index.names = ['PATIENT_VISIT_IDENTIFIER']\n",
    "\n",
    "# Imprime na tela todas as colunas em vez de as 10 primeiras e 10 ultimas\n",
    "pd.set_option('max_columns', df.shape[1])\n",
    "df.head()"
   ]
  },
  {
   "cell_type": "markdown",
   "id": "ad46ff39-ce78-46b3-a14d-11a03e39b33f",
   "metadata": {},
   "source": [
    "# Métrica de avaliação:\n",
    "A métrica de avaliação utilizada para determinar o modelo de machine learning será o **ROC AUC**.<br>\n",
    "* **ROC** do inglês *Receiver Operating Characteristics* é uma curva plotada entre os eixos *Taxa de Verdadeiros Positivos* e a *Taxa de Falsos Positivos*. Essa métrica mede o quanto o modelo consegue separar o binômio de saída entre suas duas classes (```ICU = 0``` e ```ICU = 1```).\n",
    "* **AUC** do inglês *Area Under the Curve* é a maneira de resumir a curva **ROC** em um único valor real, de maneira a facilitar a comparação com outros modelos. Seria o mesmo que calcular a inegral do ROC<br>\n",
    "* **ROC AUC**<br>\n",
    "    * O valor será próximo de 0.5 se o modelo não tiver capacidade de separar as variáveis de saída em suas respectivas classes. Imagine que o modelo Tem 50% de verdadeiro positivo e 50% de falso positivo, ou seja, acerta em 50% das tentativas.\n",
    "    * Quanto mais o valor se aproxima de 1.0, mais capacidade o modelo tem de separar os dois grupos, ou classes, acertando muito mais os Verdadeiros Positivos que errando.\n",
    "    * O inverso também é verdadeiro. Quanto mais o valor se aproxima de 0, significa que o modelo também tem a capacidade de separar o binômio de saída em dois grupos, só que nesse caso, errando muito, pois teria um valor de Falsos Verdadeiros muito grande. Como a saída tem 2 estados, sendo 0 ou 1, poderia ser usado o inverso (NOT) da resposta e ainda assim o modelo acertaria bastante."
   ]
  },
  {
   "cell_type": "markdown",
   "id": "1f408fcf-b68a-4f41-9ea9-6498af4f7297",
   "metadata": {},
   "source": [
    "# Dummy Classifier\n",
    "Essa etapa visa criar um modelo genérico que faz predições dos dados de entrada usando regras bem simples. Ter um modelo \"bobo\" que usa uma regra simples é importante para avaliar o modelo final, pois se espera do modelo a ser implementado que ao menos seja melhor que escolher aleatóriamente entre as alternativas de saída, ou então \"chutar\" a alternativa de saída mais comum."
   ]
  },
  {
   "cell_type": "code",
   "execution_count": 6,
   "id": "2c354365-df8d-4518-88b8-32d0b26ffb96",
   "metadata": {},
   "outputs": [
    {
     "name": "stdout",
     "output_type": "stream",
     "text": [
      "DummyClassifier: AUC Mean: 0.5, AUC Std: 0.0, AUC CI: 0.5 - 0.5\n"
     ]
    }
   ],
   "source": [
    "run_model_cv('DummyClassifier', DummyClassifier, df, 7, 10)"
   ]
  },
  {
   "cell_type": "markdown",
   "id": "c6a3a1ea-67ad-4174-9681-f6080a118b2a",
   "metadata": {},
   "source": [
    "Vemos que o DummyClassifier encontrou um ROC AUC Médio de **0.5**, logo, essa deve ser a meta inicial a ser batida."
   ]
  },
  {
   "cell_type": "code",
   "execution_count": 41,
   "id": "ec7a46c7-b895-4059-8b99-503dd7cefce8",
   "metadata": {},
   "outputs": [
    {
     "name": "stdout",
     "output_type": "stream",
     "text": [
      "RandomForestClassifier: AUC Mean: 0.81, AUC Std: 0.219, AUC CI: 0.37 - 1.25\n"
     ]
    }
   ],
   "source": [
    "run_model_cv('RandomForestClassifier', RandomForestClassifier, df, 70, 5)"
   ]
  },
  {
   "cell_type": "code",
   "execution_count": 42,
   "id": "416d5a6e-fe9a-45e4-8aca-d00465dd9e58",
   "metadata": {},
   "outputs": [
    {
     "name": "stdout",
     "output_type": "stream",
     "text": [
      "RandomForestClassifier: AUC Mean: 0.8, AUC Std: 0.051, AUC CI: 0.7 - 0.9\n"
     ]
    }
   ],
   "source": [
    "run_model_cv('RandomForestClassifier', RandomForestClassifier, df, 5, 5)"
   ]
  },
  {
   "cell_type": "code",
   "execution_count": 45,
   "id": "f2e79b18-00c9-48f8-bb9f-19621bb1db5d",
   "metadata": {},
   "outputs": [
    {
     "name": "stdout",
     "output_type": "stream",
     "text": [
      "0\n"
     ]
    },
    {
     "name": "stderr",
     "output_type": "stream",
     "text": [
      "100%|██████████████████████████████████████████████████████████████████████████████████| 29/29 [00:01<00:00, 23.58it/s]\n"
     ]
    },
    {
     "name": "stdout",
     "output_type": "stream",
     "text": [
      "[19:10:50] WARNING: ..\\src\\learner.cc:1061: Starting in XGBoost 1.3.0, the default evaluation metric used with the objective 'binary:logistic' was changed from 'error' to 'logloss'. Explicitly set eval_metric if you'd like to restore the old behavior.\n",
      "1\n"
     ]
    },
    {
     "name": "stderr",
     "output_type": "stream",
     "text": [
      "100%|██████████████████████████████████████████████████████████████████████████████████| 29/29 [00:01<00:00, 23.01it/s]\n"
     ]
    },
    {
     "name": "stdout",
     "output_type": "stream",
     "text": [
      "[19:10:52] WARNING: ..\\src\\learner.cc:1061: Starting in XGBoost 1.3.0, the default evaluation metric used with the objective 'binary:logistic' was changed from 'error' to 'logloss'. Explicitly set eval_metric if you'd like to restore the old behavior.\n",
      "2\n"
     ]
    },
    {
     "name": "stderr",
     "output_type": "stream",
     "text": [
      "100%|██████████████████████████████████████████████████████████████████████████████████| 29/29 [00:01<00:00, 24.03it/s]\n"
     ]
    },
    {
     "name": "stdout",
     "output_type": "stream",
     "text": [
      "[19:10:53] WARNING: ..\\src\\learner.cc:1061: Starting in XGBoost 1.3.0, the default evaluation metric used with the objective 'binary:logistic' was changed from 'error' to 'logloss'. Explicitly set eval_metric if you'd like to restore the old behavior.\n",
      "3\n"
     ]
    },
    {
     "name": "stderr",
     "output_type": "stream",
     "text": [
      "100%|██████████████████████████████████████████████████████████████████████████████████| 29/29 [00:01<00:00, 22.21it/s]\n"
     ]
    },
    {
     "name": "stdout",
     "output_type": "stream",
     "text": [
      "[19:10:54] WARNING: ..\\src\\learner.cc:1061: Starting in XGBoost 1.3.0, the default evaluation metric used with the objective 'binary:logistic' was changed from 'error' to 'logloss'. Explicitly set eval_metric if you'd like to restore the old behavior.\n",
      "4\n"
     ]
    },
    {
     "name": "stderr",
     "output_type": "stream",
     "text": [
      "100%|██████████████████████████████████████████████████████████████████████████████████| 29/29 [00:01<00:00, 23.99it/s]\n"
     ]
    },
    {
     "name": "stdout",
     "output_type": "stream",
     "text": [
      "[19:10:55] WARNING: ..\\src\\learner.cc:1061: Starting in XGBoost 1.3.0, the default evaluation metric used with the objective 'binary:logistic' was changed from 'error' to 'logloss'. Explicitly set eval_metric if you'd like to restore the old behavior.\n",
      "5\n"
     ]
    },
    {
     "name": "stderr",
     "output_type": "stream",
     "text": [
      "100%|██████████████████████████████████████████████████████████████████████████████████| 29/29 [00:01<00:00, 24.92it/s]\n"
     ]
    },
    {
     "name": "stdout",
     "output_type": "stream",
     "text": [
      "[19:10:57] WARNING: ..\\src\\learner.cc:1061: Starting in XGBoost 1.3.0, the default evaluation metric used with the objective 'binary:logistic' was changed from 'error' to 'logloss'. Explicitly set eval_metric if you'd like to restore the old behavior.\n",
      "6\n"
     ]
    },
    {
     "name": "stderr",
     "output_type": "stream",
     "text": [
      "100%|██████████████████████████████████████████████████████████████████████████████████| 29/29 [00:01<00:00, 24.67it/s]\n"
     ]
    },
    {
     "name": "stdout",
     "output_type": "stream",
     "text": [
      "[19:10:58] WARNING: ..\\src\\learner.cc:1061: Starting in XGBoost 1.3.0, the default evaluation metric used with the objective 'binary:logistic' was changed from 'error' to 'logloss'. Explicitly set eval_metric if you'd like to restore the old behavior.\n",
      "7\n"
     ]
    },
    {
     "name": "stderr",
     "output_type": "stream",
     "text": [
      "100%|██████████████████████████████████████████████████████████████████████████████████| 29/29 [00:01<00:00, 18.10it/s]\n"
     ]
    },
    {
     "name": "stdout",
     "output_type": "stream",
     "text": [
      "[19:10:59] WARNING: ..\\src\\learner.cc:1061: Starting in XGBoost 1.3.0, the default evaluation metric used with the objective 'binary:logistic' was changed from 'error' to 'logloss'. Explicitly set eval_metric if you'd like to restore the old behavior.\n",
      "8\n"
     ]
    },
    {
     "name": "stderr",
     "output_type": "stream",
     "text": [
      "100%|██████████████████████████████████████████████████████████████████████████████████| 29/29 [00:01<00:00, 21.84it/s]\n"
     ]
    },
    {
     "name": "stdout",
     "output_type": "stream",
     "text": [
      "[19:11:01] WARNING: ..\\src\\learner.cc:1061: Starting in XGBoost 1.3.0, the default evaluation metric used with the objective 'binary:logistic' was changed from 'error' to 'logloss'. Explicitly set eval_metric if you'd like to restore the old behavior.\n",
      "9\n"
     ]
    },
    {
     "name": "stderr",
     "output_type": "stream",
     "text": [
      "100%|██████████████████████████████████████████████████████████████████████████████████| 29/29 [00:01<00:00, 23.26it/s]\n"
     ]
    },
    {
     "name": "stdout",
     "output_type": "stream",
     "text": [
      "[19:11:02] WARNING: ..\\src\\learner.cc:1061: Starting in XGBoost 1.3.0, the default evaluation metric used with the objective 'binary:logistic' was changed from 'error' to 'logloss'. Explicitly set eval_metric if you'd like to restore the old behavior.\n",
      "10\n"
     ]
    },
    {
     "name": "stderr",
     "output_type": "stream",
     "text": [
      "100%|██████████████████████████████████████████████████████████████████████████████████| 29/29 [00:01<00:00, 20.96it/s]\n"
     ]
    },
    {
     "name": "stdout",
     "output_type": "stream",
     "text": [
      "[19:11:03] WARNING: ..\\src\\learner.cc:1061: Starting in XGBoost 1.3.0, the default evaluation metric used with the objective 'binary:logistic' was changed from 'error' to 'logloss'. Explicitly set eval_metric if you'd like to restore the old behavior.\n",
      "11\n"
     ]
    },
    {
     "name": "stderr",
     "output_type": "stream",
     "text": [
      "100%|██████████████████████████████████████████████████████████████████████████████████| 29/29 [00:01<00:00, 21.48it/s]\n"
     ]
    },
    {
     "name": "stdout",
     "output_type": "stream",
     "text": [
      "[19:11:05] WARNING: ..\\src\\learner.cc:1061: Starting in XGBoost 1.3.0, the default evaluation metric used with the objective 'binary:logistic' was changed from 'error' to 'logloss'. Explicitly set eval_metric if you'd like to restore the old behavior.\n",
      "12\n"
     ]
    },
    {
     "name": "stderr",
     "output_type": "stream",
     "text": [
      "100%|██████████████████████████████████████████████████████████████████████████████████| 29/29 [00:01<00:00, 22.67it/s]\n"
     ]
    },
    {
     "name": "stdout",
     "output_type": "stream",
     "text": [
      "[19:11:06] WARNING: ..\\src\\learner.cc:1061: Starting in XGBoost 1.3.0, the default evaluation metric used with the objective 'binary:logistic' was changed from 'error' to 'logloss'. Explicitly set eval_metric if you'd like to restore the old behavior.\n",
      "13\n"
     ]
    },
    {
     "name": "stderr",
     "output_type": "stream",
     "text": [
      "100%|██████████████████████████████████████████████████████████████████████████████████| 29/29 [00:01<00:00, 21.37it/s]\n"
     ]
    },
    {
     "name": "stdout",
     "output_type": "stream",
     "text": [
      "[19:11:07] WARNING: ..\\src\\learner.cc:1061: Starting in XGBoost 1.3.0, the default evaluation metric used with the objective 'binary:logistic' was changed from 'error' to 'logloss'. Explicitly set eval_metric if you'd like to restore the old behavior.\n",
      "14\n"
     ]
    },
    {
     "name": "stderr",
     "output_type": "stream",
     "text": [
      "100%|██████████████████████████████████████████████████████████████████████████████████| 29/29 [00:01<00:00, 21.57it/s]\n"
     ]
    },
    {
     "name": "stdout",
     "output_type": "stream",
     "text": [
      "[19:11:09] WARNING: ..\\src\\learner.cc:1061: Starting in XGBoost 1.3.0, the default evaluation metric used with the objective 'binary:logistic' was changed from 'error' to 'logloss'. Explicitly set eval_metric if you'd like to restore the old behavior.\n",
      "15\n"
     ]
    },
    {
     "name": "stderr",
     "output_type": "stream",
     "text": [
      "100%|██████████████████████████████████████████████████████████████████████████████████| 29/29 [00:01<00:00, 18.38it/s]\n"
     ]
    },
    {
     "name": "stdout",
     "output_type": "stream",
     "text": [
      "[19:11:10] WARNING: ..\\src\\learner.cc:1061: Starting in XGBoost 1.3.0, the default evaluation metric used with the objective 'binary:logistic' was changed from 'error' to 'logloss'. Explicitly set eval_metric if you'd like to restore the old behavior.\n",
      "16\n"
     ]
    },
    {
     "name": "stderr",
     "output_type": "stream",
     "text": [
      "100%|██████████████████████████████████████████████████████████████████████████████████| 29/29 [00:01<00:00, 20.42it/s]\n"
     ]
    },
    {
     "name": "stdout",
     "output_type": "stream",
     "text": [
      "[19:11:12] WARNING: ..\\src\\learner.cc:1061: Starting in XGBoost 1.3.0, the default evaluation metric used with the objective 'binary:logistic' was changed from 'error' to 'logloss'. Explicitly set eval_metric if you'd like to restore the old behavior.\n",
      "17\n"
     ]
    },
    {
     "name": "stderr",
     "output_type": "stream",
     "text": [
      "100%|██████████████████████████████████████████████████████████████████████████████████| 29/29 [00:01<00:00, 21.53it/s]\n"
     ]
    },
    {
     "name": "stdout",
     "output_type": "stream",
     "text": [
      "[19:11:13] WARNING: ..\\src\\learner.cc:1061: Starting in XGBoost 1.3.0, the default evaluation metric used with the objective 'binary:logistic' was changed from 'error' to 'logloss'. Explicitly set eval_metric if you'd like to restore the old behavior.\n",
      "18\n"
     ]
    },
    {
     "name": "stderr",
     "output_type": "stream",
     "text": [
      "100%|██████████████████████████████████████████████████████████████████████████████████| 29/29 [00:01<00:00, 20.32it/s]\n"
     ]
    },
    {
     "name": "stdout",
     "output_type": "stream",
     "text": [
      "[19:11:15] WARNING: ..\\src\\learner.cc:1061: Starting in XGBoost 1.3.0, the default evaluation metric used with the objective 'binary:logistic' was changed from 'error' to 'logloss'. Explicitly set eval_metric if you'd like to restore the old behavior.\n",
      "19\n"
     ]
    },
    {
     "name": "stderr",
     "output_type": "stream",
     "text": [
      "100%|██████████████████████████████████████████████████████████████████████████████████| 29/29 [00:01<00:00, 18.22it/s]\n"
     ]
    },
    {
     "name": "stdout",
     "output_type": "stream",
     "text": [
      "[19:11:16] WARNING: ..\\src\\learner.cc:1061: Starting in XGBoost 1.3.0, the default evaluation metric used with the objective 'binary:logistic' was changed from 'error' to 'logloss'. Explicitly set eval_metric if you'd like to restore the old behavior.\n",
      "20\n"
     ]
    },
    {
     "name": "stderr",
     "output_type": "stream",
     "text": [
      "100%|██████████████████████████████████████████████████████████████████████████████████| 29/29 [00:01<00:00, 20.72it/s]\n"
     ]
    },
    {
     "name": "stdout",
     "output_type": "stream",
     "text": [
      "[19:11:18] WARNING: ..\\src\\learner.cc:1061: Starting in XGBoost 1.3.0, the default evaluation metric used with the objective 'binary:logistic' was changed from 'error' to 'logloss'. Explicitly set eval_metric if you'd like to restore the old behavior.\n",
      "21\n"
     ]
    },
    {
     "name": "stderr",
     "output_type": "stream",
     "text": [
      "100%|██████████████████████████████████████████████████████████████████████████████████| 29/29 [00:01<00:00, 18.95it/s]\n"
     ]
    },
    {
     "name": "stdout",
     "output_type": "stream",
     "text": [
      "[19:11:19] WARNING: ..\\src\\learner.cc:1061: Starting in XGBoost 1.3.0, the default evaluation metric used with the objective 'binary:logistic' was changed from 'error' to 'logloss'. Explicitly set eval_metric if you'd like to restore the old behavior.\n",
      "22\n"
     ]
    },
    {
     "name": "stderr",
     "output_type": "stream",
     "text": [
      "100%|██████████████████████████████████████████████████████████████████████████████████| 29/29 [00:01<00:00, 18.36it/s]\n"
     ]
    },
    {
     "name": "stdout",
     "output_type": "stream",
     "text": [
      "[19:11:21] WARNING: ..\\src\\learner.cc:1061: Starting in XGBoost 1.3.0, the default evaluation metric used with the objective 'binary:logistic' was changed from 'error' to 'logloss'. Explicitly set eval_metric if you'd like to restore the old behavior.\n",
      "23\n"
     ]
    },
    {
     "name": "stderr",
     "output_type": "stream",
     "text": [
      "100%|██████████████████████████████████████████████████████████████████████████████████| 29/29 [00:01<00:00, 19.72it/s]\n"
     ]
    },
    {
     "name": "stdout",
     "output_type": "stream",
     "text": [
      "[19:11:22] WARNING: ..\\src\\learner.cc:1061: Starting in XGBoost 1.3.0, the default evaluation metric used with the objective 'binary:logistic' was changed from 'error' to 'logloss'. Explicitly set eval_metric if you'd like to restore the old behavior.\n",
      "24\n"
     ]
    },
    {
     "name": "stderr",
     "output_type": "stream",
     "text": [
      "100%|██████████████████████████████████████████████████████████████████████████████████| 29/29 [00:01<00:00, 20.39it/s]\n"
     ]
    },
    {
     "name": "stdout",
     "output_type": "stream",
     "text": [
      "[19:11:24] WARNING: ..\\src\\learner.cc:1061: Starting in XGBoost 1.3.0, the default evaluation metric used with the objective 'binary:logistic' was changed from 'error' to 'logloss'. Explicitly set eval_metric if you'd like to restore the old behavior.\n",
      "25\n"
     ]
    },
    {
     "name": "stderr",
     "output_type": "stream",
     "text": [
      "100%|██████████████████████████████████████████████████████████████████████████████████| 29/29 [00:01<00:00, 19.08it/s]\n"
     ]
    },
    {
     "name": "stdout",
     "output_type": "stream",
     "text": [
      "[19:11:25] WARNING: ..\\src\\learner.cc:1061: Starting in XGBoost 1.3.0, the default evaluation metric used with the objective 'binary:logistic' was changed from 'error' to 'logloss'. Explicitly set eval_metric if you'd like to restore the old behavior.\n",
      "26\n"
     ]
    },
    {
     "name": "stderr",
     "output_type": "stream",
     "text": [
      "100%|██████████████████████████████████████████████████████████████████████████████████| 29/29 [00:01<00:00, 21.18it/s]\n"
     ]
    },
    {
     "name": "stdout",
     "output_type": "stream",
     "text": [
      "[19:11:27] WARNING: ..\\src\\learner.cc:1061: Starting in XGBoost 1.3.0, the default evaluation metric used with the objective 'binary:logistic' was changed from 'error' to 'logloss'. Explicitly set eval_metric if you'd like to restore the old behavior.\n",
      "27\n"
     ]
    },
    {
     "name": "stderr",
     "output_type": "stream",
     "text": [
      "100%|██████████████████████████████████████████████████████████████████████████████████| 29/29 [00:01<00:00, 21.86it/s]\n"
     ]
    },
    {
     "name": "stdout",
     "output_type": "stream",
     "text": [
      "[19:11:28] WARNING: ..\\src\\learner.cc:1061: Starting in XGBoost 1.3.0, the default evaluation metric used with the objective 'binary:logistic' was changed from 'error' to 'logloss'. Explicitly set eval_metric if you'd like to restore the old behavior.\n",
      "28\n"
     ]
    },
    {
     "name": "stderr",
     "output_type": "stream",
     "text": [
      "100%|██████████████████████████████████████████████████████████████████████████████████| 29/29 [00:01<00:00, 20.68it/s]\n"
     ]
    },
    {
     "name": "stdout",
     "output_type": "stream",
     "text": [
      "[19:11:29] WARNING: ..\\src\\learner.cc:1061: Starting in XGBoost 1.3.0, the default evaluation metric used with the objective 'binary:logistic' was changed from 'error' to 'logloss'. Explicitly set eval_metric if you'd like to restore the old behavior.\n",
      "29\n"
     ]
    },
    {
     "name": "stderr",
     "output_type": "stream",
     "text": [
      "100%|██████████████████████████████████████████████████████████████████████████████████| 29/29 [00:01<00:00, 19.53it/s]\n"
     ]
    },
    {
     "name": "stdout",
     "output_type": "stream",
     "text": [
      "[19:11:31] WARNING: ..\\src\\learner.cc:1061: Starting in XGBoost 1.3.0, the default evaluation metric used with the objective 'binary:logistic' was changed from 'error' to 'logloss'. Explicitly set eval_metric if you'd like to restore the old behavior.\n",
      "30\n"
     ]
    },
    {
     "name": "stderr",
     "output_type": "stream",
     "text": [
      "100%|██████████████████████████████████████████████████████████████████████████████████| 29/29 [00:01<00:00, 22.07it/s]\n"
     ]
    },
    {
     "name": "stdout",
     "output_type": "stream",
     "text": [
      "[19:11:32] WARNING: ..\\src\\learner.cc:1061: Starting in XGBoost 1.3.0, the default evaluation metric used with the objective 'binary:logistic' was changed from 'error' to 'logloss'. Explicitly set eval_metric if you'd like to restore the old behavior.\n",
      "31\n"
     ]
    },
    {
     "name": "stderr",
     "output_type": "stream",
     "text": [
      "100%|██████████████████████████████████████████████████████████████████████████████████| 29/29 [00:01<00:00, 24.82it/s]\n"
     ]
    },
    {
     "name": "stdout",
     "output_type": "stream",
     "text": [
      "[19:11:33] WARNING: ..\\src\\learner.cc:1061: Starting in XGBoost 1.3.0, the default evaluation metric used with the objective 'binary:logistic' was changed from 'error' to 'logloss'. Explicitly set eval_metric if you'd like to restore the old behavior.\n",
      "32\n"
     ]
    },
    {
     "name": "stderr",
     "output_type": "stream",
     "text": [
      "100%|██████████████████████████████████████████████████████████████████████████████████| 29/29 [00:01<00:00, 24.06it/s]\n"
     ]
    },
    {
     "name": "stdout",
     "output_type": "stream",
     "text": [
      "[19:11:35] WARNING: ..\\src\\learner.cc:1061: Starting in XGBoost 1.3.0, the default evaluation metric used with the objective 'binary:logistic' was changed from 'error' to 'logloss'. Explicitly set eval_metric if you'd like to restore the old behavior.\n",
      "33\n"
     ]
    },
    {
     "name": "stderr",
     "output_type": "stream",
     "text": [
      "100%|██████████████████████████████████████████████████████████████████████████████████| 29/29 [00:01<00:00, 23.15it/s]\n"
     ]
    },
    {
     "name": "stdout",
     "output_type": "stream",
     "text": [
      "[19:11:36] WARNING: ..\\src\\learner.cc:1061: Starting in XGBoost 1.3.0, the default evaluation metric used with the objective 'binary:logistic' was changed from 'error' to 'logloss'. Explicitly set eval_metric if you'd like to restore the old behavior.\n",
      "34\n"
     ]
    },
    {
     "name": "stderr",
     "output_type": "stream",
     "text": [
      "100%|██████████████████████████████████████████████████████████████████████████████████| 29/29 [00:01<00:00, 26.90it/s]\n"
     ]
    },
    {
     "name": "stdout",
     "output_type": "stream",
     "text": [
      "[19:11:37] WARNING: ..\\src\\learner.cc:1061: Starting in XGBoost 1.3.0, the default evaluation metric used with the objective 'binary:logistic' was changed from 'error' to 'logloss'. Explicitly set eval_metric if you'd like to restore the old behavior.\n",
      "35\n"
     ]
    },
    {
     "name": "stderr",
     "output_type": "stream",
     "text": [
      "100%|██████████████████████████████████████████████████████████████████████████████████| 29/29 [00:01<00:00, 26.98it/s]\n"
     ]
    },
    {
     "name": "stdout",
     "output_type": "stream",
     "text": [
      "[19:11:38] WARNING: ..\\src\\learner.cc:1061: Starting in XGBoost 1.3.0, the default evaluation metric used with the objective 'binary:logistic' was changed from 'error' to 'logloss'. Explicitly set eval_metric if you'd like to restore the old behavior.\n",
      "36\n"
     ]
    },
    {
     "name": "stderr",
     "output_type": "stream",
     "text": [
      "100%|██████████████████████████████████████████████████████████████████████████████████| 29/29 [00:01<00:00, 24.40it/s]\n"
     ]
    },
    {
     "name": "stdout",
     "output_type": "stream",
     "text": [
      "[19:11:39] WARNING: ..\\src\\learner.cc:1061: Starting in XGBoost 1.3.0, the default evaluation metric used with the objective 'binary:logistic' was changed from 'error' to 'logloss'. Explicitly set eval_metric if you'd like to restore the old behavior.\n",
      "37\n"
     ]
    },
    {
     "name": "stderr",
     "output_type": "stream",
     "text": [
      "100%|██████████████████████████████████████████████████████████████████████████████████| 29/29 [00:01<00:00, 23.42it/s]\n"
     ]
    },
    {
     "name": "stdout",
     "output_type": "stream",
     "text": [
      "[19:11:40] WARNING: ..\\src\\learner.cc:1061: Starting in XGBoost 1.3.0, the default evaluation metric used with the objective 'binary:logistic' was changed from 'error' to 'logloss'. Explicitly set eval_metric if you'd like to restore the old behavior.\n",
      "38\n"
     ]
    },
    {
     "name": "stderr",
     "output_type": "stream",
     "text": [
      "100%|██████████████████████████████████████████████████████████████████████████████████| 29/29 [00:01<00:00, 26.34it/s]\n"
     ]
    },
    {
     "name": "stdout",
     "output_type": "stream",
     "text": [
      "[19:11:41] WARNING: ..\\src\\learner.cc:1061: Starting in XGBoost 1.3.0, the default evaluation metric used with the objective 'binary:logistic' was changed from 'error' to 'logloss'. Explicitly set eval_metric if you'd like to restore the old behavior.\n",
      "39\n"
     ]
    },
    {
     "name": "stderr",
     "output_type": "stream",
     "text": [
      "100%|██████████████████████████████████████████████████████████████████████████████████| 29/29 [00:01<00:00, 23.68it/s]\n"
     ]
    },
    {
     "name": "stdout",
     "output_type": "stream",
     "text": [
      "[19:11:43] WARNING: ..\\src\\learner.cc:1061: Starting in XGBoost 1.3.0, the default evaluation metric used with the objective 'binary:logistic' was changed from 'error' to 'logloss'. Explicitly set eval_metric if you'd like to restore the old behavior.\n",
      "40\n"
     ]
    },
    {
     "name": "stderr",
     "output_type": "stream",
     "text": [
      "100%|██████████████████████████████████████████████████████████████████████████████████| 29/29 [00:01<00:00, 25.51it/s]\n"
     ]
    },
    {
     "name": "stdout",
     "output_type": "stream",
     "text": [
      "[19:11:44] WARNING: ..\\src\\learner.cc:1061: Starting in XGBoost 1.3.0, the default evaluation metric used with the objective 'binary:logistic' was changed from 'error' to 'logloss'. Explicitly set eval_metric if you'd like to restore the old behavior.\n",
      "41\n"
     ]
    },
    {
     "name": "stderr",
     "output_type": "stream",
     "text": [
      "100%|██████████████████████████████████████████████████████████████████████████████████| 29/29 [00:01<00:00, 23.81it/s]\n"
     ]
    },
    {
     "name": "stdout",
     "output_type": "stream",
     "text": [
      "[19:11:45] WARNING: ..\\src\\learner.cc:1061: Starting in XGBoost 1.3.0, the default evaluation metric used with the objective 'binary:logistic' was changed from 'error' to 'logloss'. Explicitly set eval_metric if you'd like to restore the old behavior.\n",
      "42\n"
     ]
    },
    {
     "name": "stderr",
     "output_type": "stream",
     "text": [
      "100%|██████████████████████████████████████████████████████████████████████████████████| 29/29 [00:01<00:00, 26.37it/s]\n"
     ]
    },
    {
     "name": "stdout",
     "output_type": "stream",
     "text": [
      "[19:11:46] WARNING: ..\\src\\learner.cc:1061: Starting in XGBoost 1.3.0, the default evaluation metric used with the objective 'binary:logistic' was changed from 'error' to 'logloss'. Explicitly set eval_metric if you'd like to restore the old behavior.\n",
      "43\n"
     ]
    },
    {
     "name": "stderr",
     "output_type": "stream",
     "text": [
      "100%|██████████████████████████████████████████████████████████████████████████████████| 29/29 [00:01<00:00, 22.75it/s]\n"
     ]
    },
    {
     "name": "stdout",
     "output_type": "stream",
     "text": [
      "[19:11:48] WARNING: ..\\src\\learner.cc:1061: Starting in XGBoost 1.3.0, the default evaluation metric used with the objective 'binary:logistic' was changed from 'error' to 'logloss'. Explicitly set eval_metric if you'd like to restore the old behavior.\n",
      "44\n"
     ]
    },
    {
     "name": "stderr",
     "output_type": "stream",
     "text": [
      "100%|██████████████████████████████████████████████████████████████████████████████████| 29/29 [00:01<00:00, 23.14it/s]\n"
     ]
    },
    {
     "name": "stdout",
     "output_type": "stream",
     "text": [
      "[19:11:49] WARNING: ..\\src\\learner.cc:1061: Starting in XGBoost 1.3.0, the default evaluation metric used with the objective 'binary:logistic' was changed from 'error' to 'logloss'. Explicitly set eval_metric if you'd like to restore the old behavior.\n",
      "45\n"
     ]
    },
    {
     "name": "stderr",
     "output_type": "stream",
     "text": [
      "100%|██████████████████████████████████████████████████████████████████████████████████| 29/29 [00:01<00:00, 20.95it/s]\n"
     ]
    },
    {
     "name": "stdout",
     "output_type": "stream",
     "text": [
      "[19:11:50] WARNING: ..\\src\\learner.cc:1061: Starting in XGBoost 1.3.0, the default evaluation metric used with the objective 'binary:logistic' was changed from 'error' to 'logloss'. Explicitly set eval_metric if you'd like to restore the old behavior.\n",
      "46\n"
     ]
    },
    {
     "name": "stderr",
     "output_type": "stream",
     "text": [
      "100%|██████████████████████████████████████████████████████████████████████████████████| 29/29 [00:01<00:00, 25.21it/s]\n"
     ]
    },
    {
     "name": "stdout",
     "output_type": "stream",
     "text": [
      "[19:11:51] WARNING: ..\\src\\learner.cc:1061: Starting in XGBoost 1.3.0, the default evaluation metric used with the objective 'binary:logistic' was changed from 'error' to 'logloss'. Explicitly set eval_metric if you'd like to restore the old behavior.\n",
      "47\n"
     ]
    },
    {
     "name": "stderr",
     "output_type": "stream",
     "text": [
      "100%|██████████████████████████████████████████████████████████████████████████████████| 29/29 [00:01<00:00, 20.97it/s]\n"
     ]
    },
    {
     "name": "stdout",
     "output_type": "stream",
     "text": [
      "[19:11:53] WARNING: ..\\src\\learner.cc:1061: Starting in XGBoost 1.3.0, the default evaluation metric used with the objective 'binary:logistic' was changed from 'error' to 'logloss'. Explicitly set eval_metric if you'd like to restore the old behavior.\n",
      "48\n"
     ]
    },
    {
     "name": "stderr",
     "output_type": "stream",
     "text": [
      "100%|██████████████████████████████████████████████████████████████████████████████████| 29/29 [00:01<00:00, 23.70it/s]\n"
     ]
    },
    {
     "name": "stdout",
     "output_type": "stream",
     "text": [
      "[19:11:54] WARNING: ..\\src\\learner.cc:1061: Starting in XGBoost 1.3.0, the default evaluation metric used with the objective 'binary:logistic' was changed from 'error' to 'logloss'. Explicitly set eval_metric if you'd like to restore the old behavior.\n",
      "49\n"
     ]
    },
    {
     "name": "stderr",
     "output_type": "stream",
     "text": [
      "100%|██████████████████████████████████████████████████████████████████████████████████| 29/29 [00:01<00:00, 25.57it/s]"
     ]
    },
    {
     "name": "stdout",
     "output_type": "stream",
     "text": [
      "[19:11:55] WARNING: ..\\src\\learner.cc:1061: Starting in XGBoost 1.3.0, the default evaluation metric used with the objective 'binary:logistic' was changed from 'error' to 'logloss'. Explicitly set eval_metric if you'd like to restore the old behavior.\n"
     ]
    },
    {
     "name": "stderr",
     "output_type": "stream",
     "text": [
      "\n"
     ]
    }
   ],
   "source": [
    "y = df[\"ICU\"]\n",
    "X = df.drop([\"ICU\"], axis=1)\n",
    "model_list = []\n",
    "for _ in range(50):\n",
    "    print(_)\n",
    "    X_train, X_test, y_train, y_test = train_test_split(X, y, stratify=y, shuffle=True, test_size=0.10)\n",
    "    clf = LazyClassifier(verbose=0,ignore_warnings=True, custom_metric=None)\n",
    "    models,predictions = clf.fit(X_train, X_test, y_train, y_test)\n",
    "    model_list.append(models['ROC AUC'])"
   ]
  },
  {
   "cell_type": "code",
   "execution_count": 53,
   "id": "a41fff81-e939-419d-99fe-32dc718ce606",
   "metadata": {},
   "outputs": [
    {
     "data": {
      "text/plain": [
       "Model\n",
       "RandomForestClassifier          0.72\n",
       "NuSVC                           0.72\n",
       "SVC                             0.72\n",
       "XGBClassifier                   0.71\n",
       "ExtraTreesClassifier            0.71\n",
       "LGBMClassifier                  0.71\n",
       "BernoulliNB                     0.71\n",
       "RidgeClassifierCV               0.71\n",
       "BaggingClassifier               0.70\n",
       "LinearDiscriminantAnalysis      0.70\n",
       "RidgeClassifier                 0.70\n",
       "LinearSVC                       0.70\n",
       "CalibratedClassifierCV          0.70\n",
       "LogisticRegression              0.70\n",
       "NearestCentroid                 0.69\n",
       "AdaBoostClassifier              0.67\n",
       "GaussianNB                      0.67\n",
       "SGDClassifier                   0.65\n",
       "Perceptron                      0.65\n",
       "DecisionTreeClassifier          0.65\n",
       "QuadraticDiscriminantAnalysis   0.64\n",
       "ExtraTreeClassifier             0.64\n",
       "KNeighborsClassifier            0.62\n",
       "PassiveAggressiveClassifier     0.62\n",
       "LabelSpreading                  0.56\n",
       "LabelPropagation                0.56\n",
       "DummyClassifier                 0.50\n",
       "dtype: float64"
      ]
     },
     "execution_count": 53,
     "metadata": {},
     "output_type": "execute_result"
    }
   ],
   "source": [
    "pd.DataFrame(model_list).mean().sort_values(ascending=False)"
   ]
  },
  {
   "cell_type": "markdown",
   "id": "dc325581-a4a3-4be3-bdf0-37b79fb9d5df",
   "metadata": {},
   "source": [
    "# Referências\n",
    "* https://towardsdatascience.com/modeling-teaching-a-machine-learning-algorithm-to-deliver-business-value-ad0205ca4c86\n",
    "* https://docs.microsoft.com/en-us/windows/ai/windows-ml/what-is-a-machine-learning-model\n",
    "* https://medium.com/@datadrivenscience/7-stages-of-machine-learning-a-framework-33d39065e2c9\n",
    "* https://developers.google.com/machine-learning/crash-course/classification/roc-and-auc\n",
    "* https://towardsdatascience.com/understanding-auc-roc-curve-68b2303cc9c5\n",
    "* https://medium.com/bio-data-blog/entenda-o-que-%C3%A9-auc-e-roc-nos-modelos-de-machine-learning-8191fb4df772"
   ]
  },
  {
   "cell_type": "code",
   "execution_count": null,
   "id": "248e7041-92e8-42a6-95fc-7d745e5d6eff",
   "metadata": {},
   "outputs": [],
   "source": []
  }
 ],
 "metadata": {
  "kernelspec": {
   "display_name": "Python 3 (ipykernel)",
   "language": "python",
   "name": "python3"
  },
  "language_info": {
   "codemirror_mode": {
    "name": "ipython",
    "version": 3
   },
   "file_extension": ".py",
   "mimetype": "text/x-python",
   "name": "python",
   "nbconvert_exporter": "python",
   "pygments_lexer": "ipython3",
   "version": "3.9.7"
  }
 },
 "nbformat": 4,
 "nbformat_minor": 5
}
