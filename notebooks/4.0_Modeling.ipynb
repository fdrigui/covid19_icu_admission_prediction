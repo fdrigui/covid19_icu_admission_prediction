{
 "cells": [
  {
   "cell_type": "markdown",
   "id": "31f95419-a833-476f-9be6-2e7714ec0132",
   "metadata": {},
   "source": [
    "# Modeling\n",
    "Esse Notebook visa apresentar a etapa de definição do modelo de machine learning usado para fazer a predição da ```ICU```.<br>\n",
    "Após a etapa de *Feature Engineering* os dados estão prontos para serem usados de maneira a auxiliar a classificação.<br>\n",
    "\n",
    "<a name=\"sumario\"></a>\n",
    "# Sumário\n",
    "<!--ts-->\n",
    "   * [Importe das Bibliotecas](#import)\n",
    "   * [Leitura dos dados](#leitura)\n",
    "   * [Metrica de avaliação](#metrics)\n",
    "   * [Escalar o AGE_PERCENTIL](#age)\n",
    "   * [Features com alta correlação](#corr)\n",
    "<!--te-->"
   ]
  },
  {
   "cell_type": "markdown",
   "id": "7706a188-881d-4704-bb25-f43dbc48efd0",
   "metadata": {},
   "source": [
    "<a name=\"import\"></a>\n",
    "# Importe das Bibliotecas"
   ]
  },
  {
   "cell_type": "markdown",
   "id": "2bdc900a-f6a0-4c52-8453-0cdf96946286",
   "metadata": {},
   "source": [
    "## Bibliotecas Externas"
   ]
  },
  {
   "cell_type": "code",
   "execution_count": 1,
   "id": "e06fcffc-4c47-483e-9f8e-227ca8adb3cb",
   "metadata": {},
   "outputs": [],
   "source": [
    "import pandas as pd\n",
    "import numpy as np\n",
    "from sklearn.model_selection import train_test_split\n",
    "from sklearn.ensemble import RandomForestClassifier\n",
    "from sklearn.model_selection import LeaveOneOut\n",
    "from sklearn.model_selection import cross_validate\n",
    "from sklearn.dummy import DummyClassifier\n",
    "from sklearn.model_selection import RepeatedStratifiedKFold"
   ]
  },
  {
   "cell_type": "markdown",
   "id": "bc746c47-5df5-46be-9c18-92c5b23041da",
   "metadata": {},
   "source": [
    "## Bibliotecas Internas"
   ]
  },
  {
   "cell_type": "code",
   "execution_count": 7,
   "id": "d41ca5b5-845c-4d46-aecf-13b56f6a219f",
   "metadata": {},
   "outputs": [],
   "source": [
    "import sys\n",
    "sys.path.insert(1, \"../src/\")\n",
    "from supervised import LazyClassifier\n",
    "from modeling import run_model_cv"
   ]
  },
  {
   "cell_type": "markdown",
   "id": "b258d3e7-6bc6-4d1d-ab72-9148611aed03",
   "metadata": {},
   "source": [
    "-----------------\n",
    "Retornar ao [Sumário](#sumario)"
   ]
  },
  {
   "cell_type": "markdown",
   "id": "bb8c4a28-b613-423b-a01e-5dee0aea51a1",
   "metadata": {},
   "source": [
    "<a name=\"leitura\"></a>\n",
    "# Leitura dos dados\n",
    "Faz a leitura dos dados que serão usados para a modelagem.<br>\n",
    "**```df : pd.DataFrame```** é o DataFrame contendo os dados que já passaram pela etapa de *feature engineering*."
   ]
  },
  {
   "cell_type": "code",
   "execution_count": 2,
   "id": "98094eb8-fa55-46a2-8134-352aa1188481",
   "metadata": {},
   "outputs": [
    {
     "data": {
      "text/html": [
       "<div>\n",
       "<style scoped>\n",
       "    .dataframe tbody tr th:only-of-type {\n",
       "        vertical-align: middle;\n",
       "    }\n",
       "\n",
       "    .dataframe tbody tr th {\n",
       "        vertical-align: top;\n",
       "    }\n",
       "\n",
       "    .dataframe thead th {\n",
       "        text-align: right;\n",
       "    }\n",
       "</style>\n",
       "<table border=\"1\" class=\"dataframe\">\n",
       "  <thead>\n",
       "    <tr style=\"text-align: right;\">\n",
       "      <th></th>\n",
       "      <th>AGE_ABOVE65</th>\n",
       "      <th>AGE_SCALED</th>\n",
       "      <th>DISEASE GROUPING 1</th>\n",
       "      <th>DISEASE GROUPING 3</th>\n",
       "      <th>DISEASE GROUPING 5</th>\n",
       "      <th>HTN</th>\n",
       "      <th>IMMUNOCOMPROMISED</th>\n",
       "      <th>ALBUMIN</th>\n",
       "      <th>BE_VENOUS</th>\n",
       "      <th>FFA</th>\n",
       "      <th>GGT</th>\n",
       "      <th>GLUCOSE</th>\n",
       "      <th>HEMOGLOBIN</th>\n",
       "      <th>LACTATE</th>\n",
       "      <th>LINFOCITOS</th>\n",
       "      <th>NEUTROPHILES</th>\n",
       "      <th>P02_VENOUS</th>\n",
       "      <th>PCR</th>\n",
       "      <th>SAT02_VENOUS</th>\n",
       "      <th>SODIUM</th>\n",
       "      <th>DIMER</th>\n",
       "      <th>BLOODPRESSURE_DIASTOLIC_MEAN</th>\n",
       "      <th>RESPIRATORY_RATE_MEAN</th>\n",
       "      <th>TEMPERATURE_MEAN</th>\n",
       "      <th>BLOODPRESSURE_SISTOLIC_MEDIAN</th>\n",
       "      <th>OXYGEN_SATURATION_MEDIAN</th>\n",
       "      <th>HEART_RATE_MIN</th>\n",
       "      <th>RESPIRATORY_RATE_MIN</th>\n",
       "      <th>BLOODPRESSURE_DIASTOLIC_MAX</th>\n",
       "      <th>BLOODPRESSURE_MAX_MEDIAN_RESIDUAL</th>\n",
       "      <th>HEART_RATE_MAX</th>\n",
       "      <th>OXYGEN_SATURATION_MAX</th>\n",
       "      <th>BLOODPRESSURE_SISTOLIC_DIFF</th>\n",
       "      <th>ICU</th>\n",
       "    </tr>\n",
       "    <tr>\n",
       "      <th>PATIENT_VISIT_IDENTIFIER</th>\n",
       "      <th></th>\n",
       "      <th></th>\n",
       "      <th></th>\n",
       "      <th></th>\n",
       "      <th></th>\n",
       "      <th></th>\n",
       "      <th></th>\n",
       "      <th></th>\n",
       "      <th></th>\n",
       "      <th></th>\n",
       "      <th></th>\n",
       "      <th></th>\n",
       "      <th></th>\n",
       "      <th></th>\n",
       "      <th></th>\n",
       "      <th></th>\n",
       "      <th></th>\n",
       "      <th></th>\n",
       "      <th></th>\n",
       "      <th></th>\n",
       "      <th></th>\n",
       "      <th></th>\n",
       "      <th></th>\n",
       "      <th></th>\n",
       "      <th></th>\n",
       "      <th></th>\n",
       "      <th></th>\n",
       "      <th></th>\n",
       "      <th></th>\n",
       "      <th></th>\n",
       "      <th></th>\n",
       "      <th></th>\n",
       "      <th></th>\n",
       "      <th></th>\n",
       "    </tr>\n",
       "  </thead>\n",
       "  <tbody>\n",
       "    <tr>\n",
       "      <th>0</th>\n",
       "      <td>0</td>\n",
       "      <td>0.111111</td>\n",
       "      <td>0.0</td>\n",
       "      <td>0.0</td>\n",
       "      <td>0.0</td>\n",
       "      <td>1.0</td>\n",
       "      <td>0.0</td>\n",
       "      <td>0.605263</td>\n",
       "      <td>-1.000000</td>\n",
       "      <td>-0.742004</td>\n",
       "      <td>-0.958528</td>\n",
       "      <td>-0.851024</td>\n",
       "      <td>-0.024390</td>\n",
       "      <td>1.000000</td>\n",
       "      <td>-0.655602</td>\n",
       "      <td>-0.789916</td>\n",
       "      <td>-0.704142</td>\n",
       "      <td>-0.999244</td>\n",
       "      <td>0.345679</td>\n",
       "      <td>-0.142857</td>\n",
       "      <td>-0.974174</td>\n",
       "      <td>0.185185</td>\n",
       "      <td>-0.389831</td>\n",
       "      <td>-0.285714</td>\n",
       "      <td>-0.276923</td>\n",
       "      <td>0.842105</td>\n",
       "      <td>-0.435897</td>\n",
       "      <td>-0.285714</td>\n",
       "      <td>-0.179487</td>\n",
       "      <td>-0.017708</td>\n",
       "      <td>-0.671642</td>\n",
       "      <td>0.842105</td>\n",
       "      <td>-1.0</td>\n",
       "      <td>0</td>\n",
       "    </tr>\n",
       "    <tr>\n",
       "      <th>1</th>\n",
       "      <td>0</td>\n",
       "      <td>0.000000</td>\n",
       "      <td>0.0</td>\n",
       "      <td>0.0</td>\n",
       "      <td>0.0</td>\n",
       "      <td>0.0</td>\n",
       "      <td>0.0</td>\n",
       "      <td>0.605263</td>\n",
       "      <td>-1.000000</td>\n",
       "      <td>-0.742004</td>\n",
       "      <td>-0.988318</td>\n",
       "      <td>-0.891993</td>\n",
       "      <td>-0.170732</td>\n",
       "      <td>1.000000</td>\n",
       "      <td>-0.582988</td>\n",
       "      <td>-0.891557</td>\n",
       "      <td>-0.704142</td>\n",
       "      <td>-0.951607</td>\n",
       "      <td>0.345679</td>\n",
       "      <td>-0.028571</td>\n",
       "      <td>-0.978029</td>\n",
       "      <td>0.185185</td>\n",
       "      <td>-0.457627</td>\n",
       "      <td>-0.107143</td>\n",
       "      <td>-0.523077</td>\n",
       "      <td>1.000000</td>\n",
       "      <td>-0.316239</td>\n",
       "      <td>-0.357143</td>\n",
       "      <td>-0.179487</td>\n",
       "      <td>-0.019761</td>\n",
       "      <td>-0.567164</td>\n",
       "      <td>1.000000</td>\n",
       "      <td>-1.0</td>\n",
       "      <td>0</td>\n",
       "    </tr>\n",
       "    <tr>\n",
       "      <th>2</th>\n",
       "      <td>0</td>\n",
       "      <td>0.222222</td>\n",
       "      <td>0.0</td>\n",
       "      <td>0.0</td>\n",
       "      <td>0.0</td>\n",
       "      <td>0.0</td>\n",
       "      <td>0.0</td>\n",
       "      <td>0.605263</td>\n",
       "      <td>-0.863874</td>\n",
       "      <td>-0.742004</td>\n",
       "      <td>-0.958528</td>\n",
       "      <td>-0.206704</td>\n",
       "      <td>0.073171</td>\n",
       "      <td>1.000000</td>\n",
       "      <td>-0.815353</td>\n",
       "      <td>-0.952781</td>\n",
       "      <td>-0.656805</td>\n",
       "      <td>-0.962193</td>\n",
       "      <td>0.481481</td>\n",
       "      <td>0.066667</td>\n",
       "      <td>-0.978029</td>\n",
       "      <td>0.086420</td>\n",
       "      <td>-0.525424</td>\n",
       "      <td>0.404762</td>\n",
       "      <td>-0.384615</td>\n",
       "      <td>0.684211</td>\n",
       "      <td>-0.316239</td>\n",
       "      <td>-0.428571</td>\n",
       "      <td>-0.247863</td>\n",
       "      <td>-0.018606</td>\n",
       "      <td>-0.567164</td>\n",
       "      <td>0.684211</td>\n",
       "      <td>-1.0</td>\n",
       "      <td>0</td>\n",
       "    </tr>\n",
       "    <tr>\n",
       "      <th>3</th>\n",
       "      <td>0</td>\n",
       "      <td>0.000000</td>\n",
       "      <td>0.0</td>\n",
       "      <td>0.0</td>\n",
       "      <td>0.0</td>\n",
       "      <td>0.0</td>\n",
       "      <td>0.0</td>\n",
       "      <td>0.605263</td>\n",
       "      <td>-1.000000</td>\n",
       "      <td>-0.742004</td>\n",
       "      <td>-0.958528</td>\n",
       "      <td>-0.891993</td>\n",
       "      <td>-0.268293</td>\n",
       "      <td>1.000000</td>\n",
       "      <td>-0.481328</td>\n",
       "      <td>-0.921569</td>\n",
       "      <td>-0.704142</td>\n",
       "      <td>-0.981474</td>\n",
       "      <td>0.345679</td>\n",
       "      <td>0.066667</td>\n",
       "      <td>-0.991905</td>\n",
       "      <td>-0.160494</td>\n",
       "      <td>-0.525424</td>\n",
       "      <td>-0.142857</td>\n",
       "      <td>-0.692308</td>\n",
       "      <td>0.947368</td>\n",
       "      <td>-0.247863</td>\n",
       "      <td>-0.428571</td>\n",
       "      <td>-0.418803</td>\n",
       "      <td>-0.021172</td>\n",
       "      <td>-0.507463</td>\n",
       "      <td>0.947368</td>\n",
       "      <td>-1.0</td>\n",
       "      <td>0</td>\n",
       "    </tr>\n",
       "    <tr>\n",
       "      <th>4</th>\n",
       "      <td>1</td>\n",
       "      <td>0.777778</td>\n",
       "      <td>0.0</td>\n",
       "      <td>0.0</td>\n",
       "      <td>1.0</td>\n",
       "      <td>0.0</td>\n",
       "      <td>1.0</td>\n",
       "      <td>0.000000</td>\n",
       "      <td>-0.884817</td>\n",
       "      <td>-0.675906</td>\n",
       "      <td>-0.751168</td>\n",
       "      <td>-0.810056</td>\n",
       "      <td>-0.475610</td>\n",
       "      <td>-0.793745</td>\n",
       "      <td>-0.798755</td>\n",
       "      <td>-0.893157</td>\n",
       "      <td>-0.917160</td>\n",
       "      <td>-0.443856</td>\n",
       "      <td>-0.703704</td>\n",
       "      <td>0.066667</td>\n",
       "      <td>-0.979262</td>\n",
       "      <td>0.901235</td>\n",
       "      <td>-0.169492</td>\n",
       "      <td>0.142857</td>\n",
       "      <td>-0.338462</td>\n",
       "      <td>0.789474</td>\n",
       "      <td>-0.042735</td>\n",
       "      <td>-0.428571</td>\n",
       "      <td>0.316239</td>\n",
       "      <td>-0.018221</td>\n",
       "      <td>-0.328358</td>\n",
       "      <td>0.789474</td>\n",
       "      <td>-1.0</td>\n",
       "      <td>1</td>\n",
       "    </tr>\n",
       "  </tbody>\n",
       "</table>\n",
       "</div>"
      ],
      "text/plain": [
       "                          AGE_ABOVE65  AGE_SCALED  DISEASE GROUPING 1  \\\n",
       "PATIENT_VISIT_IDENTIFIER                                                \n",
       "0                                   0    0.111111                 0.0   \n",
       "1                                   0    0.000000                 0.0   \n",
       "2                                   0    0.222222                 0.0   \n",
       "3                                   0    0.000000                 0.0   \n",
       "4                                   1    0.777778                 0.0   \n",
       "\n",
       "                          DISEASE GROUPING 3  DISEASE GROUPING 5  HTN  \\\n",
       "PATIENT_VISIT_IDENTIFIER                                                \n",
       "0                                        0.0                 0.0  1.0   \n",
       "1                                        0.0                 0.0  0.0   \n",
       "2                                        0.0                 0.0  0.0   \n",
       "3                                        0.0                 0.0  0.0   \n",
       "4                                        0.0                 1.0  0.0   \n",
       "\n",
       "                          IMMUNOCOMPROMISED   ALBUMIN  BE_VENOUS       FFA  \\\n",
       "PATIENT_VISIT_IDENTIFIER                                                     \n",
       "0                                       0.0  0.605263  -1.000000 -0.742004   \n",
       "1                                       0.0  0.605263  -1.000000 -0.742004   \n",
       "2                                       0.0  0.605263  -0.863874 -0.742004   \n",
       "3                                       0.0  0.605263  -1.000000 -0.742004   \n",
       "4                                       1.0  0.000000  -0.884817 -0.675906   \n",
       "\n",
       "                               GGT   GLUCOSE  HEMOGLOBIN   LACTATE  \\\n",
       "PATIENT_VISIT_IDENTIFIER                                             \n",
       "0                        -0.958528 -0.851024   -0.024390  1.000000   \n",
       "1                        -0.988318 -0.891993   -0.170732  1.000000   \n",
       "2                        -0.958528 -0.206704    0.073171  1.000000   \n",
       "3                        -0.958528 -0.891993   -0.268293  1.000000   \n",
       "4                        -0.751168 -0.810056   -0.475610 -0.793745   \n",
       "\n",
       "                          LINFOCITOS  NEUTROPHILES  P02_VENOUS       PCR  \\\n",
       "PATIENT_VISIT_IDENTIFIER                                                   \n",
       "0                          -0.655602     -0.789916   -0.704142 -0.999244   \n",
       "1                          -0.582988     -0.891557   -0.704142 -0.951607   \n",
       "2                          -0.815353     -0.952781   -0.656805 -0.962193   \n",
       "3                          -0.481328     -0.921569   -0.704142 -0.981474   \n",
       "4                          -0.798755     -0.893157   -0.917160 -0.443856   \n",
       "\n",
       "                          SAT02_VENOUS    SODIUM     DIMER  \\\n",
       "PATIENT_VISIT_IDENTIFIER                                     \n",
       "0                             0.345679 -0.142857 -0.974174   \n",
       "1                             0.345679 -0.028571 -0.978029   \n",
       "2                             0.481481  0.066667 -0.978029   \n",
       "3                             0.345679  0.066667 -0.991905   \n",
       "4                            -0.703704  0.066667 -0.979262   \n",
       "\n",
       "                          BLOODPRESSURE_DIASTOLIC_MEAN  RESPIRATORY_RATE_MEAN  \\\n",
       "PATIENT_VISIT_IDENTIFIER                                                        \n",
       "0                                             0.185185              -0.389831   \n",
       "1                                             0.185185              -0.457627   \n",
       "2                                             0.086420              -0.525424   \n",
       "3                                            -0.160494              -0.525424   \n",
       "4                                             0.901235              -0.169492   \n",
       "\n",
       "                          TEMPERATURE_MEAN  BLOODPRESSURE_SISTOLIC_MEDIAN  \\\n",
       "PATIENT_VISIT_IDENTIFIER                                                    \n",
       "0                                -0.285714                      -0.276923   \n",
       "1                                -0.107143                      -0.523077   \n",
       "2                                 0.404762                      -0.384615   \n",
       "3                                -0.142857                      -0.692308   \n",
       "4                                 0.142857                      -0.338462   \n",
       "\n",
       "                          OXYGEN_SATURATION_MEDIAN  HEART_RATE_MIN  \\\n",
       "PATIENT_VISIT_IDENTIFIER                                             \n",
       "0                                         0.842105       -0.435897   \n",
       "1                                         1.000000       -0.316239   \n",
       "2                                         0.684211       -0.316239   \n",
       "3                                         0.947368       -0.247863   \n",
       "4                                         0.789474       -0.042735   \n",
       "\n",
       "                          RESPIRATORY_RATE_MIN  BLOODPRESSURE_DIASTOLIC_MAX  \\\n",
       "PATIENT_VISIT_IDENTIFIER                                                      \n",
       "0                                    -0.285714                    -0.179487   \n",
       "1                                    -0.357143                    -0.179487   \n",
       "2                                    -0.428571                    -0.247863   \n",
       "3                                    -0.428571                    -0.418803   \n",
       "4                                    -0.428571                     0.316239   \n",
       "\n",
       "                          BLOODPRESSURE_MAX_MEDIAN_RESIDUAL  HEART_RATE_MAX  \\\n",
       "PATIENT_VISIT_IDENTIFIER                                                      \n",
       "0                                                 -0.017708       -0.671642   \n",
       "1                                                 -0.019761       -0.567164   \n",
       "2                                                 -0.018606       -0.567164   \n",
       "3                                                 -0.021172       -0.507463   \n",
       "4                                                 -0.018221       -0.328358   \n",
       "\n",
       "                          OXYGEN_SATURATION_MAX  BLOODPRESSURE_SISTOLIC_DIFF  \\\n",
       "PATIENT_VISIT_IDENTIFIER                                                       \n",
       "0                                      0.842105                         -1.0   \n",
       "1                                      1.000000                         -1.0   \n",
       "2                                      0.684211                         -1.0   \n",
       "3                                      0.947368                         -1.0   \n",
       "4                                      0.789474                         -1.0   \n",
       "\n",
       "                          ICU  \n",
       "PATIENT_VISIT_IDENTIFIER       \n",
       "0                           0  \n",
       "1                           0  \n",
       "2                           0  \n",
       "3                           0  \n",
       "4                           1  "
      ]
     },
     "execution_count": 2,
     "metadata": {},
     "output_type": "execute_result"
    }
   ],
   "source": [
    "# Leitura do raw data desse  projeto no Github\n",
    "df = pd.read_csv('../data/processed/df_featured.csv', index_col='Unnamed: 0')\n",
    "df.index.names = ['PATIENT_VISIT_IDENTIFIER']\n",
    "\n",
    "# Imprime na tela todas as colunas em vez de as 10 primeiras e 10 ultimas\n",
    "pd.set_option('max_columns', df.shape[1])\n",
    "df.head()"
   ]
  },
  {
   "cell_type": "markdown",
   "id": "ad46ff39-ce78-46b3-a14d-11a03e39b33f",
   "metadata": {},
   "source": [
    "<a name=\"metrics\"></a>\n",
    "# Métrica de avaliação:\n",
    "A métrica de avaliação utilizada para determinar o modelo de machine learning será o **ROC AUC**.<br>\n",
    "* **ROC** do inglês *Receiver Operating Characteristics* é uma curva plotada entre os eixos *Taxa de Verdadeiros Positivos* e a *Taxa de Falsos Positivos*. Essa métrica mede o quanto o modelo consegue separar o binômio de saída entre suas duas classes (```ICU = 0``` e ```ICU = 1```).\n",
    "* **AUC** do inglês *Area Under the Curve* é a maneira de resumir a curva **ROC** em um único valor real, de maneira a facilitar a comparação com outros modelos. Seria o mesmo que calcular a inegral do ROC<br>\n",
    "* **ROC AUC**<br>\n",
    "    * O valor será próximo de 0.5 se o modelo não tiver capacidade de separar as variáveis de saída em suas respectivas classes. Imagine que o modelo Tem 50% de verdadeiro positivo e 50% de falso positivo, ou seja, acerta em 50% das tentativas.\n",
    "    * Quanto mais o valor se aproxima de 1.0, mais capacidade o modelo tem de separar os dois grupos, ou classes, acertando muito mais os Verdadeiros Positivos que errando.\n",
    "    * O inverso também é verdadeiro. Quanto mais o valor se aproxima de 0, significa que o modelo também tem a capacidade de separar o binômio de saída em dois grupos, só que nesse caso, errando muito, pois teria um valor de Falsos Verdadeiros muito grande. Como a saída tem 2 estados, sendo 0 ou 1, poderia ser usado o inverso (NOT) da resposta e ainda assim o modelo acertaria bastante."
   ]
  },
  {
   "cell_type": "markdown",
   "id": "1f408fcf-b68a-4f41-9ea9-6498af4f7297",
   "metadata": {},
   "source": [
    "# Dummy Classifier\n",
    "Essa etapa visa criar um modelo genérico que faz predições dos dados de entrada usando regras bem simples. Ter um modelo \"bobo\" que usa uma regra simples é importante para avaliar o modelo final, pois se espera do modelo a ser implementado que ao menos seja melhor que escolher aleatóriamente entre as alternativas de saída, ou então \"chutar\" a alternativa de saída mais comum."
   ]
  },
  {
   "cell_type": "code",
   "execution_count": 3,
   "id": "2c354365-df8d-4518-88b8-32d0b26ffb96",
   "metadata": {},
   "outputs": [
    {
     "ename": "NameError",
     "evalue": "name 'run_model_cv' is not defined",
     "output_type": "error",
     "traceback": [
      "\u001b[1;31m---------------------------------------------------------------------------\u001b[0m",
      "\u001b[1;31mNameError\u001b[0m                                 Traceback (most recent call last)",
      "\u001b[1;32m<ipython-input-3-03a88a887844>\u001b[0m in \u001b[0;36m<module>\u001b[1;34m\u001b[0m\n\u001b[1;32m----> 1\u001b[1;33m \u001b[0mrun_model_cv\u001b[0m\u001b[1;33m(\u001b[0m\u001b[1;34m'DummyClassifier'\u001b[0m\u001b[1;33m,\u001b[0m \u001b[0mDummyClassifier\u001b[0m\u001b[1;33m,\u001b[0m \u001b[0mdf\u001b[0m\u001b[1;33m,\u001b[0m \u001b[1;36m7\u001b[0m\u001b[1;33m,\u001b[0m \u001b[1;36m10\u001b[0m\u001b[1;33m)\u001b[0m\u001b[1;33m\u001b[0m\u001b[1;33m\u001b[0m\u001b[0m\n\u001b[0m",
      "\u001b[1;31mNameError\u001b[0m: name 'run_model_cv' is not defined"
     ]
    }
   ],
   "source": [
    "run_model_cv('DummyClassifier', DummyClassifier, df, 7, 10)"
   ]
  },
  {
   "cell_type": "markdown",
   "id": "c6a3a1ea-67ad-4174-9681-f6080a118b2a",
   "metadata": {},
   "source": [
    "Vemos que o DummyClassifier encontrou um ROC AUC Médio de **0.5**, logo, essa deve ser a meta inicial a ser batida."
   ]
  },
  {
   "cell_type": "code",
   "execution_count": 4,
   "id": "ec7a46c7-b895-4059-8b99-503dd7cefce8",
   "metadata": {},
   "outputs": [
    {
     "ename": "NameError",
     "evalue": "name 'run_model_cv' is not defined",
     "output_type": "error",
     "traceback": [
      "\u001b[1;31m---------------------------------------------------------------------------\u001b[0m",
      "\u001b[1;31mNameError\u001b[0m                                 Traceback (most recent call last)",
      "\u001b[1;32m<ipython-input-4-629e8e1e0e2c>\u001b[0m in \u001b[0;36m<module>\u001b[1;34m\u001b[0m\n\u001b[1;32m----> 1\u001b[1;33m \u001b[0mrun_model_cv\u001b[0m\u001b[1;33m(\u001b[0m\u001b[1;34m'RandomForestClassifier'\u001b[0m\u001b[1;33m,\u001b[0m \u001b[0mRandomForestClassifier\u001b[0m\u001b[1;33m,\u001b[0m \u001b[0mdf\u001b[0m\u001b[1;33m,\u001b[0m \u001b[1;36m70\u001b[0m\u001b[1;33m,\u001b[0m \u001b[1;36m5\u001b[0m\u001b[1;33m)\u001b[0m\u001b[1;33m\u001b[0m\u001b[1;33m\u001b[0m\u001b[0m\n\u001b[0m",
      "\u001b[1;31mNameError\u001b[0m: name 'run_model_cv' is not defined"
     ]
    }
   ],
   "source": [
    "run_model_cv('RandomForestClassifier', RandomForestClassifier, df, 70, 5)"
   ]
  },
  {
   "cell_type": "code",
   "execution_count": 5,
   "id": "416d5a6e-fe9a-45e4-8aca-d00465dd9e58",
   "metadata": {},
   "outputs": [
    {
     "ename": "NameError",
     "evalue": "name 'run_model_cv' is not defined",
     "output_type": "error",
     "traceback": [
      "\u001b[1;31m---------------------------------------------------------------------------\u001b[0m",
      "\u001b[1;31mNameError\u001b[0m                                 Traceback (most recent call last)",
      "\u001b[1;32m<ipython-input-5-76845e777ccf>\u001b[0m in \u001b[0;36m<module>\u001b[1;34m\u001b[0m\n\u001b[1;32m----> 1\u001b[1;33m \u001b[0mrun_model_cv\u001b[0m\u001b[1;33m(\u001b[0m\u001b[1;34m'RandomForestClassifier'\u001b[0m\u001b[1;33m,\u001b[0m \u001b[0mRandomForestClassifier\u001b[0m\u001b[1;33m,\u001b[0m \u001b[0mdf\u001b[0m\u001b[1;33m,\u001b[0m \u001b[1;36m5\u001b[0m\u001b[1;33m,\u001b[0m \u001b[1;36m5\u001b[0m\u001b[1;33m)\u001b[0m\u001b[1;33m\u001b[0m\u001b[1;33m\u001b[0m\u001b[0m\n\u001b[0m",
      "\u001b[1;31mNameError\u001b[0m: name 'run_model_cv' is not defined"
     ]
    }
   ],
   "source": [
    "run_model_cv('RandomForestClassifier', RandomForestClassifier, df, 5, 5)"
   ]
  },
  {
   "cell_type": "code",
   "execution_count": 36,
   "id": "f2e79b18-00c9-48f8-bb9f-19621bb1db5d",
   "metadata": {},
   "outputs": [
    {
     "name": "stdout",
     "output_type": "stream",
     "text": [
      "0\n"
     ]
    },
    {
     "name": "stderr",
     "output_type": "stream",
     "text": [
      " 97%|███████████████████████████████████████████████████████████████████████████████▏  | 28/29 [00:02<00:00, 13.64it/s]"
     ]
    },
    {
     "name": "stdout",
     "output_type": "stream",
     "text": [
      "[14:37:45] WARNING: ..\\src\\learner.cc:1061: Starting in XGBoost 1.3.0, the default evaluation metric used with the objective 'binary:logistic' was changed from 'error' to 'logloss'. Explicitly set eval_metric if you'd like to restore the old behavior.\n"
     ]
    },
    {
     "name": "stderr",
     "output_type": "stream",
     "text": [
      "100%|██████████████████████████████████████████████████████████████████████████████████| 29/29 [00:02<00:00, 12.51it/s]\n"
     ]
    },
    {
     "name": "stdout",
     "output_type": "stream",
     "text": [
      "1\n"
     ]
    },
    {
     "name": "stderr",
     "output_type": "stream",
     "text": [
      " 97%|███████████████████████████████████████████████████████████████████████████████▏  | 28/29 [00:02<00:00, 13.88it/s]"
     ]
    },
    {
     "name": "stdout",
     "output_type": "stream",
     "text": [
      "[14:37:48] WARNING: ..\\src\\learner.cc:1061: Starting in XGBoost 1.3.0, the default evaluation metric used with the objective 'binary:logistic' was changed from 'error' to 'logloss'. Explicitly set eval_metric if you'd like to restore the old behavior.\n"
     ]
    },
    {
     "name": "stderr",
     "output_type": "stream",
     "text": [
      "100%|██████████████████████████████████████████████████████████████████████████████████| 29/29 [00:02<00:00, 12.36it/s]\n"
     ]
    },
    {
     "name": "stdout",
     "output_type": "stream",
     "text": [
      "2\n"
     ]
    },
    {
     "name": "stderr",
     "output_type": "stream",
     "text": [
      " 97%|███████████████████████████████████████████████████████████████████████████████▏  | 28/29 [00:02<00:00, 14.01it/s]"
     ]
    },
    {
     "name": "stdout",
     "output_type": "stream",
     "text": [
      "[14:37:50] WARNING: ..\\src\\learner.cc:1061: Starting in XGBoost 1.3.0, the default evaluation metric used with the objective 'binary:logistic' was changed from 'error' to 'logloss'. Explicitly set eval_metric if you'd like to restore the old behavior.\n"
     ]
    },
    {
     "name": "stderr",
     "output_type": "stream",
     "text": [
      "100%|██████████████████████████████████████████████████████████████████████████████████| 29/29 [00:02<00:00, 12.71it/s]\n"
     ]
    },
    {
     "name": "stdout",
     "output_type": "stream",
     "text": [
      "3\n"
     ]
    },
    {
     "name": "stderr",
     "output_type": "stream",
     "text": [
      " 97%|███████████████████████████████████████████████████████████████████████████████▏  | 28/29 [00:02<00:00, 14.01it/s]"
     ]
    },
    {
     "name": "stdout",
     "output_type": "stream",
     "text": [
      "[14:37:52] WARNING: ..\\src\\learner.cc:1061: Starting in XGBoost 1.3.0, the default evaluation metric used with the objective 'binary:logistic' was changed from 'error' to 'logloss'. Explicitly set eval_metric if you'd like to restore the old behavior.\n"
     ]
    },
    {
     "name": "stderr",
     "output_type": "stream",
     "text": [
      "100%|██████████████████████████████████████████████████████████████████████████████████| 29/29 [00:02<00:00, 12.70it/s]\n"
     ]
    },
    {
     "name": "stdout",
     "output_type": "stream",
     "text": [
      "4\n"
     ]
    },
    {
     "name": "stderr",
     "output_type": "stream",
     "text": [
      " 97%|███████████████████████████████████████████████████████████████████████████████▏  | 28/29 [00:02<00:00, 13.09it/s]"
     ]
    },
    {
     "name": "stdout",
     "output_type": "stream",
     "text": [
      "[14:37:55] WARNING: ..\\src\\learner.cc:1061: Starting in XGBoost 1.3.0, the default evaluation metric used with the objective 'binary:logistic' was changed from 'error' to 'logloss'. Explicitly set eval_metric if you'd like to restore the old behavior.\n"
     ]
    },
    {
     "name": "stderr",
     "output_type": "stream",
     "text": [
      "100%|██████████████████████████████████████████████████████████████████████████████████| 29/29 [00:02<00:00, 12.66it/s]\n"
     ]
    },
    {
     "name": "stdout",
     "output_type": "stream",
     "text": [
      "5\n"
     ]
    },
    {
     "name": "stderr",
     "output_type": "stream",
     "text": [
      " 97%|███████████████████████████████████████████████████████████████████████████████▏  | 28/29 [00:02<00:00, 13.88it/s]"
     ]
    },
    {
     "name": "stdout",
     "output_type": "stream",
     "text": [
      "[14:37:57] WARNING: ..\\src\\learner.cc:1061: Starting in XGBoost 1.3.0, the default evaluation metric used with the objective 'binary:logistic' was changed from 'error' to 'logloss'. Explicitly set eval_metric if you'd like to restore the old behavior.\n"
     ]
    },
    {
     "name": "stderr",
     "output_type": "stream",
     "text": [
      "100%|██████████████████████████████████████████████████████████████████████████████████| 29/29 [00:02<00:00, 12.57it/s]\n"
     ]
    },
    {
     "name": "stdout",
     "output_type": "stream",
     "text": [
      "6\n"
     ]
    },
    {
     "name": "stderr",
     "output_type": "stream",
     "text": [
      " 90%|█████████████████████████████████████████████████████████████████████████▌        | 26/29 [00:02<00:00, 14.81it/s]"
     ]
    },
    {
     "name": "stdout",
     "output_type": "stream",
     "text": [
      "[14:37:59] WARNING: ..\\src\\learner.cc:1061: Starting in XGBoost 1.3.0, the default evaluation metric used with the objective 'binary:logistic' was changed from 'error' to 'logloss'. Explicitly set eval_metric if you'd like to restore the old behavior.\n"
     ]
    },
    {
     "name": "stderr",
     "output_type": "stream",
     "text": [
      "100%|██████████████████████████████████████████████████████████████████████████████████| 29/29 [00:02<00:00, 12.85it/s]\n"
     ]
    },
    {
     "name": "stdout",
     "output_type": "stream",
     "text": [
      "7\n"
     ]
    },
    {
     "name": "stderr",
     "output_type": "stream",
     "text": [
      " 90%|█████████████████████████████████████████████████████████████████████████▌        | 26/29 [00:02<00:00, 15.12it/s]"
     ]
    },
    {
     "name": "stdout",
     "output_type": "stream",
     "text": [
      "[14:38:01] WARNING: ..\\src\\learner.cc:1061: Starting in XGBoost 1.3.0, the default evaluation metric used with the objective 'binary:logistic' was changed from 'error' to 'logloss'. Explicitly set eval_metric if you'd like to restore the old behavior.\n"
     ]
    },
    {
     "name": "stderr",
     "output_type": "stream",
     "text": [
      "100%|██████████████████████████████████████████████████████████████████████████████████| 29/29 [00:02<00:00, 12.82it/s]\n"
     ]
    },
    {
     "name": "stdout",
     "output_type": "stream",
     "text": [
      "8\n"
     ]
    },
    {
     "name": "stderr",
     "output_type": "stream",
     "text": [
      " 90%|█████████████████████████████████████████████████████████████████████████▌        | 26/29 [00:01<00:00, 14.84it/s]"
     ]
    },
    {
     "name": "stdout",
     "output_type": "stream",
     "text": [
      "[14:38:04] WARNING: ..\\src\\learner.cc:1061: Starting in XGBoost 1.3.0, the default evaluation metric used with the objective 'binary:logistic' was changed from 'error' to 'logloss'. Explicitly set eval_metric if you'd like to restore the old behavior.\n"
     ]
    },
    {
     "name": "stderr",
     "output_type": "stream",
     "text": [
      "100%|██████████████████████████████████████████████████████████████████████████████████| 29/29 [00:02<00:00, 13.00it/s]\n"
     ]
    },
    {
     "name": "stdout",
     "output_type": "stream",
     "text": [
      "9\n"
     ]
    },
    {
     "name": "stderr",
     "output_type": "stream",
     "text": [
      " 90%|█████████████████████████████████████████████████████████████████████████▌        | 26/29 [00:02<00:00, 15.07it/s]"
     ]
    },
    {
     "name": "stdout",
     "output_type": "stream",
     "text": [
      "[14:38:06] WARNING: ..\\src\\learner.cc:1061: Starting in XGBoost 1.3.0, the default evaluation metric used with the objective 'binary:logistic' was changed from 'error' to 'logloss'. Explicitly set eval_metric if you'd like to restore the old behavior.\n"
     ]
    },
    {
     "name": "stderr",
     "output_type": "stream",
     "text": [
      "100%|██████████████████████████████████████████████████████████████████████████████████| 29/29 [00:02<00:00, 12.75it/s]\n"
     ]
    },
    {
     "name": "stdout",
     "output_type": "stream",
     "text": [
      "10\n"
     ]
    },
    {
     "name": "stderr",
     "output_type": "stream",
     "text": [
      " 90%|█████████████████████████████████████████████████████████████████████████▌        | 26/29 [00:01<00:00, 15.22it/s]"
     ]
    },
    {
     "name": "stdout",
     "output_type": "stream",
     "text": [
      "[14:38:08] WARNING: ..\\src\\learner.cc:1061: Starting in XGBoost 1.3.0, the default evaluation metric used with the objective 'binary:logistic' was changed from 'error' to 'logloss'. Explicitly set eval_metric if you'd like to restore the old behavior.\n"
     ]
    },
    {
     "name": "stderr",
     "output_type": "stream",
     "text": [
      "100%|██████████████████████████████████████████████████████████████████████████████████| 29/29 [00:02<00:00, 13.15it/s]\n"
     ]
    },
    {
     "name": "stdout",
     "output_type": "stream",
     "text": [
      "11\n"
     ]
    },
    {
     "name": "stderr",
     "output_type": "stream",
     "text": [
      " 97%|███████████████████████████████████████████████████████████████████████████████▏  | 28/29 [00:02<00:00, 14.16it/s]"
     ]
    },
    {
     "name": "stdout",
     "output_type": "stream",
     "text": [
      "[14:38:11] WARNING: ..\\src\\learner.cc:1061: Starting in XGBoost 1.3.0, the default evaluation metric used with the objective 'binary:logistic' was changed from 'error' to 'logloss'. Explicitly set eval_metric if you'd like to restore the old behavior.\n"
     ]
    },
    {
     "name": "stderr",
     "output_type": "stream",
     "text": [
      "100%|██████████████████████████████████████████████████████████████████████████████████| 29/29 [00:02<00:00, 12.53it/s]\n"
     ]
    },
    {
     "name": "stdout",
     "output_type": "stream",
     "text": [
      "12\n"
     ]
    },
    {
     "name": "stderr",
     "output_type": "stream",
     "text": [
      " 90%|█████████████████████████████████████████████████████████████████████████▌        | 26/29 [00:02<00:00, 14.94it/s]"
     ]
    },
    {
     "name": "stdout",
     "output_type": "stream",
     "text": [
      "[14:38:13] WARNING: ..\\src\\learner.cc:1061: Starting in XGBoost 1.3.0, the default evaluation metric used with the objective 'binary:logistic' was changed from 'error' to 'logloss'. Explicitly set eval_metric if you'd like to restore the old behavior.\n"
     ]
    },
    {
     "name": "stderr",
     "output_type": "stream",
     "text": [
      "100%|██████████████████████████████████████████████████████████████████████████████████| 29/29 [00:02<00:00, 12.78it/s]\n"
     ]
    },
    {
     "name": "stdout",
     "output_type": "stream",
     "text": [
      "13\n"
     ]
    },
    {
     "name": "stderr",
     "output_type": "stream",
     "text": [
      " 97%|███████████████████████████████████████████████████████████████████████████████▏  | 28/29 [00:02<00:00, 13.94it/s]"
     ]
    },
    {
     "name": "stdout",
     "output_type": "stream",
     "text": [
      "[14:38:15] WARNING: ..\\src\\learner.cc:1061: Starting in XGBoost 1.3.0, the default evaluation metric used with the objective 'binary:logistic' was changed from 'error' to 'logloss'. Explicitly set eval_metric if you'd like to restore the old behavior.\n"
     ]
    },
    {
     "name": "stderr",
     "output_type": "stream",
     "text": [
      "100%|██████████████████████████████████████████████████████████████████████████████████| 29/29 [00:02<00:00, 12.66it/s]\n"
     ]
    },
    {
     "name": "stdout",
     "output_type": "stream",
     "text": [
      "14\n"
     ]
    },
    {
     "name": "stderr",
     "output_type": "stream",
     "text": [
      " 97%|███████████████████████████████████████████████████████████████████████████████▏  | 28/29 [00:02<00:00, 14.14it/s]"
     ]
    },
    {
     "name": "stdout",
     "output_type": "stream",
     "text": [
      "[14:38:17] WARNING: ..\\src\\learner.cc:1061: Starting in XGBoost 1.3.0, the default evaluation metric used with the objective 'binary:logistic' was changed from 'error' to 'logloss'. Explicitly set eval_metric if you'd like to restore the old behavior.\n"
     ]
    },
    {
     "name": "stderr",
     "output_type": "stream",
     "text": [
      "100%|██████████████████████████████████████████████████████████████████████████████████| 29/29 [00:02<00:00, 12.92it/s]\n"
     ]
    },
    {
     "name": "stdout",
     "output_type": "stream",
     "text": [
      "15\n"
     ]
    },
    {
     "name": "stderr",
     "output_type": "stream",
     "text": [
      " 97%|███████████████████████████████████████████████████████████████████████████████▏  | 28/29 [00:02<00:00, 14.48it/s]"
     ]
    },
    {
     "name": "stdout",
     "output_type": "stream",
     "text": [
      "[14:38:20] WARNING: ..\\src\\learner.cc:1061: Starting in XGBoost 1.3.0, the default evaluation metric used with the objective 'binary:logistic' was changed from 'error' to 'logloss'. Explicitly set eval_metric if you'd like to restore the old behavior.\n"
     ]
    },
    {
     "name": "stderr",
     "output_type": "stream",
     "text": [
      "100%|██████████████████████████████████████████████████████████████████████████████████| 29/29 [00:02<00:00, 12.84it/s]\n"
     ]
    },
    {
     "name": "stdout",
     "output_type": "stream",
     "text": [
      "16\n"
     ]
    },
    {
     "name": "stderr",
     "output_type": "stream",
     "text": [
      " 97%|███████████████████████████████████████████████████████████████████████████████▏  | 28/29 [00:02<00:00, 13.81it/s]"
     ]
    },
    {
     "name": "stdout",
     "output_type": "stream",
     "text": [
      "[14:38:22] WARNING: ..\\src\\learner.cc:1061: Starting in XGBoost 1.3.0, the default evaluation metric used with the objective 'binary:logistic' was changed from 'error' to 'logloss'. Explicitly set eval_metric if you'd like to restore the old behavior.\n"
     ]
    },
    {
     "name": "stderr",
     "output_type": "stream",
     "text": [
      "100%|██████████████████████████████████████████████████████████████████████████████████| 29/29 [00:02<00:00, 12.57it/s]\n"
     ]
    },
    {
     "name": "stdout",
     "output_type": "stream",
     "text": [
      "17\n"
     ]
    },
    {
     "name": "stderr",
     "output_type": "stream",
     "text": [
      " 97%|███████████████████████████████████████████████████████████████████████████████▏  | 28/29 [00:02<00:00, 14.19it/s]"
     ]
    },
    {
     "name": "stdout",
     "output_type": "stream",
     "text": [
      "[14:38:24] WARNING: ..\\src\\learner.cc:1061: Starting in XGBoost 1.3.0, the default evaluation metric used with the objective 'binary:logistic' was changed from 'error' to 'logloss'. Explicitly set eval_metric if you'd like to restore the old behavior.\n"
     ]
    },
    {
     "name": "stderr",
     "output_type": "stream",
     "text": [
      "100%|██████████████████████████████████████████████████████████████████████████████████| 29/29 [00:02<00:00, 12.64it/s]\n"
     ]
    },
    {
     "name": "stdout",
     "output_type": "stream",
     "text": [
      "18\n"
     ]
    },
    {
     "name": "stderr",
     "output_type": "stream",
     "text": [
      " 97%|███████████████████████████████████████████████████████████████████████████████▏  | 28/29 [00:02<00:00, 13.84it/s]"
     ]
    },
    {
     "name": "stdout",
     "output_type": "stream",
     "text": [
      "[14:38:27] WARNING: ..\\src\\learner.cc:1061: Starting in XGBoost 1.3.0, the default evaluation metric used with the objective 'binary:logistic' was changed from 'error' to 'logloss'. Explicitly set eval_metric if you'd like to restore the old behavior.\n"
     ]
    },
    {
     "name": "stderr",
     "output_type": "stream",
     "text": [
      "100%|██████████████████████████████████████████████████████████████████████████████████| 29/29 [00:02<00:00, 12.65it/s]\n"
     ]
    },
    {
     "name": "stdout",
     "output_type": "stream",
     "text": [
      "19\n"
     ]
    },
    {
     "name": "stderr",
     "output_type": "stream",
     "text": [
      " 97%|███████████████████████████████████████████████████████████████████████████████▏  | 28/29 [00:02<00:00, 14.16it/s]"
     ]
    },
    {
     "name": "stdout",
     "output_type": "stream",
     "text": [
      "[14:38:29] WARNING: ..\\src\\learner.cc:1061: Starting in XGBoost 1.3.0, the default evaluation metric used with the objective 'binary:logistic' was changed from 'error' to 'logloss'. Explicitly set eval_metric if you'd like to restore the old behavior.\n"
     ]
    },
    {
     "name": "stderr",
     "output_type": "stream",
     "text": [
      "100%|██████████████████████████████████████████████████████████████████████████████████| 29/29 [00:02<00:00, 12.76it/s]\n"
     ]
    },
    {
     "name": "stdout",
     "output_type": "stream",
     "text": [
      "20\n"
     ]
    },
    {
     "name": "stderr",
     "output_type": "stream",
     "text": [
      " 97%|███████████████████████████████████████████████████████████████████████████████▏  | 28/29 [00:02<00:00, 13.71it/s]"
     ]
    },
    {
     "name": "stdout",
     "output_type": "stream",
     "text": [
      "[14:38:31] WARNING: ..\\src\\learner.cc:1061: Starting in XGBoost 1.3.0, the default evaluation metric used with the objective 'binary:logistic' was changed from 'error' to 'logloss'. Explicitly set eval_metric if you'd like to restore the old behavior.\n"
     ]
    },
    {
     "name": "stderr",
     "output_type": "stream",
     "text": [
      "100%|██████████████████████████████████████████████████████████████████████████████████| 29/29 [00:02<00:00, 12.68it/s]\n"
     ]
    },
    {
     "name": "stdout",
     "output_type": "stream",
     "text": [
      "21\n"
     ]
    },
    {
     "name": "stderr",
     "output_type": "stream",
     "text": [
      " 97%|███████████████████████████████████████████████████████████████████████████████▏  | 28/29 [00:02<00:00, 13.22it/s]"
     ]
    },
    {
     "name": "stdout",
     "output_type": "stream",
     "text": [
      "[14:38:33] WARNING: ..\\src\\learner.cc:1061: Starting in XGBoost 1.3.0, the default evaluation metric used with the objective 'binary:logistic' was changed from 'error' to 'logloss'. Explicitly set eval_metric if you'd like to restore the old behavior.\n"
     ]
    },
    {
     "name": "stderr",
     "output_type": "stream",
     "text": [
      "100%|██████████████████████████████████████████████████████████████████████████████████| 29/29 [00:02<00:00, 12.77it/s]\n"
     ]
    },
    {
     "name": "stdout",
     "output_type": "stream",
     "text": [
      "22\n"
     ]
    },
    {
     "name": "stderr",
     "output_type": "stream",
     "text": [
      " 97%|███████████████████████████████████████████████████████████████████████████████▏  | 28/29 [00:02<00:00, 13.99it/s]"
     ]
    },
    {
     "name": "stdout",
     "output_type": "stream",
     "text": [
      "[14:38:36] WARNING: ..\\src\\learner.cc:1061: Starting in XGBoost 1.3.0, the default evaluation metric used with the objective 'binary:logistic' was changed from 'error' to 'logloss'. Explicitly set eval_metric if you'd like to restore the old behavior.\n"
     ]
    },
    {
     "name": "stderr",
     "output_type": "stream",
     "text": [
      "100%|██████████████████████████████████████████████████████████████████████████████████| 29/29 [00:02<00:00, 12.40it/s]\n"
     ]
    },
    {
     "name": "stdout",
     "output_type": "stream",
     "text": [
      "23\n"
     ]
    },
    {
     "name": "stderr",
     "output_type": "stream",
     "text": [
      " 90%|█████████████████████████████████████████████████████████████████████████▌        | 26/29 [00:01<00:00, 14.81it/s]"
     ]
    },
    {
     "name": "stdout",
     "output_type": "stream",
     "text": [
      "[14:38:38] WARNING: ..\\src\\learner.cc:1061: Starting in XGBoost 1.3.0, the default evaluation metric used with the objective 'binary:logistic' was changed from 'error' to 'logloss'. Explicitly set eval_metric if you'd like to restore the old behavior.\n"
     ]
    },
    {
     "name": "stderr",
     "output_type": "stream",
     "text": [
      "100%|██████████████████████████████████████████████████████████████████████████████████| 29/29 [00:02<00:00, 12.98it/s]\n"
     ]
    },
    {
     "name": "stdout",
     "output_type": "stream",
     "text": [
      "24\n"
     ]
    },
    {
     "name": "stderr",
     "output_type": "stream",
     "text": [
      " 97%|███████████████████████████████████████████████████████████████████████████████▏  | 28/29 [00:02<00:00, 13.10it/s]"
     ]
    },
    {
     "name": "stdout",
     "output_type": "stream",
     "text": [
      "[14:38:40] WARNING: ..\\src\\learner.cc:1061: Starting in XGBoost 1.3.0, the default evaluation metric used with the objective 'binary:logistic' was changed from 'error' to 'logloss'. Explicitly set eval_metric if you'd like to restore the old behavior.\n"
     ]
    },
    {
     "name": "stderr",
     "output_type": "stream",
     "text": [
      "100%|██████████████████████████████████████████████████████████████████████████████████| 29/29 [00:02<00:00, 12.68it/s]\n"
     ]
    },
    {
     "name": "stdout",
     "output_type": "stream",
     "text": [
      "25\n"
     ]
    },
    {
     "name": "stderr",
     "output_type": "stream",
     "text": [
      " 90%|█████████████████████████████████████████████████████████████████████████▌        | 26/29 [00:02<00:00, 14.70it/s]"
     ]
    },
    {
     "name": "stdout",
     "output_type": "stream",
     "text": [
      "[14:38:43] WARNING: ..\\src\\learner.cc:1061: Starting in XGBoost 1.3.0, the default evaluation metric used with the objective 'binary:logistic' was changed from 'error' to 'logloss'. Explicitly set eval_metric if you'd like to restore the old behavior.\n"
     ]
    },
    {
     "name": "stderr",
     "output_type": "stream",
     "text": [
      "100%|██████████████████████████████████████████████████████████████████████████████████| 29/29 [00:02<00:00, 12.56it/s]\n"
     ]
    },
    {
     "name": "stdout",
     "output_type": "stream",
     "text": [
      "26\n"
     ]
    },
    {
     "name": "stderr",
     "output_type": "stream",
     "text": [
      " 90%|█████████████████████████████████████████████████████████████████████████▌        | 26/29 [00:02<00:00, 14.90it/s]"
     ]
    },
    {
     "name": "stdout",
     "output_type": "stream",
     "text": [
      "[14:38:45] WARNING: ..\\src\\learner.cc:1061: Starting in XGBoost 1.3.0, the default evaluation metric used with the objective 'binary:logistic' was changed from 'error' to 'logloss'. Explicitly set eval_metric if you'd like to restore the old behavior.\n"
     ]
    },
    {
     "name": "stderr",
     "output_type": "stream",
     "text": [
      "100%|██████████████████████████████████████████████████████████████████████████████████| 29/29 [00:02<00:00, 12.81it/s]\n"
     ]
    },
    {
     "name": "stdout",
     "output_type": "stream",
     "text": [
      "27\n"
     ]
    },
    {
     "name": "stderr",
     "output_type": "stream",
     "text": [
      " 90%|█████████████████████████████████████████████████████████████████████████▌        | 26/29 [00:02<00:00, 14.79it/s]"
     ]
    },
    {
     "name": "stdout",
     "output_type": "stream",
     "text": [
      "[14:38:47] WARNING: ..\\src\\learner.cc:1061: Starting in XGBoost 1.3.0, the default evaluation metric used with the objective 'binary:logistic' was changed from 'error' to 'logloss'. Explicitly set eval_metric if you'd like to restore the old behavior.\n"
     ]
    },
    {
     "name": "stderr",
     "output_type": "stream",
     "text": [
      "100%|██████████████████████████████████████████████████████████████████████████████████| 29/29 [00:02<00:00, 12.80it/s]\n"
     ]
    },
    {
     "name": "stdout",
     "output_type": "stream",
     "text": [
      "28\n"
     ]
    },
    {
     "name": "stderr",
     "output_type": "stream",
     "text": [
      " 97%|███████████████████████████████████████████████████████████████████████████████▏  | 28/29 [00:02<00:00, 13.95it/s]"
     ]
    },
    {
     "name": "stdout",
     "output_type": "stream",
     "text": [
      "[14:38:50] WARNING: ..\\src\\learner.cc:1061: Starting in XGBoost 1.3.0, the default evaluation metric used with the objective 'binary:logistic' was changed from 'error' to 'logloss'. Explicitly set eval_metric if you'd like to restore the old behavior.\n"
     ]
    },
    {
     "name": "stderr",
     "output_type": "stream",
     "text": [
      "100%|██████████████████████████████████████████████████████████████████████████████████| 29/29 [00:02<00:00, 12.55it/s]\n"
     ]
    },
    {
     "name": "stdout",
     "output_type": "stream",
     "text": [
      "29\n"
     ]
    },
    {
     "name": "stderr",
     "output_type": "stream",
     "text": [
      " 97%|███████████████████████████████████████████████████████████████████████████████▏  | 28/29 [00:02<00:00, 13.94it/s]"
     ]
    },
    {
     "name": "stdout",
     "output_type": "stream",
     "text": [
      "[14:38:52] WARNING: ..\\src\\learner.cc:1061: Starting in XGBoost 1.3.0, the default evaluation metric used with the objective 'binary:logistic' was changed from 'error' to 'logloss'. Explicitly set eval_metric if you'd like to restore the old behavior.\n"
     ]
    },
    {
     "name": "stderr",
     "output_type": "stream",
     "text": [
      "100%|██████████████████████████████████████████████████████████████████████████████████| 29/29 [00:02<00:00, 12.49it/s]\n"
     ]
    },
    {
     "name": "stdout",
     "output_type": "stream",
     "text": [
      "30\n"
     ]
    },
    {
     "name": "stderr",
     "output_type": "stream",
     "text": [
      " 90%|█████████████████████████████████████████████████████████████████████████▌        | 26/29 [00:02<00:00, 15.10it/s]"
     ]
    },
    {
     "name": "stdout",
     "output_type": "stream",
     "text": [
      "[14:38:54] WARNING: ..\\src\\learner.cc:1061: Starting in XGBoost 1.3.0, the default evaluation metric used with the objective 'binary:logistic' was changed from 'error' to 'logloss'. Explicitly set eval_metric if you'd like to restore the old behavior.\n"
     ]
    },
    {
     "name": "stderr",
     "output_type": "stream",
     "text": [
      "100%|██████████████████████████████████████████████████████████████████████████████████| 29/29 [00:02<00:00, 12.73it/s]\n"
     ]
    },
    {
     "name": "stdout",
     "output_type": "stream",
     "text": [
      "31\n"
     ]
    },
    {
     "name": "stderr",
     "output_type": "stream",
     "text": [
      " 97%|███████████████████████████████████████████████████████████████████████████████▏  | 28/29 [00:02<00:00, 14.32it/s]"
     ]
    },
    {
     "name": "stdout",
     "output_type": "stream",
     "text": [
      "[14:38:57] WARNING: ..\\src\\learner.cc:1061: Starting in XGBoost 1.3.0, the default evaluation metric used with the objective 'binary:logistic' was changed from 'error' to 'logloss'. Explicitly set eval_metric if you'd like to restore the old behavior.\n"
     ]
    },
    {
     "name": "stderr",
     "output_type": "stream",
     "text": [
      "100%|██████████████████████████████████████████████████████████████████████████████████| 29/29 [00:02<00:00, 12.79it/s]\n"
     ]
    },
    {
     "name": "stdout",
     "output_type": "stream",
     "text": [
      "32\n"
     ]
    },
    {
     "name": "stderr",
     "output_type": "stream",
     "text": [
      " 97%|███████████████████████████████████████████████████████████████████████████████▏  | 28/29 [00:02<00:00, 13.85it/s]"
     ]
    },
    {
     "name": "stdout",
     "output_type": "stream",
     "text": [
      "[14:38:59] WARNING: ..\\src\\learner.cc:1061: Starting in XGBoost 1.3.0, the default evaluation metric used with the objective 'binary:logistic' was changed from 'error' to 'logloss'. Explicitly set eval_metric if you'd like to restore the old behavior.\n"
     ]
    },
    {
     "name": "stderr",
     "output_type": "stream",
     "text": [
      "100%|██████████████████████████████████████████████████████████████████████████████████| 29/29 [00:02<00:00, 12.56it/s]\n"
     ]
    },
    {
     "name": "stdout",
     "output_type": "stream",
     "text": [
      "33\n"
     ]
    },
    {
     "name": "stderr",
     "output_type": "stream",
     "text": [
      " 97%|███████████████████████████████████████████████████████████████████████████████▏  | 28/29 [00:02<00:00, 14.24it/s]"
     ]
    },
    {
     "name": "stdout",
     "output_type": "stream",
     "text": [
      "[14:39:01] WARNING: ..\\src\\learner.cc:1061: Starting in XGBoost 1.3.0, the default evaluation metric used with the objective 'binary:logistic' was changed from 'error' to 'logloss'. Explicitly set eval_metric if you'd like to restore the old behavior.\n"
     ]
    },
    {
     "name": "stderr",
     "output_type": "stream",
     "text": [
      "100%|██████████████████████████████████████████████████████████████████████████████████| 29/29 [00:02<00:00, 12.58it/s]\n"
     ]
    },
    {
     "name": "stdout",
     "output_type": "stream",
     "text": [
      "34\n"
     ]
    },
    {
     "name": "stderr",
     "output_type": "stream",
     "text": [
      " 97%|███████████████████████████████████████████████████████████████████████████████▏  | 28/29 [00:02<00:00, 13.21it/s]"
     ]
    },
    {
     "name": "stdout",
     "output_type": "stream",
     "text": [
      "[14:39:03] WARNING: ..\\src\\learner.cc:1061: Starting in XGBoost 1.3.0, the default evaluation metric used with the objective 'binary:logistic' was changed from 'error' to 'logloss'. Explicitly set eval_metric if you'd like to restore the old behavior.\n"
     ]
    },
    {
     "name": "stderr",
     "output_type": "stream",
     "text": [
      "100%|██████████████████████████████████████████████████████████████████████████████████| 29/29 [00:02<00:00, 12.79it/s]\n"
     ]
    },
    {
     "name": "stdout",
     "output_type": "stream",
     "text": [
      "35\n"
     ]
    },
    {
     "name": "stderr",
     "output_type": "stream",
     "text": [
      " 97%|███████████████████████████████████████████████████████████████████████████████▏  | 28/29 [00:02<00:00, 13.88it/s]"
     ]
    },
    {
     "name": "stdout",
     "output_type": "stream",
     "text": [
      "[14:39:06] WARNING: ..\\src\\learner.cc:1061: Starting in XGBoost 1.3.0, the default evaluation metric used with the objective 'binary:logistic' was changed from 'error' to 'logloss'. Explicitly set eval_metric if you'd like to restore the old behavior.\n"
     ]
    },
    {
     "name": "stderr",
     "output_type": "stream",
     "text": [
      "100%|██████████████████████████████████████████████████████████████████████████████████| 29/29 [00:02<00:00, 12.50it/s]\n"
     ]
    },
    {
     "name": "stdout",
     "output_type": "stream",
     "text": [
      "36\n"
     ]
    },
    {
     "name": "stderr",
     "output_type": "stream",
     "text": [
      " 90%|█████████████████████████████████████████████████████████████████████████▌        | 26/29 [00:01<00:00, 14.62it/s]"
     ]
    },
    {
     "name": "stdout",
     "output_type": "stream",
     "text": [
      "[14:39:08] WARNING: ..\\src\\learner.cc:1061: Starting in XGBoost 1.3.0, the default evaluation metric used with the objective 'binary:logistic' was changed from 'error' to 'logloss'. Explicitly set eval_metric if you'd like to restore the old behavior.\n"
     ]
    },
    {
     "name": "stderr",
     "output_type": "stream",
     "text": [
      "100%|██████████████████████████████████████████████████████████████████████████████████| 29/29 [00:02<00:00, 13.34it/s]\n"
     ]
    },
    {
     "name": "stdout",
     "output_type": "stream",
     "text": [
      "37\n"
     ]
    },
    {
     "name": "stderr",
     "output_type": "stream",
     "text": [
      " 97%|███████████████████████████████████████████████████████████████████████████████▏  | 28/29 [00:02<00:00, 13.85it/s]"
     ]
    },
    {
     "name": "stdout",
     "output_type": "stream",
     "text": [
      "[14:39:10] WARNING: ..\\src\\learner.cc:1061: Starting in XGBoost 1.3.0, the default evaluation metric used with the objective 'binary:logistic' was changed from 'error' to 'logloss'. Explicitly set eval_metric if you'd like to restore the old behavior.\n"
     ]
    },
    {
     "name": "stderr",
     "output_type": "stream",
     "text": [
      "100%|██████████████████████████████████████████████████████████████████████████████████| 29/29 [00:02<00:00, 12.52it/s]\n"
     ]
    },
    {
     "name": "stdout",
     "output_type": "stream",
     "text": [
      "38\n"
     ]
    },
    {
     "name": "stderr",
     "output_type": "stream",
     "text": [
      " 90%|█████████████████████████████████████████████████████████████████████████▌        | 26/29 [00:02<00:00, 15.07it/s]"
     ]
    },
    {
     "name": "stdout",
     "output_type": "stream",
     "text": [
      "[14:39:13] WARNING: ..\\src\\learner.cc:1061: Starting in XGBoost 1.3.0, the default evaluation metric used with the objective 'binary:logistic' was changed from 'error' to 'logloss'. Explicitly set eval_metric if you'd like to restore the old behavior.\n"
     ]
    },
    {
     "name": "stderr",
     "output_type": "stream",
     "text": [
      "100%|██████████████████████████████████████████████████████████████████████████████████| 29/29 [00:02<00:00, 12.85it/s]\n"
     ]
    },
    {
     "name": "stdout",
     "output_type": "stream",
     "text": [
      "39\n"
     ]
    },
    {
     "name": "stderr",
     "output_type": "stream",
     "text": [
      " 97%|███████████████████████████████████████████████████████████████████████████████▏  | 28/29 [00:02<00:00, 14.05it/s]"
     ]
    },
    {
     "name": "stdout",
     "output_type": "stream",
     "text": [
      "[14:39:15] WARNING: ..\\src\\learner.cc:1061: Starting in XGBoost 1.3.0, the default evaluation metric used with the objective 'binary:logistic' was changed from 'error' to 'logloss'. Explicitly set eval_metric if you'd like to restore the old behavior.\n"
     ]
    },
    {
     "name": "stderr",
     "output_type": "stream",
     "text": [
      "100%|██████████████████████████████████████████████████████████████████████████████████| 29/29 [00:02<00:00, 12.65it/s]\n"
     ]
    },
    {
     "name": "stdout",
     "output_type": "stream",
     "text": [
      "40\n"
     ]
    },
    {
     "name": "stderr",
     "output_type": "stream",
     "text": [
      " 97%|███████████████████████████████████████████████████████████████████████████████▏  | 28/29 [00:02<00:00, 13.92it/s]"
     ]
    },
    {
     "name": "stdout",
     "output_type": "stream",
     "text": [
      "[14:39:17] WARNING: ..\\src\\learner.cc:1061: Starting in XGBoost 1.3.0, the default evaluation metric used with the objective 'binary:logistic' was changed from 'error' to 'logloss'. Explicitly set eval_metric if you'd like to restore the old behavior.\n"
     ]
    },
    {
     "name": "stderr",
     "output_type": "stream",
     "text": [
      "100%|██████████████████████████████████████████████████████████████████████████████████| 29/29 [00:02<00:00, 12.82it/s]\n"
     ]
    },
    {
     "name": "stdout",
     "output_type": "stream",
     "text": [
      "41\n"
     ]
    },
    {
     "name": "stderr",
     "output_type": "stream",
     "text": [
      " 90%|█████████████████████████████████████████████████████████████████████████▌        | 26/29 [00:02<00:00, 14.90it/s]"
     ]
    },
    {
     "name": "stdout",
     "output_type": "stream",
     "text": [
      "[14:39:19] WARNING: ..\\src\\learner.cc:1061: Starting in XGBoost 1.3.0, the default evaluation metric used with the objective 'binary:logistic' was changed from 'error' to 'logloss'. Explicitly set eval_metric if you'd like to restore the old behavior.\n"
     ]
    },
    {
     "name": "stderr",
     "output_type": "stream",
     "text": [
      "100%|██████████████████████████████████████████████████████████████████████████████████| 29/29 [00:02<00:00, 12.59it/s]\n"
     ]
    },
    {
     "name": "stdout",
     "output_type": "stream",
     "text": [
      "42\n"
     ]
    },
    {
     "name": "stderr",
     "output_type": "stream",
     "text": [
      " 90%|█████████████████████████████████████████████████████████████████████████▌        | 26/29 [00:02<00:00, 15.10it/s]"
     ]
    },
    {
     "name": "stdout",
     "output_type": "stream",
     "text": [
      "[14:39:22] WARNING: ..\\src\\learner.cc:1061: Starting in XGBoost 1.3.0, the default evaluation metric used with the objective 'binary:logistic' was changed from 'error' to 'logloss'. Explicitly set eval_metric if you'd like to restore the old behavior.\n"
     ]
    },
    {
     "name": "stderr",
     "output_type": "stream",
     "text": [
      "100%|██████████████████████████████████████████████████████████████████████████████████| 29/29 [00:02<00:00, 12.77it/s]\n"
     ]
    },
    {
     "name": "stdout",
     "output_type": "stream",
     "text": [
      "43\n"
     ]
    },
    {
     "name": "stderr",
     "output_type": "stream",
     "text": [
      " 97%|███████████████████████████████████████████████████████████████████████████████▏  | 28/29 [00:02<00:00, 13.78it/s]"
     ]
    },
    {
     "name": "stdout",
     "output_type": "stream",
     "text": [
      "[14:39:24] WARNING: ..\\src\\learner.cc:1061: Starting in XGBoost 1.3.0, the default evaluation metric used with the objective 'binary:logistic' was changed from 'error' to 'logloss'. Explicitly set eval_metric if you'd like to restore the old behavior.\n"
     ]
    },
    {
     "name": "stderr",
     "output_type": "stream",
     "text": [
      "100%|██████████████████████████████████████████████████████████████████████████████████| 29/29 [00:02<00:00, 12.54it/s]\n"
     ]
    },
    {
     "name": "stdout",
     "output_type": "stream",
     "text": [
      "44\n"
     ]
    },
    {
     "name": "stderr",
     "output_type": "stream",
     "text": [
      " 90%|█████████████████████████████████████████████████████████████████████████▌        | 26/29 [00:02<00:00, 14.94it/s]"
     ]
    },
    {
     "name": "stdout",
     "output_type": "stream",
     "text": [
      "[14:39:26] WARNING: ..\\src\\learner.cc:1061: Starting in XGBoost 1.3.0, the default evaluation metric used with the objective 'binary:logistic' was changed from 'error' to 'logloss'. Explicitly set eval_metric if you'd like to restore the old behavior.\n"
     ]
    },
    {
     "name": "stderr",
     "output_type": "stream",
     "text": [
      "100%|██████████████████████████████████████████████████████████████████████████████████| 29/29 [00:02<00:00, 12.74it/s]\n"
     ]
    },
    {
     "name": "stdout",
     "output_type": "stream",
     "text": [
      "45\n"
     ]
    },
    {
     "name": "stderr",
     "output_type": "stream",
     "text": [
      "100%|██████████████████████████████████████████████████████████████████████████████████| 29/29 [00:01<00:00, 14.59it/s]\n"
     ]
    },
    {
     "name": "stdout",
     "output_type": "stream",
     "text": [
      "[14:39:28] WARNING: ..\\src\\learner.cc:1061: Starting in XGBoost 1.3.0, the default evaluation metric used with the objective 'binary:logistic' was changed from 'error' to 'logloss'. Explicitly set eval_metric if you'd like to restore the old behavior.\n",
      "46\n"
     ]
    },
    {
     "name": "stderr",
     "output_type": "stream",
     "text": [
      " 97%|███████████████████████████████████████████████████████████████████████████████▏  | 28/29 [00:02<00:00, 13.46it/s]"
     ]
    },
    {
     "name": "stdout",
     "output_type": "stream",
     "text": [
      "[14:39:31] WARNING: ..\\src\\learner.cc:1061: Starting in XGBoost 1.3.0, the default evaluation metric used with the objective 'binary:logistic' was changed from 'error' to 'logloss'. Explicitly set eval_metric if you'd like to restore the old behavior.\n"
     ]
    },
    {
     "name": "stderr",
     "output_type": "stream",
     "text": [
      "100%|██████████████████████████████████████████████████████████████████████████████████| 29/29 [00:02<00:00, 12.11it/s]\n"
     ]
    },
    {
     "name": "stdout",
     "output_type": "stream",
     "text": [
      "47\n"
     ]
    },
    {
     "name": "stderr",
     "output_type": "stream",
     "text": [
      " 97%|███████████████████████████████████████████████████████████████████████████████▏  | 28/29 [00:02<00:00, 13.07it/s]"
     ]
    },
    {
     "name": "stdout",
     "output_type": "stream",
     "text": [
      "[14:39:33] WARNING: ..\\src\\learner.cc:1061: Starting in XGBoost 1.3.0, the default evaluation metric used with the objective 'binary:logistic' was changed from 'error' to 'logloss'. Explicitly set eval_metric if you'd like to restore the old behavior.\n"
     ]
    },
    {
     "name": "stderr",
     "output_type": "stream",
     "text": [
      "100%|██████████████████████████████████████████████████████████████████████████████████| 29/29 [00:02<00:00, 11.58it/s]\n"
     ]
    },
    {
     "name": "stdout",
     "output_type": "stream",
     "text": [
      "48\n"
     ]
    },
    {
     "name": "stderr",
     "output_type": "stream",
     "text": [
      " 97%|███████████████████████████████████████████████████████████████████████████████▏  | 28/29 [00:02<00:00, 12.07it/s]"
     ]
    },
    {
     "name": "stdout",
     "output_type": "stream",
     "text": [
      "[14:39:36] WARNING: ..\\src\\learner.cc:1061: Starting in XGBoost 1.3.0, the default evaluation metric used with the objective 'binary:logistic' was changed from 'error' to 'logloss'. Explicitly set eval_metric if you'd like to restore the old behavior.\n"
     ]
    },
    {
     "name": "stderr",
     "output_type": "stream",
     "text": [
      "100%|██████████████████████████████████████████████████████████████████████████████████| 29/29 [00:02<00:00, 10.67it/s]\n"
     ]
    },
    {
     "name": "stdout",
     "output_type": "stream",
     "text": [
      "49\n"
     ]
    },
    {
     "name": "stderr",
     "output_type": "stream",
     "text": [
      " 97%|███████████████████████████████████████████████████████████████████████████████▏  | 28/29 [00:02<00:00, 13.90it/s]"
     ]
    },
    {
     "name": "stdout",
     "output_type": "stream",
     "text": [
      "[14:39:39] WARNING: ..\\src\\learner.cc:1061: Starting in XGBoost 1.3.0, the default evaluation metric used with the objective 'binary:logistic' was changed from 'error' to 'logloss'. Explicitly set eval_metric if you'd like to restore the old behavior.\n"
     ]
    },
    {
     "name": "stderr",
     "output_type": "stream",
     "text": [
      "100%|██████████████████████████████████████████████████████████████████████████████████| 29/29 [00:02<00:00, 11.60it/s]\n"
     ]
    },
    {
     "name": "stdout",
     "output_type": "stream",
     "text": [
      "50\n"
     ]
    },
    {
     "name": "stderr",
     "output_type": "stream",
     "text": [
      " 97%|███████████████████████████████████████████████████████████████████████████████▏  | 28/29 [00:02<00:00, 12.64it/s]"
     ]
    },
    {
     "name": "stdout",
     "output_type": "stream",
     "text": [
      "[14:39:41] WARNING: ..\\src\\learner.cc:1061: Starting in XGBoost 1.3.0, the default evaluation metric used with the objective 'binary:logistic' was changed from 'error' to 'logloss'. Explicitly set eval_metric if you'd like to restore the old behavior.\n"
     ]
    },
    {
     "name": "stderr",
     "output_type": "stream",
     "text": [
      "100%|██████████████████████████████████████████████████████████████████████████████████| 29/29 [00:02<00:00, 10.48it/s]\n"
     ]
    },
    {
     "name": "stdout",
     "output_type": "stream",
     "text": [
      "51\n"
     ]
    },
    {
     "name": "stderr",
     "output_type": "stream",
     "text": [
      " 97%|███████████████████████████████████████████████████████████████████████████████▏  | 28/29 [00:02<00:00, 12.76it/s]"
     ]
    },
    {
     "name": "stdout",
     "output_type": "stream",
     "text": [
      "[14:39:44] WARNING: ..\\src\\learner.cc:1061: Starting in XGBoost 1.3.0, the default evaluation metric used with the objective 'binary:logistic' was changed from 'error' to 'logloss'. Explicitly set eval_metric if you'd like to restore the old behavior.\n"
     ]
    },
    {
     "name": "stderr",
     "output_type": "stream",
     "text": [
      "100%|██████████████████████████████████████████████████████████████████████████████████| 29/29 [00:02<00:00, 10.86it/s]\n"
     ]
    },
    {
     "name": "stdout",
     "output_type": "stream",
     "text": [
      "52\n"
     ]
    },
    {
     "name": "stderr",
     "output_type": "stream",
     "text": [
      " 97%|███████████████████████████████████████████████████████████████████████████████▏  | 28/29 [00:02<00:00, 11.91it/s]"
     ]
    },
    {
     "name": "stdout",
     "output_type": "stream",
     "text": [
      "[14:39:47] WARNING: ..\\src\\learner.cc:1061: Starting in XGBoost 1.3.0, the default evaluation metric used with the objective 'binary:logistic' was changed from 'error' to 'logloss'. Explicitly set eval_metric if you'd like to restore the old behavior.\n"
     ]
    },
    {
     "name": "stderr",
     "output_type": "stream",
     "text": [
      "100%|██████████████████████████████████████████████████████████████████████████████████| 29/29 [00:02<00:00, 10.52it/s]\n"
     ]
    },
    {
     "name": "stdout",
     "output_type": "stream",
     "text": [
      "53\n"
     ]
    },
    {
     "name": "stderr",
     "output_type": "stream",
     "text": [
      " 97%|███████████████████████████████████████████████████████████████████████████████▏  | 28/29 [00:02<00:00, 12.72it/s]"
     ]
    },
    {
     "name": "stdout",
     "output_type": "stream",
     "text": [
      "[14:39:49] WARNING: ..\\src\\learner.cc:1061: Starting in XGBoost 1.3.0, the default evaluation metric used with the objective 'binary:logistic' was changed from 'error' to 'logloss'. Explicitly set eval_metric if you'd like to restore the old behavior.\n"
     ]
    },
    {
     "name": "stderr",
     "output_type": "stream",
     "text": [
      "100%|██████████████████████████████████████████████████████████████████████████████████| 29/29 [00:02<00:00, 11.02it/s]\n"
     ]
    },
    {
     "name": "stdout",
     "output_type": "stream",
     "text": [
      "54\n"
     ]
    },
    {
     "name": "stderr",
     "output_type": "stream",
     "text": [
      " 97%|███████████████████████████████████████████████████████████████████████████████▏  | 28/29 [00:02<00:00, 11.62it/s]"
     ]
    },
    {
     "name": "stdout",
     "output_type": "stream",
     "text": [
      "[14:39:52] WARNING: ..\\src\\learner.cc:1061: Starting in XGBoost 1.3.0, the default evaluation metric used with the objective 'binary:logistic' was changed from 'error' to 'logloss'. Explicitly set eval_metric if you'd like to restore the old behavior.\n"
     ]
    },
    {
     "name": "stderr",
     "output_type": "stream",
     "text": [
      "100%|██████████████████████████████████████████████████████████████████████████████████| 29/29 [00:02<00:00, 10.59it/s]\n"
     ]
    },
    {
     "name": "stdout",
     "output_type": "stream",
     "text": [
      "55\n"
     ]
    },
    {
     "name": "stderr",
     "output_type": "stream",
     "text": [
      " 97%|███████████████████████████████████████████████████████████████████████████████▏  | 28/29 [00:02<00:00, 12.91it/s]"
     ]
    },
    {
     "name": "stdout",
     "output_type": "stream",
     "text": [
      "[14:39:55] WARNING: ..\\src\\learner.cc:1061: Starting in XGBoost 1.3.0, the default evaluation metric used with the objective 'binary:logistic' was changed from 'error' to 'logloss'. Explicitly set eval_metric if you'd like to restore the old behavior.\n"
     ]
    },
    {
     "name": "stderr",
     "output_type": "stream",
     "text": [
      "100%|██████████████████████████████████████████████████████████████████████████████████| 29/29 [00:02<00:00, 11.06it/s]\n"
     ]
    },
    {
     "name": "stdout",
     "output_type": "stream",
     "text": [
      "56\n"
     ]
    },
    {
     "name": "stderr",
     "output_type": "stream",
     "text": [
      " 97%|███████████████████████████████████████████████████████████████████████████████▏  | 28/29 [00:02<00:00, 12.85it/s]"
     ]
    },
    {
     "name": "stdout",
     "output_type": "stream",
     "text": [
      "[14:39:58] WARNING: ..\\src\\learner.cc:1061: Starting in XGBoost 1.3.0, the default evaluation metric used with the objective 'binary:logistic' was changed from 'error' to 'logloss'. Explicitly set eval_metric if you'd like to restore the old behavior.\n"
     ]
    },
    {
     "name": "stderr",
     "output_type": "stream",
     "text": [
      "100%|██████████████████████████████████████████████████████████████████████████████████| 29/29 [00:02<00:00, 10.73it/s]\n"
     ]
    },
    {
     "name": "stdout",
     "output_type": "stream",
     "text": [
      "57\n"
     ]
    },
    {
     "name": "stderr",
     "output_type": "stream",
     "text": [
      " 97%|███████████████████████████████████████████████████████████████████████████████▏  | 28/29 [00:02<00:00, 12.41it/s]"
     ]
    },
    {
     "name": "stdout",
     "output_type": "stream",
     "text": [
      "[14:40:00] WARNING: ..\\src\\learner.cc:1061: Starting in XGBoost 1.3.0, the default evaluation metric used with the objective 'binary:logistic' was changed from 'error' to 'logloss'. Explicitly set eval_metric if you'd like to restore the old behavior.\n"
     ]
    },
    {
     "name": "stderr",
     "output_type": "stream",
     "text": [
      "100%|██████████████████████████████████████████████████████████████████████████████████| 29/29 [00:02<00:00, 10.81it/s]\n"
     ]
    },
    {
     "name": "stdout",
     "output_type": "stream",
     "text": [
      "58\n"
     ]
    },
    {
     "name": "stderr",
     "output_type": "stream",
     "text": [
      " 97%|███████████████████████████████████████████████████████████████████████████████▏  | 28/29 [00:02<00:00, 12.73it/s]"
     ]
    },
    {
     "name": "stdout",
     "output_type": "stream",
     "text": [
      "[14:40:03] WARNING: ..\\src\\learner.cc:1061: Starting in XGBoost 1.3.0, the default evaluation metric used with the objective 'binary:logistic' was changed from 'error' to 'logloss'. Explicitly set eval_metric if you'd like to restore the old behavior.\n"
     ]
    },
    {
     "name": "stderr",
     "output_type": "stream",
     "text": [
      "100%|██████████████████████████████████████████████████████████████████████████████████| 29/29 [00:02<00:00, 11.00it/s]\n"
     ]
    },
    {
     "name": "stdout",
     "output_type": "stream",
     "text": [
      "59\n"
     ]
    },
    {
     "name": "stderr",
     "output_type": "stream",
     "text": [
      " 90%|█████████████████████████████████████████████████████████████████████████▌        | 26/29 [00:02<00:00, 14.59it/s]"
     ]
    },
    {
     "name": "stdout",
     "output_type": "stream",
     "text": [
      "[14:40:05] WARNING: ..\\src\\learner.cc:1061: Starting in XGBoost 1.3.0, the default evaluation metric used with the objective 'binary:logistic' was changed from 'error' to 'logloss'. Explicitly set eval_metric if you'd like to restore the old behavior.\n"
     ]
    },
    {
     "name": "stderr",
     "output_type": "stream",
     "text": [
      "100%|██████████████████████████████████████████████████████████████████████████████████| 29/29 [00:02<00:00, 11.73it/s]\n"
     ]
    },
    {
     "name": "stdout",
     "output_type": "stream",
     "text": [
      "60\n"
     ]
    },
    {
     "name": "stderr",
     "output_type": "stream",
     "text": [
      " 90%|█████████████████████████████████████████████████████████████████████████▌        | 26/29 [00:01<00:00, 16.60it/s]"
     ]
    },
    {
     "name": "stdout",
     "output_type": "stream",
     "text": [
      "[14:40:08] WARNING: ..\\src\\learner.cc:1061: Starting in XGBoost 1.3.0, the default evaluation metric used with the objective 'binary:logistic' was changed from 'error' to 'logloss'. Explicitly set eval_metric if you'd like to restore the old behavior.\n"
     ]
    },
    {
     "name": "stderr",
     "output_type": "stream",
     "text": [
      "100%|██████████████████████████████████████████████████████████████████████████████████| 29/29 [00:02<00:00, 13.39it/s]\n"
     ]
    },
    {
     "name": "stdout",
     "output_type": "stream",
     "text": [
      "61\n"
     ]
    },
    {
     "name": "stderr",
     "output_type": "stream",
     "text": [
      " 90%|█████████████████████████████████████████████████████████████████████████▌        | 26/29 [00:02<00:00, 14.68it/s]"
     ]
    },
    {
     "name": "stdout",
     "output_type": "stream",
     "text": [
      "[14:40:10] WARNING: ..\\src\\learner.cc:1061: Starting in XGBoost 1.3.0, the default evaluation metric used with the objective 'binary:logistic' was changed from 'error' to 'logloss'. Explicitly set eval_metric if you'd like to restore the old behavior.\n"
     ]
    },
    {
     "name": "stderr",
     "output_type": "stream",
     "text": [
      "100%|██████████████████████████████████████████████████████████████████████████████████| 29/29 [00:02<00:00, 12.56it/s]\n"
     ]
    },
    {
     "name": "stdout",
     "output_type": "stream",
     "text": [
      "62\n"
     ]
    },
    {
     "name": "stderr",
     "output_type": "stream",
     "text": [
      " 97%|███████████████████████████████████████████████████████████████████████████████▏  | 28/29 [00:02<00:00, 13.72it/s]"
     ]
    },
    {
     "name": "stdout",
     "output_type": "stream",
     "text": [
      "[14:40:12] WARNING: ..\\src\\learner.cc:1061: Starting in XGBoost 1.3.0, the default evaluation metric used with the objective 'binary:logistic' was changed from 'error' to 'logloss'. Explicitly set eval_metric if you'd like to restore the old behavior.\n"
     ]
    },
    {
     "name": "stderr",
     "output_type": "stream",
     "text": [
      "100%|██████████████████████████████████████████████████████████████████████████████████| 29/29 [00:02<00:00, 12.54it/s]\n"
     ]
    },
    {
     "name": "stdout",
     "output_type": "stream",
     "text": [
      "63\n"
     ]
    },
    {
     "name": "stderr",
     "output_type": "stream",
     "text": [
      " 90%|█████████████████████████████████████████████████████████████████████████▌        | 26/29 [00:02<00:00, 14.70it/s]"
     ]
    },
    {
     "name": "stdout",
     "output_type": "stream",
     "text": [
      "[14:40:15] WARNING: ..\\src\\learner.cc:1061: Starting in XGBoost 1.3.0, the default evaluation metric used with the objective 'binary:logistic' was changed from 'error' to 'logloss'. Explicitly set eval_metric if you'd like to restore the old behavior.\n"
     ]
    },
    {
     "name": "stderr",
     "output_type": "stream",
     "text": [
      "100%|██████████████████████████████████████████████████████████████████████████████████| 29/29 [00:02<00:00, 12.63it/s]\n"
     ]
    },
    {
     "name": "stdout",
     "output_type": "stream",
     "text": [
      "64\n"
     ]
    },
    {
     "name": "stderr",
     "output_type": "stream",
     "text": [
      " 97%|███████████████████████████████████████████████████████████████████████████████▏  | 28/29 [00:02<00:00, 13.95it/s]"
     ]
    },
    {
     "name": "stdout",
     "output_type": "stream",
     "text": [
      "[14:40:17] WARNING: ..\\src\\learner.cc:1061: Starting in XGBoost 1.3.0, the default evaluation metric used with the objective 'binary:logistic' was changed from 'error' to 'logloss'. Explicitly set eval_metric if you'd like to restore the old behavior.\n"
     ]
    },
    {
     "name": "stderr",
     "output_type": "stream",
     "text": [
      "100%|██████████████████████████████████████████████████████████████████████████████████| 29/29 [00:02<00:00, 12.79it/s]\n"
     ]
    },
    {
     "name": "stdout",
     "output_type": "stream",
     "text": [
      "65\n"
     ]
    },
    {
     "name": "stderr",
     "output_type": "stream",
     "text": [
      " 90%|█████████████████████████████████████████████████████████████████████████▌        | 26/29 [00:02<00:00, 15.08it/s]"
     ]
    },
    {
     "name": "stdout",
     "output_type": "stream",
     "text": [
      "[14:40:19] WARNING: ..\\src\\learner.cc:1061: Starting in XGBoost 1.3.0, the default evaluation metric used with the objective 'binary:logistic' was changed from 'error' to 'logloss'. Explicitly set eval_metric if you'd like to restore the old behavior.\n"
     ]
    },
    {
     "name": "stderr",
     "output_type": "stream",
     "text": [
      "100%|██████████████████████████████████████████████████████████████████████████████████| 29/29 [00:02<00:00, 12.64it/s]\n"
     ]
    },
    {
     "name": "stdout",
     "output_type": "stream",
     "text": [
      "66\n"
     ]
    },
    {
     "name": "stderr",
     "output_type": "stream",
     "text": [
      "100%|██████████████████████████████████████████████████████████████████████████████████| 29/29 [00:02<00:00, 11.64it/s]"
     ]
    },
    {
     "name": "stdout",
     "output_type": "stream",
     "text": [
      "[14:40:22] WARNING: ..\\src\\learner.cc:1061: Starting in XGBoost 1.3.0, the default evaluation metric used with the objective 'binary:logistic' was changed from 'error' to 'logloss'. Explicitly set eval_metric if you'd like to restore the old behavior.\n"
     ]
    },
    {
     "name": "stderr",
     "output_type": "stream",
     "text": [
      "\n"
     ]
    },
    {
     "name": "stdout",
     "output_type": "stream",
     "text": [
      "67\n"
     ]
    },
    {
     "name": "stderr",
     "output_type": "stream",
     "text": [
      " 90%|█████████████████████████████████████████████████████████████████████████▌        | 26/29 [00:02<00:00, 14.64it/s]"
     ]
    },
    {
     "name": "stdout",
     "output_type": "stream",
     "text": [
      "[14:40:24] WARNING: ..\\src\\learner.cc:1061: Starting in XGBoost 1.3.0, the default evaluation metric used with the objective 'binary:logistic' was changed from 'error' to 'logloss'. Explicitly set eval_metric if you'd like to restore the old behavior.\n"
     ]
    },
    {
     "name": "stderr",
     "output_type": "stream",
     "text": [
      "100%|██████████████████████████████████████████████████████████████████████████████████| 29/29 [00:02<00:00, 12.39it/s]\n"
     ]
    },
    {
     "name": "stdout",
     "output_type": "stream",
     "text": [
      "68\n"
     ]
    },
    {
     "name": "stderr",
     "output_type": "stream",
     "text": [
      " 97%|███████████████████████████████████████████████████████████████████████████████▏  | 28/29 [00:02<00:00, 13.99it/s]"
     ]
    },
    {
     "name": "stdout",
     "output_type": "stream",
     "text": [
      "[14:40:26] WARNING: ..\\src\\learner.cc:1061: Starting in XGBoost 1.3.0, the default evaluation metric used with the objective 'binary:logistic' was changed from 'error' to 'logloss'. Explicitly set eval_metric if you'd like to restore the old behavior.\n"
     ]
    },
    {
     "name": "stderr",
     "output_type": "stream",
     "text": [
      "100%|██████████████████████████████████████████████████████████████████████████████████| 29/29 [00:02<00:00, 12.80it/s]\n"
     ]
    },
    {
     "name": "stdout",
     "output_type": "stream",
     "text": [
      "69\n"
     ]
    },
    {
     "name": "stderr",
     "output_type": "stream",
     "text": [
      " 97%|███████████████████████████████████████████████████████████████████████████████▏  | 28/29 [00:02<00:00, 14.25it/s]"
     ]
    },
    {
     "name": "stdout",
     "output_type": "stream",
     "text": [
      "[14:40:29] WARNING: ..\\src\\learner.cc:1061: Starting in XGBoost 1.3.0, the default evaluation metric used with the objective 'binary:logistic' was changed from 'error' to 'logloss'. Explicitly set eval_metric if you'd like to restore the old behavior.\n"
     ]
    },
    {
     "name": "stderr",
     "output_type": "stream",
     "text": [
      "100%|██████████████████████████████████████████████████████████████████████████████████| 29/29 [00:02<00:00, 12.68it/s]\n"
     ]
    },
    {
     "name": "stdout",
     "output_type": "stream",
     "text": [
      "70\n"
     ]
    },
    {
     "name": "stderr",
     "output_type": "stream",
     "text": [
      " 97%|███████████████████████████████████████████████████████████████████████████████▏  | 28/29 [00:02<00:00, 13.69it/s]"
     ]
    },
    {
     "name": "stdout",
     "output_type": "stream",
     "text": [
      "[14:40:31] WARNING: ..\\src\\learner.cc:1061: Starting in XGBoost 1.3.0, the default evaluation metric used with the objective 'binary:logistic' was changed from 'error' to 'logloss'. Explicitly set eval_metric if you'd like to restore the old behavior.\n"
     ]
    },
    {
     "name": "stderr",
     "output_type": "stream",
     "text": [
      "100%|██████████████████████████████████████████████████████████████████████████████████| 29/29 [00:02<00:00, 12.58it/s]\n"
     ]
    },
    {
     "name": "stdout",
     "output_type": "stream",
     "text": [
      "71\n"
     ]
    },
    {
     "name": "stderr",
     "output_type": "stream",
     "text": [
      " 90%|█████████████████████████████████████████████████████████████████████████▌        | 26/29 [00:02<00:00, 14.85it/s]"
     ]
    },
    {
     "name": "stdout",
     "output_type": "stream",
     "text": [
      "[14:40:33] WARNING: ..\\src\\learner.cc:1061: Starting in XGBoost 1.3.0, the default evaluation metric used with the objective 'binary:logistic' was changed from 'error' to 'logloss'. Explicitly set eval_metric if you'd like to restore the old behavior.\n"
     ]
    },
    {
     "name": "stderr",
     "output_type": "stream",
     "text": [
      "100%|██████████████████████████████████████████████████████████████████████████████████| 29/29 [00:02<00:00, 12.76it/s]\n"
     ]
    },
    {
     "name": "stdout",
     "output_type": "stream",
     "text": [
      "72\n"
     ]
    },
    {
     "name": "stderr",
     "output_type": "stream",
     "text": [
      " 97%|███████████████████████████████████████████████████████████████████████████████▏  | 28/29 [00:02<00:00, 13.93it/s]"
     ]
    },
    {
     "name": "stdout",
     "output_type": "stream",
     "text": [
      "[14:40:35] WARNING: ..\\src\\learner.cc:1061: Starting in XGBoost 1.3.0, the default evaluation metric used with the objective 'binary:logistic' was changed from 'error' to 'logloss'. Explicitly set eval_metric if you'd like to restore the old behavior.\n"
     ]
    },
    {
     "name": "stderr",
     "output_type": "stream",
     "text": [
      "100%|██████████████████████████████████████████████████████████████████████████████████| 29/29 [00:02<00:00, 12.73it/s]\n"
     ]
    },
    {
     "name": "stdout",
     "output_type": "stream",
     "text": [
      "73\n"
     ]
    },
    {
     "name": "stderr",
     "output_type": "stream",
     "text": [
      "100%|██████████████████████████████████████████████████████████████████████████████████| 29/29 [00:02<00:00, 13.43it/s]\n"
     ]
    },
    {
     "name": "stdout",
     "output_type": "stream",
     "text": [
      "[14:40:38] WARNING: ..\\src\\learner.cc:1061: Starting in XGBoost 1.3.0, the default evaluation metric used with the objective 'binary:logistic' was changed from 'error' to 'logloss'. Explicitly set eval_metric if you'd like to restore the old behavior.\n",
      "74\n"
     ]
    },
    {
     "name": "stderr",
     "output_type": "stream",
     "text": [
      " 90%|█████████████████████████████████████████████████████████████████████████▌        | 26/29 [00:02<00:00, 14.96it/s]"
     ]
    },
    {
     "name": "stdout",
     "output_type": "stream",
     "text": [
      "[14:40:40] WARNING: ..\\src\\learner.cc:1061: Starting in XGBoost 1.3.0, the default evaluation metric used with the objective 'binary:logistic' was changed from 'error' to 'logloss'. Explicitly set eval_metric if you'd like to restore the old behavior.\n"
     ]
    },
    {
     "name": "stderr",
     "output_type": "stream",
     "text": [
      "100%|██████████████████████████████████████████████████████████████████████████████████| 29/29 [00:02<00:00, 12.69it/s]\n"
     ]
    },
    {
     "name": "stdout",
     "output_type": "stream",
     "text": [
      "75\n"
     ]
    },
    {
     "name": "stderr",
     "output_type": "stream",
     "text": [
      " 97%|███████████████████████████████████████████████████████████████████████████████▏  | 28/29 [00:02<00:00, 14.00it/s]"
     ]
    },
    {
     "name": "stdout",
     "output_type": "stream",
     "text": [
      "[14:40:42] WARNING: ..\\src\\learner.cc:1061: Starting in XGBoost 1.3.0, the default evaluation metric used with the objective 'binary:logistic' was changed from 'error' to 'logloss'. Explicitly set eval_metric if you'd like to restore the old behavior.\n"
     ]
    },
    {
     "name": "stderr",
     "output_type": "stream",
     "text": [
      "100%|██████████████████████████████████████████████████████████████████████████████████| 29/29 [00:02<00:00, 12.71it/s]\n"
     ]
    },
    {
     "name": "stdout",
     "output_type": "stream",
     "text": [
      "76\n"
     ]
    },
    {
     "name": "stderr",
     "output_type": "stream",
     "text": [
      " 90%|█████████████████████████████████████████████████████████████████████████▌        | 26/29 [00:02<00:00, 14.92it/s]"
     ]
    },
    {
     "name": "stdout",
     "output_type": "stream",
     "text": [
      "[14:40:45] WARNING: ..\\src\\learner.cc:1061: Starting in XGBoost 1.3.0, the default evaluation metric used with the objective 'binary:logistic' was changed from 'error' to 'logloss'. Explicitly set eval_metric if you'd like to restore the old behavior.\n"
     ]
    },
    {
     "name": "stderr",
     "output_type": "stream",
     "text": [
      "100%|██████████████████████████████████████████████████████████████████████████████████| 29/29 [00:02<00:00, 12.73it/s]\n"
     ]
    },
    {
     "name": "stdout",
     "output_type": "stream",
     "text": [
      "77\n"
     ]
    },
    {
     "name": "stderr",
     "output_type": "stream",
     "text": [
      " 97%|███████████████████████████████████████████████████████████████████████████████▏  | 28/29 [00:02<00:00, 14.00it/s]"
     ]
    },
    {
     "name": "stdout",
     "output_type": "stream",
     "text": [
      "[14:40:47] WARNING: ..\\src\\learner.cc:1061: Starting in XGBoost 1.3.0, the default evaluation metric used with the objective 'binary:logistic' was changed from 'error' to 'logloss'. Explicitly set eval_metric if you'd like to restore the old behavior.\n"
     ]
    },
    {
     "name": "stderr",
     "output_type": "stream",
     "text": [
      "100%|██████████████████████████████████████████████████████████████████████████████████| 29/29 [00:02<00:00, 12.76it/s]\n"
     ]
    },
    {
     "name": "stdout",
     "output_type": "stream",
     "text": [
      "78\n"
     ]
    },
    {
     "name": "stderr",
     "output_type": "stream",
     "text": [
      " 97%|███████████████████████████████████████████████████████████████████████████████▏  | 28/29 [00:02<00:00, 14.04it/s]"
     ]
    },
    {
     "name": "stdout",
     "output_type": "stream",
     "text": [
      "[14:40:49] WARNING: ..\\src\\learner.cc:1061: Starting in XGBoost 1.3.0, the default evaluation metric used with the objective 'binary:logistic' was changed from 'error' to 'logloss'. Explicitly set eval_metric if you'd like to restore the old behavior.\n"
     ]
    },
    {
     "name": "stderr",
     "output_type": "stream",
     "text": [
      "100%|██████████████████████████████████████████████████████████████████████████████████| 29/29 [00:02<00:00, 12.62it/s]\n"
     ]
    },
    {
     "name": "stdout",
     "output_type": "stream",
     "text": [
      "79\n"
     ]
    },
    {
     "name": "stderr",
     "output_type": "stream",
     "text": [
      " 90%|█████████████████████████████████████████████████████████████████████████▌        | 26/29 [00:01<00:00, 15.14it/s]"
     ]
    },
    {
     "name": "stdout",
     "output_type": "stream",
     "text": [
      "[14:40:51] WARNING: ..\\src\\learner.cc:1061: Starting in XGBoost 1.3.0, the default evaluation metric used with the objective 'binary:logistic' was changed from 'error' to 'logloss'. Explicitly set eval_metric if you'd like to restore the old behavior.\n"
     ]
    },
    {
     "name": "stderr",
     "output_type": "stream",
     "text": [
      "100%|██████████████████████████████████████████████████████████████████████████████████| 29/29 [00:02<00:00, 13.04it/s]\n"
     ]
    },
    {
     "name": "stdout",
     "output_type": "stream",
     "text": [
      "80\n"
     ]
    },
    {
     "name": "stderr",
     "output_type": "stream",
     "text": [
      " 97%|███████████████████████████████████████████████████████████████████████████████▏  | 28/29 [00:02<00:00, 13.96it/s]"
     ]
    },
    {
     "name": "stdout",
     "output_type": "stream",
     "text": [
      "[14:40:54] WARNING: ..\\src\\learner.cc:1061: Starting in XGBoost 1.3.0, the default evaluation metric used with the objective 'binary:logistic' was changed from 'error' to 'logloss'. Explicitly set eval_metric if you'd like to restore the old behavior.\n"
     ]
    },
    {
     "name": "stderr",
     "output_type": "stream",
     "text": [
      "100%|██████████████████████████████████████████████████████████████████████████████████| 29/29 [00:02<00:00, 12.72it/s]\n"
     ]
    },
    {
     "name": "stdout",
     "output_type": "stream",
     "text": [
      "81\n"
     ]
    },
    {
     "name": "stderr",
     "output_type": "stream",
     "text": [
      " 97%|███████████████████████████████████████████████████████████████████████████████▏  | 28/29 [00:02<00:00, 13.85it/s]"
     ]
    },
    {
     "name": "stdout",
     "output_type": "stream",
     "text": [
      "[14:40:56] WARNING: ..\\src\\learner.cc:1061: Starting in XGBoost 1.3.0, the default evaluation metric used with the objective 'binary:logistic' was changed from 'error' to 'logloss'. Explicitly set eval_metric if you'd like to restore the old behavior.\n"
     ]
    },
    {
     "name": "stderr",
     "output_type": "stream",
     "text": [
      "100%|██████████████████████████████████████████████████████████████████████████████████| 29/29 [00:02<00:00, 12.62it/s]\n"
     ]
    },
    {
     "name": "stdout",
     "output_type": "stream",
     "text": [
      "82\n"
     ]
    },
    {
     "name": "stderr",
     "output_type": "stream",
     "text": [
      " 90%|█████████████████████████████████████████████████████████████████████████▌        | 26/29 [00:02<00:00, 14.98it/s]"
     ]
    },
    {
     "name": "stdout",
     "output_type": "stream",
     "text": [
      "[14:40:58] WARNING: ..\\src\\learner.cc:1061: Starting in XGBoost 1.3.0, the default evaluation metric used with the objective 'binary:logistic' was changed from 'error' to 'logloss'. Explicitly set eval_metric if you'd like to restore the old behavior.\n"
     ]
    },
    {
     "name": "stderr",
     "output_type": "stream",
     "text": [
      "100%|██████████████████████████████████████████████████████████████████████████████████| 29/29 [00:02<00:00, 12.59it/s]\n"
     ]
    },
    {
     "name": "stdout",
     "output_type": "stream",
     "text": [
      "83\n"
     ]
    },
    {
     "name": "stderr",
     "output_type": "stream",
     "text": [
      "100%|██████████████████████████████████████████████████████████████████████████████████| 29/29 [00:02<00:00, 13.42it/s]"
     ]
    },
    {
     "name": "stdout",
     "output_type": "stream",
     "text": [
      "[14:41:01] WARNING: ..\\src\\learner.cc:1061: Starting in XGBoost 1.3.0, the default evaluation metric used with the objective 'binary:logistic' was changed from 'error' to 'logloss'. Explicitly set eval_metric if you'd like to restore the old behavior.\n"
     ]
    },
    {
     "name": "stderr",
     "output_type": "stream",
     "text": [
      "\n"
     ]
    },
    {
     "name": "stdout",
     "output_type": "stream",
     "text": [
      "84\n"
     ]
    },
    {
     "name": "stderr",
     "output_type": "stream",
     "text": [
      " 97%|███████████████████████████████████████████████████████████████████████████████▏  | 28/29 [00:02<00:00, 14.00it/s]"
     ]
    },
    {
     "name": "stdout",
     "output_type": "stream",
     "text": [
      "[14:41:03] WARNING: ..\\src\\learner.cc:1061: Starting in XGBoost 1.3.0, the default evaluation metric used with the objective 'binary:logistic' was changed from 'error' to 'logloss'. Explicitly set eval_metric if you'd like to restore the old behavior.\n"
     ]
    },
    {
     "name": "stderr",
     "output_type": "stream",
     "text": [
      "100%|██████████████████████████████████████████████████████████████████████████████████| 29/29 [00:02<00:00, 12.76it/s]\n"
     ]
    },
    {
     "name": "stdout",
     "output_type": "stream",
     "text": [
      "85\n"
     ]
    },
    {
     "name": "stderr",
     "output_type": "stream",
     "text": [
      " 97%|███████████████████████████████████████████████████████████████████████████████▏  | 28/29 [00:02<00:00, 13.64it/s]"
     ]
    },
    {
     "name": "stdout",
     "output_type": "stream",
     "text": [
      "[14:41:05] WARNING: ..\\src\\learner.cc:1061: Starting in XGBoost 1.3.0, the default evaluation metric used with the objective 'binary:logistic' was changed from 'error' to 'logloss'. Explicitly set eval_metric if you'd like to restore the old behavior.\n"
     ]
    },
    {
     "name": "stderr",
     "output_type": "stream",
     "text": [
      "100%|██████████████████████████████████████████████████████████████████████████████████| 29/29 [00:02<00:00, 12.21it/s]\n"
     ]
    },
    {
     "name": "stdout",
     "output_type": "stream",
     "text": [
      "86\n"
     ]
    },
    {
     "name": "stderr",
     "output_type": "stream",
     "text": [
      " 90%|█████████████████████████████████████████████████████████████████████████▌        | 26/29 [00:01<00:00, 15.03it/s]"
     ]
    },
    {
     "name": "stdout",
     "output_type": "stream",
     "text": [
      "[14:41:07] WARNING: ..\\src\\learner.cc:1061: Starting in XGBoost 1.3.0, the default evaluation metric used with the objective 'binary:logistic' was changed from 'error' to 'logloss'. Explicitly set eval_metric if you'd like to restore the old behavior.\n"
     ]
    },
    {
     "name": "stderr",
     "output_type": "stream",
     "text": [
      "100%|██████████████████████████████████████████████████████████████████████████████████| 29/29 [00:02<00:00, 13.00it/s]\n"
     ]
    },
    {
     "name": "stdout",
     "output_type": "stream",
     "text": [
      "87\n"
     ]
    },
    {
     "name": "stderr",
     "output_type": "stream",
     "text": [
      " 97%|███████████████████████████████████████████████████████████████████████████████▏  | 28/29 [00:02<00:00, 13.96it/s]"
     ]
    },
    {
     "name": "stdout",
     "output_type": "stream",
     "text": [
      "[14:41:10] WARNING: ..\\src\\learner.cc:1061: Starting in XGBoost 1.3.0, the default evaluation metric used with the objective 'binary:logistic' was changed from 'error' to 'logloss'. Explicitly set eval_metric if you'd like to restore the old behavior.\n"
     ]
    },
    {
     "name": "stderr",
     "output_type": "stream",
     "text": [
      "100%|██████████████████████████████████████████████████████████████████████████████████| 29/29 [00:02<00:00, 12.76it/s]\n"
     ]
    },
    {
     "name": "stdout",
     "output_type": "stream",
     "text": [
      "88\n"
     ]
    },
    {
     "name": "stderr",
     "output_type": "stream",
     "text": [
      " 90%|█████████████████████████████████████████████████████████████████████████▌        | 26/29 [00:01<00:00, 16.84it/s]"
     ]
    },
    {
     "name": "stdout",
     "output_type": "stream",
     "text": [
      "[14:41:12] WARNING: ..\\src\\learner.cc:1061: Starting in XGBoost 1.3.0, the default evaluation metric used with the objective 'binary:logistic' was changed from 'error' to 'logloss'. Explicitly set eval_metric if you'd like to restore the old behavior.\n"
     ]
    },
    {
     "name": "stderr",
     "output_type": "stream",
     "text": [
      "100%|██████████████████████████████████████████████████████████████████████████████████| 29/29 [00:01<00:00, 15.76it/s]\n"
     ]
    },
    {
     "name": "stdout",
     "output_type": "stream",
     "text": [
      "89\n"
     ]
    },
    {
     "name": "stderr",
     "output_type": "stream",
     "text": [
      " 97%|███████████████████████████████████████████████████████████████████████████████▏  | 28/29 [00:02<00:00, 13.83it/s]"
     ]
    },
    {
     "name": "stdout",
     "output_type": "stream",
     "text": [
      "[14:41:14] WARNING: ..\\src\\learner.cc:1061: Starting in XGBoost 1.3.0, the default evaluation metric used with the objective 'binary:logistic' was changed from 'error' to 'logloss'. Explicitly set eval_metric if you'd like to restore the old behavior.\n"
     ]
    },
    {
     "name": "stderr",
     "output_type": "stream",
     "text": [
      "100%|██████████████████████████████████████████████████████████████████████████████████| 29/29 [00:02<00:00, 12.62it/s]\n"
     ]
    },
    {
     "name": "stdout",
     "output_type": "stream",
     "text": [
      "90\n"
     ]
    },
    {
     "name": "stderr",
     "output_type": "stream",
     "text": [
      " 97%|███████████████████████████████████████████████████████████████████████████████▏  | 28/29 [00:02<00:00, 14.06it/s]"
     ]
    },
    {
     "name": "stdout",
     "output_type": "stream",
     "text": [
      "[14:41:16] WARNING: ..\\src\\learner.cc:1061: Starting in XGBoost 1.3.0, the default evaluation metric used with the objective 'binary:logistic' was changed from 'error' to 'logloss'. Explicitly set eval_metric if you'd like to restore the old behavior.\n"
     ]
    },
    {
     "name": "stderr",
     "output_type": "stream",
     "text": [
      "100%|██████████████████████████████████████████████████████████████████████████████████| 29/29 [00:02<00:00, 12.53it/s]\n"
     ]
    },
    {
     "name": "stdout",
     "output_type": "stream",
     "text": [
      "91\n"
     ]
    },
    {
     "name": "stderr",
     "output_type": "stream",
     "text": [
      " 90%|█████████████████████████████████████████████████████████████████████████▌        | 26/29 [00:02<00:00, 15.11it/s]"
     ]
    },
    {
     "name": "stdout",
     "output_type": "stream",
     "text": [
      "[14:41:18] WARNING: ..\\src\\learner.cc:1061: Starting in XGBoost 1.3.0, the default evaluation metric used with the objective 'binary:logistic' was changed from 'error' to 'logloss'. Explicitly set eval_metric if you'd like to restore the old behavior.\n"
     ]
    },
    {
     "name": "stderr",
     "output_type": "stream",
     "text": [
      "100%|██████████████████████████████████████████████████████████████████████████████████| 29/29 [00:02<00:00, 12.85it/s]\n"
     ]
    },
    {
     "name": "stdout",
     "output_type": "stream",
     "text": [
      "92\n"
     ]
    },
    {
     "name": "stderr",
     "output_type": "stream",
     "text": [
      " 97%|███████████████████████████████████████████████████████████████████████████████▏  | 28/29 [00:02<00:00, 13.85it/s]"
     ]
    },
    {
     "name": "stdout",
     "output_type": "stream",
     "text": [
      "[14:41:21] WARNING: ..\\src\\learner.cc:1061: Starting in XGBoost 1.3.0, the default evaluation metric used with the objective 'binary:logistic' was changed from 'error' to 'logloss'. Explicitly set eval_metric if you'd like to restore the old behavior.\n"
     ]
    },
    {
     "name": "stderr",
     "output_type": "stream",
     "text": [
      "100%|██████████████████████████████████████████████████████████████████████████████████| 29/29 [00:02<00:00, 12.47it/s]\n"
     ]
    },
    {
     "name": "stdout",
     "output_type": "stream",
     "text": [
      "93\n"
     ]
    },
    {
     "name": "stderr",
     "output_type": "stream",
     "text": [
      " 97%|███████████████████████████████████████████████████████████████████████████████▏  | 28/29 [00:02<00:00, 13.85it/s]"
     ]
    },
    {
     "name": "stdout",
     "output_type": "stream",
     "text": [
      "[14:41:23] WARNING: ..\\src\\learner.cc:1061: Starting in XGBoost 1.3.0, the default evaluation metric used with the objective 'binary:logistic' was changed from 'error' to 'logloss'. Explicitly set eval_metric if you'd like to restore the old behavior.\n"
     ]
    },
    {
     "name": "stderr",
     "output_type": "stream",
     "text": [
      "100%|██████████████████████████████████████████████████████████████████████████████████| 29/29 [00:02<00:00, 12.56it/s]\n"
     ]
    },
    {
     "name": "stdout",
     "output_type": "stream",
     "text": [
      "94\n"
     ]
    },
    {
     "name": "stderr",
     "output_type": "stream",
     "text": [
      " 90%|█████████████████████████████████████████████████████████████████████████▌        | 26/29 [00:02<00:00, 14.86it/s]"
     ]
    },
    {
     "name": "stdout",
     "output_type": "stream",
     "text": [
      "[14:41:25] WARNING: ..\\src\\learner.cc:1061: Starting in XGBoost 1.3.0, the default evaluation metric used with the objective 'binary:logistic' was changed from 'error' to 'logloss'. Explicitly set eval_metric if you'd like to restore the old behavior.\n"
     ]
    },
    {
     "name": "stderr",
     "output_type": "stream",
     "text": [
      "100%|██████████████████████████████████████████████████████████████████████████████████| 29/29 [00:02<00:00, 12.76it/s]\n"
     ]
    },
    {
     "name": "stdout",
     "output_type": "stream",
     "text": [
      "95\n"
     ]
    },
    {
     "name": "stderr",
     "output_type": "stream",
     "text": [
      "100%|██████████████████████████████████████████████████████████████████████████████████| 29/29 [00:02<00:00, 11.82it/s]"
     ]
    },
    {
     "name": "stdout",
     "output_type": "stream",
     "text": [
      "[14:41:28] WARNING: ..\\src\\learner.cc:1061: Starting in XGBoost 1.3.0, the default evaluation metric used with the objective 'binary:logistic' was changed from 'error' to 'logloss'. Explicitly set eval_metric if you'd like to restore the old behavior.\n"
     ]
    },
    {
     "name": "stderr",
     "output_type": "stream",
     "text": [
      "\n"
     ]
    },
    {
     "name": "stdout",
     "output_type": "stream",
     "text": [
      "96\n"
     ]
    },
    {
     "name": "stderr",
     "output_type": "stream",
     "text": [
      " 97%|███████████████████████████████████████████████████████████████████████████████▏  | 28/29 [00:02<00:00, 13.09it/s]"
     ]
    },
    {
     "name": "stdout",
     "output_type": "stream",
     "text": [
      "[14:41:30] WARNING: ..\\src\\learner.cc:1061: Starting in XGBoost 1.3.0, the default evaluation metric used with the objective 'binary:logistic' was changed from 'error' to 'logloss'. Explicitly set eval_metric if you'd like to restore the old behavior.\n"
     ]
    },
    {
     "name": "stderr",
     "output_type": "stream",
     "text": [
      "100%|██████████████████████████████████████████████████████████████████████████████████| 29/29 [00:02<00:00, 11.61it/s]\n"
     ]
    },
    {
     "name": "stdout",
     "output_type": "stream",
     "text": [
      "97\n"
     ]
    },
    {
     "name": "stderr",
     "output_type": "stream",
     "text": [
      " 97%|███████████████████████████████████████████████████████████████████████████████▏  | 28/29 [00:02<00:00, 12.76it/s]"
     ]
    },
    {
     "name": "stdout",
     "output_type": "stream",
     "text": [
      "[14:41:33] WARNING: ..\\src\\learner.cc:1061: Starting in XGBoost 1.3.0, the default evaluation metric used with the objective 'binary:logistic' was changed from 'error' to 'logloss'. Explicitly set eval_metric if you'd like to restore the old behavior.\n"
     ]
    },
    {
     "name": "stderr",
     "output_type": "stream",
     "text": [
      "100%|██████████████████████████████████████████████████████████████████████████████████| 29/29 [00:02<00:00, 11.14it/s]\n"
     ]
    },
    {
     "name": "stdout",
     "output_type": "stream",
     "text": [
      "98\n"
     ]
    },
    {
     "name": "stderr",
     "output_type": "stream",
     "text": [
      " 97%|███████████████████████████████████████████████████████████████████████████████▏  | 28/29 [00:02<00:00, 12.59it/s]"
     ]
    },
    {
     "name": "stdout",
     "output_type": "stream",
     "text": [
      "[14:41:36] WARNING: ..\\src\\learner.cc:1061: Starting in XGBoost 1.3.0, the default evaluation metric used with the objective 'binary:logistic' was changed from 'error' to 'logloss'. Explicitly set eval_metric if you'd like to restore the old behavior.\n"
     ]
    },
    {
     "name": "stderr",
     "output_type": "stream",
     "text": [
      "100%|██████████████████████████████████████████████████████████████████████████████████| 29/29 [00:02<00:00, 10.82it/s]\n"
     ]
    },
    {
     "name": "stdout",
     "output_type": "stream",
     "text": [
      "99\n"
     ]
    },
    {
     "name": "stderr",
     "output_type": "stream",
     "text": [
      "100%|██████████████████████████████████████████████████████████████████████████████████| 29/29 [00:02<00:00, 11.47it/s]"
     ]
    },
    {
     "name": "stdout",
     "output_type": "stream",
     "text": [
      "[14:41:38] WARNING: ..\\src\\learner.cc:1061: Starting in XGBoost 1.3.0, the default evaluation metric used with the objective 'binary:logistic' was changed from 'error' to 'logloss'. Explicitly set eval_metric if you'd like to restore the old behavior.\n"
     ]
    },
    {
     "name": "stderr",
     "output_type": "stream",
     "text": [
      "\n"
     ]
    }
   ],
   "source": [
    "y = df[\"ICU\"]\n",
    "X = df.drop([\"ICU\"], axis=1)\n",
    "model_list = []\n",
    "for _ in range(100):\n",
    "    print(_)\n",
    "    X_train, X_test, y_train, y_test = train_test_split(X, y, stratify=y, shuffle=True)#test_size=0.10)\n",
    "    clf = LazyClassifier(verbose=0,ignore_warnings=True, custom_metric=None)\n",
    "    models,predictions = clf.fit(X_train, X_test, y_train, y_test)\n",
    "    model_list.append(models['ROC AUC'])"
   ]
  },
  {
   "cell_type": "code",
   "execution_count": 37,
   "id": "1d2c99da-ff0b-4de8-b450-3ace7b1a0e6d",
   "metadata": {},
   "outputs": [
    {
     "data": {
      "text/html": [
       "<div>\n",
       "<style scoped>\n",
       "    .dataframe tbody tr th:only-of-type {\n",
       "        vertical-align: middle;\n",
       "    }\n",
       "\n",
       "    .dataframe tbody tr th {\n",
       "        vertical-align: top;\n",
       "    }\n",
       "\n",
       "    .dataframe thead th {\n",
       "        text-align: right;\n",
       "    }\n",
       "</style>\n",
       "<table border=\"1\" class=\"dataframe\">\n",
       "  <thead>\n",
       "    <tr style=\"text-align: right;\">\n",
       "      <th></th>\n",
       "      <th>mean</th>\n",
       "      <th>std</th>\n",
       "    </tr>\n",
       "    <tr>\n",
       "      <th>Model</th>\n",
       "      <th></th>\n",
       "      <th></th>\n",
       "    </tr>\n",
       "  </thead>\n",
       "  <tbody>\n",
       "    <tr>\n",
       "      <th>RandomForestClassifier</th>\n",
       "      <td>0.73</td>\n",
       "      <td>0.04</td>\n",
       "    </tr>\n",
       "    <tr>\n",
       "      <th>ExtraTreesClassifier</th>\n",
       "      <td>0.72</td>\n",
       "      <td>0.05</td>\n",
       "    </tr>\n",
       "    <tr>\n",
       "      <th>SVC</th>\n",
       "      <td>0.71</td>\n",
       "      <td>0.04</td>\n",
       "    </tr>\n",
       "    <tr>\n",
       "      <th>LGBMClassifier</th>\n",
       "      <td>0.71</td>\n",
       "      <td>0.05</td>\n",
       "    </tr>\n",
       "    <tr>\n",
       "      <th>XGBClassifier</th>\n",
       "      <td>0.70</td>\n",
       "      <td>0.04</td>\n",
       "    </tr>\n",
       "    <tr>\n",
       "      <th>NearestCentroid</th>\n",
       "      <td>0.70</td>\n",
       "      <td>0.05</td>\n",
       "    </tr>\n",
       "    <tr>\n",
       "      <th>NuSVC</th>\n",
       "      <td>0.70</td>\n",
       "      <td>0.04</td>\n",
       "    </tr>\n",
       "    <tr>\n",
       "      <th>RidgeClassifierCV</th>\n",
       "      <td>0.70</td>\n",
       "      <td>0.04</td>\n",
       "    </tr>\n",
       "    <tr>\n",
       "      <th>BernoulliNB</th>\n",
       "      <td>0.70</td>\n",
       "      <td>0.04</td>\n",
       "    </tr>\n",
       "    <tr>\n",
       "      <th>LogisticRegression</th>\n",
       "      <td>0.69</td>\n",
       "      <td>0.04</td>\n",
       "    </tr>\n",
       "    <tr>\n",
       "      <th>RidgeClassifier</th>\n",
       "      <td>0.69</td>\n",
       "      <td>0.04</td>\n",
       "    </tr>\n",
       "    <tr>\n",
       "      <th>LinearDiscriminantAnalysis</th>\n",
       "      <td>0.69</td>\n",
       "      <td>0.04</td>\n",
       "    </tr>\n",
       "    <tr>\n",
       "      <th>LinearSVC</th>\n",
       "      <td>0.69</td>\n",
       "      <td>0.04</td>\n",
       "    </tr>\n",
       "    <tr>\n",
       "      <th>BaggingClassifier</th>\n",
       "      <td>0.69</td>\n",
       "      <td>0.04</td>\n",
       "    </tr>\n",
       "    <tr>\n",
       "      <th>CalibratedClassifierCV</th>\n",
       "      <td>0.68</td>\n",
       "      <td>0.04</td>\n",
       "    </tr>\n",
       "    <tr>\n",
       "      <th>AdaBoostClassifier</th>\n",
       "      <td>0.67</td>\n",
       "      <td>0.04</td>\n",
       "    </tr>\n",
       "    <tr>\n",
       "      <th>GaussianNB</th>\n",
       "      <td>0.66</td>\n",
       "      <td>0.05</td>\n",
       "    </tr>\n",
       "    <tr>\n",
       "      <th>DecisionTreeClassifier</th>\n",
       "      <td>0.64</td>\n",
       "      <td>0.05</td>\n",
       "    </tr>\n",
       "    <tr>\n",
       "      <th>Perceptron</th>\n",
       "      <td>0.64</td>\n",
       "      <td>0.06</td>\n",
       "    </tr>\n",
       "    <tr>\n",
       "      <th>SGDClassifier</th>\n",
       "      <td>0.64</td>\n",
       "      <td>0.05</td>\n",
       "    </tr>\n",
       "    <tr>\n",
       "      <th>QuadraticDiscriminantAnalysis</th>\n",
       "      <td>0.64</td>\n",
       "      <td>0.04</td>\n",
       "    </tr>\n",
       "    <tr>\n",
       "      <th>KNeighborsClassifier</th>\n",
       "      <td>0.63</td>\n",
       "      <td>0.04</td>\n",
       "    </tr>\n",
       "    <tr>\n",
       "      <th>PassiveAggressiveClassifier</th>\n",
       "      <td>0.63</td>\n",
       "      <td>0.06</td>\n",
       "    </tr>\n",
       "    <tr>\n",
       "      <th>ExtraTreeClassifier</th>\n",
       "      <td>0.63</td>\n",
       "      <td>0.06</td>\n",
       "    </tr>\n",
       "    <tr>\n",
       "      <th>LabelPropagation</th>\n",
       "      <td>0.55</td>\n",
       "      <td>0.04</td>\n",
       "    </tr>\n",
       "    <tr>\n",
       "      <th>LabelSpreading</th>\n",
       "      <td>0.55</td>\n",
       "      <td>0.04</td>\n",
       "    </tr>\n",
       "    <tr>\n",
       "      <th>DummyClassifier</th>\n",
       "      <td>0.50</td>\n",
       "      <td>0.00</td>\n",
       "    </tr>\n",
       "  </tbody>\n",
       "</table>\n",
       "</div>"
      ],
      "text/plain": [
       "                               mean  std\n",
       "Model                                   \n",
       "RandomForestClassifier         0.73 0.04\n",
       "ExtraTreesClassifier           0.72 0.05\n",
       "SVC                            0.71 0.04\n",
       "LGBMClassifier                 0.71 0.05\n",
       "XGBClassifier                  0.70 0.04\n",
       "NearestCentroid                0.70 0.05\n",
       "NuSVC                          0.70 0.04\n",
       "RidgeClassifierCV              0.70 0.04\n",
       "BernoulliNB                    0.70 0.04\n",
       "LogisticRegression             0.69 0.04\n",
       "RidgeClassifier                0.69 0.04\n",
       "LinearDiscriminantAnalysis     0.69 0.04\n",
       "LinearSVC                      0.69 0.04\n",
       "BaggingClassifier              0.69 0.04\n",
       "CalibratedClassifierCV         0.68 0.04\n",
       "AdaBoostClassifier             0.67 0.04\n",
       "GaussianNB                     0.66 0.05\n",
       "DecisionTreeClassifier         0.64 0.05\n",
       "Perceptron                     0.64 0.06\n",
       "SGDClassifier                  0.64 0.05\n",
       "QuadraticDiscriminantAnalysis  0.64 0.04\n",
       "KNeighborsClassifier           0.63 0.04\n",
       "PassiveAggressiveClassifier    0.63 0.06\n",
       "ExtraTreeClassifier            0.63 0.06\n",
       "LabelPropagation               0.55 0.04\n",
       "LabelSpreading                 0.55 0.04\n",
       "DummyClassifier                0.50 0.00"
      ]
     },
     "execution_count": 37,
     "metadata": {},
     "output_type": "execute_result"
    }
   ],
   "source": [
    "pd.DataFrame([pd.DataFrame(model_list).mean(axis=0), pd.DataFrame(model_list).std(axis=0)], index=['mean','std']).T.sort_values(by='mean', ascending=False)"
   ]
  },
  {
   "cell_type": "code",
   "execution_count": 53,
   "id": "a41fff81-e939-419d-99fe-32dc718ce606",
   "metadata": {},
   "outputs": [
    {
     "data": {
      "text/plain": [
       "Model\n",
       "RandomForestClassifier          0.72\n",
       "NuSVC                           0.72\n",
       "SVC                             0.72\n",
       "XGBClassifier                   0.71\n",
       "ExtraTreesClassifier            0.71\n",
       "LGBMClassifier                  0.71\n",
       "BernoulliNB                     0.71\n",
       "RidgeClassifierCV               0.71\n",
       "BaggingClassifier               0.70\n",
       "LinearDiscriminantAnalysis      0.70\n",
       "RidgeClassifier                 0.70\n",
       "LinearSVC                       0.70\n",
       "CalibratedClassifierCV          0.70\n",
       "LogisticRegression              0.70\n",
       "NearestCentroid                 0.69\n",
       "AdaBoostClassifier              0.67\n",
       "GaussianNB                      0.67\n",
       "SGDClassifier                   0.65\n",
       "Perceptron                      0.65\n",
       "DecisionTreeClassifier          0.65\n",
       "QuadraticDiscriminantAnalysis   0.64\n",
       "ExtraTreeClassifier             0.64\n",
       "KNeighborsClassifier            0.62\n",
       "PassiveAggressiveClassifier     0.62\n",
       "LabelSpreading                  0.56\n",
       "LabelPropagation                0.56\n",
       "DummyClassifier                 0.50\n",
       "dtype: float64"
      ]
     },
     "execution_count": 53,
     "metadata": {},
     "output_type": "execute_result"
    }
   ],
   "source": [
    "pd.DataFrame(model_list).mean().sort_values(ascending=False)"
   ]
  },
  {
   "cell_type": "code",
   "execution_count": 42,
   "id": "c5527692-a1d7-440b-bb64-419d140f146d",
   "metadata": {},
   "outputs": [
    {
     "name": "stdout",
     "output_type": "stream",
     "text": [
      "Model\n",
      "AdaBoostClassifier              0.71\n",
      "BaggingClassifier               0.64\n",
      "BernoulliNB                     0.71\n",
      "CalibratedClassifierCV          0.70\n",
      "DecisionTreeClassifier          0.64\n",
      "DummyClassifier                 0.50\n",
      "ExtraTreeClassifier             0.64\n",
      "ExtraTreesClassifier            0.78\n",
      "GaussianNB                      0.72\n",
      "KNeighborsClassifier            0.64\n",
      "LGBMClassifier                  0.72\n",
      "LabelPropagation                0.58\n",
      "LabelSpreading                  0.58\n",
      "LinearDiscriminantAnalysis      0.70\n",
      "LinearSVC                       0.71\n",
      "LogisticRegression              0.72\n",
      "NearestCentroid                 0.77\n",
      "NuSVC                           0.73\n",
      "PassiveAggressiveClassifier     0.76\n",
      "Perceptron                      0.73\n",
      "QuadraticDiscriminantAnalysis   0.71\n",
      "RandomForestClassifier          0.74\n",
      "RidgeClassifier                 0.70\n",
      "RidgeClassifierCV               0.71\n",
      "SGDClassifier                   0.70\n",
      "SVC                             0.76\n",
      "XGBClassifier                   0.70\n",
      "Name: ROC AUC, dtype: float64\n",
      "Model\n",
      "AdaBoostClassifier              0.68\n",
      "BaggingClassifier               0.77\n",
      "BernoulliNB                     0.77\n",
      "CalibratedClassifierCV          0.73\n",
      "DecisionTreeClassifier          0.63\n",
      "DummyClassifier                 0.50\n",
      "ExtraTreeClassifier             0.61\n",
      "ExtraTreesClassifier            0.67\n",
      "GaussianNB                      0.64\n",
      "KNeighborsClassifier            0.65\n",
      "LGBMClassifier                  0.73\n",
      "LabelPropagation                0.55\n",
      "LabelSpreading                  0.55\n",
      "LinearDiscriminantAnalysis      0.71\n",
      "LinearSVC                       0.71\n",
      "LogisticRegression              0.71\n",
      "NearestCentroid                 0.75\n",
      "NuSVC                           0.71\n",
      "PassiveAggressiveClassifier     0.67\n",
      "Perceptron                      0.70\n",
      "QuadraticDiscriminantAnalysis   0.63\n",
      "RandomForestClassifier          0.72\n",
      "RidgeClassifier                 0.71\n",
      "RidgeClassifierCV               0.71\n",
      "SGDClassifier                   0.64\n",
      "SVC                             0.69\n",
      "XGBClassifier                   0.75\n",
      "Name: ROC AUC, dtype: float64\n",
      "Model\n",
      "AdaBoostClassifier              0.62\n",
      "BaggingClassifier               0.67\n",
      "BernoulliNB                     0.68\n",
      "CalibratedClassifierCV          0.64\n",
      "DecisionTreeClassifier          0.68\n",
      "DummyClassifier                 0.50\n",
      "ExtraTreeClassifier             0.62\n",
      "ExtraTreesClassifier            0.72\n",
      "GaussianNB                      0.61\n",
      "KNeighborsClassifier            0.59\n",
      "LGBMClassifier                  0.67\n",
      "LabelPropagation                0.58\n",
      "LabelSpreading                  0.58\n",
      "LinearDiscriminantAnalysis      0.67\n",
      "LinearSVC                       0.67\n",
      "LogisticRegression              0.69\n",
      "NearestCentroid                 0.66\n",
      "NuSVC                           0.69\n",
      "PassiveAggressiveClassifier     0.70\n",
      "Perceptron                      0.70\n",
      "QuadraticDiscriminantAnalysis   0.59\n",
      "RandomForestClassifier          0.70\n",
      "RidgeClassifier                 0.67\n",
      "RidgeClassifierCV               0.67\n",
      "SGDClassifier                   0.61\n",
      "SVC                             0.65\n",
      "XGBClassifier                   0.65\n",
      "Name: ROC AUC, dtype: float64\n",
      "Model\n",
      "AdaBoostClassifier              0.71\n",
      "BaggingClassifier               0.72\n",
      "BernoulliNB                     0.74\n",
      "CalibratedClassifierCV          0.68\n",
      "DecisionTreeClassifier          0.74\n",
      "DummyClassifier                 0.50\n",
      "ExtraTreeClassifier             0.73\n",
      "ExtraTreesClassifier            0.73\n",
      "GaussianNB                      0.65\n",
      "KNeighborsClassifier            0.68\n",
      "LGBMClassifier                  0.77\n",
      "LabelPropagation                0.58\n",
      "LabelSpreading                  0.58\n",
      "LinearDiscriminantAnalysis      0.72\n",
      "LinearSVC                       0.69\n",
      "LogisticRegression              0.71\n",
      "NearestCentroid                 0.74\n",
      "NuSVC                           0.71\n",
      "PassiveAggressiveClassifier     0.68\n",
      "Perceptron                      0.63\n",
      "QuadraticDiscriminantAnalysis   0.65\n",
      "RandomForestClassifier          0.73\n",
      "RidgeClassifier                 0.72\n",
      "RidgeClassifierCV               0.72\n",
      "SGDClassifier                   0.71\n",
      "SVC                             0.71\n",
      "XGBClassifier                   0.76\n",
      "Name: ROC AUC, dtype: float64\n",
      "Model\n",
      "AdaBoostClassifier              0.59\n",
      "BaggingClassifier               0.64\n",
      "BernoulliNB                     0.67\n",
      "CalibratedClassifierCV          0.64\n",
      "DecisionTreeClassifier          0.53\n",
      "DummyClassifier                 0.50\n",
      "ExtraTreeClassifier             0.60\n",
      "ExtraTreesClassifier            0.69\n",
      "GaussianNB                      0.67\n",
      "KNeighborsClassifier            0.62\n",
      "LGBMClassifier                  0.62\n",
      "LabelPropagation                0.53\n",
      "LabelSpreading                  0.53\n",
      "LinearDiscriminantAnalysis      0.64\n",
      "LinearSVC                       0.62\n",
      "LogisticRegression              0.61\n",
      "NearestCentroid                 0.68\n",
      "NuSVC                           0.69\n",
      "PassiveAggressiveClassifier     0.70\n",
      "Perceptron                      0.60\n",
      "QuadraticDiscriminantAnalysis   0.60\n",
      "RandomForestClassifier          0.67\n",
      "RidgeClassifier                 0.64\n",
      "RidgeClassifierCV               0.63\n",
      "SGDClassifier                   0.59\n",
      "SVC                             0.70\n",
      "XGBClassifier                   0.63\n",
      "Name: ROC AUC, dtype: float64\n",
      "Model\n",
      "AdaBoostClassifier              0.76\n",
      "BaggingClassifier               0.77\n",
      "BernoulliNB                     0.80\n",
      "CalibratedClassifierCV          0.74\n",
      "DecisionTreeClassifier          0.66\n",
      "DummyClassifier                 0.50\n",
      "ExtraTreeClassifier             0.65\n",
      "ExtraTreesClassifier            0.81\n",
      "GaussianNB                      0.78\n",
      "KNeighborsClassifier            0.63\n",
      "LGBMClassifier                  0.71\n",
      "LabelPropagation                0.44\n",
      "LabelSpreading                  0.44\n",
      "LinearDiscriminantAnalysis      0.81\n",
      "LinearSVC                       0.79\n",
      "LogisticRegression              0.78\n",
      "NearestCentroid                 0.82\n",
      "NuSVC                           0.74\n",
      "PassiveAggressiveClassifier     0.67\n",
      "Perceptron                      0.65\n",
      "QuadraticDiscriminantAnalysis   0.62\n",
      "RandomForestClassifier          0.77\n",
      "RidgeClassifier                 0.81\n",
      "RidgeClassifierCV               0.79\n",
      "SGDClassifier                   0.67\n",
      "SVC                             0.80\n",
      "XGBClassifier                   0.78\n",
      "Name: ROC AUC, dtype: float64\n",
      "Model\n",
      "AdaBoostClassifier              0.65\n",
      "BaggingClassifier               0.72\n",
      "BernoulliNB                     0.68\n",
      "CalibratedClassifierCV          0.69\n",
      "DecisionTreeClassifier          0.67\n",
      "DummyClassifier                 0.50\n",
      "ExtraTreeClassifier             0.65\n",
      "ExtraTreesClassifier            0.72\n",
      "GaussianNB                      0.64\n",
      "KNeighborsClassifier            0.62\n",
      "LGBMClassifier                  0.65\n",
      "LabelPropagation                0.54\n",
      "LabelSpreading                  0.54\n",
      "LinearDiscriminantAnalysis      0.70\n",
      "LinearSVC                       0.71\n",
      "LogisticRegression              0.67\n",
      "NearestCentroid                 0.71\n",
      "NuSVC                           0.71\n",
      "PassiveAggressiveClassifier     0.61\n",
      "Perceptron                      0.66\n",
      "QuadraticDiscriminantAnalysis   0.61\n",
      "RandomForestClassifier          0.72\n",
      "RidgeClassifier                 0.70\n",
      "RidgeClassifierCV               0.70\n",
      "SGDClassifier                   0.66\n",
      "SVC                             0.73\n",
      "XGBClassifier                   0.68\n",
      "Name: ROC AUC, dtype: float64\n",
      "Model\n",
      "AdaBoostClassifier              0.68\n",
      "BaggingClassifier               0.68\n",
      "BernoulliNB                     0.74\n",
      "CalibratedClassifierCV          0.75\n",
      "DecisionTreeClassifier          0.71\n",
      "DummyClassifier                 0.50\n",
      "ExtraTreeClassifier             0.59\n",
      "ExtraTreesClassifier            0.78\n",
      "GaussianNB                      0.71\n",
      "KNeighborsClassifier            0.66\n",
      "LGBMClassifier                  0.70\n",
      "LabelPropagation                0.54\n",
      "LabelSpreading                  0.54\n",
      "LinearDiscriminantAnalysis      0.75\n",
      "LinearSVC                       0.73\n",
      "LogisticRegression              0.75\n",
      "NearestCentroid                 0.75\n",
      "NuSVC                           0.77\n",
      "PassiveAggressiveClassifier     0.59\n",
      "Perceptron                      0.67\n",
      "QuadraticDiscriminantAnalysis   0.65\n",
      "RandomForestClassifier          0.77\n",
      "RidgeClassifier                 0.75\n",
      "RidgeClassifierCV               0.75\n",
      "SGDClassifier                   0.70\n",
      "SVC                             0.78\n",
      "XGBClassifier                   0.70\n",
      "Name: ROC AUC, dtype: float64\n",
      "Model\n",
      "AdaBoostClassifier              0.62\n",
      "BaggingClassifier               0.67\n",
      "BernoulliNB                     0.68\n",
      "CalibratedClassifierCV          0.66\n",
      "DecisionTreeClassifier          0.69\n",
      "DummyClassifier                 0.50\n",
      "ExtraTreeClassifier             0.66\n",
      "ExtraTreesClassifier            0.71\n",
      "GaussianNB                      0.70\n",
      "KNeighborsClassifier            0.68\n",
      "LGBMClassifier                  0.72\n",
      "LabelPropagation                0.62\n",
      "LabelSpreading                  0.62\n",
      "LinearDiscriminantAnalysis      0.67\n",
      "LinearSVC                       0.66\n",
      "LogisticRegression              0.68\n",
      "NearestCentroid                 0.66\n",
      "NuSVC                           0.70\n",
      "PassiveAggressiveClassifier     0.62\n",
      "Perceptron                      0.70\n",
      "QuadraticDiscriminantAnalysis   0.63\n",
      "RandomForestClassifier          0.69\n",
      "RidgeClassifier                 0.68\n",
      "RidgeClassifierCV               0.68\n",
      "SGDClassifier                   0.67\n",
      "SVC                             0.73\n",
      "XGBClassifier                   0.73\n",
      "Name: ROC AUC, dtype: float64\n",
      "Model\n",
      "AdaBoostClassifier              0.72\n",
      "BaggingClassifier               0.70\n",
      "BernoulliNB                     0.72\n",
      "CalibratedClassifierCV          0.72\n",
      "DecisionTreeClassifier          0.68\n",
      "DummyClassifier                 0.50\n",
      "ExtraTreeClassifier             0.63\n",
      "ExtraTreesClassifier            0.74\n",
      "GaussianNB                      0.65\n",
      "KNeighborsClassifier            0.59\n",
      "LGBMClassifier                  0.73\n",
      "LabelPropagation                0.57\n",
      "LabelSpreading                  0.57\n",
      "LinearDiscriminantAnalysis      0.74\n",
      "LinearSVC                       0.75\n",
      "LogisticRegression              0.72\n",
      "NearestCentroid                 0.74\n",
      "NuSVC                           0.76\n",
      "PassiveAggressiveClassifier     0.65\n",
      "Perceptron                      0.67\n",
      "QuadraticDiscriminantAnalysis   0.60\n",
      "RandomForestClassifier          0.75\n",
      "RidgeClassifier                 0.72\n",
      "RidgeClassifierCV               0.74\n",
      "SGDClassifier                   0.66\n",
      "SVC                             0.74\n",
      "XGBClassifier                   0.68\n",
      "Name: ROC AUC, dtype: float64\n",
      "Model\n",
      "AdaBoostClassifier              0.65\n",
      "BaggingClassifier               0.68\n",
      "BernoulliNB                     0.73\n",
      "CalibratedClassifierCV          0.69\n",
      "DecisionTreeClassifier          0.61\n",
      "DummyClassifier                 0.50\n",
      "ExtraTreeClassifier             0.70\n",
      "ExtraTreesClassifier            0.70\n",
      "GaussianNB                      0.63\n",
      "KNeighborsClassifier            0.66\n",
      "LGBMClassifier                  0.70\n",
      "LabelPropagation                0.52\n",
      "LabelSpreading                  0.52\n",
      "LinearDiscriminantAnalysis      0.71\n",
      "LinearSVC                       0.71\n",
      "LogisticRegression              0.71\n",
      "NearestCentroid                 0.73\n",
      "NuSVC                           0.70\n",
      "PassiveAggressiveClassifier     0.61\n",
      "Perceptron                      0.67\n",
      "QuadraticDiscriminantAnalysis   0.61\n",
      "RandomForestClassifier          0.73\n",
      "RidgeClassifier                 0.73\n",
      "RidgeClassifierCV               0.74\n",
      "SGDClassifier                   0.63\n",
      "SVC                             0.69\n",
      "XGBClassifier                   0.70\n",
      "Name: ROC AUC, dtype: float64\n",
      "Model\n",
      "AdaBoostClassifier              0.68\n",
      "BaggingClassifier               0.72\n",
      "BernoulliNB                     0.71\n",
      "CalibratedClassifierCV          0.72\n",
      "DecisionTreeClassifier          0.69\n",
      "DummyClassifier                 0.50\n",
      "ExtraTreeClassifier             0.63\n",
      "ExtraTreesClassifier            0.75\n",
      "GaussianNB                      0.68\n",
      "KNeighborsClassifier            0.62\n",
      "LGBMClassifier                  0.73\n",
      "LabelPropagation                0.52\n",
      "LabelSpreading                  0.52\n",
      "LinearDiscriminantAnalysis      0.70\n",
      "LinearSVC                       0.74\n",
      "LogisticRegression              0.75\n",
      "NearestCentroid                 0.74\n",
      "NuSVC                           0.71\n",
      "PassiveAggressiveClassifier     0.62\n",
      "Perceptron                      0.70\n",
      "QuadraticDiscriminantAnalysis   0.66\n",
      "RandomForestClassifier          0.71\n",
      "RidgeClassifier                 0.70\n",
      "RidgeClassifierCV               0.72\n",
      "SGDClassifier                   0.55\n",
      "SVC                             0.73\n",
      "XGBClassifier                   0.71\n",
      "Name: ROC AUC, dtype: float64\n",
      "Model\n",
      "AdaBoostClassifier              0.72\n",
      "BaggingClassifier               0.75\n",
      "BernoulliNB                     0.76\n",
      "CalibratedClassifierCV          0.74\n",
      "DecisionTreeClassifier          0.74\n",
      "DummyClassifier                 0.50\n",
      "ExtraTreeClassifier             0.69\n",
      "ExtraTreesClassifier            0.79\n",
      "GaussianNB                      0.72\n",
      "KNeighborsClassifier            0.69\n",
      "LGBMClassifier                  0.78\n",
      "LabelPropagation                0.58\n",
      "LabelSpreading                  0.58\n",
      "LinearDiscriminantAnalysis      0.79\n",
      "LinearSVC                       0.77\n",
      "LogisticRegression              0.78\n",
      "NearestCentroid                 0.74\n",
      "NuSVC                           0.77\n",
      "PassiveAggressiveClassifier     0.66\n",
      "Perceptron                      0.66\n",
      "QuadraticDiscriminantAnalysis   0.58\n",
      "RandomForestClassifier          0.78\n",
      "RidgeClassifier                 0.79\n",
      "RidgeClassifierCV               0.79\n",
      "SGDClassifier                   0.69\n",
      "SVC                             0.77\n",
      "XGBClassifier                   0.74\n",
      "Name: ROC AUC, dtype: float64\n",
      "Model\n",
      "AdaBoostClassifier              0.65\n",
      "BaggingClassifier               0.70\n",
      "BernoulliNB                     0.72\n",
      "CalibratedClassifierCV          0.67\n",
      "DecisionTreeClassifier          0.67\n",
      "DummyClassifier                 0.50\n",
      "ExtraTreeClassifier             0.71\n",
      "ExtraTreesClassifier            0.74\n",
      "GaussianNB                      0.67\n",
      "KNeighborsClassifier            0.61\n",
      "LGBMClassifier                  0.70\n",
      "LabelPropagation                0.57\n",
      "LabelSpreading                  0.57\n",
      "LinearDiscriminantAnalysis      0.67\n",
      "LinearSVC                       0.67\n",
      "LogisticRegression              0.66\n",
      "NearestCentroid                 0.76\n",
      "NuSVC                           0.73\n",
      "PassiveAggressiveClassifier     0.69\n",
      "Perceptron                      0.62\n",
      "QuadraticDiscriminantAnalysis   0.61\n",
      "RandomForestClassifier          0.77\n",
      "RidgeClassifier                 0.67\n",
      "RidgeClassifierCV               0.70\n",
      "SGDClassifier                   0.55\n",
      "SVC                             0.72\n",
      "XGBClassifier                   0.71\n",
      "Name: ROC AUC, dtype: float64\n",
      "Model\n",
      "AdaBoostClassifier              0.75\n",
      "BaggingClassifier               0.69\n",
      "BernoulliNB                     0.69\n",
      "CalibratedClassifierCV          0.72\n",
      "DecisionTreeClassifier          0.68\n",
      "DummyClassifier                 0.50\n",
      "ExtraTreeClassifier             0.72\n",
      "ExtraTreesClassifier            0.75\n",
      "GaussianNB                      0.63\n",
      "KNeighborsClassifier            0.70\n",
      "LGBMClassifier                  0.78\n",
      "LabelPropagation                0.61\n",
      "LabelSpreading                  0.61\n",
      "LinearDiscriminantAnalysis      0.71\n",
      "LinearSVC                       0.71\n",
      "LogisticRegression              0.72\n",
      "NearestCentroid                 0.70\n",
      "NuSVC                           0.70\n",
      "PassiveAggressiveClassifier     0.72\n",
      "Perceptron                      0.66\n",
      "QuadraticDiscriminantAnalysis   0.64\n",
      "RandomForestClassifier          0.78\n",
      "RidgeClassifier                 0.72\n",
      "RidgeClassifierCV               0.76\n",
      "SGDClassifier                   0.67\n",
      "SVC                             0.71\n",
      "XGBClassifier                   0.74\n",
      "Name: ROC AUC, dtype: float64\n",
      "Model\n",
      "AdaBoostClassifier              0.73\n",
      "BaggingClassifier               0.66\n",
      "BernoulliNB                     0.73\n",
      "CalibratedClassifierCV          0.69\n",
      "DecisionTreeClassifier          0.74\n",
      "DummyClassifier                 0.50\n",
      "ExtraTreeClassifier             0.61\n",
      "ExtraTreesClassifier            0.72\n",
      "GaussianNB                      0.65\n",
      "KNeighborsClassifier            0.63\n",
      "LGBMClassifier                  0.80\n",
      "LabelPropagation                0.59\n",
      "LabelSpreading                  0.59\n",
      "LinearDiscriminantAnalysis      0.70\n",
      "LinearSVC                       0.71\n",
      "LogisticRegression              0.70\n",
      "NearestCentroid                 0.75\n",
      "NuSVC                           0.71\n",
      "PassiveAggressiveClassifier     0.63\n",
      "Perceptron                      0.68\n",
      "QuadraticDiscriminantAnalysis   0.59\n",
      "RandomForestClassifier          0.78\n",
      "RidgeClassifier                 0.70\n",
      "RidgeClassifierCV               0.71\n",
      "SGDClassifier                   0.60\n",
      "SVC                             0.70\n",
      "XGBClassifier                   0.79\n",
      "Name: ROC AUC, dtype: float64\n",
      "Model\n",
      "AdaBoostClassifier              0.65\n",
      "BaggingClassifier               0.66\n",
      "BernoulliNB                     0.68\n",
      "CalibratedClassifierCV          0.65\n",
      "DecisionTreeClassifier          0.68\n",
      "DummyClassifier                 0.50\n",
      "ExtraTreeClassifier             0.58\n",
      "ExtraTreesClassifier            0.67\n",
      "GaussianNB                      0.65\n",
      "KNeighborsClassifier            0.55\n",
      "LGBMClassifier                  0.68\n",
      "LabelPropagation                0.48\n",
      "LabelSpreading                  0.49\n",
      "LinearDiscriminantAnalysis      0.68\n",
      "LinearSVC                       0.70\n",
      "LogisticRegression              0.72\n",
      "NearestCentroid                 0.73\n",
      "NuSVC                           0.65\n",
      "PassiveAggressiveClassifier     0.57\n",
      "Perceptron                      0.47\n",
      "QuadraticDiscriminantAnalysis   0.62\n",
      "RandomForestClassifier          0.68\n",
      "RidgeClassifier                 0.69\n",
      "RidgeClassifierCV               0.72\n",
      "SGDClassifier                   0.55\n",
      "SVC                             0.66\n",
      "XGBClassifier                   0.65\n",
      "Name: ROC AUC, dtype: float64\n",
      "Model\n",
      "AdaBoostClassifier              0.67\n",
      "BaggingClassifier               0.71\n",
      "BernoulliNB                     0.70\n",
      "CalibratedClassifierCV          0.68\n",
      "DecisionTreeClassifier          0.63\n",
      "DummyClassifier                 0.50\n",
      "ExtraTreeClassifier             0.68\n",
      "ExtraTreesClassifier            0.75\n",
      "GaussianNB                      0.70\n",
      "KNeighborsClassifier            0.63\n",
      "LGBMClassifier                  0.75\n",
      "LabelPropagation                0.53\n",
      "LabelSpreading                  0.53\n",
      "LinearDiscriminantAnalysis      0.70\n",
      "LinearSVC                       0.67\n",
      "LogisticRegression              0.68\n",
      "NearestCentroid                 0.70\n",
      "NuSVC                           0.73\n",
      "PassiveAggressiveClassifier     0.62\n",
      "Perceptron                      0.68\n",
      "QuadraticDiscriminantAnalysis   0.69\n",
      "RandomForestClassifier          0.74\n",
      "RidgeClassifier                 0.70\n",
      "RidgeClassifierCV               0.69\n",
      "SGDClassifier                   0.69\n",
      "SVC                             0.72\n",
      "XGBClassifier                   0.72\n",
      "Name: ROC AUC, dtype: float64\n",
      "Model\n",
      "AdaBoostClassifier              0.63\n",
      "BaggingClassifier               0.59\n",
      "BernoulliNB                     0.70\n",
      "CalibratedClassifierCV          0.65\n",
      "DecisionTreeClassifier          0.66\n",
      "DummyClassifier                 0.50\n",
      "ExtraTreeClassifier             0.65\n",
      "ExtraTreesClassifier            0.64\n",
      "GaussianNB                      0.58\n",
      "KNeighborsClassifier            0.64\n",
      "LGBMClassifier                  0.72\n",
      "LabelPropagation                0.55\n",
      "LabelSpreading                  0.55\n",
      "LinearDiscriminantAnalysis      0.70\n",
      "LinearSVC                       0.68\n",
      "LogisticRegression              0.65\n",
      "NearestCentroid                 0.70\n",
      "NuSVC                           0.70\n",
      "PassiveAggressiveClassifier     0.66\n",
      "Perceptron                      0.53\n",
      "QuadraticDiscriminantAnalysis   0.56\n",
      "RandomForestClassifier          0.70\n",
      "RidgeClassifier                 0.70\n",
      "RidgeClassifierCV               0.69\n",
      "SGDClassifier                   0.70\n",
      "SVC                             0.66\n",
      "XGBClassifier                   0.74\n",
      "Name: ROC AUC, dtype: float64\n",
      "Model\n",
      "AdaBoostClassifier              0.60\n",
      "BaggingClassifier               0.62\n",
      "BernoulliNB                     0.71\n",
      "CalibratedClassifierCV          0.61\n",
      "DecisionTreeClassifier          0.56\n",
      "DummyClassifier                 0.50\n",
      "ExtraTreeClassifier             0.67\n",
      "ExtraTreesClassifier            0.70\n",
      "GaussianNB                      0.70\n",
      "KNeighborsClassifier            0.58\n",
      "LGBMClassifier                  0.68\n",
      "LabelPropagation                0.56\n",
      "LabelSpreading                  0.56\n",
      "LinearDiscriminantAnalysis      0.59\n",
      "LinearSVC                       0.61\n",
      "LogisticRegression              0.63\n",
      "NearestCentroid                 0.66\n",
      "NuSVC                           0.67\n",
      "PassiveAggressiveClassifier     0.65\n",
      "Perceptron                      0.67\n",
      "QuadraticDiscriminantAnalysis   0.62\n",
      "RandomForestClassifier          0.72\n",
      "RidgeClassifier                 0.60\n",
      "RidgeClassifierCV               0.63\n",
      "SGDClassifier                   0.56\n",
      "SVC                             0.67\n",
      "XGBClassifier                   0.66\n",
      "Name: ROC AUC, dtype: float64\n",
      "Model\n",
      "AdaBoostClassifier              0.64\n",
      "BaggingClassifier               0.71\n",
      "BernoulliNB                     0.68\n",
      "CalibratedClassifierCV          0.64\n",
      "DecisionTreeClassifier          0.64\n",
      "DummyClassifier                 0.50\n",
      "ExtraTreeClassifier             0.62\n",
      "ExtraTreesClassifier            0.70\n",
      "GaussianNB                      0.69\n",
      "KNeighborsClassifier            0.59\n",
      "LGBMClassifier                  0.69\n",
      "LabelPropagation                0.59\n",
      "LabelSpreading                  0.59\n",
      "LinearDiscriminantAnalysis      0.63\n",
      "LinearSVC                       0.66\n",
      "LogisticRegression              0.64\n",
      "NearestCentroid                 0.60\n",
      "NuSVC                           0.64\n",
      "PassiveAggressiveClassifier     0.55\n",
      "Perceptron                      0.57\n",
      "QuadraticDiscriminantAnalysis   0.65\n",
      "RandomForestClassifier          0.76\n",
      "RidgeClassifier                 0.65\n",
      "RidgeClassifierCV               0.63\n",
      "SGDClassifier                   0.61\n",
      "SVC                             0.66\n",
      "XGBClassifier                   0.72\n",
      "Name: ROC AUC, dtype: float64\n",
      "Model\n",
      "AdaBoostClassifier              0.69\n",
      "BaggingClassifier               0.67\n",
      "BernoulliNB                     0.64\n",
      "CalibratedClassifierCV          0.71\n",
      "DecisionTreeClassifier          0.61\n",
      "DummyClassifier                 0.50\n",
      "ExtraTreeClassifier             0.68\n",
      "ExtraTreesClassifier            0.66\n",
      "GaussianNB                      0.64\n",
      "KNeighborsClassifier            0.65\n",
      "LGBMClassifier                  0.71\n",
      "LabelPropagation                0.61\n",
      "LabelSpreading                  0.61\n",
      "LinearDiscriminantAnalysis      0.67\n",
      "LinearSVC                       0.71\n",
      "LogisticRegression              0.69\n",
      "NearestCentroid                 0.62\n",
      "NuSVC                           0.65\n",
      "PassiveAggressiveClassifier     0.59\n",
      "Perceptron                      0.62\n",
      "QuadraticDiscriminantAnalysis   0.61\n",
      "RandomForestClassifier          0.70\n",
      "RidgeClassifier                 0.67\n",
      "RidgeClassifierCV               0.67\n",
      "SGDClassifier                   0.66\n",
      "SVC                             0.69\n",
      "XGBClassifier                   0.68\n",
      "Name: ROC AUC, dtype: float64\n",
      "Model\n",
      "AdaBoostClassifier              0.68\n",
      "BaggingClassifier               0.61\n",
      "BernoulliNB                     0.67\n",
      "CalibratedClassifierCV          0.75\n",
      "DecisionTreeClassifier          0.71\n",
      "DummyClassifier                 0.50\n",
      "ExtraTreeClassifier             0.66\n",
      "ExtraTreesClassifier            0.69\n",
      "GaussianNB                      0.66\n",
      "KNeighborsClassifier            0.69\n",
      "LGBMClassifier                  0.66\n",
      "LabelPropagation                0.56\n",
      "LabelSpreading                  0.56\n",
      "LinearDiscriminantAnalysis      0.75\n",
      "LinearSVC                       0.76\n",
      "LogisticRegression              0.75\n",
      "NearestCentroid                 0.70\n",
      "NuSVC                           0.68\n",
      "PassiveAggressiveClassifier     0.69\n",
      "Perceptron                      0.60\n",
      "QuadraticDiscriminantAnalysis   0.68\n",
      "RandomForestClassifier          0.69\n",
      "RidgeClassifier                 0.75\n",
      "RidgeClassifierCV               0.75\n",
      "SGDClassifier                   0.77\n",
      "SVC                             0.70\n",
      "XGBClassifier                   0.71\n",
      "Name: ROC AUC, dtype: float64\n",
      "Model\n",
      "AdaBoostClassifier              0.66\n",
      "BaggingClassifier               0.69\n",
      "BernoulliNB                     0.68\n",
      "CalibratedClassifierCV          0.66\n",
      "DecisionTreeClassifier          0.56\n",
      "DummyClassifier                 0.50\n",
      "ExtraTreeClassifier             0.58\n",
      "ExtraTreesClassifier            0.70\n",
      "GaussianNB                      0.63\n",
      "KNeighborsClassifier            0.57\n",
      "LGBMClassifier                  0.66\n",
      "LabelPropagation                0.49\n",
      "LabelSpreading                  0.49\n",
      "LinearDiscriminantAnalysis      0.66\n",
      "LinearSVC                       0.66\n",
      "LogisticRegression              0.66\n",
      "NearestCentroid                 0.69\n",
      "NuSVC                           0.74\n",
      "PassiveAggressiveClassifier     0.63\n",
      "Perceptron                      0.66\n",
      "QuadraticDiscriminantAnalysis   0.62\n",
      "RandomForestClassifier          0.70\n",
      "RidgeClassifier                 0.66\n",
      "RidgeClassifierCV               0.67\n",
      "SGDClassifier                   0.61\n",
      "SVC                             0.72\n",
      "XGBClassifier                   0.66\n",
      "Name: ROC AUC, dtype: float64\n",
      "Model\n",
      "AdaBoostClassifier              0.65\n",
      "BaggingClassifier               0.70\n",
      "BernoulliNB                     0.64\n",
      "CalibratedClassifierCV          0.63\n",
      "DecisionTreeClassifier          0.57\n",
      "DummyClassifier                 0.50\n",
      "ExtraTreeClassifier             0.59\n",
      "ExtraTreesClassifier            0.68\n",
      "GaussianNB                      0.59\n",
      "KNeighborsClassifier            0.59\n",
      "LGBMClassifier                  0.65\n",
      "LabelPropagation                0.52\n",
      "LabelSpreading                  0.52\n",
      "LinearDiscriminantAnalysis      0.63\n",
      "LinearSVC                       0.65\n",
      "LogisticRegression              0.64\n",
      "NearestCentroid                 0.63\n",
      "NuSVC                           0.61\n",
      "PassiveAggressiveClassifier     0.65\n",
      "Perceptron                      0.63\n",
      "QuadraticDiscriminantAnalysis   0.52\n",
      "RandomForestClassifier          0.69\n",
      "RidgeClassifier                 0.61\n",
      "RidgeClassifierCV               0.61\n",
      "SGDClassifier                   0.63\n",
      "SVC                             0.61\n",
      "XGBClassifier                   0.63\n",
      "Name: ROC AUC, dtype: float64\n",
      "Model\n",
      "AdaBoostClassifier              0.70\n",
      "BaggingClassifier               0.78\n",
      "BernoulliNB                     0.69\n",
      "CalibratedClassifierCV          0.75\n",
      "DecisionTreeClassifier          0.64\n",
      "DummyClassifier                 0.50\n",
      "ExtraTreeClassifier             0.62\n",
      "ExtraTreesClassifier            0.77\n",
      "GaussianNB                      0.67\n",
      "KNeighborsClassifier            0.71\n",
      "LGBMClassifier                  0.79\n",
      "LabelPropagation                0.59\n",
      "LabelSpreading                  0.59\n",
      "LinearDiscriminantAnalysis      0.77\n",
      "LinearSVC                       0.78\n",
      "LogisticRegression              0.79\n",
      "NearestCentroid                 0.70\n",
      "NuSVC                           0.75\n",
      "PassiveAggressiveClassifier     0.78\n",
      "Perceptron                      0.51\n",
      "QuadraticDiscriminantAnalysis   0.69\n",
      "RandomForestClassifier          0.81\n",
      "RidgeClassifier                 0.77\n",
      "RidgeClassifierCV               0.78\n",
      "SGDClassifier                   0.70\n",
      "SVC                             0.79\n",
      "XGBClassifier                   0.78\n",
      "Name: ROC AUC, dtype: float64\n",
      "Model\n",
      "AdaBoostClassifier              0.67\n",
      "BaggingClassifier               0.65\n",
      "BernoulliNB                     0.65\n",
      "CalibratedClassifierCV          0.64\n",
      "DecisionTreeClassifier          0.59\n",
      "DummyClassifier                 0.50\n",
      "ExtraTreeClassifier             0.60\n",
      "ExtraTreesClassifier            0.63\n",
      "GaussianNB                      0.67\n",
      "KNeighborsClassifier            0.60\n",
      "LGBMClassifier                  0.67\n",
      "LabelPropagation                0.54\n",
      "LabelSpreading                  0.54\n",
      "LinearDiscriminantAnalysis      0.64\n",
      "LinearSVC                       0.64\n",
      "LogisticRegression              0.64\n",
      "NearestCentroid                 0.64\n",
      "NuSVC                           0.64\n",
      "PassiveAggressiveClassifier     0.63\n",
      "Perceptron                      0.65\n",
      "QuadraticDiscriminantAnalysis   0.67\n",
      "RandomForestClassifier          0.70\n",
      "RidgeClassifier                 0.64\n",
      "RidgeClassifierCV               0.64\n",
      "SGDClassifier                   0.60\n",
      "SVC                             0.68\n",
      "XGBClassifier                   0.71\n",
      "Name: ROC AUC, dtype: float64\n",
      "Model\n",
      "AdaBoostClassifier              0.63\n",
      "BaggingClassifier               0.67\n",
      "BernoulliNB                     0.70\n",
      "CalibratedClassifierCV          0.65\n",
      "DecisionTreeClassifier          0.67\n",
      "DummyClassifier                 0.50\n",
      "ExtraTreeClassifier             0.48\n",
      "ExtraTreesClassifier            0.69\n",
      "GaussianNB                      0.58\n",
      "KNeighborsClassifier            0.66\n",
      "LGBMClassifier                  0.66\n",
      "LabelPropagation                0.57\n",
      "LabelSpreading                  0.57\n",
      "LinearDiscriminantAnalysis      0.68\n",
      "LinearSVC                       0.65\n",
      "LogisticRegression              0.69\n",
      "NearestCentroid                 0.67\n",
      "NuSVC                           0.70\n",
      "PassiveAggressiveClassifier     0.62\n",
      "Perceptron                      0.58\n",
      "QuadraticDiscriminantAnalysis   0.54\n",
      "RandomForestClassifier          0.73\n",
      "RidgeClassifier                 0.68\n",
      "RidgeClassifierCV               0.73\n",
      "SGDClassifier                   0.61\n",
      "SVC                             0.73\n",
      "XGBClassifier                   0.68\n",
      "Name: ROC AUC, dtype: float64\n",
      "Model\n",
      "AdaBoostClassifier              0.72\n",
      "BaggingClassifier               0.70\n",
      "BernoulliNB                     0.70\n",
      "CalibratedClassifierCV          0.70\n",
      "DecisionTreeClassifier          0.68\n",
      "DummyClassifier                 0.50\n",
      "ExtraTreeClassifier             0.69\n",
      "ExtraTreesClassifier            0.75\n",
      "GaussianNB                      0.70\n",
      "KNeighborsClassifier            0.58\n",
      "LGBMClassifier                  0.75\n",
      "LabelPropagation                0.53\n",
      "LabelSpreading                  0.53\n",
      "LinearDiscriminantAnalysis      0.71\n",
      "LinearSVC                       0.73\n",
      "LogisticRegression              0.72\n",
      "NearestCentroid                 0.75\n",
      "NuSVC                           0.77\n",
      "PassiveAggressiveClassifier     0.74\n",
      "Perceptron                      0.71\n",
      "QuadraticDiscriminantAnalysis   0.66\n",
      "RandomForestClassifier          0.79\n",
      "RidgeClassifier                 0.71\n",
      "RidgeClassifierCV               0.71\n",
      "SGDClassifier                   0.64\n",
      "SVC                             0.76\n",
      "XGBClassifier                   0.71\n",
      "Name: ROC AUC, dtype: float64\n",
      "Model\n",
      "AdaBoostClassifier              0.74\n",
      "BaggingClassifier               0.73\n",
      "BernoulliNB                     0.74\n",
      "CalibratedClassifierCV          0.69\n",
      "DecisionTreeClassifier          0.72\n",
      "DummyClassifier                 0.50\n",
      "ExtraTreeClassifier             0.74\n",
      "ExtraTreesClassifier            0.80\n",
      "GaussianNB                      0.65\n",
      "KNeighborsClassifier            0.69\n",
      "LGBMClassifier                  0.72\n",
      "LabelPropagation                0.60\n",
      "LabelSpreading                  0.60\n",
      "LinearDiscriminantAnalysis      0.69\n",
      "LinearSVC                       0.69\n",
      "LogisticRegression              0.69\n",
      "NearestCentroid                 0.74\n",
      "NuSVC                           0.75\n",
      "PassiveAggressiveClassifier     0.69\n",
      "Perceptron                      0.67\n",
      "QuadraticDiscriminantAnalysis   0.65\n",
      "RandomForestClassifier          0.73\n",
      "RidgeClassifier                 0.69\n",
      "RidgeClassifierCV               0.70\n",
      "SGDClassifier                   0.63\n",
      "SVC                             0.69\n",
      "XGBClassifier                   0.76\n",
      "Name: ROC AUC, dtype: float64\n",
      "Model\n",
      "AdaBoostClassifier              0.72\n",
      "BaggingClassifier               0.64\n",
      "BernoulliNB                     0.70\n",
      "CalibratedClassifierCV          0.68\n",
      "DecisionTreeClassifier          0.64\n",
      "DummyClassifier                 0.50\n",
      "ExtraTreeClassifier             0.59\n",
      "ExtraTreesClassifier            0.75\n",
      "GaussianNB                      0.65\n",
      "KNeighborsClassifier            0.61\n",
      "LGBMClassifier                  0.74\n",
      "LabelPropagation                0.54\n",
      "LabelSpreading                  0.56\n",
      "LinearDiscriminantAnalysis      0.72\n",
      "LinearSVC                       0.70\n",
      "LogisticRegression              0.69\n",
      "NearestCentroid                 0.76\n",
      "NuSVC                           0.73\n",
      "PassiveAggressiveClassifier     0.69\n",
      "Perceptron                      0.67\n",
      "QuadraticDiscriminantAnalysis   0.57\n",
      "RandomForestClassifier          0.70\n",
      "RidgeClassifier                 0.72\n",
      "RidgeClassifierCV               0.71\n",
      "SGDClassifier                   0.67\n",
      "SVC                             0.70\n",
      "XGBClassifier                   0.70\n",
      "Name: ROC AUC, dtype: float64\n",
      "Model\n",
      "AdaBoostClassifier              0.69\n",
      "BaggingClassifier               0.70\n",
      "BernoulliNB                     0.70\n",
      "CalibratedClassifierCV          0.64\n",
      "DecisionTreeClassifier          0.63\n",
      "DummyClassifier                 0.50\n",
      "ExtraTreeClassifier             0.63\n",
      "ExtraTreesClassifier            0.72\n",
      "GaussianNB                      0.65\n",
      "KNeighborsClassifier            0.62\n",
      "LGBMClassifier                  0.69\n",
      "LabelPropagation                0.55\n",
      "LabelSpreading                  0.55\n",
      "LinearDiscriminantAnalysis      0.67\n",
      "LinearSVC                       0.64\n",
      "LogisticRegression              0.67\n",
      "NearestCentroid                 0.70\n",
      "NuSVC                           0.68\n",
      "PassiveAggressiveClassifier     0.61\n",
      "Perceptron                      0.60\n",
      "QuadraticDiscriminantAnalysis   0.61\n",
      "RandomForestClassifier          0.69\n",
      "RidgeClassifier                 0.68\n",
      "RidgeClassifierCV               0.65\n",
      "SGDClassifier                   0.59\n",
      "SVC                             0.70\n",
      "XGBClassifier                   0.67\n",
      "Name: ROC AUC, dtype: float64\n",
      "Model\n",
      "AdaBoostClassifier              0.71\n",
      "BaggingClassifier               0.74\n",
      "BernoulliNB                     0.74\n",
      "CalibratedClassifierCV          0.72\n",
      "DecisionTreeClassifier          0.60\n",
      "DummyClassifier                 0.50\n",
      "ExtraTreeClassifier             0.75\n",
      "ExtraTreesClassifier            0.67\n",
      "GaussianNB                      0.65\n",
      "KNeighborsClassifier            0.60\n",
      "LGBMClassifier                  0.79\n",
      "LabelPropagation                0.58\n",
      "LabelSpreading                  0.58\n",
      "LinearDiscriminantAnalysis      0.72\n",
      "LinearSVC                       0.72\n",
      "LogisticRegression              0.74\n",
      "NearestCentroid                 0.67\n",
      "NuSVC                           0.72\n",
      "PassiveAggressiveClassifier     0.57\n",
      "Perceptron                      0.65\n",
      "QuadraticDiscriminantAnalysis   0.68\n",
      "RandomForestClassifier          0.75\n",
      "RidgeClassifier                 0.73\n",
      "RidgeClassifierCV               0.72\n",
      "SGDClassifier                   0.67\n",
      "SVC                             0.69\n",
      "XGBClassifier                   0.76\n",
      "Name: ROC AUC, dtype: float64\n",
      "Model\n",
      "AdaBoostClassifier              0.63\n",
      "BaggingClassifier               0.65\n",
      "BernoulliNB                     0.69\n",
      "CalibratedClassifierCV          0.64\n",
      "DecisionTreeClassifier          0.66\n",
      "DummyClassifier                 0.50\n",
      "ExtraTreeClassifier             0.55\n",
      "ExtraTreesClassifier            0.63\n",
      "GaussianNB                      0.63\n",
      "KNeighborsClassifier            0.59\n",
      "LGBMClassifier                  0.63\n",
      "LabelPropagation                0.47\n",
      "LabelSpreading                  0.47\n",
      "LinearDiscriminantAnalysis      0.64\n",
      "LinearSVC                       0.65\n",
      "LogisticRegression              0.63\n",
      "NearestCentroid                 0.64\n",
      "NuSVC                           0.64\n",
      "PassiveAggressiveClassifier     0.45\n",
      "Perceptron                      0.55\n",
      "QuadraticDiscriminantAnalysis   0.63\n",
      "RandomForestClassifier          0.68\n",
      "RidgeClassifier                 0.64\n",
      "RidgeClassifierCV               0.64\n",
      "SGDClassifier                   0.60\n",
      "SVC                             0.63\n",
      "XGBClassifier                   0.61\n",
      "Name: ROC AUC, dtype: float64\n",
      "Model\n",
      "AdaBoostClassifier              0.64\n",
      "BaggingClassifier               0.63\n",
      "BernoulliNB                     0.70\n",
      "CalibratedClassifierCV          0.70\n",
      "DecisionTreeClassifier          0.61\n",
      "DummyClassifier                 0.50\n",
      "ExtraTreeClassifier             0.69\n",
      "ExtraTreesClassifier            0.76\n",
      "GaussianNB                      0.67\n",
      "KNeighborsClassifier            0.67\n",
      "LGBMClassifier                  0.67\n",
      "LabelPropagation                0.56\n",
      "LabelSpreading                  0.56\n",
      "LinearDiscriminantAnalysis      0.67\n",
      "LinearSVC                       0.69\n",
      "LogisticRegression              0.70\n",
      "NearestCentroid                 0.73\n",
      "NuSVC                           0.75\n",
      "PassiveAggressiveClassifier     0.53\n",
      "Perceptron                      0.49\n",
      "QuadraticDiscriminantAnalysis   0.65\n",
      "RandomForestClassifier          0.74\n",
      "RidgeClassifier                 0.67\n",
      "RidgeClassifierCV               0.69\n",
      "SGDClassifier                   0.75\n",
      "SVC                             0.76\n",
      "XGBClassifier                   0.74\n",
      "Name: ROC AUC, dtype: float64\n",
      "Model\n",
      "AdaBoostClassifier              0.75\n",
      "BaggingClassifier               0.74\n",
      "BernoulliNB                     0.68\n",
      "CalibratedClassifierCV          0.65\n",
      "DecisionTreeClassifier          0.64\n",
      "DummyClassifier                 0.50\n",
      "ExtraTreeClassifier             0.64\n",
      "ExtraTreesClassifier            0.73\n",
      "GaussianNB                      0.66\n",
      "KNeighborsClassifier            0.66\n",
      "LGBMClassifier                  0.80\n",
      "LabelPropagation                0.48\n",
      "LabelSpreading                  0.48\n",
      "LinearDiscriminantAnalysis      0.65\n",
      "LinearSVC                       0.66\n",
      "LogisticRegression              0.68\n",
      "NearestCentroid                 0.70\n",
      "NuSVC                           0.70\n",
      "PassiveAggressiveClassifier     0.63\n",
      "Perceptron                      0.75\n",
      "QuadraticDiscriminantAnalysis   0.61\n",
      "RandomForestClassifier          0.80\n",
      "RidgeClassifier                 0.65\n",
      "RidgeClassifierCV               0.69\n",
      "SGDClassifier                   0.64\n",
      "SVC                             0.71\n",
      "XGBClassifier                   0.75\n",
      "Name: ROC AUC, dtype: float64\n",
      "Model\n",
      "AdaBoostClassifier              0.64\n",
      "BaggingClassifier               0.69\n",
      "BernoulliNB                     0.68\n",
      "CalibratedClassifierCV          0.63\n",
      "DecisionTreeClassifier          0.77\n",
      "DummyClassifier                 0.50\n",
      "ExtraTreeClassifier             0.64\n",
      "ExtraTreesClassifier            0.71\n",
      "GaussianNB                      0.59\n",
      "KNeighborsClassifier            0.63\n",
      "LGBMClassifier                  0.67\n",
      "LabelPropagation                0.60\n",
      "LabelSpreading                  0.60\n",
      "LinearDiscriminantAnalysis      0.63\n",
      "LinearSVC                       0.62\n",
      "LogisticRegression              0.63\n",
      "NearestCentroid                 0.66\n",
      "NuSVC                           0.68\n",
      "PassiveAggressiveClassifier     0.54\n",
      "Perceptron                      0.61\n",
      "QuadraticDiscriminantAnalysis   0.61\n",
      "RandomForestClassifier          0.70\n",
      "RidgeClassifier                 0.62\n",
      "RidgeClassifierCV               0.62\n",
      "SGDClassifier                   0.59\n",
      "SVC                             0.70\n",
      "XGBClassifier                   0.68\n",
      "Name: ROC AUC, dtype: float64\n",
      "Model\n",
      "AdaBoostClassifier              0.63\n",
      "BaggingClassifier               0.74\n",
      "BernoulliNB                     0.75\n",
      "CalibratedClassifierCV          0.70\n",
      "DecisionTreeClassifier          0.67\n",
      "DummyClassifier                 0.50\n",
      "ExtraTreeClassifier             0.60\n",
      "ExtraTreesClassifier            0.75\n",
      "GaussianNB                      0.74\n",
      "KNeighborsClassifier            0.70\n",
      "LGBMClassifier                  0.74\n",
      "LabelPropagation                0.58\n",
      "LabelSpreading                  0.58\n",
      "LinearDiscriminantAnalysis      0.67\n",
      "LinearSVC                       0.67\n",
      "LogisticRegression              0.67\n",
      "NearestCentroid                 0.73\n",
      "NuSVC                           0.77\n",
      "PassiveAggressiveClassifier     0.58\n",
      "Perceptron                      0.65\n",
      "QuadraticDiscriminantAnalysis   0.67\n",
      "RandomForestClassifier          0.81\n",
      "RidgeClassifier                 0.67\n",
      "RidgeClassifierCV               0.68\n",
      "SGDClassifier                   0.65\n",
      "SVC                             0.70\n",
      "XGBClassifier                   0.74\n",
      "Name: ROC AUC, dtype: float64\n",
      "Model\n",
      "AdaBoostClassifier              0.66\n",
      "BaggingClassifier               0.65\n",
      "BernoulliNB                     0.64\n",
      "CalibratedClassifierCV          0.70\n",
      "DecisionTreeClassifier          0.64\n",
      "DummyClassifier                 0.50\n",
      "ExtraTreeClassifier             0.63\n",
      "ExtraTreesClassifier            0.66\n",
      "GaussianNB                      0.59\n",
      "KNeighborsClassifier            0.61\n",
      "LGBMClassifier                  0.64\n",
      "LabelPropagation                0.47\n",
      "LabelSpreading                  0.47\n",
      "LinearDiscriminantAnalysis      0.67\n",
      "LinearSVC                       0.67\n",
      "LogisticRegression              0.67\n",
      "NearestCentroid                 0.65\n",
      "NuSVC                           0.67\n",
      "PassiveAggressiveClassifier     0.62\n",
      "Perceptron                      0.64\n",
      "QuadraticDiscriminantAnalysis   0.65\n",
      "RandomForestClassifier          0.68\n",
      "RidgeClassifier                 0.67\n",
      "RidgeClassifierCV               0.66\n",
      "SGDClassifier                   0.67\n",
      "SVC                             0.69\n",
      "XGBClassifier                   0.65\n",
      "Name: ROC AUC, dtype: float64\n",
      "Model\n",
      "AdaBoostClassifier              0.66\n",
      "BaggingClassifier               0.60\n",
      "BernoulliNB                     0.67\n",
      "CalibratedClassifierCV          0.65\n",
      "DecisionTreeClassifier          0.54\n",
      "DummyClassifier                 0.50\n",
      "ExtraTreeClassifier             0.58\n",
      "ExtraTreesClassifier            0.67\n",
      "GaussianNB                      0.63\n",
      "KNeighborsClassifier            0.59\n",
      "LGBMClassifier                  0.70\n",
      "LabelPropagation                0.52\n",
      "LabelSpreading                  0.52\n",
      "LinearDiscriminantAnalysis      0.65\n",
      "LinearSVC                       0.65\n",
      "LogisticRegression              0.65\n",
      "NearestCentroid                 0.62\n",
      "NuSVC                           0.68\n",
      "PassiveAggressiveClassifier     0.55\n",
      "Perceptron                      0.58\n",
      "QuadraticDiscriminantAnalysis   0.65\n",
      "RandomForestClassifier          0.70\n",
      "RidgeClassifier                 0.67\n",
      "RidgeClassifierCV               0.66\n",
      "SGDClassifier                   0.65\n",
      "SVC                             0.68\n",
      "XGBClassifier                   0.67\n",
      "Name: ROC AUC, dtype: float64\n",
      "Model\n",
      "AdaBoostClassifier              0.64\n",
      "BaggingClassifier               0.57\n",
      "BernoulliNB                     0.62\n",
      "CalibratedClassifierCV          0.62\n",
      "DecisionTreeClassifier          0.62\n",
      "DummyClassifier                 0.50\n",
      "ExtraTreeClassifier             0.62\n",
      "ExtraTreesClassifier            0.64\n",
      "GaussianNB                      0.56\n",
      "KNeighborsClassifier            0.56\n",
      "LGBMClassifier                  0.61\n",
      "LabelPropagation                0.53\n",
      "LabelSpreading                  0.51\n",
      "LinearDiscriminantAnalysis      0.66\n",
      "LinearSVC                       0.61\n",
      "LogisticRegression              0.62\n",
      "NearestCentroid                 0.70\n",
      "NuSVC                           0.60\n",
      "PassiveAggressiveClassifier     0.53\n",
      "Perceptron                      0.70\n",
      "QuadraticDiscriminantAnalysis   0.55\n",
      "RandomForestClassifier          0.65\n",
      "RidgeClassifier                 0.67\n",
      "RidgeClassifierCV               0.66\n",
      "SGDClassifier                   0.59\n",
      "SVC                             0.63\n",
      "XGBClassifier                   0.67\n",
      "Name: ROC AUC, dtype: float64\n",
      "Model\n",
      "AdaBoostClassifier              0.67\n",
      "BaggingClassifier               0.67\n",
      "BernoulliNB                     0.73\n",
      "CalibratedClassifierCV          0.64\n",
      "DecisionTreeClassifier          0.66\n",
      "DummyClassifier                 0.50\n",
      "ExtraTreeClassifier             0.63\n",
      "ExtraTreesClassifier            0.72\n",
      "GaussianNB                      0.66\n",
      "KNeighborsClassifier            0.61\n",
      "LGBMClassifier                  0.70\n",
      "LabelPropagation                0.49\n",
      "LabelSpreading                  0.49\n",
      "LinearDiscriminantAnalysis      0.64\n",
      "LinearSVC                       0.65\n",
      "LogisticRegression              0.65\n",
      "NearestCentroid                 0.68\n",
      "NuSVC                           0.69\n",
      "PassiveAggressiveClassifier     0.56\n",
      "Perceptron                      0.67\n",
      "QuadraticDiscriminantAnalysis   0.67\n",
      "RandomForestClassifier          0.71\n",
      "RidgeClassifier                 0.64\n",
      "RidgeClassifierCV               0.64\n",
      "SGDClassifier                   0.65\n",
      "SVC                             0.73\n",
      "XGBClassifier                   0.68\n",
      "Name: ROC AUC, dtype: float64\n",
      "Model\n",
      "AdaBoostClassifier              0.65\n",
      "BaggingClassifier               0.70\n",
      "BernoulliNB                     0.67\n",
      "CalibratedClassifierCV          0.70\n",
      "DecisionTreeClassifier          0.62\n",
      "DummyClassifier                 0.50\n",
      "ExtraTreeClassifier             0.65\n",
      "ExtraTreesClassifier            0.73\n",
      "GaussianNB                      0.64\n",
      "KNeighborsClassifier            0.66\n",
      "LGBMClassifier                  0.67\n",
      "LabelPropagation                0.63\n",
      "LabelSpreading                  0.63\n",
      "LinearDiscriminantAnalysis      0.73\n",
      "LinearSVC                       0.72\n",
      "LogisticRegression              0.74\n",
      "NearestCentroid                 0.69\n",
      "NuSVC                           0.68\n",
      "PassiveAggressiveClassifier     0.65\n",
      "Perceptron                      0.63\n",
      "QuadraticDiscriminantAnalysis   0.72\n",
      "RandomForestClassifier          0.71\n",
      "RidgeClassifier                 0.73\n",
      "RidgeClassifierCV               0.74\n",
      "SGDClassifier                   0.60\n",
      "SVC                             0.67\n",
      "XGBClassifier                   0.70\n",
      "Name: ROC AUC, dtype: float64\n",
      "Model\n",
      "AdaBoostClassifier              0.69\n",
      "BaggingClassifier               0.67\n",
      "BernoulliNB                     0.77\n",
      "CalibratedClassifierCV          0.71\n",
      "DecisionTreeClassifier          0.56\n",
      "DummyClassifier                 0.50\n",
      "ExtraTreeClassifier             0.61\n",
      "ExtraTreesClassifier            0.79\n",
      "GaussianNB                      0.72\n",
      "KNeighborsClassifier            0.70\n",
      "LGBMClassifier                  0.73\n",
      "LabelPropagation                0.58\n",
      "LabelSpreading                  0.58\n",
      "LinearDiscriminantAnalysis      0.73\n",
      "LinearSVC                       0.74\n",
      "LogisticRegression              0.74\n",
      "NearestCentroid                 0.81\n",
      "NuSVC                           0.77\n",
      "PassiveAggressiveClassifier     0.71\n",
      "Perceptron                      0.61\n",
      "QuadraticDiscriminantAnalysis   0.67\n",
      "RandomForestClassifier          0.76\n",
      "RidgeClassifier                 0.73\n",
      "RidgeClassifierCV               0.73\n",
      "SGDClassifier                   0.72\n",
      "SVC                             0.79\n",
      "XGBClassifier                   0.70\n",
      "Name: ROC AUC, dtype: float64\n",
      "Model\n",
      "AdaBoostClassifier              0.67\n",
      "BaggingClassifier               0.68\n",
      "BernoulliNB                     0.64\n",
      "CalibratedClassifierCV          0.64\n",
      "DecisionTreeClassifier          0.67\n",
      "DummyClassifier                 0.50\n",
      "ExtraTreeClassifier             0.65\n",
      "ExtraTreesClassifier            0.68\n",
      "GaussianNB                      0.63\n",
      "KNeighborsClassifier            0.57\n",
      "LGBMClassifier                  0.69\n",
      "LabelPropagation                0.58\n",
      "LabelSpreading                  0.58\n",
      "LinearDiscriminantAnalysis      0.67\n",
      "LinearSVC                       0.66\n",
      "LogisticRegression              0.65\n",
      "NearestCentroid                 0.67\n",
      "NuSVC                           0.65\n",
      "PassiveAggressiveClassifier     0.57\n",
      "Perceptron                      0.55\n",
      "QuadraticDiscriminantAnalysis   0.62\n",
      "RandomForestClassifier          0.65\n",
      "RidgeClassifier                 0.66\n",
      "RidgeClassifierCV               0.64\n",
      "SGDClassifier                   0.62\n",
      "SVC                             0.66\n",
      "XGBClassifier                   0.68\n",
      "Name: ROC AUC, dtype: float64\n",
      "Model\n",
      "AdaBoostClassifier              0.67\n",
      "BaggingClassifier               0.67\n",
      "BernoulliNB                     0.74\n",
      "CalibratedClassifierCV          0.67\n",
      "DecisionTreeClassifier          0.61\n",
      "DummyClassifier                 0.50\n",
      "ExtraTreeClassifier             0.58\n",
      "ExtraTreesClassifier            0.71\n",
      "GaussianNB                      0.64\n",
      "KNeighborsClassifier            0.65\n",
      "LGBMClassifier                  0.64\n",
      "LabelPropagation                0.55\n",
      "LabelSpreading                  0.55\n",
      "LinearDiscriminantAnalysis      0.67\n",
      "LinearSVC                       0.69\n",
      "LogisticRegression              0.68\n",
      "NearestCentroid                 0.73\n",
      "NuSVC                           0.69\n",
      "PassiveAggressiveClassifier     0.68\n",
      "Perceptron                      0.56\n",
      "QuadraticDiscriminantAnalysis   0.65\n",
      "RandomForestClassifier          0.71\n",
      "RidgeClassifier                 0.67\n",
      "RidgeClassifierCV               0.70\n",
      "SGDClassifier                   0.65\n",
      "SVC                             0.69\n",
      "XGBClassifier                   0.67\n",
      "Name: ROC AUC, dtype: float64\n",
      "Model\n",
      "AdaBoostClassifier              0.65\n",
      "BaggingClassifier               0.77\n",
      "BernoulliNB                     0.70\n",
      "CalibratedClassifierCV          0.71\n",
      "DecisionTreeClassifier          0.64\n",
      "DummyClassifier                 0.50\n",
      "ExtraTreeClassifier             0.59\n",
      "ExtraTreesClassifier            0.79\n",
      "GaussianNB                      0.65\n",
      "KNeighborsClassifier            0.71\n",
      "LGBMClassifier                  0.70\n",
      "LabelPropagation                0.54\n",
      "LabelSpreading                  0.54\n",
      "LinearDiscriminantAnalysis      0.70\n",
      "LinearSVC                       0.70\n",
      "LogisticRegression              0.69\n",
      "NearestCentroid                 0.70\n",
      "NuSVC                           0.73\n",
      "PassiveAggressiveClassifier     0.79\n",
      "Perceptron                      0.58\n",
      "QuadraticDiscriminantAnalysis   0.59\n",
      "RandomForestClassifier          0.79\n",
      "RidgeClassifier                 0.70\n",
      "RidgeClassifierCV               0.71\n",
      "SGDClassifier                   0.61\n",
      "SVC                             0.76\n",
      "XGBClassifier                   0.72\n",
      "Name: ROC AUC, dtype: float64\n",
      "Model\n",
      "AdaBoostClassifier              0.69\n",
      "BaggingClassifier               0.66\n",
      "BernoulliNB                     0.64\n",
      "CalibratedClassifierCV          0.70\n",
      "DecisionTreeClassifier          0.66\n",
      "DummyClassifier                 0.50\n",
      "ExtraTreeClassifier             0.66\n",
      "ExtraTreesClassifier            0.72\n",
      "GaussianNB                      0.61\n",
      "KNeighborsClassifier            0.63\n",
      "LGBMClassifier                  0.73\n",
      "LabelPropagation                0.46\n",
      "LabelSpreading                  0.46\n",
      "LinearDiscriminantAnalysis      0.68\n",
      "LinearSVC                       0.70\n",
      "LogisticRegression              0.68\n",
      "NearestCentroid                 0.69\n",
      "NuSVC                           0.70\n",
      "PassiveAggressiveClassifier     0.68\n",
      "Perceptron                      0.65\n",
      "QuadraticDiscriminantAnalysis   0.60\n",
      "RandomForestClassifier          0.71\n",
      "RidgeClassifier                 0.70\n",
      "RidgeClassifierCV               0.70\n",
      "SGDClassifier                   0.62\n",
      "SVC                             0.72\n",
      "XGBClassifier                   0.66\n",
      "Name: ROC AUC, dtype: float64\n",
      "Model\n",
      "AdaBoostClassifier              0.59\n",
      "BaggingClassifier               0.63\n",
      "BernoulliNB                     0.72\n",
      "CalibratedClassifierCV          0.66\n",
      "DecisionTreeClassifier          0.65\n",
      "DummyClassifier                 0.50\n",
      "ExtraTreeClassifier             0.53\n",
      "ExtraTreesClassifier            0.67\n",
      "GaussianNB                      0.65\n",
      "KNeighborsClassifier            0.65\n",
      "LGBMClassifier                  0.65\n",
      "LabelPropagation                0.53\n",
      "LabelSpreading                  0.53\n",
      "LinearDiscriminantAnalysis      0.71\n",
      "LinearSVC                       0.68\n",
      "LogisticRegression              0.69\n",
      "NearestCentroid                 0.66\n",
      "NuSVC                           0.67\n",
      "PassiveAggressiveClassifier     0.52\n",
      "Perceptron                      0.57\n",
      "QuadraticDiscriminantAnalysis   0.60\n",
      "RandomForestClassifier          0.71\n",
      "RidgeClassifier                 0.72\n",
      "RidgeClassifierCV               0.74\n",
      "SGDClassifier                   0.66\n",
      "SVC                             0.70\n",
      "XGBClassifier                   0.68\n",
      "Name: ROC AUC, dtype: float64\n",
      "Model\n",
      "AdaBoostClassifier              0.67\n",
      "BaggingClassifier               0.74\n",
      "BernoulliNB                     0.70\n",
      "CalibratedClassifierCV          0.68\n",
      "DecisionTreeClassifier          0.62\n",
      "DummyClassifier                 0.50\n",
      "ExtraTreeClassifier             0.63\n",
      "ExtraTreesClassifier            0.76\n",
      "GaussianNB                      0.69\n",
      "KNeighborsClassifier            0.66\n",
      "LGBMClassifier                  0.69\n",
      "LabelPropagation                0.61\n",
      "LabelSpreading                  0.61\n",
      "LinearDiscriminantAnalysis      0.70\n",
      "LinearSVC                       0.69\n",
      "LogisticRegression              0.72\n",
      "NearestCentroid                 0.75\n",
      "NuSVC                           0.74\n",
      "PassiveAggressiveClassifier     0.61\n",
      "Perceptron                      0.72\n",
      "QuadraticDiscriminantAnalysis   0.66\n",
      "RandomForestClassifier          0.72\n",
      "RidgeClassifier                 0.70\n",
      "RidgeClassifierCV               0.72\n",
      "SGDClassifier                   0.68\n",
      "SVC                             0.76\n",
      "XGBClassifier                   0.71\n",
      "Name: ROC AUC, dtype: float64\n",
      "Model\n",
      "AdaBoostClassifier              0.75\n",
      "BaggingClassifier               0.72\n",
      "BernoulliNB                     0.78\n",
      "CalibratedClassifierCV          0.63\n",
      "DecisionTreeClassifier          0.75\n",
      "DummyClassifier                 0.50\n",
      "ExtraTreeClassifier             0.81\n",
      "ExtraTreesClassifier            0.76\n",
      "GaussianNB                      0.74\n",
      "KNeighborsClassifier            0.62\n",
      "LGBMClassifier                  0.79\n",
      "LabelPropagation                0.66\n",
      "LabelSpreading                  0.66\n",
      "LinearDiscriminantAnalysis      0.66\n",
      "LinearSVC                       0.61\n",
      "LogisticRegression              0.68\n",
      "NearestCentroid                 0.82\n",
      "NuSVC                           0.74\n",
      "PassiveAggressiveClassifier     0.66\n",
      "Perceptron                      0.60\n",
      "QuadraticDiscriminantAnalysis   0.62\n",
      "RandomForestClassifier          0.80\n",
      "RidgeClassifier                 0.66\n",
      "RidgeClassifierCV               0.71\n",
      "SGDClassifier                   0.68\n",
      "SVC                             0.76\n",
      "XGBClassifier                   0.79\n",
      "Name: ROC AUC, dtype: float64\n",
      "Model\n",
      "AdaBoostClassifier              0.63\n",
      "BaggingClassifier               0.66\n",
      "BernoulliNB                     0.75\n",
      "CalibratedClassifierCV          0.72\n",
      "DecisionTreeClassifier          0.58\n",
      "DummyClassifier                 0.50\n",
      "ExtraTreeClassifier             0.61\n",
      "ExtraTreesClassifier            0.72\n",
      "GaussianNB                      0.70\n",
      "KNeighborsClassifier            0.66\n",
      "LGBMClassifier                  0.66\n",
      "LabelPropagation                0.51\n",
      "LabelSpreading                  0.51\n",
      "LinearDiscriminantAnalysis      0.73\n",
      "LinearSVC                       0.70\n",
      "LogisticRegression              0.73\n",
      "NearestCentroid                 0.73\n",
      "NuSVC                           0.71\n",
      "PassiveAggressiveClassifier     0.72\n",
      "Perceptron                      0.72\n",
      "QuadraticDiscriminantAnalysis   0.61\n",
      "RandomForestClassifier          0.77\n",
      "RidgeClassifier                 0.73\n",
      "RidgeClassifierCV               0.74\n",
      "SGDClassifier                   0.62\n",
      "SVC                             0.72\n",
      "XGBClassifier                   0.66\n",
      "Name: ROC AUC, dtype: float64\n",
      "Model\n",
      "AdaBoostClassifier              0.64\n",
      "BaggingClassifier               0.70\n",
      "BernoulliNB                     0.73\n",
      "CalibratedClassifierCV          0.66\n",
      "DecisionTreeClassifier          0.63\n",
      "DummyClassifier                 0.50\n",
      "ExtraTreeClassifier             0.61\n",
      "ExtraTreesClassifier            0.72\n",
      "GaussianNB                      0.72\n",
      "KNeighborsClassifier            0.65\n",
      "LGBMClassifier                  0.68\n",
      "LabelPropagation                0.58\n",
      "LabelSpreading                  0.58\n",
      "LinearDiscriminantAnalysis      0.67\n",
      "LinearSVC                       0.68\n",
      "LogisticRegression              0.67\n",
      "NearestCentroid                 0.71\n",
      "NuSVC                           0.73\n",
      "PassiveAggressiveClassifier     0.64\n",
      "Perceptron                      0.68\n",
      "QuadraticDiscriminantAnalysis   0.65\n",
      "RandomForestClassifier          0.70\n",
      "RidgeClassifier                 0.67\n",
      "RidgeClassifierCV               0.67\n",
      "SGDClassifier                   0.64\n",
      "SVC                             0.72\n",
      "XGBClassifier                   0.62\n",
      "Name: ROC AUC, dtype: float64\n",
      "Model\n",
      "AdaBoostClassifier              0.70\n",
      "BaggingClassifier               0.66\n",
      "BernoulliNB                     0.74\n",
      "CalibratedClassifierCV          0.68\n",
      "DecisionTreeClassifier          0.61\n",
      "DummyClassifier                 0.50\n",
      "ExtraTreeClassifier             0.61\n",
      "ExtraTreesClassifier            0.70\n",
      "GaussianNB                      0.68\n",
      "KNeighborsClassifier            0.58\n",
      "LGBMClassifier                  0.75\n",
      "LabelPropagation                0.53\n",
      "LabelSpreading                  0.53\n",
      "LinearDiscriminantAnalysis      0.70\n",
      "LinearSVC                       0.68\n",
      "LogisticRegression              0.69\n",
      "NearestCentroid                 0.70\n",
      "NuSVC                           0.68\n",
      "PassiveAggressiveClassifier     0.60\n",
      "Perceptron                      0.66\n",
      "QuadraticDiscriminantAnalysis   0.66\n",
      "RandomForestClassifier          0.79\n",
      "RidgeClassifier                 0.70\n",
      "RidgeClassifierCV               0.74\n",
      "SGDClassifier                   0.61\n",
      "SVC                             0.67\n",
      "XGBClassifier                   0.77\n",
      "Name: ROC AUC, dtype: float64\n",
      "Model\n",
      "AdaBoostClassifier              0.67\n",
      "BaggingClassifier               0.72\n",
      "BernoulliNB                     0.76\n",
      "CalibratedClassifierCV          0.67\n",
      "DecisionTreeClassifier          0.68\n",
      "DummyClassifier                 0.50\n",
      "ExtraTreeClassifier             0.63\n",
      "ExtraTreesClassifier            0.72\n",
      "GaussianNB                      0.61\n",
      "KNeighborsClassifier            0.59\n",
      "LGBMClassifier                  0.74\n",
      "LabelPropagation                0.55\n",
      "LabelSpreading                  0.55\n",
      "LinearDiscriminantAnalysis      0.72\n",
      "LinearSVC                       0.71\n",
      "LogisticRegression              0.71\n",
      "NearestCentroid                 0.76\n",
      "NuSVC                           0.73\n",
      "PassiveAggressiveClassifier     0.52\n",
      "Perceptron                      0.55\n",
      "QuadraticDiscriminantAnalysis   0.63\n",
      "RandomForestClassifier          0.74\n",
      "RidgeClassifier                 0.73\n",
      "RidgeClassifierCV               0.74\n",
      "SGDClassifier                   0.60\n",
      "SVC                             0.71\n",
      "XGBClassifier                   0.72\n",
      "Name: ROC AUC, dtype: float64\n",
      "Model\n",
      "AdaBoostClassifier              0.76\n",
      "BaggingClassifier               0.69\n",
      "BernoulliNB                     0.74\n",
      "CalibratedClassifierCV          0.72\n",
      "DecisionTreeClassifier          0.64\n",
      "DummyClassifier                 0.50\n",
      "ExtraTreeClassifier             0.63\n",
      "ExtraTreesClassifier            0.74\n",
      "GaussianNB                      0.67\n",
      "KNeighborsClassifier            0.63\n",
      "LGBMClassifier                  0.73\n",
      "LabelPropagation                0.54\n",
      "LabelSpreading                  0.54\n",
      "LinearDiscriminantAnalysis      0.71\n",
      "LinearSVC                       0.72\n",
      "LogisticRegression              0.72\n",
      "NearestCentroid                 0.72\n",
      "NuSVC                           0.72\n",
      "PassiveAggressiveClassifier     0.60\n",
      "Perceptron                      0.67\n",
      "QuadraticDiscriminantAnalysis   0.62\n",
      "RandomForestClassifier          0.74\n",
      "RidgeClassifier                 0.71\n",
      "RidgeClassifierCV               0.73\n",
      "SGDClassifier                   0.60\n",
      "SVC                             0.75\n",
      "XGBClassifier                   0.77\n",
      "Name: ROC AUC, dtype: float64\n",
      "Model\n",
      "AdaBoostClassifier              0.63\n",
      "BaggingClassifier               0.64\n",
      "BernoulliNB                     0.70\n",
      "CalibratedClassifierCV          0.65\n",
      "DecisionTreeClassifier          0.62\n",
      "DummyClassifier                 0.50\n",
      "ExtraTreeClassifier             0.63\n",
      "ExtraTreesClassifier            0.71\n",
      "GaussianNB                      0.70\n",
      "KNeighborsClassifier            0.71\n",
      "LGBMClassifier                  0.62\n",
      "LabelPropagation                0.53\n",
      "LabelSpreading                  0.52\n",
      "LinearDiscriminantAnalysis      0.66\n",
      "LinearSVC                       0.67\n",
      "LogisticRegression              0.66\n",
      "NearestCentroid                 0.72\n",
      "NuSVC                           0.72\n",
      "PassiveAggressiveClassifier     0.54\n",
      "Perceptron                      0.65\n",
      "QuadraticDiscriminantAnalysis   0.65\n",
      "RandomForestClassifier          0.68\n",
      "RidgeClassifier                 0.66\n",
      "RidgeClassifierCV               0.67\n",
      "SGDClassifier                   0.63\n",
      "SVC                             0.76\n",
      "XGBClassifier                   0.69\n",
      "Name: ROC AUC, dtype: float64\n",
      "Model\n",
      "AdaBoostClassifier              0.59\n",
      "BaggingClassifier               0.70\n",
      "BernoulliNB                     0.74\n",
      "CalibratedClassifierCV          0.70\n",
      "DecisionTreeClassifier          0.57\n",
      "DummyClassifier                 0.50\n",
      "ExtraTreeClassifier             0.70\n",
      "ExtraTreesClassifier            0.75\n",
      "GaussianNB                      0.68\n",
      "KNeighborsClassifier            0.67\n",
      "LGBMClassifier                  0.74\n",
      "LabelPropagation                0.47\n",
      "LabelSpreading                  0.47\n",
      "LinearDiscriminantAnalysis      0.73\n",
      "LinearSVC                       0.72\n",
      "LogisticRegression              0.75\n",
      "NearestCentroid                 0.70\n",
      "NuSVC                           0.74\n",
      "PassiveAggressiveClassifier     0.60\n",
      "Perceptron                      0.53\n",
      "QuadraticDiscriminantAnalysis   0.69\n",
      "RandomForestClassifier          0.81\n",
      "RidgeClassifier                 0.72\n",
      "RidgeClassifierCV               0.72\n",
      "SGDClassifier                   0.61\n",
      "SVC                             0.75\n",
      "XGBClassifier                   0.75\n",
      "Name: ROC AUC, dtype: float64\n",
      "Model\n",
      "AdaBoostClassifier              0.68\n",
      "BaggingClassifier               0.74\n",
      "BernoulliNB                     0.69\n",
      "CalibratedClassifierCV          0.76\n",
      "DecisionTreeClassifier          0.68\n",
      "DummyClassifier                 0.50\n",
      "ExtraTreeClassifier             0.70\n",
      "ExtraTreesClassifier            0.82\n",
      "GaussianNB                      0.74\n",
      "KNeighborsClassifier            0.68\n",
      "LGBMClassifier                  0.74\n",
      "LabelPropagation                0.51\n",
      "LabelSpreading                  0.51\n",
      "LinearDiscriminantAnalysis      0.76\n",
      "LinearSVC                       0.77\n",
      "LogisticRegression              0.76\n",
      "NearestCentroid                 0.78\n",
      "NuSVC                           0.75\n",
      "PassiveAggressiveClassifier     0.75\n",
      "Perceptron                      0.64\n",
      "QuadraticDiscriminantAnalysis   0.70\n",
      "RandomForestClassifier          0.78\n",
      "RidgeClassifier                 0.76\n",
      "RidgeClassifierCV               0.77\n",
      "SGDClassifier                   0.69\n",
      "SVC                             0.78\n",
      "XGBClassifier                   0.76\n",
      "Name: ROC AUC, dtype: float64\n",
      "Model\n",
      "AdaBoostClassifier              0.72\n",
      "BaggingClassifier               0.72\n",
      "BernoulliNB                     0.67\n",
      "CalibratedClassifierCV          0.66\n",
      "DecisionTreeClassifier          0.64\n",
      "DummyClassifier                 0.50\n",
      "ExtraTreeClassifier             0.56\n",
      "ExtraTreesClassifier            0.67\n",
      "GaussianNB                      0.62\n",
      "KNeighborsClassifier            0.66\n",
      "LGBMClassifier                  0.70\n",
      "LabelPropagation                0.48\n",
      "LabelSpreading                  0.48\n",
      "LinearDiscriminantAnalysis      0.67\n",
      "LinearSVC                       0.69\n",
      "LogisticRegression              0.69\n",
      "NearestCentroid                 0.67\n",
      "NuSVC                           0.67\n",
      "PassiveAggressiveClassifier     0.63\n",
      "Perceptron                      0.68\n",
      "QuadraticDiscriminantAnalysis   0.66\n",
      "RandomForestClassifier          0.73\n",
      "RidgeClassifier                 0.67\n",
      "RidgeClassifierCV               0.69\n",
      "SGDClassifier                   0.65\n",
      "SVC                             0.66\n",
      "XGBClassifier                   0.66\n",
      "Name: ROC AUC, dtype: float64\n",
      "Model\n",
      "AdaBoostClassifier              0.71\n",
      "BaggingClassifier               0.73\n",
      "BernoulliNB                     0.74\n",
      "CalibratedClassifierCV          0.71\n",
      "DecisionTreeClassifier          0.62\n",
      "DummyClassifier                 0.50\n",
      "ExtraTreeClassifier             0.68\n",
      "ExtraTreesClassifier            0.76\n",
      "GaussianNB                      0.71\n",
      "KNeighborsClassifier            0.64\n",
      "LGBMClassifier                  0.78\n",
      "LabelPropagation                0.56\n",
      "LabelSpreading                  0.56\n",
      "LinearDiscriminantAnalysis      0.70\n",
      "LinearSVC                       0.70\n",
      "LogisticRegression              0.70\n",
      "NearestCentroid                 0.76\n",
      "NuSVC                           0.78\n",
      "PassiveAggressiveClassifier     0.61\n",
      "Perceptron                      0.76\n",
      "QuadraticDiscriminantAnalysis   0.68\n",
      "RandomForestClassifier          0.79\n",
      "RidgeClassifier                 0.70\n",
      "RidgeClassifierCV               0.71\n",
      "SGDClassifier                   0.59\n",
      "SVC                             0.77\n",
      "XGBClassifier                   0.77\n",
      "Name: ROC AUC, dtype: float64\n",
      "Model\n",
      "AdaBoostClassifier              0.67\n",
      "BaggingClassifier               0.61\n",
      "BernoulliNB                     0.65\n",
      "CalibratedClassifierCV          0.65\n",
      "DecisionTreeClassifier          0.60\n",
      "DummyClassifier                 0.50\n",
      "ExtraTreeClassifier             0.56\n",
      "ExtraTreesClassifier            0.60\n",
      "GaussianNB                      0.62\n",
      "KNeighborsClassifier            0.58\n",
      "LGBMClassifier                  0.68\n",
      "LabelPropagation                0.50\n",
      "LabelSpreading                  0.50\n",
      "LinearDiscriminantAnalysis      0.64\n",
      "LinearSVC                       0.64\n",
      "LogisticRegression              0.65\n",
      "NearestCentroid                 0.59\n",
      "NuSVC                           0.63\n",
      "PassiveAggressiveClassifier     0.69\n",
      "Perceptron                      0.62\n",
      "QuadraticDiscriminantAnalysis   0.61\n",
      "RandomForestClassifier          0.68\n",
      "RidgeClassifier                 0.64\n",
      "RidgeClassifierCV               0.65\n",
      "SGDClassifier                   0.61\n",
      "SVC                             0.66\n",
      "XGBClassifier                   0.67\n",
      "Name: ROC AUC, dtype: float64\n",
      "Model\n",
      "AdaBoostClassifier              0.69\n",
      "BaggingClassifier               0.72\n",
      "BernoulliNB                     0.72\n",
      "CalibratedClassifierCV          0.63\n",
      "DecisionTreeClassifier          0.68\n",
      "DummyClassifier                 0.50\n",
      "ExtraTreeClassifier             0.61\n",
      "ExtraTreesClassifier            0.70\n",
      "GaussianNB                      0.59\n",
      "KNeighborsClassifier            0.57\n",
      "LGBMClassifier                  0.75\n",
      "LabelPropagation                0.54\n",
      "LabelSpreading                  0.54\n",
      "LinearDiscriminantAnalysis      0.69\n",
      "LinearSVC                       0.66\n",
      "LogisticRegression              0.68\n",
      "NearestCentroid                 0.74\n",
      "NuSVC                           0.69\n",
      "PassiveAggressiveClassifier     0.70\n",
      "Perceptron                      0.70\n",
      "QuadraticDiscriminantAnalysis   0.56\n",
      "RandomForestClassifier          0.71\n",
      "RidgeClassifier                 0.69\n",
      "RidgeClassifierCV               0.70\n",
      "SGDClassifier                   0.65\n",
      "SVC                             0.67\n",
      "XGBClassifier                   0.70\n",
      "Name: ROC AUC, dtype: float64\n",
      "Model\n",
      "AdaBoostClassifier              0.64\n",
      "BaggingClassifier               0.64\n",
      "BernoulliNB                     0.64\n",
      "CalibratedClassifierCV          0.70\n",
      "DecisionTreeClassifier          0.64\n",
      "DummyClassifier                 0.50\n",
      "ExtraTreeClassifier             0.55\n",
      "ExtraTreesClassifier            0.68\n",
      "GaussianNB                      0.61\n",
      "KNeighborsClassifier            0.61\n",
      "LGBMClassifier                  0.69\n",
      "LabelPropagation                0.56\n",
      "LabelSpreading                  0.56\n",
      "LinearDiscriminantAnalysis      0.70\n",
      "LinearSVC                       0.67\n",
      "LogisticRegression              0.69\n",
      "NearestCentroid                 0.68\n",
      "NuSVC                           0.67\n",
      "PassiveAggressiveClassifier     0.59\n",
      "Perceptron                      0.66\n",
      "QuadraticDiscriminantAnalysis   0.63\n",
      "RandomForestClassifier          0.71\n",
      "RidgeClassifier                 0.70\n",
      "RidgeClassifierCV               0.68\n",
      "SGDClassifier                   0.64\n",
      "SVC                             0.70\n",
      "XGBClassifier                   0.68\n",
      "Name: ROC AUC, dtype: float64\n",
      "Model\n",
      "AdaBoostClassifier              0.66\n",
      "BaggingClassifier               0.70\n",
      "BernoulliNB                     0.65\n",
      "CalibratedClassifierCV          0.62\n",
      "DecisionTreeClassifier          0.61\n",
      "DummyClassifier                 0.50\n",
      "ExtraTreeClassifier             0.56\n",
      "ExtraTreesClassifier            0.65\n",
      "GaussianNB                      0.63\n",
      "KNeighborsClassifier            0.58\n",
      "LGBMClassifier                  0.68\n",
      "LabelPropagation                0.54\n",
      "LabelSpreading                  0.54\n",
      "LinearDiscriminantAnalysis      0.61\n",
      "LinearSVC                       0.61\n",
      "LogisticRegression              0.64\n",
      "NearestCentroid                 0.61\n",
      "NuSVC                           0.66\n",
      "PassiveAggressiveClassifier     0.60\n",
      "Perceptron                      0.63\n",
      "QuadraticDiscriminantAnalysis   0.57\n",
      "RandomForestClassifier          0.68\n",
      "RidgeClassifier                 0.64\n",
      "RidgeClassifierCV               0.64\n",
      "SGDClassifier                   0.54\n",
      "SVC                             0.65\n",
      "XGBClassifier                   0.69\n",
      "Name: ROC AUC, dtype: float64\n",
      "Model\n",
      "AdaBoostClassifier              0.63\n",
      "BaggingClassifier               0.66\n",
      "BernoulliNB                     0.65\n",
      "CalibratedClassifierCV          0.69\n",
      "DecisionTreeClassifier          0.54\n",
      "DummyClassifier                 0.50\n",
      "ExtraTreeClassifier             0.60\n",
      "ExtraTreesClassifier            0.72\n",
      "GaussianNB                      0.70\n",
      "KNeighborsClassifier            0.59\n",
      "LGBMClassifier                  0.69\n",
      "LabelPropagation                0.59\n",
      "LabelSpreading                  0.59\n",
      "LinearDiscriminantAnalysis      0.69\n",
      "LinearSVC                       0.68\n",
      "LogisticRegression              0.68\n",
      "NearestCentroid                 0.69\n",
      "NuSVC                           0.65\n",
      "PassiveAggressiveClassifier     0.50\n",
      "Perceptron                      0.64\n",
      "QuadraticDiscriminantAnalysis   0.61\n",
      "RandomForestClassifier          0.74\n",
      "RidgeClassifier                 0.70\n",
      "RidgeClassifierCV               0.71\n",
      "SGDClassifier                   0.59\n",
      "SVC                             0.66\n",
      "XGBClassifier                   0.76\n",
      "Name: ROC AUC, dtype: float64\n",
      "Model\n",
      "AdaBoostClassifier              0.62\n",
      "BaggingClassifier               0.71\n",
      "BernoulliNB                     0.68\n",
      "CalibratedClassifierCV          0.74\n",
      "DecisionTreeClassifier          0.68\n",
      "DummyClassifier                 0.50\n",
      "ExtraTreeClassifier             0.52\n",
      "ExtraTreesClassifier            0.72\n",
      "GaussianNB                      0.67\n",
      "KNeighborsClassifier            0.64\n",
      "LGBMClassifier                  0.73\n",
      "LabelPropagation                0.51\n",
      "LabelSpreading                  0.51\n",
      "LinearDiscriminantAnalysis      0.72\n",
      "LinearSVC                       0.76\n",
      "LogisticRegression              0.76\n",
      "NearestCentroid                 0.72\n",
      "NuSVC                           0.69\n",
      "PassiveAggressiveClassifier     0.70\n",
      "Perceptron                      0.61\n",
      "QuadraticDiscriminantAnalysis   0.61\n",
      "RandomForestClassifier          0.74\n",
      "RidgeClassifier                 0.72\n",
      "RidgeClassifierCV               0.74\n",
      "SGDClassifier                   0.60\n",
      "SVC                             0.71\n",
      "XGBClassifier                   0.73\n",
      "Name: ROC AUC, dtype: float64\n",
      "Model\n",
      "AdaBoostClassifier              0.64\n",
      "BaggingClassifier               0.71\n",
      "BernoulliNB                     0.70\n",
      "CalibratedClassifierCV          0.65\n",
      "DecisionTreeClassifier          0.69\n",
      "DummyClassifier                 0.50\n",
      "ExtraTreeClassifier             0.73\n",
      "ExtraTreesClassifier            0.74\n",
      "GaussianNB                      0.72\n",
      "KNeighborsClassifier            0.59\n",
      "LGBMClassifier                  0.68\n",
      "LabelPropagation                0.54\n",
      "LabelSpreading                  0.54\n",
      "LinearDiscriminantAnalysis      0.71\n",
      "LinearSVC                       0.70\n",
      "LogisticRegression              0.69\n",
      "NearestCentroid                 0.76\n",
      "NuSVC                           0.65\n",
      "PassiveAggressiveClassifier     0.58\n",
      "Perceptron                      0.72\n",
      "QuadraticDiscriminantAnalysis   0.71\n",
      "RandomForestClassifier          0.75\n",
      "RidgeClassifier                 0.70\n",
      "RidgeClassifierCV               0.71\n",
      "SGDClassifier                   0.72\n",
      "SVC                             0.67\n",
      "XGBClassifier                   0.68\n",
      "Name: ROC AUC, dtype: float64\n",
      "Model\n",
      "AdaBoostClassifier              0.65\n",
      "BaggingClassifier               0.66\n",
      "BernoulliNB                     0.65\n",
      "CalibratedClassifierCV          0.71\n",
      "DecisionTreeClassifier          0.59\n",
      "DummyClassifier                 0.50\n",
      "ExtraTreeClassifier             0.56\n",
      "ExtraTreesClassifier            0.72\n",
      "GaussianNB                      0.68\n",
      "KNeighborsClassifier            0.70\n",
      "LGBMClassifier                  0.67\n",
      "LabelPropagation                0.57\n",
      "LabelSpreading                  0.57\n",
      "LinearDiscriminantAnalysis      0.68\n",
      "LinearSVC                       0.72\n",
      "LogisticRegression              0.70\n",
      "NearestCentroid                 0.73\n",
      "NuSVC                           0.71\n",
      "PassiveAggressiveClassifier     0.58\n",
      "Perceptron                      0.59\n",
      "QuadraticDiscriminantAnalysis   0.68\n",
      "RandomForestClassifier          0.70\n",
      "RidgeClassifier                 0.68\n",
      "RidgeClassifierCV               0.69\n",
      "SGDClassifier                   0.65\n",
      "SVC                             0.71\n",
      "XGBClassifier                   0.70\n",
      "Name: ROC AUC, dtype: float64\n",
      "Model\n",
      "AdaBoostClassifier              0.68\n",
      "BaggingClassifier               0.73\n",
      "BernoulliNB                     0.68\n",
      "CalibratedClassifierCV          0.67\n",
      "DecisionTreeClassifier          0.64\n",
      "DummyClassifier                 0.50\n",
      "ExtraTreeClassifier             0.61\n",
      "ExtraTreesClassifier            0.69\n",
      "GaussianNB                      0.70\n",
      "KNeighborsClassifier            0.68\n",
      "LGBMClassifier                  0.67\n",
      "LabelPropagation                0.55\n",
      "LabelSpreading                  0.55\n",
      "LinearDiscriminantAnalysis      0.69\n",
      "LinearSVC                       0.69\n",
      "LogisticRegression              0.68\n",
      "NearestCentroid                 0.70\n",
      "NuSVC                           0.70\n",
      "PassiveAggressiveClassifier     0.54\n",
      "Perceptron                      0.65\n",
      "QuadraticDiscriminantAnalysis   0.71\n",
      "RandomForestClassifier          0.70\n",
      "RidgeClassifier                 0.69\n",
      "RidgeClassifierCV               0.69\n",
      "SGDClassifier                   0.67\n",
      "SVC                             0.68\n",
      "XGBClassifier                   0.70\n",
      "Name: ROC AUC, dtype: float64\n",
      "Model\n",
      "AdaBoostClassifier              0.66\n",
      "BaggingClassifier               0.72\n",
      "BernoulliNB                     0.70\n",
      "CalibratedClassifierCV          0.69\n",
      "DecisionTreeClassifier          0.61\n",
      "DummyClassifier                 0.50\n",
      "ExtraTreeClassifier             0.61\n",
      "ExtraTreesClassifier            0.77\n",
      "GaussianNB                      0.67\n",
      "KNeighborsClassifier            0.60\n",
      "LGBMClassifier                  0.70\n",
      "LabelPropagation                0.64\n",
      "LabelSpreading                  0.64\n",
      "LinearDiscriminantAnalysis      0.68\n",
      "LinearSVC                       0.68\n",
      "LogisticRegression              0.69\n",
      "NearestCentroid                 0.74\n",
      "NuSVC                           0.77\n",
      "PassiveAggressiveClassifier     0.68\n",
      "Perceptron                      0.60\n",
      "QuadraticDiscriminantAnalysis   0.60\n",
      "RandomForestClassifier          0.79\n",
      "RidgeClassifier                 0.69\n",
      "RidgeClassifierCV               0.69\n",
      "SGDClassifier                   0.65\n",
      "SVC                             0.75\n",
      "XGBClassifier                   0.73\n",
      "Name: ROC AUC, dtype: float64\n",
      "Model\n",
      "AdaBoostClassifier              0.69\n",
      "BaggingClassifier               0.66\n",
      "BernoulliNB                     0.63\n",
      "CalibratedClassifierCV          0.75\n",
      "DecisionTreeClassifier          0.58\n",
      "DummyClassifier                 0.50\n",
      "ExtraTreeClassifier             0.66\n",
      "ExtraTreesClassifier            0.80\n",
      "GaussianNB                      0.74\n",
      "KNeighborsClassifier            0.63\n",
      "LGBMClassifier                  0.74\n",
      "LabelPropagation                0.58\n",
      "LabelSpreading                  0.58\n",
      "LinearDiscriminantAnalysis      0.73\n",
      "LinearSVC                       0.74\n",
      "LogisticRegression              0.75\n",
      "NearestCentroid                 0.69\n",
      "NuSVC                           0.72\n",
      "PassiveAggressiveClassifier     0.64\n",
      "Perceptron                      0.67\n",
      "QuadraticDiscriminantAnalysis   0.70\n",
      "RandomForestClassifier          0.72\n",
      "RidgeClassifier                 0.73\n",
      "RidgeClassifierCV               0.75\n",
      "SGDClassifier                   0.54\n",
      "SVC                             0.76\n",
      "XGBClassifier                   0.74\n",
      "Name: ROC AUC, dtype: float64\n",
      "Model\n",
      "AdaBoostClassifier              0.65\n",
      "BaggingClassifier               0.67\n",
      "BernoulliNB                     0.66\n",
      "CalibratedClassifierCV          0.60\n",
      "DecisionTreeClassifier          0.63\n",
      "DummyClassifier                 0.50\n",
      "ExtraTreeClassifier             0.50\n",
      "ExtraTreesClassifier            0.68\n",
      "GaussianNB                      0.65\n",
      "KNeighborsClassifier            0.65\n",
      "LGBMClassifier                  0.66\n",
      "LabelPropagation                0.52\n",
      "LabelSpreading                  0.52\n",
      "LinearDiscriminantAnalysis      0.63\n",
      "LinearSVC                       0.61\n",
      "LogisticRegression              0.66\n",
      "NearestCentroid                 0.72\n",
      "NuSVC                           0.66\n",
      "PassiveAggressiveClassifier     0.63\n",
      "Perceptron                      0.64\n",
      "QuadraticDiscriminantAnalysis   0.62\n",
      "RandomForestClassifier          0.69\n",
      "RidgeClassifier                 0.63\n",
      "RidgeClassifierCV               0.66\n",
      "SGDClassifier                   0.63\n",
      "SVC                             0.65\n",
      "XGBClassifier                   0.68\n",
      "Name: ROC AUC, dtype: float64\n",
      "Model\n",
      "AdaBoostClassifier              0.69\n",
      "BaggingClassifier               0.69\n",
      "BernoulliNB                     0.63\n",
      "CalibratedClassifierCV          0.64\n",
      "DecisionTreeClassifier          0.54\n",
      "DummyClassifier                 0.50\n",
      "ExtraTreeClassifier             0.54\n",
      "ExtraTreesClassifier            0.68\n",
      "GaussianNB                      0.61\n",
      "KNeighborsClassifier            0.64\n",
      "LGBMClassifier                  0.74\n",
      "LabelPropagation                0.58\n",
      "LabelSpreading                  0.58\n",
      "LinearDiscriminantAnalysis      0.67\n",
      "LinearSVC                       0.67\n",
      "LogisticRegression              0.65\n",
      "NearestCentroid                 0.67\n",
      "NuSVC                           0.65\n",
      "PassiveAggressiveClassifier     0.54\n",
      "Perceptron                      0.71\n",
      "QuadraticDiscriminantAnalysis   0.61\n",
      "RandomForestClassifier          0.75\n",
      "RidgeClassifier                 0.65\n",
      "RidgeClassifierCV               0.64\n",
      "SGDClassifier                   0.62\n",
      "SVC                             0.69\n",
      "XGBClassifier                   0.74\n",
      "Name: ROC AUC, dtype: float64\n",
      "Model\n",
      "AdaBoostClassifier              0.60\n",
      "BaggingClassifier               0.63\n",
      "BernoulliNB                     0.64\n",
      "CalibratedClassifierCV          0.62\n",
      "DecisionTreeClassifier          0.69\n",
      "DummyClassifier                 0.50\n",
      "ExtraTreeClassifier             0.63\n",
      "ExtraTreesClassifier            0.62\n",
      "GaussianNB                      0.65\n",
      "KNeighborsClassifier            0.68\n",
      "LGBMClassifier                  0.65\n",
      "LabelPropagation                0.57\n",
      "LabelSpreading                  0.57\n",
      "LinearDiscriminantAnalysis      0.66\n",
      "LinearSVC                       0.63\n",
      "LogisticRegression              0.64\n",
      "NearestCentroid                 0.65\n",
      "NuSVC                           0.68\n",
      "PassiveAggressiveClassifier     0.52\n",
      "Perceptron                      0.49\n",
      "QuadraticDiscriminantAnalysis   0.61\n",
      "RandomForestClassifier          0.64\n",
      "RidgeClassifier                 0.66\n",
      "RidgeClassifierCV               0.69\n",
      "SGDClassifier                   0.60\n",
      "SVC                             0.66\n",
      "XGBClassifier                   0.64\n",
      "Name: ROC AUC, dtype: float64\n",
      "Model\n",
      "AdaBoostClassifier              0.66\n",
      "BaggingClassifier               0.74\n",
      "BernoulliNB                     0.70\n",
      "CalibratedClassifierCV          0.70\n",
      "DecisionTreeClassifier          0.63\n",
      "DummyClassifier                 0.50\n",
      "ExtraTreeClassifier             0.57\n",
      "ExtraTreesClassifier            0.72\n",
      "GaussianNB                      0.65\n",
      "KNeighborsClassifier            0.56\n",
      "LGBMClassifier                  0.75\n",
      "LabelPropagation                0.54\n",
      "LabelSpreading                  0.54\n",
      "LinearDiscriminantAnalysis      0.71\n",
      "LinearSVC                       0.70\n",
      "LogisticRegression              0.70\n",
      "NearestCentroid                 0.68\n",
      "NuSVC                           0.70\n",
      "PassiveAggressiveClassifier     0.61\n",
      "Perceptron                      0.70\n",
      "QuadraticDiscriminantAnalysis   0.63\n",
      "RandomForestClassifier          0.75\n",
      "RidgeClassifier                 0.71\n",
      "RidgeClassifierCV               0.68\n",
      "SGDClassifier                   0.64\n",
      "SVC                             0.70\n",
      "XGBClassifier                   0.74\n",
      "Name: ROC AUC, dtype: float64\n",
      "Model\n",
      "AdaBoostClassifier              0.69\n",
      "BaggingClassifier               0.72\n",
      "BernoulliNB                     0.74\n",
      "CalibratedClassifierCV          0.64\n",
      "DecisionTreeClassifier          0.61\n",
      "DummyClassifier                 0.50\n",
      "ExtraTreeClassifier             0.56\n",
      "ExtraTreesClassifier            0.76\n",
      "GaussianNB                      0.71\n",
      "KNeighborsClassifier            0.64\n",
      "LGBMClassifier                  0.71\n",
      "LabelPropagation                0.45\n",
      "LabelSpreading                  0.45\n",
      "LinearDiscriminantAnalysis      0.68\n",
      "LinearSVC                       0.69\n",
      "LogisticRegression              0.70\n",
      "NearestCentroid                 0.74\n",
      "NuSVC                           0.68\n",
      "PassiveAggressiveClassifier     0.59\n",
      "Perceptron                      0.63\n",
      "QuadraticDiscriminantAnalysis   0.74\n",
      "RandomForestClassifier          0.76\n",
      "RidgeClassifier                 0.68\n",
      "RidgeClassifierCV               0.68\n",
      "SGDClassifier                   0.60\n",
      "SVC                             0.69\n",
      "XGBClassifier                   0.74\n",
      "Name: ROC AUC, dtype: float64\n",
      "Model\n",
      "AdaBoostClassifier              0.61\n",
      "BaggingClassifier               0.73\n",
      "BernoulliNB                     0.68\n",
      "CalibratedClassifierCV          0.67\n",
      "DecisionTreeClassifier          0.53\n",
      "DummyClassifier                 0.50\n",
      "ExtraTreeClassifier             0.64\n",
      "ExtraTreesClassifier            0.68\n",
      "GaussianNB                      0.57\n",
      "KNeighborsClassifier            0.66\n",
      "LGBMClassifier                  0.63\n",
      "LabelPropagation                0.57\n",
      "LabelSpreading                  0.57\n",
      "LinearDiscriminantAnalysis      0.68\n",
      "LinearSVC                       0.67\n",
      "LogisticRegression              0.68\n",
      "NearestCentroid                 0.72\n",
      "NuSVC                           0.67\n",
      "PassiveAggressiveClassifier     0.55\n",
      "Perceptron                      0.64\n",
      "QuadraticDiscriminantAnalysis   0.56\n",
      "RandomForestClassifier          0.71\n",
      "RidgeClassifier                 0.68\n",
      "RidgeClassifierCV               0.68\n",
      "SGDClassifier                   0.62\n",
      "SVC                             0.65\n",
      "XGBClassifier                   0.70\n",
      "Name: ROC AUC, dtype: float64\n",
      "Model\n",
      "AdaBoostClassifier              0.63\n",
      "BaggingClassifier               0.69\n",
      "BernoulliNB                     0.71\n",
      "CalibratedClassifierCV          0.74\n",
      "DecisionTreeClassifier          0.63\n",
      "DummyClassifier                 0.50\n",
      "ExtraTreeClassifier             0.67\n",
      "ExtraTreesClassifier            0.70\n",
      "GaussianNB                      0.65\n",
      "KNeighborsClassifier            0.56\n",
      "LGBMClassifier                  0.69\n",
      "LabelPropagation                0.50\n",
      "LabelSpreading                  0.50\n",
      "LinearDiscriminantAnalysis      0.72\n",
      "LinearSVC                       0.76\n",
      "LogisticRegression              0.77\n",
      "NearestCentroid                 0.72\n",
      "NuSVC                           0.70\n",
      "PassiveAggressiveClassifier     0.71\n",
      "Perceptron                      0.63\n",
      "QuadraticDiscriminantAnalysis   0.68\n",
      "RandomForestClassifier          0.72\n",
      "RidgeClassifier                 0.74\n",
      "RidgeClassifierCV               0.74\n",
      "SGDClassifier                   0.68\n",
      "SVC                             0.72\n",
      "XGBClassifier                   0.69\n",
      "Name: ROC AUC, dtype: float64\n",
      "Model\n",
      "AdaBoostClassifier              0.61\n",
      "BaggingClassifier               0.63\n",
      "BernoulliNB                     0.64\n",
      "CalibratedClassifierCV          0.60\n",
      "DecisionTreeClassifier          0.56\n",
      "DummyClassifier                 0.50\n",
      "ExtraTreeClassifier             0.59\n",
      "ExtraTreesClassifier            0.65\n",
      "GaussianNB                      0.65\n",
      "KNeighborsClassifier            0.65\n",
      "LGBMClassifier                  0.65\n",
      "LabelPropagation                0.55\n",
      "LabelSpreading                  0.55\n",
      "LinearDiscriminantAnalysis      0.64\n",
      "LinearSVC                       0.65\n",
      "LogisticRegression              0.67\n",
      "NearestCentroid                 0.66\n",
      "NuSVC                           0.66\n",
      "PassiveAggressiveClassifier     0.58\n",
      "Perceptron                      0.66\n",
      "QuadraticDiscriminantAnalysis   0.63\n",
      "RandomForestClassifier          0.64\n",
      "RidgeClassifier                 0.64\n",
      "RidgeClassifierCV               0.67\n",
      "SGDClassifier                   0.63\n",
      "SVC                             0.66\n",
      "XGBClassifier                   0.68\n",
      "Name: ROC AUC, dtype: float64\n",
      "Model\n",
      "AdaBoostClassifier              0.65\n",
      "BaggingClassifier               0.72\n",
      "BernoulliNB                     0.69\n",
      "CalibratedClassifierCV          0.67\n",
      "DecisionTreeClassifier          0.71\n",
      "DummyClassifier                 0.50\n",
      "ExtraTreeClassifier             0.58\n",
      "ExtraTreesClassifier            0.75\n",
      "GaussianNB                      0.65\n",
      "KNeighborsClassifier            0.65\n",
      "LGBMClassifier                  0.76\n",
      "LabelPropagation                0.53\n",
      "LabelSpreading                  0.53\n",
      "LinearDiscriminantAnalysis      0.67\n",
      "LinearSVC                       0.69\n",
      "LogisticRegression              0.67\n",
      "NearestCentroid                 0.73\n",
      "NuSVC                           0.70\n",
      "PassiveAggressiveClassifier     0.55\n",
      "Perceptron                      0.70\n",
      "QuadraticDiscriminantAnalysis   0.70\n",
      "RandomForestClassifier          0.73\n",
      "RidgeClassifier                 0.70\n",
      "RidgeClassifierCV               0.72\n",
      "SGDClassifier                   0.68\n",
      "SVC                             0.71\n",
      "XGBClassifier                   0.73\n",
      "Name: ROC AUC, dtype: float64\n",
      "Model\n",
      "AdaBoostClassifier              0.74\n",
      "BaggingClassifier               0.69\n",
      "BernoulliNB                     0.69\n",
      "CalibratedClassifierCV          0.68\n",
      "DecisionTreeClassifier          0.57\n",
      "DummyClassifier                 0.50\n",
      "ExtraTreeClassifier             0.61\n",
      "ExtraTreesClassifier            0.67\n",
      "GaussianNB                      0.62\n",
      "KNeighborsClassifier            0.60\n",
      "LGBMClassifier                  0.69\n",
      "LabelPropagation                0.55\n",
      "LabelSpreading                  0.55\n",
      "LinearDiscriminantAnalysis      0.71\n",
      "LinearSVC                       0.70\n",
      "LogisticRegression              0.72\n",
      "NearestCentroid                 0.67\n",
      "NuSVC                           0.64\n",
      "PassiveAggressiveClassifier     0.63\n",
      "Perceptron                      0.66\n",
      "QuadraticDiscriminantAnalysis   0.59\n",
      "RandomForestClassifier          0.77\n",
      "RidgeClassifier                 0.72\n",
      "RidgeClassifierCV               0.71\n",
      "SGDClassifier                   0.64\n",
      "SVC                             0.63\n",
      "XGBClassifier                   0.65\n",
      "Name: ROC AUC, dtype: float64\n",
      "Model\n",
      "AdaBoostClassifier              0.71\n",
      "BaggingClassifier               0.67\n",
      "BernoulliNB                     0.70\n",
      "CalibratedClassifierCV          0.72\n",
      "DecisionTreeClassifier          0.53\n",
      "DummyClassifier                 0.50\n",
      "ExtraTreeClassifier             0.52\n",
      "ExtraTreesClassifier            0.66\n",
      "GaussianNB                      0.64\n",
      "KNeighborsClassifier            0.54\n",
      "LGBMClassifier                  0.71\n",
      "LabelPropagation                0.56\n",
      "LabelSpreading                  0.56\n",
      "LinearDiscriminantAnalysis      0.73\n",
      "LinearSVC                       0.76\n",
      "LogisticRegression              0.73\n",
      "NearestCentroid                 0.70\n",
      "NuSVC                           0.67\n",
      "PassiveAggressiveClassifier     0.59\n",
      "Perceptron                      0.63\n",
      "QuadraticDiscriminantAnalysis   0.68\n",
      "RandomForestClassifier          0.65\n",
      "RidgeClassifier                 0.74\n",
      "RidgeClassifierCV               0.74\n",
      "SGDClassifier                   0.63\n",
      "SVC                             0.71\n",
      "XGBClassifier                   0.71\n",
      "Name: ROC AUC, dtype: float64\n",
      "Model\n",
      "AdaBoostClassifier              0.67\n",
      "BaggingClassifier               0.65\n",
      "BernoulliNB                     0.73\n",
      "CalibratedClassifierCV          0.71\n",
      "DecisionTreeClassifier          0.66\n",
      "DummyClassifier                 0.50\n",
      "ExtraTreeClassifier             0.56\n",
      "ExtraTreesClassifier            0.70\n",
      "GaussianNB                      0.66\n",
      "KNeighborsClassifier            0.65\n",
      "LGBMClassifier                  0.69\n",
      "LabelPropagation                0.60\n",
      "LabelSpreading                  0.59\n",
      "LinearDiscriminantAnalysis      0.65\n",
      "LinearSVC                       0.69\n",
      "LogisticRegression              0.63\n",
      "NearestCentroid                 0.72\n",
      "NuSVC                           0.70\n",
      "PassiveAggressiveClassifier     0.67\n",
      "Perceptron                      0.52\n",
      "QuadraticDiscriminantAnalysis   0.61\n",
      "RandomForestClassifier          0.69\n",
      "RidgeClassifier                 0.67\n",
      "RidgeClassifierCV               0.67\n",
      "SGDClassifier                   0.60\n",
      "SVC                             0.70\n",
      "XGBClassifier                   0.65\n",
      "Name: ROC AUC, dtype: float64\n",
      "Model\n",
      "AdaBoostClassifier              0.73\n",
      "BaggingClassifier               0.71\n",
      "BernoulliNB                     0.72\n",
      "CalibratedClassifierCV          0.70\n",
      "DecisionTreeClassifier          0.69\n",
      "DummyClassifier                 0.50\n",
      "ExtraTreeClassifier             0.73\n",
      "ExtraTreesClassifier            0.78\n",
      "GaussianNB                      0.75\n",
      "KNeighborsClassifier            0.69\n",
      "LGBMClassifier                  0.77\n",
      "LabelPropagation                0.55\n",
      "LabelSpreading                  0.55\n",
      "LinearDiscriminantAnalysis      0.70\n",
      "LinearSVC                       0.74\n",
      "LogisticRegression              0.74\n",
      "NearestCentroid                 0.74\n",
      "NuSVC                           0.75\n",
      "PassiveAggressiveClassifier     0.71\n",
      "Perceptron                      0.63\n",
      "QuadraticDiscriminantAnalysis   0.66\n",
      "RandomForestClassifier          0.78\n",
      "RidgeClassifier                 0.70\n",
      "RidgeClassifierCV               0.74\n",
      "SGDClassifier                   0.70\n",
      "SVC                             0.77\n",
      "XGBClassifier                   0.80\n",
      "Name: ROC AUC, dtype: float64\n",
      "Model\n",
      "AdaBoostClassifier              0.67\n",
      "BaggingClassifier               0.71\n",
      "BernoulliNB                     0.75\n",
      "CalibratedClassifierCV          0.74\n",
      "DecisionTreeClassifier          0.65\n",
      "DummyClassifier                 0.50\n",
      "ExtraTreeClassifier             0.66\n",
      "ExtraTreesClassifier            0.77\n",
      "GaussianNB                      0.74\n",
      "KNeighborsClassifier            0.67\n",
      "LGBMClassifier                  0.76\n",
      "LabelPropagation                0.54\n",
      "LabelSpreading                  0.54\n",
      "LinearDiscriminantAnalysis      0.78\n",
      "LinearSVC                       0.77\n",
      "LogisticRegression              0.76\n",
      "NearestCentroid                 0.76\n",
      "NuSVC                           0.76\n",
      "PassiveAggressiveClassifier     0.62\n",
      "Perceptron                      0.70\n",
      "QuadraticDiscriminantAnalysis   0.69\n",
      "RandomForestClassifier          0.80\n",
      "RidgeClassifier                 0.78\n",
      "RidgeClassifierCV               0.76\n",
      "SGDClassifier                   0.61\n",
      "SVC                             0.75\n",
      "XGBClassifier                   0.74\n",
      "Name: ROC AUC, dtype: float64\n",
      "Model\n",
      "AdaBoostClassifier              0.61\n",
      "BaggingClassifier               0.63\n",
      "BernoulliNB                     0.64\n",
      "CalibratedClassifierCV          0.64\n",
      "DecisionTreeClassifier          0.70\n",
      "DummyClassifier                 0.50\n",
      "ExtraTreeClassifier             0.66\n",
      "ExtraTreesClassifier            0.69\n",
      "GaussianNB                      0.63\n",
      "KNeighborsClassifier            0.61\n",
      "LGBMClassifier                  0.67\n",
      "LabelPropagation                0.58\n",
      "LabelSpreading                  0.58\n",
      "LinearDiscriminantAnalysis      0.62\n",
      "LinearSVC                       0.64\n",
      "LogisticRegression              0.63\n",
      "NearestCentroid                 0.61\n",
      "NuSVC                           0.68\n",
      "PassiveAggressiveClassifier     0.65\n",
      "Perceptron                      0.61\n",
      "QuadraticDiscriminantAnalysis   0.63\n",
      "RandomForestClassifier          0.72\n",
      "RidgeClassifier                 0.62\n",
      "RidgeClassifierCV               0.63\n",
      "SGDClassifier                   0.70\n",
      "SVC                             0.66\n",
      "XGBClassifier                   0.69\n",
      "Name: ROC AUC, dtype: float64\n",
      "Model\n",
      "AdaBoostClassifier              0.64\n",
      "BaggingClassifier               0.68\n",
      "BernoulliNB                     0.70\n",
      "CalibratedClassifierCV          0.65\n",
      "DecisionTreeClassifier          0.63\n",
      "DummyClassifier                 0.50\n",
      "ExtraTreeClassifier             0.68\n",
      "ExtraTreesClassifier            0.70\n",
      "GaussianNB                      0.62\n",
      "KNeighborsClassifier            0.61\n",
      "LGBMClassifier                  0.68\n",
      "LabelPropagation                0.52\n",
      "LabelSpreading                  0.52\n",
      "LinearDiscriminantAnalysis      0.64\n",
      "LinearSVC                       0.65\n",
      "LogisticRegression              0.67\n",
      "NearestCentroid                 0.72\n",
      "NuSVC                           0.70\n",
      "PassiveAggressiveClassifier     0.61\n",
      "Perceptron                      0.61\n",
      "QuadraticDiscriminantAnalysis   0.65\n",
      "RandomForestClassifier          0.77\n",
      "RidgeClassifier                 0.65\n",
      "RidgeClassifierCV               0.66\n",
      "SGDClassifier                   0.67\n",
      "SVC                             0.69\n",
      "XGBClassifier                   0.67\n",
      "Name: ROC AUC, dtype: float64\n",
      "Model\n",
      "AdaBoostClassifier              0.74\n",
      "BaggingClassifier               0.68\n",
      "BernoulliNB                     0.76\n",
      "CalibratedClassifierCV          0.67\n",
      "DecisionTreeClassifier          0.74\n",
      "DummyClassifier                 0.50\n",
      "ExtraTreeClassifier             0.59\n",
      "ExtraTreesClassifier            0.70\n",
      "GaussianNB                      0.69\n",
      "KNeighborsClassifier            0.61\n",
      "LGBMClassifier                  0.74\n",
      "LabelPropagation                0.55\n",
      "LabelSpreading                  0.55\n",
      "LinearDiscriminantAnalysis      0.70\n",
      "LinearSVC                       0.69\n",
      "LogisticRegression              0.67\n",
      "NearestCentroid                 0.74\n",
      "NuSVC                           0.70\n",
      "PassiveAggressiveClassifier     0.66\n",
      "Perceptron                      0.63\n",
      "QuadraticDiscriminantAnalysis   0.65\n",
      "RandomForestClassifier          0.77\n",
      "RidgeClassifier                 0.69\n",
      "RidgeClassifierCV               0.71\n",
      "SGDClassifier                   0.66\n",
      "SVC                             0.74\n",
      "XGBClassifier                   0.74\n",
      "Name: ROC AUC, dtype: float64\n",
      "Model\n",
      "AdaBoostClassifier              0.63\n",
      "BaggingClassifier               0.67\n",
      "BernoulliNB                     0.64\n",
      "CalibratedClassifierCV          0.70\n",
      "DecisionTreeClassifier          0.69\n",
      "DummyClassifier                 0.50\n",
      "ExtraTreeClassifier             0.62\n",
      "ExtraTreesClassifier            0.73\n",
      "GaussianNB                      0.68\n",
      "KNeighborsClassifier            0.66\n",
      "LGBMClassifier                  0.68\n",
      "LabelPropagation                0.55\n",
      "LabelSpreading                  0.55\n",
      "LinearDiscriminantAnalysis      0.70\n",
      "LinearSVC                       0.68\n",
      "LogisticRegression              0.70\n",
      "NearestCentroid                 0.64\n",
      "NuSVC                           0.66\n",
      "PassiveAggressiveClassifier     0.65\n",
      "Perceptron                      0.65\n",
      "QuadraticDiscriminantAnalysis   0.64\n",
      "RandomForestClassifier          0.66\n",
      "RidgeClassifier                 0.70\n",
      "RidgeClassifierCV               0.69\n",
      "SGDClassifier                   0.63\n",
      "SVC                             0.67\n",
      "XGBClassifier                   0.68\n",
      "Name: ROC AUC, dtype: float64\n",
      "Model\n",
      "AdaBoostClassifier              0.64\n",
      "BaggingClassifier               0.64\n",
      "BernoulliNB                     0.63\n",
      "CalibratedClassifierCV          0.62\n",
      "DecisionTreeClassifier          0.62\n",
      "DummyClassifier                 0.50\n",
      "ExtraTreeClassifier             0.57\n",
      "ExtraTreesClassifier            0.66\n",
      "GaussianNB                      0.58\n",
      "KNeighborsClassifier            0.61\n",
      "LGBMClassifier                  0.68\n",
      "LabelPropagation                0.51\n",
      "LabelSpreading                  0.51\n",
      "LinearDiscriminantAnalysis      0.67\n",
      "LinearSVC                       0.61\n",
      "LogisticRegression              0.62\n",
      "NearestCentroid                 0.64\n",
      "NuSVC                           0.63\n",
      "PassiveAggressiveClassifier     0.61\n",
      "Perceptron                      0.63\n",
      "QuadraticDiscriminantAnalysis   0.54\n",
      "RandomForestClassifier          0.65\n",
      "RidgeClassifier                 0.64\n",
      "RidgeClassifierCV               0.68\n",
      "SGDClassifier                   0.58\n",
      "SVC                             0.65\n",
      "XGBClassifier                   0.67\n",
      "Name: ROC AUC, dtype: float64\n",
      "Model\n",
      "AdaBoostClassifier              0.64\n",
      "BaggingClassifier               0.71\n",
      "BernoulliNB                     0.68\n",
      "CalibratedClassifierCV          0.72\n",
      "DecisionTreeClassifier          0.64\n",
      "DummyClassifier                 0.50\n",
      "ExtraTreeClassifier             0.57\n",
      "ExtraTreesClassifier            0.70\n",
      "GaussianNB                      0.62\n",
      "KNeighborsClassifier            0.56\n",
      "LGBMClassifier                  0.64\n",
      "LabelPropagation                0.59\n",
      "LabelSpreading                  0.59\n",
      "LinearDiscriminantAnalysis      0.74\n",
      "LinearSVC                       0.74\n",
      "LogisticRegression              0.74\n",
      "NearestCentroid                 0.66\n",
      "NuSVC                           0.69\n",
      "PassiveAggressiveClassifier     0.66\n",
      "Perceptron                      0.67\n",
      "QuadraticDiscriminantAnalysis   0.67\n",
      "RandomForestClassifier          0.70\n",
      "RidgeClassifier                 0.73\n",
      "RidgeClassifierCV               0.72\n",
      "SGDClassifier                   0.56\n",
      "SVC                             0.69\n",
      "XGBClassifier                   0.69\n",
      "Name: ROC AUC, dtype: float64\n",
      "Model\n",
      "AdaBoostClassifier              0.69\n",
      "BaggingClassifier               0.66\n",
      "BernoulliNB                     0.71\n",
      "CalibratedClassifierCV          0.70\n",
      "DecisionTreeClassifier          0.69\n",
      "DummyClassifier                 0.50\n",
      "ExtraTreeClassifier             0.61\n",
      "ExtraTreesClassifier            0.73\n",
      "GaussianNB                      0.71\n",
      "KNeighborsClassifier            0.60\n",
      "LGBMClassifier                  0.70\n",
      "LabelPropagation                0.55\n",
      "LabelSpreading                  0.55\n",
      "LinearDiscriminantAnalysis      0.70\n",
      "LinearSVC                       0.70\n",
      "LogisticRegression              0.70\n",
      "NearestCentroid                 0.67\n",
      "NuSVC                           0.72\n",
      "PassiveAggressiveClassifier     0.75\n",
      "Perceptron                      0.66\n",
      "QuadraticDiscriminantAnalysis   0.64\n",
      "RandomForestClassifier          0.74\n",
      "RidgeClassifier                 0.70\n",
      "RidgeClassifierCV               0.70\n",
      "SGDClassifier                   0.73\n",
      "SVC                             0.72\n",
      "XGBClassifier                   0.67\n",
      "Name: ROC AUC, dtype: float64\n",
      "Model\n",
      "AdaBoostClassifier              0.67\n",
      "BaggingClassifier               0.66\n",
      "BernoulliNB                     0.68\n",
      "CalibratedClassifierCV          0.71\n",
      "DecisionTreeClassifier          0.68\n",
      "DummyClassifier                 0.50\n",
      "ExtraTreeClassifier             0.62\n",
      "ExtraTreesClassifier            0.74\n",
      "GaussianNB                      0.63\n",
      "KNeighborsClassifier            0.58\n",
      "LGBMClassifier                  0.74\n",
      "LabelPropagation                0.55\n",
      "LabelSpreading                  0.55\n",
      "LinearDiscriminantAnalysis      0.70\n",
      "LinearSVC                       0.70\n",
      "LogisticRegression              0.70\n",
      "NearestCentroid                 0.70\n",
      "NuSVC                           0.76\n",
      "PassiveAggressiveClassifier     0.68\n",
      "Perceptron                      0.68\n",
      "QuadraticDiscriminantAnalysis   0.65\n",
      "RandomForestClassifier          0.68\n",
      "RidgeClassifier                 0.70\n",
      "RidgeClassifierCV               0.70\n",
      "SGDClassifier                   0.67\n",
      "SVC                             0.72\n",
      "XGBClassifier                   0.72\n",
      "Name: ROC AUC, dtype: float64\n",
      "Model\n",
      "AdaBoostClassifier              0.71\n",
      "BaggingClassifier               0.72\n",
      "BernoulliNB                     0.73\n",
      "CalibratedClassifierCV          0.72\n",
      "DecisionTreeClassifier          0.65\n",
      "DummyClassifier                 0.50\n",
      "ExtraTreeClassifier             0.69\n",
      "ExtraTreesClassifier            0.78\n",
      "GaussianNB                      0.71\n",
      "KNeighborsClassifier            0.61\n",
      "LGBMClassifier                  0.74\n",
      "LabelPropagation                0.52\n",
      "LabelSpreading                  0.52\n",
      "LinearDiscriminantAnalysis      0.70\n",
      "LinearSVC                       0.70\n",
      "LogisticRegression              0.70\n",
      "NearestCentroid                 0.75\n",
      "NuSVC                           0.75\n",
      "PassiveAggressiveClassifier     0.61\n",
      "Perceptron                      0.63\n",
      "QuadraticDiscriminantAnalysis   0.66\n",
      "RandomForestClassifier          0.71\n",
      "RidgeClassifier                 0.71\n",
      "RidgeClassifierCV               0.72\n",
      "SGDClassifier                   0.65\n",
      "SVC                             0.75\n",
      "XGBClassifier                   0.76\n",
      "Name: ROC AUC, dtype: float64\n",
      "Model\n",
      "AdaBoostClassifier              0.64\n",
      "BaggingClassifier               0.66\n",
      "BernoulliNB                     0.69\n",
      "CalibratedClassifierCV          0.65\n",
      "DecisionTreeClassifier          0.59\n",
      "DummyClassifier                 0.50\n",
      "ExtraTreeClassifier             0.65\n",
      "ExtraTreesClassifier            0.73\n",
      "GaussianNB                      0.70\n",
      "KNeighborsClassifier            0.59\n",
      "LGBMClassifier                  0.67\n",
      "LabelPropagation                0.49\n",
      "LabelSpreading                  0.49\n",
      "LinearDiscriminantAnalysis      0.67\n",
      "LinearSVC                       0.65\n",
      "LogisticRegression              0.68\n",
      "NearestCentroid                 0.70\n",
      "NuSVC                           0.74\n",
      "PassiveAggressiveClassifier     0.57\n",
      "Perceptron                      0.71\n",
      "QuadraticDiscriminantAnalysis   0.68\n",
      "RandomForestClassifier          0.75\n",
      "RidgeClassifier                 0.67\n",
      "RidgeClassifierCV               0.70\n",
      "SGDClassifier                   0.68\n",
      "SVC                             0.74\n",
      "XGBClassifier                   0.66\n",
      "Name: ROC AUC, dtype: float64\n",
      "Model\n",
      "AdaBoostClassifier              0.68\n",
      "BaggingClassifier               0.66\n",
      "BernoulliNB                     0.64\n",
      "CalibratedClassifierCV          0.63\n",
      "DecisionTreeClassifier          0.61\n",
      "DummyClassifier                 0.50\n",
      "ExtraTreeClassifier             0.65\n",
      "ExtraTreesClassifier            0.67\n",
      "GaussianNB                      0.68\n",
      "KNeighborsClassifier            0.67\n",
      "LGBMClassifier                  0.76\n",
      "LabelPropagation                0.53\n",
      "LabelSpreading                  0.53\n",
      "LinearDiscriminantAnalysis      0.65\n",
      "LinearSVC                       0.65\n",
      "LogisticRegression              0.66\n",
      "NearestCentroid                 0.66\n",
      "NuSVC                           0.68\n",
      "PassiveAggressiveClassifier     0.59\n",
      "Perceptron                      0.66\n",
      "QuadraticDiscriminantAnalysis   0.67\n",
      "RandomForestClassifier          0.72\n",
      "RidgeClassifier                 0.65\n",
      "RidgeClassifierCV               0.66\n",
      "SGDClassifier                   0.61\n",
      "SVC                             0.69\n",
      "XGBClassifier                   0.71\n",
      "Name: ROC AUC, dtype: float64\n",
      "Model\n",
      "AdaBoostClassifier              0.70\n",
      "BaggingClassifier               0.68\n",
      "BernoulliNB                     0.72\n",
      "CalibratedClassifierCV          0.66\n",
      "DecisionTreeClassifier          0.65\n",
      "DummyClassifier                 0.50\n",
      "ExtraTreeClassifier             0.62\n",
      "ExtraTreesClassifier            0.78\n",
      "GaussianNB                      0.63\n",
      "KNeighborsClassifier            0.57\n",
      "LGBMClassifier                  0.75\n",
      "LabelPropagation                0.52\n",
      "LabelSpreading                  0.52\n",
      "LinearDiscriminantAnalysis      0.73\n",
      "LinearSVC                       0.69\n",
      "LogisticRegression              0.69\n",
      "NearestCentroid                 0.78\n",
      "NuSVC                           0.73\n",
      "PassiveAggressiveClassifier     0.61\n",
      "Perceptron                      0.70\n",
      "QuadraticDiscriminantAnalysis   0.55\n",
      "RandomForestClassifier          0.75\n",
      "RidgeClassifier                 0.74\n",
      "RidgeClassifierCV               0.73\n",
      "SGDClassifier                   0.71\n",
      "SVC                             0.74\n",
      "XGBClassifier                   0.74\n",
      "Name: ROC AUC, dtype: float64\n",
      "Model\n",
      "AdaBoostClassifier              0.63\n",
      "BaggingClassifier               0.71\n",
      "BernoulliNB                     0.64\n",
      "CalibratedClassifierCV          0.66\n",
      "DecisionTreeClassifier          0.64\n",
      "DummyClassifier                 0.50\n",
      "ExtraTreeClassifier             0.62\n",
      "ExtraTreesClassifier            0.66\n",
      "GaussianNB                      0.75\n",
      "KNeighborsClassifier            0.64\n",
      "LGBMClassifier                  0.67\n",
      "LabelPropagation                0.53\n",
      "LabelSpreading                  0.53\n",
      "LinearDiscriminantAnalysis      0.66\n",
      "LinearSVC                       0.66\n",
      "LogisticRegression              0.68\n",
      "NearestCentroid                 0.67\n",
      "NuSVC                           0.65\n",
      "PassiveAggressiveClassifier     0.63\n",
      "Perceptron                      0.69\n",
      "QuadraticDiscriminantAnalysis   0.69\n",
      "RandomForestClassifier          0.65\n",
      "RidgeClassifier                 0.66\n",
      "RidgeClassifierCV               0.67\n",
      "SGDClassifier                   0.73\n",
      "SVC                             0.67\n",
      "XGBClassifier                   0.66\n",
      "Name: ROC AUC, dtype: float64\n",
      "Model\n",
      "AdaBoostClassifier              0.69\n",
      "BaggingClassifier               0.71\n",
      "BernoulliNB                     0.71\n",
      "CalibratedClassifierCV          0.67\n",
      "DecisionTreeClassifier          0.71\n",
      "DummyClassifier                 0.50\n",
      "ExtraTreeClassifier             0.65\n",
      "ExtraTreesClassifier            0.75\n",
      "GaussianNB                      0.70\n",
      "KNeighborsClassifier            0.63\n",
      "LGBMClassifier                  0.79\n",
      "LabelPropagation                0.54\n",
      "LabelSpreading                  0.54\n",
      "LinearDiscriminantAnalysis      0.70\n",
      "LinearSVC                       0.69\n",
      "LogisticRegression              0.67\n",
      "NearestCentroid                 0.70\n",
      "NuSVC                           0.71\n",
      "PassiveAggressiveClassifier     0.67\n",
      "Perceptron                      0.69\n",
      "QuadraticDiscriminantAnalysis   0.67\n",
      "RandomForestClassifier          0.76\n",
      "RidgeClassifier                 0.70\n",
      "RidgeClassifierCV               0.69\n",
      "SGDClassifier                   0.66\n",
      "SVC                             0.71\n",
      "XGBClassifier                   0.72\n",
      "Name: ROC AUC, dtype: float64\n"
     ]
    }
   ],
   "source": [
    "for ml in model_list:\n",
    "    print(ml.sort_index())"
   ]
  },
  {
   "cell_type": "markdown",
   "id": "dc325581-a4a3-4be3-bdf0-37b79fb9d5df",
   "metadata": {},
   "source": [
    "# Referências\n",
    "* https://towardsdatascience.com/modeling-teaching-a-machine-learning-algorithm-to-deliver-business-value-ad0205ca4c86\n",
    "* https://docs.microsoft.com/en-us/windows/ai/windows-ml/what-is-a-machine-learning-model\n",
    "* https://medium.com/@datadrivenscience/7-stages-of-machine-learning-a-framework-33d39065e2c9\n",
    "* https://developers.google.com/machine-learning/crash-course/classification/roc-and-auc\n",
    "* https://towardsdatascience.com/understanding-auc-roc-curve-68b2303cc9c5\n",
    "* https://medium.com/bio-data-blog/entenda-o-que-%C3%A9-auc-e-roc-nos-modelos-de-machine-learning-8191fb4df772"
   ]
  },
  {
   "cell_type": "code",
   "execution_count": null,
   "id": "248e7041-92e8-42a6-95fc-7d745e5d6eff",
   "metadata": {},
   "outputs": [],
   "source": []
  }
 ],
 "metadata": {
  "kernelspec": {
   "display_name": "Python 3 (ipykernel)",
   "language": "python",
   "name": "python3"
  },
  "language_info": {
   "codemirror_mode": {
    "name": "ipython",
    "version": 3
   },
   "file_extension": ".py",
   "mimetype": "text/x-python",
   "name": "python",
   "nbconvert_exporter": "python",
   "pygments_lexer": "ipython3",
   "version": "3.9.7"
  }
 },
 "nbformat": 4,
 "nbformat_minor": 5
}
