{
 "cells": [
  {
   "cell_type": "markdown",
   "id": "31f95419-a833-476f-9be6-2e7714ec0132",
   "metadata": {},
   "source": [
    "# Modeling\n",
    "Esse Notebook visa apresentar a etapa de definição do modelo de machine learning usado para fazer a predição da ```ICU```.<br>\n",
    "Após a etapa de *Feature Engineering* os dados estão prontos para serem usados de maneira a auxiliar a classificação.<br>\n",
    "\n",
    "<a name=\"sumario\"></a>\n",
    "# Sumário\n",
    "<!--ts-->\n",
    "   * [Importe das Bibliotecas](#import)\n",
    "   * [Leitura dos dados](#leitura)\n",
    "   * [Metrica de avaliação](#metrics)\n",
    "   * [Dummy Classifier](#dummy)\n",
    "   * [Seleção de Modelo](#modsel)\n",
    "   * [Random Forest Classifier](#rfcsf)\n",
    "   * [Matriz de confusão](#confusion)\n",
    "   * [Salvando modelo](#savemodel)\n",
    "   * [Conclusão](#concl)\n",
    "   \n",
    "<!--te-->"
   ]
  },
  {
   "cell_type": "markdown",
   "id": "7706a188-881d-4704-bb25-f43dbc48efd0",
   "metadata": {},
   "source": [
    "<a name=\"import\"></a>\n",
    "# Importe das Bibliotecas"
   ]
  },
  {
   "cell_type": "markdown",
   "id": "2bdc900a-f6a0-4c52-8453-0cdf96946286",
   "metadata": {},
   "source": [
    "## Bibliotecas Externas"
   ]
  },
  {
   "cell_type": "code",
   "execution_count": 14,
   "id": "e06fcffc-4c47-483e-9f8e-227ca8adb3cb",
   "metadata": {},
   "outputs": [],
   "source": [
    "import pandas as pd\n",
    "import numpy as np\n",
    "from pprint import pprint\n",
    "import joblib\n",
    "\n",
    "from sklearn.model_selection import train_test_split, cross_validate, RepeatedStratifiedKFold, RandomizedSearchCV, LeaveOneOut\n",
    "from sklearn.ensemble import RandomForestClassifier\n",
    "from sklearn.dummy import DummyClassifier\n",
    "from sklearn import tree\n",
    "from sklearn.metrics import RocCurveDisplay\n",
    "from sklearn.metrics import plot_confusion_matrix"
   ]
  },
  {
   "cell_type": "markdown",
   "id": "bc746c47-5df5-46be-9c18-92c5b23041da",
   "metadata": {},
   "source": [
    "## Bibliotecas Internas"
   ]
  },
  {
   "cell_type": "code",
   "execution_count": 15,
   "id": "d41ca5b5-845c-4d46-aecf-13b56f6a219f",
   "metadata": {},
   "outputs": [],
   "source": [
    "import sys\n",
    "sys.path.insert(1, \"../src/\")\n",
    "from modeling import run_model_cv, many_Lazy_Classifiers"
   ]
  },
  {
   "cell_type": "markdown",
   "id": "b258d3e7-6bc6-4d1d-ab72-9148611aed03",
   "metadata": {},
   "source": [
    "-----------------\n",
    "Retornar ao [Sumário](#sumario)"
   ]
  },
  {
   "cell_type": "markdown",
   "id": "bb8c4a28-b613-423b-a01e-5dee0aea51a1",
   "metadata": {},
   "source": [
    "<a name=\"leitura\"></a>\n",
    "# Leitura dos dados\n",
    "Faz a leitura dos dados que serão usados para a modelagem.<br>\n",
    "**```df : pd.DataFrame```** é o DataFrame contendo os dados que já passaram pela etapa de *feature engineering*."
   ]
  },
  {
   "cell_type": "code",
   "execution_count": 3,
   "id": "98094eb8-fa55-46a2-8134-352aa1188481",
   "metadata": {},
   "outputs": [
    {
     "data": {
      "text/html": [
       "<div>\n",
       "<style scoped>\n",
       "    .dataframe tbody tr th:only-of-type {\n",
       "        vertical-align: middle;\n",
       "    }\n",
       "\n",
       "    .dataframe tbody tr th {\n",
       "        vertical-align: top;\n",
       "    }\n",
       "\n",
       "    .dataframe thead th {\n",
       "        text-align: right;\n",
       "    }\n",
       "</style>\n",
       "<table border=\"1\" class=\"dataframe\">\n",
       "  <thead>\n",
       "    <tr style=\"text-align: right;\">\n",
       "      <th></th>\n",
       "      <th>AGE_ABOVE65</th>\n",
       "      <th>AGE_SCALED</th>\n",
       "      <th>DISEASE GROUPING 1</th>\n",
       "      <th>DISEASE GROUPING 3</th>\n",
       "      <th>DISEASE GROUPING 5</th>\n",
       "      <th>HTN</th>\n",
       "      <th>IMMUNOCOMPROMISED</th>\n",
       "      <th>ALBUMIN</th>\n",
       "      <th>BE_VENOUS</th>\n",
       "      <th>FFA</th>\n",
       "      <th>GGT</th>\n",
       "      <th>GLUCOSE</th>\n",
       "      <th>HEMOGLOBIN</th>\n",
       "      <th>LACTATE</th>\n",
       "      <th>LINFOCITOS</th>\n",
       "      <th>NEUTROPHILES</th>\n",
       "      <th>P02_VENOUS</th>\n",
       "      <th>PCR</th>\n",
       "      <th>SAT02_VENOUS</th>\n",
       "      <th>SODIUM</th>\n",
       "      <th>DIMER</th>\n",
       "      <th>BLOODPRESSURE_DIASTOLIC_MEAN</th>\n",
       "      <th>RESPIRATORY_RATE_MEAN</th>\n",
       "      <th>TEMPERATURE_MEAN</th>\n",
       "      <th>BLOODPRESSURE_SISTOLIC_MEDIAN</th>\n",
       "      <th>OXYGEN_SATURATION_MEDIAN</th>\n",
       "      <th>HEART_RATE_MIN</th>\n",
       "      <th>RESPIRATORY_RATE_MIN</th>\n",
       "      <th>BLOODPRESSURE_DIASTOLIC_MAX</th>\n",
       "      <th>BLOODPRESSURE_MAX_MEDIAN_RESIDUAL</th>\n",
       "      <th>HEART_RATE_MAX</th>\n",
       "      <th>OXYGEN_SATURATION_MAX</th>\n",
       "      <th>BLOODPRESSURE_SISTOLIC_DIFF</th>\n",
       "      <th>ICU</th>\n",
       "    </tr>\n",
       "    <tr>\n",
       "      <th>PATIENT_VISIT_IDENTIFIER</th>\n",
       "      <th></th>\n",
       "      <th></th>\n",
       "      <th></th>\n",
       "      <th></th>\n",
       "      <th></th>\n",
       "      <th></th>\n",
       "      <th></th>\n",
       "      <th></th>\n",
       "      <th></th>\n",
       "      <th></th>\n",
       "      <th></th>\n",
       "      <th></th>\n",
       "      <th></th>\n",
       "      <th></th>\n",
       "      <th></th>\n",
       "      <th></th>\n",
       "      <th></th>\n",
       "      <th></th>\n",
       "      <th></th>\n",
       "      <th></th>\n",
       "      <th></th>\n",
       "      <th></th>\n",
       "      <th></th>\n",
       "      <th></th>\n",
       "      <th></th>\n",
       "      <th></th>\n",
       "      <th></th>\n",
       "      <th></th>\n",
       "      <th></th>\n",
       "      <th></th>\n",
       "      <th></th>\n",
       "      <th></th>\n",
       "      <th></th>\n",
       "      <th></th>\n",
       "    </tr>\n",
       "  </thead>\n",
       "  <tbody>\n",
       "    <tr>\n",
       "      <th>0</th>\n",
       "      <td>0</td>\n",
       "      <td>0.11</td>\n",
       "      <td>0.00</td>\n",
       "      <td>0.00</td>\n",
       "      <td>0.00</td>\n",
       "      <td>1.00</td>\n",
       "      <td>0.00</td>\n",
       "      <td>0.61</td>\n",
       "      <td>-1.00</td>\n",
       "      <td>-0.74</td>\n",
       "      <td>-0.96</td>\n",
       "      <td>-0.85</td>\n",
       "      <td>-0.02</td>\n",
       "      <td>1.00</td>\n",
       "      <td>-0.66</td>\n",
       "      <td>-0.79</td>\n",
       "      <td>-0.70</td>\n",
       "      <td>-1.00</td>\n",
       "      <td>0.35</td>\n",
       "      <td>-0.14</td>\n",
       "      <td>-0.97</td>\n",
       "      <td>0.19</td>\n",
       "      <td>-0.39</td>\n",
       "      <td>-0.29</td>\n",
       "      <td>-0.28</td>\n",
       "      <td>0.84</td>\n",
       "      <td>-0.44</td>\n",
       "      <td>-0.29</td>\n",
       "      <td>-0.18</td>\n",
       "      <td>-0.02</td>\n",
       "      <td>-0.67</td>\n",
       "      <td>0.84</td>\n",
       "      <td>-1.00</td>\n",
       "      <td>0</td>\n",
       "    </tr>\n",
       "    <tr>\n",
       "      <th>1</th>\n",
       "      <td>0</td>\n",
       "      <td>0.00</td>\n",
       "      <td>0.00</td>\n",
       "      <td>0.00</td>\n",
       "      <td>0.00</td>\n",
       "      <td>0.00</td>\n",
       "      <td>0.00</td>\n",
       "      <td>0.61</td>\n",
       "      <td>-1.00</td>\n",
       "      <td>-0.74</td>\n",
       "      <td>-0.99</td>\n",
       "      <td>-0.89</td>\n",
       "      <td>-0.17</td>\n",
       "      <td>1.00</td>\n",
       "      <td>-0.58</td>\n",
       "      <td>-0.89</td>\n",
       "      <td>-0.70</td>\n",
       "      <td>-0.95</td>\n",
       "      <td>0.35</td>\n",
       "      <td>-0.03</td>\n",
       "      <td>-0.98</td>\n",
       "      <td>0.19</td>\n",
       "      <td>-0.46</td>\n",
       "      <td>-0.11</td>\n",
       "      <td>-0.52</td>\n",
       "      <td>1.00</td>\n",
       "      <td>-0.32</td>\n",
       "      <td>-0.36</td>\n",
       "      <td>-0.18</td>\n",
       "      <td>-0.02</td>\n",
       "      <td>-0.57</td>\n",
       "      <td>1.00</td>\n",
       "      <td>-1.00</td>\n",
       "      <td>0</td>\n",
       "    </tr>\n",
       "    <tr>\n",
       "      <th>2</th>\n",
       "      <td>0</td>\n",
       "      <td>0.22</td>\n",
       "      <td>0.00</td>\n",
       "      <td>0.00</td>\n",
       "      <td>0.00</td>\n",
       "      <td>0.00</td>\n",
       "      <td>0.00</td>\n",
       "      <td>0.61</td>\n",
       "      <td>-0.86</td>\n",
       "      <td>-0.74</td>\n",
       "      <td>-0.96</td>\n",
       "      <td>-0.21</td>\n",
       "      <td>0.07</td>\n",
       "      <td>1.00</td>\n",
       "      <td>-0.82</td>\n",
       "      <td>-0.95</td>\n",
       "      <td>-0.66</td>\n",
       "      <td>-0.96</td>\n",
       "      <td>0.48</td>\n",
       "      <td>0.07</td>\n",
       "      <td>-0.98</td>\n",
       "      <td>0.09</td>\n",
       "      <td>-0.53</td>\n",
       "      <td>0.40</td>\n",
       "      <td>-0.38</td>\n",
       "      <td>0.68</td>\n",
       "      <td>-0.32</td>\n",
       "      <td>-0.43</td>\n",
       "      <td>-0.25</td>\n",
       "      <td>-0.02</td>\n",
       "      <td>-0.57</td>\n",
       "      <td>0.68</td>\n",
       "      <td>-1.00</td>\n",
       "      <td>0</td>\n",
       "    </tr>\n",
       "    <tr>\n",
       "      <th>3</th>\n",
       "      <td>0</td>\n",
       "      <td>0.00</td>\n",
       "      <td>0.00</td>\n",
       "      <td>0.00</td>\n",
       "      <td>0.00</td>\n",
       "      <td>0.00</td>\n",
       "      <td>0.00</td>\n",
       "      <td>0.61</td>\n",
       "      <td>-1.00</td>\n",
       "      <td>-0.74</td>\n",
       "      <td>-0.96</td>\n",
       "      <td>-0.89</td>\n",
       "      <td>-0.27</td>\n",
       "      <td>1.00</td>\n",
       "      <td>-0.48</td>\n",
       "      <td>-0.92</td>\n",
       "      <td>-0.70</td>\n",
       "      <td>-0.98</td>\n",
       "      <td>0.35</td>\n",
       "      <td>0.07</td>\n",
       "      <td>-0.99</td>\n",
       "      <td>-0.16</td>\n",
       "      <td>-0.53</td>\n",
       "      <td>-0.14</td>\n",
       "      <td>-0.69</td>\n",
       "      <td>0.95</td>\n",
       "      <td>-0.25</td>\n",
       "      <td>-0.43</td>\n",
       "      <td>-0.42</td>\n",
       "      <td>-0.02</td>\n",
       "      <td>-0.51</td>\n",
       "      <td>0.95</td>\n",
       "      <td>-1.00</td>\n",
       "      <td>0</td>\n",
       "    </tr>\n",
       "    <tr>\n",
       "      <th>4</th>\n",
       "      <td>1</td>\n",
       "      <td>0.78</td>\n",
       "      <td>0.00</td>\n",
       "      <td>0.00</td>\n",
       "      <td>1.00</td>\n",
       "      <td>0.00</td>\n",
       "      <td>1.00</td>\n",
       "      <td>0.00</td>\n",
       "      <td>-0.88</td>\n",
       "      <td>-0.68</td>\n",
       "      <td>-0.75</td>\n",
       "      <td>-0.81</td>\n",
       "      <td>-0.48</td>\n",
       "      <td>-0.79</td>\n",
       "      <td>-0.80</td>\n",
       "      <td>-0.89</td>\n",
       "      <td>-0.92</td>\n",
       "      <td>-0.44</td>\n",
       "      <td>-0.70</td>\n",
       "      <td>0.07</td>\n",
       "      <td>-0.98</td>\n",
       "      <td>0.90</td>\n",
       "      <td>-0.17</td>\n",
       "      <td>0.14</td>\n",
       "      <td>-0.34</td>\n",
       "      <td>0.79</td>\n",
       "      <td>-0.04</td>\n",
       "      <td>-0.43</td>\n",
       "      <td>0.32</td>\n",
       "      <td>-0.02</td>\n",
       "      <td>-0.33</td>\n",
       "      <td>0.79</td>\n",
       "      <td>-1.00</td>\n",
       "      <td>1</td>\n",
       "    </tr>\n",
       "  </tbody>\n",
       "</table>\n",
       "</div>"
      ],
      "text/plain": [
       "                          AGE_ABOVE65  AGE_SCALED  DISEASE GROUPING 1  \\\n",
       "PATIENT_VISIT_IDENTIFIER                                                \n",
       "0                                   0        0.11                0.00   \n",
       "1                                   0        0.00                0.00   \n",
       "2                                   0        0.22                0.00   \n",
       "3                                   0        0.00                0.00   \n",
       "4                                   1        0.78                0.00   \n",
       "\n",
       "                          DISEASE GROUPING 3  DISEASE GROUPING 5  HTN  \\\n",
       "PATIENT_VISIT_IDENTIFIER                                                \n",
       "0                                       0.00                0.00 1.00   \n",
       "1                                       0.00                0.00 0.00   \n",
       "2                                       0.00                0.00 0.00   \n",
       "3                                       0.00                0.00 0.00   \n",
       "4                                       0.00                1.00 0.00   \n",
       "\n",
       "                          IMMUNOCOMPROMISED  ALBUMIN  BE_VENOUS   FFA   GGT  \\\n",
       "PATIENT_VISIT_IDENTIFIER                                                      \n",
       "0                                      0.00     0.61      -1.00 -0.74 -0.96   \n",
       "1                                      0.00     0.61      -1.00 -0.74 -0.99   \n",
       "2                                      0.00     0.61      -0.86 -0.74 -0.96   \n",
       "3                                      0.00     0.61      -1.00 -0.74 -0.96   \n",
       "4                                      1.00     0.00      -0.88 -0.68 -0.75   \n",
       "\n",
       "                          GLUCOSE  HEMOGLOBIN  LACTATE  LINFOCITOS  \\\n",
       "PATIENT_VISIT_IDENTIFIER                                             \n",
       "0                           -0.85       -0.02     1.00       -0.66   \n",
       "1                           -0.89       -0.17     1.00       -0.58   \n",
       "2                           -0.21        0.07     1.00       -0.82   \n",
       "3                           -0.89       -0.27     1.00       -0.48   \n",
       "4                           -0.81       -0.48    -0.79       -0.80   \n",
       "\n",
       "                          NEUTROPHILES  P02_VENOUS   PCR  SAT02_VENOUS  \\\n",
       "PATIENT_VISIT_IDENTIFIER                                                 \n",
       "0                                -0.79       -0.70 -1.00          0.35   \n",
       "1                                -0.89       -0.70 -0.95          0.35   \n",
       "2                                -0.95       -0.66 -0.96          0.48   \n",
       "3                                -0.92       -0.70 -0.98          0.35   \n",
       "4                                -0.89       -0.92 -0.44         -0.70   \n",
       "\n",
       "                          SODIUM  DIMER  BLOODPRESSURE_DIASTOLIC_MEAN  \\\n",
       "PATIENT_VISIT_IDENTIFIER                                                \n",
       "0                          -0.14  -0.97                          0.19   \n",
       "1                          -0.03  -0.98                          0.19   \n",
       "2                           0.07  -0.98                          0.09   \n",
       "3                           0.07  -0.99                         -0.16   \n",
       "4                           0.07  -0.98                          0.90   \n",
       "\n",
       "                          RESPIRATORY_RATE_MEAN  TEMPERATURE_MEAN  \\\n",
       "PATIENT_VISIT_IDENTIFIER                                            \n",
       "0                                         -0.39             -0.29   \n",
       "1                                         -0.46             -0.11   \n",
       "2                                         -0.53              0.40   \n",
       "3                                         -0.53             -0.14   \n",
       "4                                         -0.17              0.14   \n",
       "\n",
       "                          BLOODPRESSURE_SISTOLIC_MEDIAN  \\\n",
       "PATIENT_VISIT_IDENTIFIER                                  \n",
       "0                                                 -0.28   \n",
       "1                                                 -0.52   \n",
       "2                                                 -0.38   \n",
       "3                                                 -0.69   \n",
       "4                                                 -0.34   \n",
       "\n",
       "                          OXYGEN_SATURATION_MEDIAN  HEART_RATE_MIN  \\\n",
       "PATIENT_VISIT_IDENTIFIER                                             \n",
       "0                                             0.84           -0.44   \n",
       "1                                             1.00           -0.32   \n",
       "2                                             0.68           -0.32   \n",
       "3                                             0.95           -0.25   \n",
       "4                                             0.79           -0.04   \n",
       "\n",
       "                          RESPIRATORY_RATE_MIN  BLOODPRESSURE_DIASTOLIC_MAX  \\\n",
       "PATIENT_VISIT_IDENTIFIER                                                      \n",
       "0                                        -0.29                        -0.18   \n",
       "1                                        -0.36                        -0.18   \n",
       "2                                        -0.43                        -0.25   \n",
       "3                                        -0.43                        -0.42   \n",
       "4                                        -0.43                         0.32   \n",
       "\n",
       "                          BLOODPRESSURE_MAX_MEDIAN_RESIDUAL  HEART_RATE_MAX  \\\n",
       "PATIENT_VISIT_IDENTIFIER                                                      \n",
       "0                                                     -0.02           -0.67   \n",
       "1                                                     -0.02           -0.57   \n",
       "2                                                     -0.02           -0.57   \n",
       "3                                                     -0.02           -0.51   \n",
       "4                                                     -0.02           -0.33   \n",
       "\n",
       "                          OXYGEN_SATURATION_MAX  BLOODPRESSURE_SISTOLIC_DIFF  \\\n",
       "PATIENT_VISIT_IDENTIFIER                                                       \n",
       "0                                          0.84                        -1.00   \n",
       "1                                          1.00                        -1.00   \n",
       "2                                          0.68                        -1.00   \n",
       "3                                          0.95                        -1.00   \n",
       "4                                          0.79                        -1.00   \n",
       "\n",
       "                          ICU  \n",
       "PATIENT_VISIT_IDENTIFIER       \n",
       "0                           0  \n",
       "1                           0  \n",
       "2                           0  \n",
       "3                           0  \n",
       "4                           1  "
      ]
     },
     "execution_count": 3,
     "metadata": {},
     "output_type": "execute_result"
    }
   ],
   "source": [
    "# Leitura do raw data desse  projeto no Github\n",
    "df = pd.read_csv('../data/processed/df_featured.csv', index_col='Unnamed: 0')\n",
    "df.index.names = ['PATIENT_VISIT_IDENTIFIER']\n",
    "\n",
    "# Imprime na tela todas as colunas em vez de as 10 primeiras e 10 ultimas\n",
    "pd.set_option('max_columns', df.shape[1])\n",
    "df.head()"
   ]
  },
  {
   "cell_type": "markdown",
   "id": "ad46ff39-ce78-46b3-a14d-11a03e39b33f",
   "metadata": {},
   "source": [
    "<a name=\"metrics\"></a>\n",
    "# Métrica de avaliação:\n",
    "A métrica de avaliação utilizada para determinar o modelo de machine learning será o **ROC AUC**.<br>\n",
    "* **ROC** do inglês *Receiver Operating Characteristics* é uma curva plotada entre os eixos *Taxa de Verdadeiros Positivos* e a *Taxa de Falsos Positivos*. Essa métrica mede o quanto o modelo consegue separar o binômio de saída entre suas duas classes (```ICU = 0``` e ```ICU = 1```).\n",
    "* **AUC** do inglês *Area Under the Curve* é a maneira de resumir a curva **ROC** em um único valor real, de maneira a facilitar a comparação com outros modelos. Seria o mesmo que calcular a inegral do ROC<br>\n",
    "* **ROC AUC**<br>\n",
    "    * O valor será próximo de 0.5 se o modelo não tiver capacidade de separar as variáveis de saída em suas respectivas classes. Imagine que o modelo Tem 50% de verdadeiro positivo e 50% de falso positivo, ou seja, acerta em 50% das tentativas.\n",
    "    * Quanto mais o valor se aproxima de 1.0, mais capacidade o modelo tem de separar os dois grupos, ou classes, acertando muito mais os Verdadeiros Positivos que errando.\n",
    "    * O inverso também é verdadeiro. Quanto mais o valor se aproxima de 0, significa que o modelo também tem a capacidade de separar o binômio de saída em dois grupos, só que nesse caso, errando muito, pois teria um valor de Falsos Verdadeiros muito grande. Como a saída tem 2 estados, sendo 0 ou 1, poderia ser usado o inverso (NOT) da resposta e ainda assim o modelo acertaria bastante."
   ]
  },
  {
   "cell_type": "markdown",
   "id": "1f408fcf-b68a-4f41-9ea9-6498af4f7297",
   "metadata": {},
   "source": [
    "<a name=\"dummy\"></a>\n",
    "# Dummy Classifier\n",
    "Essa etapa visa criar um modelo genérico que faz predições dos dados de entrada usando regras bem simples. Ter um modelo \"bobo\" que usa uma regra simples é importante para avaliar o modelo final, pois se espera do modelo a ser implementado que ao menos seja melhor que escolher aleatóriamente entre as alternativas de saída, ou então \"chutar\" a alternativa de saída mais comum."
   ]
  },
  {
   "cell_type": "code",
   "execution_count": 4,
   "id": "2c354365-df8d-4518-88b8-32d0b26ffb96",
   "metadata": {},
   "outputs": [
    {
     "name": "stdout",
     "output_type": "stream",
     "text": [
      "DummyClassifier: AUC Mean: 0.5, AUC Std: 0.0, AUC CI: 0.5 - 0.5\n"
     ]
    }
   ],
   "source": [
    "dummy_clf = DummyClassifier()\n",
    "run_model_cv('DummyClassifier',dummy_clf , df, 10, 10)"
   ]
  },
  {
   "cell_type": "markdown",
   "id": "c6a3a1ea-67ad-4174-9681-f6080a118b2a",
   "metadata": {},
   "source": [
    "Vemos que o DummyClassifier encontrou um ROC AUC Médio de **0.5**, logo, essa deve ser a meta inicial a ser batida."
   ]
  },
  {
   "cell_type": "markdown",
   "id": "c299c251-0a27-4e7c-8c67-906882b0e4a5",
   "metadata": {},
   "source": [
    "<a name=\"modSel\"></a>\n",
    "# Seleção de Modelo\n",
    "A seleção de modelo será suportada pelo módulo LazyClassifier. A idéia aleatorizar os dados, dividi-los em teste e treino, e rodar a classe LazyClassifier, que vai treinar os modelos mais comuns e dar o resultado para cada um dos modelos.<br>\n",
    "A função *many_Lazy_Classifiers* roda n vezes o teste e treino, trazendo como resultado a média e o desvio padrão de cada modelo, tornando assim facil a seleção de qual modelo utilizar.<br>\n",
    "É importante salientar que o módulo LazyClassifier treina os dados utilizando valores padrões dos modelos, ou seja, sem 'tunar' os hiperparâmetros de cada modelo. Sabemos que esse tune pode melhorar muito o resultado de um modelo, fazendo com que algum que tivesse uma resposta não tão boa com os valores padrões, superasse o modelo com a melhor avaliação usando os parâmetros padrão.<br>\n",
    "Para esse caso irá ser usado o modelo que der o melhor valor geral, e após isso, os hiperparâmetros desse modelo serão avaliados.\n"
   ]
  },
  {
   "cell_type": "code",
   "execution_count": null,
   "id": "f2e79b18-00c9-48f8-bb9f-19621bb1db5d",
   "metadata": {},
   "outputs": [],
   "source": [
    "many_Lazy_Classifiers(df, 100)"
   ]
  },
  {
   "cell_type": "markdown",
   "id": "2217fba1-3861-4c27-9873-118589d48ee2",
   "metadata": {},
   "source": [
    "Houve um empate em média e Desvio padrão entre dois modelos: **CatBoostClassifier** e **RandomForestClassifier**. Como o **RandomForestClassifier** é mais difundido e tem mais material sobre sua implementação, foi escolhido usar esse modelo."
   ]
  },
  {
   "cell_type": "markdown",
   "id": "4d353b88-6640-421e-933e-4aa6aa380607",
   "metadata": {},
   "source": [
    "<a name=\"rfcsf\"></a>\n",
    "# Random Forest Classifier\n"
   ]
  },
  {
   "cell_type": "markdown",
   "id": "dc325581-a4a3-4be3-bdf0-37b79fb9d5df",
   "metadata": {
    "tags": []
   },
   "source": [
    "## imprimindo os parâmetros padrões\n",
    "A idéia aqui não é fazer uma análise, e sim ter uma referência dos parâmetros *default* do modelo **RandonForestClassiier**.<br>\n",
    "```std_rf_clf``` *Standard Random Forest Classifier* é o modelo criado com os valores padrões. "
   ]
  },
  {
   "cell_type": "code",
   "execution_count": 5,
   "id": "248e7041-92e8-42a6-95fc-7d745e5d6eff",
   "metadata": {},
   "outputs": [
    {
     "name": "stdout",
     "output_type": "stream",
     "text": [
      "Os parâmetros sendo utilizados no modelo são::\n",
      "\n",
      "{'bootstrap': True,\n",
      " 'ccp_alpha': 0.0,\n",
      " 'class_weight': None,\n",
      " 'criterion': 'gini',\n",
      " 'max_depth': None,\n",
      " 'max_features': 'auto',\n",
      " 'max_leaf_nodes': None,\n",
      " 'max_samples': None,\n",
      " 'min_impurity_decrease': 0.0,\n",
      " 'min_impurity_split': None,\n",
      " 'min_samples_leaf': 1,\n",
      " 'min_samples_split': 2,\n",
      " 'min_weight_fraction_leaf': 0.0,\n",
      " 'n_estimators': 100,\n",
      " 'n_jobs': None,\n",
      " 'oob_score': False,\n",
      " 'random_state': 42,\n",
      " 'verbose': 0,\n",
      " 'warm_start': False}\n"
     ]
    }
   ],
   "source": [
    "std_rf_clf = RandomForestClassifier(random_state = 42)\n",
    "# Look at parameters used by our current forest\n",
    "print('Os parâmetros sendo utilizados no modelo são::\\n')\n",
    "pprint(std_rf_clf.get_params())"
   ]
  },
  {
   "cell_type": "markdown",
   "id": "bff2af18-39cc-4086-b67a-c607168a3605",
   "metadata": {},
   "source": [
    "## Avaliação de performance com parâmetros padrão\n",
    "A ideia é avaliar o desempenho do modelo **RandonForestClassifier** usando para isso os parâmetros padrão. Esse resultado vai servir de base para o *tunning* dos hiperparâmetros.<br>\n",
    "Para fazer tal avaliação, pensando em minimizar o erro causado pelo baixo número de observações que se tem, será executada a função ```run_model_cv```, que usa ```RepeatedStratifiedKFold``` para estimar um intervalo de confiança do resultado.<br>"
   ]
  },
  {
   "cell_type": "code",
   "execution_count": null,
   "id": "b5dd86a3-2348-4e1d-95e3-5509d98e2859",
   "metadata": {},
   "outputs": [],
   "source": [
    "run_model_cv('RandomForestClassifier', std_rf_clf, df, 5, 30)"
   ]
  },
  {
   "cell_type": "markdown",
   "id": "7cbd9fa8-571d-4bdf-8c35-00bed78f34be",
   "metadata": {},
   "source": [
    "Podemos ver então que utilizando os valores padrão temos um **AUC Médio = 80%** e um **Desvio Padrão = 5.3%**."
   ]
  },
  {
   "cell_type": "markdown",
   "id": "a0d91c75-ad85-4790-b236-c8bff1d147ca",
   "metadata": {},
   "source": [
    "## Seleção automática de hiperparâmetros\n",
    "O método ```RandomizedSearchCV``` usa um grid de parâmetros pré configurado, e aleatóriamente utiliza esses parâmetros em seus modelos, encontrando assim a melhor combinação dos parâmetros sem necessáriamente rodar todas as combinações possíveis.<br>\n",
    "A variável ```random_grid``` carrega esses parâmetros que se deseja testar."
   ]
  },
  {
   "cell_type": "code",
   "execution_count": 6,
   "id": "5724ff93-752a-4a6b-aef4-a0b4e77127af",
   "metadata": {},
   "outputs": [
    {
     "name": "stdout",
     "output_type": "stream",
     "text": [
      "{'bootstrap': [True, False],\n",
      " 'criterion': ['gini', 'entropy'],\n",
      " 'max_depth': [2, 9, 16, 23, 30, None],\n",
      " 'max_features': ['auto', 'sqrt', 'log2'],\n",
      " 'min_samples_leaf': [1, 2, 4],\n",
      " 'min_samples_split': [1, 2, 5, 10],\n",
      " 'n_estimators': [500, 1000, 1500, 2000],\n",
      " 'oob_score': [True, False]}\n"
     ]
    }
   ],
   "source": [
    "n_estimators = [int(x) for x in np.linspace(start = 500, stop = 2000, num = 4)]\n",
    "max_features = ['auto', 'sqrt', 'log2']\n",
    "max_depth = [int(x) for x in np.linspace(2, 30, num = 5)]\n",
    "max_depth.append(None)\n",
    "min_samples_split = [1, 2, 5, 10]\n",
    "min_samples_leaf = [1, 2, 4]\n",
    "bootstrap = [True, False]\n",
    "oob_score = [True, False]\n",
    "criterion = ['gini', 'entropy']\n",
    "\n",
    "random_grid = {'n_estimators': n_estimators,\n",
    "               'max_features': max_features,\n",
    "               'max_depth': max_depth,\n",
    "               'min_samples_split': min_samples_split,\n",
    "               'min_samples_leaf': min_samples_leaf,\n",
    "               'bootstrap': bootstrap,\n",
    "               'oob_score' : oob_score,\n",
    "               'criterion' : criterion}\n",
    "\n",
    "pprint(random_grid)"
   ]
  },
  {
   "cell_type": "code",
   "execution_count": null,
   "id": "918ab202-a4f5-48c6-8045-5402b44847e4",
   "metadata": {},
   "outputs": [],
   "source": [
    "rf = RandomForestClassifier()\n",
    "rf_random = RandomizedSearchCV(estimator = rf, param_distributions = random_grid, n_iter = 750, cv = 5, verbose=2, random_state=42, n_jobs = -1)# Fit the random search model\n",
    "rf_random.fit(df.drop('ICU', axis=1), df['ICU'])\n",
    "rf_random.best_params_"
   ]
  },
  {
   "cell_type": "markdown",
   "id": "276c7e2d-d511-41ba-953a-6be2779e7bee",
   "metadata": {},
   "source": [
    "Os parâmetros selecionados são:\n",
    "\n",
    "|Parâmetro        |Valor  |\n",
    "|-----------------|-------|\n",
    "|oob_score        |False  |\n",
    "|n_estimators     |2000   |\n",
    "|min_samples_split|10     |\n",
    "|min_samples_leaf |1      |\n",
    "|max_features     |auto   |\n",
    "|max_depth        |30     |\n",
    "|criterion        |entropy|\n",
    "|bootstrap        |False  |"
   ]
  },
  {
   "cell_type": "markdown",
   "id": "0c41026b-4322-4457-a970-f726c3452161",
   "metadata": {},
   "source": [
    "Basta agora rodar novamente o modelo, desta vez, utilizando os parâmetros recomendados, para que seja possível avaliar o ganho relacionado com os hiperparâmetros."
   ]
  },
  {
   "cell_type": "code",
   "execution_count": 7,
   "id": "c6b2df12-be3c-4b02-be7a-0ab1bc375c90",
   "metadata": {},
   "outputs": [
    {
     "name": "stdout",
     "output_type": "stream",
     "text": [
      "RandomForestClassifier: AUC Mean: 0.8, AUC Std: 0.052, AUC CI: 0.7 - 0.9\n"
     ]
    }
   ],
   "source": [
    "rf_clf = RandomForestClassifier(random_state = 1923814, n_estimators=2000, min_samples_split=10,\n",
    "                                min_samples_leaf=1, max_features='auto', max_depth=30,\n",
    "                                bootstrap=False, criterion='entropy')\n",
    "run_model_cv('RandomForestClassifier', rf_clf, df, 5, 30)"
   ]
  },
  {
   "cell_type": "markdown",
   "id": "5df52728-9e76-44a4-9ff4-62387f326b0c",
   "metadata": {},
   "source": [
    "|Parâmetro        |De   |Para |\n",
    "|-----------------|-----|-----|\n",
    "|AUC ROC Mean     |80%  |80%  |\n",
    "|AUC ROC Std      |5.3% |5.2% |\n",
    "\n",
    "Houve uma pequena melhora, praticamente insignificante."
   ]
  },
  {
   "cell_type": "markdown",
   "id": "e3a72944-4b77-4d38-b367-1509b254d87b",
   "metadata": {},
   "source": [
    "<a name=\"confusion\"></a>\n",
    "# Matriz de confusão\n",
    "A **Matriz de Confusão** mostra como estão distribuidos os erros e os acertos do modelo.<br>\n",
    "Como o valor médio do ROC_AUC foi de 80%, é esperado cerca de 20% de valores incorretos, e desejavelmente devem ser o menor possível na posição: True Label = 1; Predicted Label = 0, que se refere a pessoas indicadas pelo modelo que não seriam internados na UTI e o resultado prático mostrou o contrário.<br>\n"
   ]
  },
  {
   "cell_type": "code",
   "execution_count": 4,
   "id": "8fe911c2-7cbd-4c3c-9891-712115f4b451",
   "metadata": {},
   "outputs": [
    {
     "data": {
      "text/plain": [
       "RandomForestClassifier(bootstrap=False, criterion='entropy', max_depth=30,\n",
       "                       min_samples_split=10, n_estimators=2000,\n",
       "                       random_state=1923814)"
      ]
     },
     "execution_count": 4,
     "metadata": {},
     "output_type": "execute_result"
    }
   ],
   "source": [
    "import matplotlib.pyplot as plt\n",
    "y = df[\"ICU\"]\n",
    "X = df.drop([\"ICU\"], axis=1)\n",
    "\n",
    "X_train, X_test, y_train, y_test = train_test_split(X, y, stratify=y,\n",
    "                                                        shuffle=True,\n",
    "                                                        test_size=0.20,\n",
    "                                                        random_state=1923814)\n",
    "\n",
    "rf_clf = RandomForestClassifier(random_state = 1923814, n_estimators=2000, min_samples_split=10,\n",
    "                                min_samples_leaf=1, max_features='auto', max_depth=30,\n",
    "                                bootstrap=False, criterion='entropy')\n",
    "\n",
    "rf_clf.fit(X_train, y_train)\n"
   ]
  },
  {
   "cell_type": "code",
   "execution_count": 12,
   "id": "2a125d62-df90-4032-9af0-48684d864ac3",
   "metadata": {},
   "outputs": [
    {
     "data": {
      "image/png": "[encoded data removed]",
      "text/plain": [
       "<Figure size 432x288 with 2 Axes>"
      ]
     },
     "metadata": {
      "needs_background": "light"
     },
     "output_type": "display_data"
    }
   ],
   "source": [
    "plot_confusion_matrix(rf_clf, X_test, y_test)\n",
    "plt.savefig('../img/modeling/confusionmatrix.png')"
   ]
  },
  {
   "cell_type": "code",
   "execution_count": 13,
   "id": "0feacd64-a88a-468c-a163-bdb5297ad627",
   "metadata": {},
   "outputs": [
    {
     "data": {
      "image/png": "[encoded data removed]",
      "text/plain": [
       "<Figure size 432x288 with 1 Axes>"
      ]
     },
     "metadata": {
      "needs_background": "light"
     },
     "output_type": "display_data"
    }
   ],
   "source": [
    "svc_disp = RocCurveDisplay.from_estimator(rf_clf, X_test, y_test)\n",
    "plt.savefig('../img/modeling/roc.png')"
   ]
  },
  {
   "cell_type": "markdown",
   "id": "321ed2ed-e1b7-404b-a6bb-f89c6106b6e3",
   "metadata": {},
   "source": [
    "<a name=\"savemodel\"></a>\n",
    "# Salvando modelo\n",
    "Para que seja possível utilizar o modelo sem precisar treinar todas as vezes que inicializar o sistema, é possível salvar o modelo treinado num arquivo , e quando necessário, carregar o arquivo, trazendo o modelo treinado a tona, pronto para fazer as predições.<br>\n",
    "Nesse caso, foi utilizado ```compress = 3``` que traz um bom nível de compressão."
   ]
  },
  {
   "cell_type": "code",
   "execution_count": 17,
   "id": "5a60e9c7-b630-40b0-a39b-f311bc79f527",
   "metadata": {},
   "outputs": [
    {
     "data": {
      "text/plain": [
       "['../models/rf_compressed.joblib']"
      ]
     },
     "execution_count": 17,
     "metadata": {},
     "output_type": "execute_result"
    }
   ],
   "source": [
    "joblib.dump(rf_clf, \"../models/rf_compressed.joblib\", compress=3)"
   ]
  },
  {
   "cell_type": "markdown",
   "id": "2778bc8e-5b4f-491b-8aaf-3ff7ceab8932",
   "metadata": {},
   "source": [
    "<a name=\"concl\"></a>\n",
    "# Conclusão\n",
    "Ao fim da etapa de modeling foi possível "
   ]
  },
  {
   "cell_type": "code",
   "execution_count": null,
   "id": "38d69d38-6787-4ff0-90c2-b4d2efcbdd19",
   "metadata": {},
   "outputs": [],
   "source": []
  },
  {
   "cell_type": "markdown",
   "id": "1dd21631-91fa-4c28-87e2-414642060e97",
   "metadata": {},
   "source": [
    "# Referências\n",
    "* https://towardsdatascience.com/modeling-teaching-a-machine-learning-algorithm-to-deliver-business-value-ad0205ca4c86\n",
    "* https://docs.microsoft.com/en-us/windows/ai/windows-ml/what-is-a-machine-learning-model\n",
    "* https://medium.com/@datadrivenscience/7-stages-of-machine-learning-a-framework-33d39065e2c9\n",
    "* https://developers.google.com/machine-learning/crash-course/classification/roc-and-auc\n",
    "* https://towardsdatascience.com/understanding-auc-roc-curve-68b2303cc9c5\n",
    "* https://medium.com/bio-data-blog/entenda-o-que-%C3%A9-auc-e-roc-nos-modelos-de-machine-learning-8191fb4df772\n",
    "* https://pypi.org/project/lazypredict/\n",
    "* https://towardsdatascience.com/hyperparameter-tuning-the-random-forest-in-python-using-scikit-learn-28d2aa77dd74"
   ]
  }
 ],
 "metadata": {
  "kernelspec": {
   "display_name": "Python 3 (ipykernel)",
   "language": "python",
   "name": "python3"
  },
  "language_info": {
   "codemirror_mode": {
    "name": "ipython",
    "version": 3
   },
   "file_extension": ".py",
   "mimetype": "text/x-python",
   "name": "python",
   "nbconvert_exporter": "python",
   "pygments_lexer": "ipython3",
   "version": "3.9.7"
  },
  "widgets": {
   "application/vnd.jupyter.widget-state+json": {
    "state": {},
    "version_major": 2,
    "version_minor": 0
   }
  }
 },
 "nbformat": 4,
 "nbformat_minor": 5
}
